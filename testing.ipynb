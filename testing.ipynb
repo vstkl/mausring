{
 "cells": [
  {
   "cell_type": "code",
   "execution_count": 1,
   "id": "df3ae3a2-a759-4179-bd32-bf7eead5616e",
   "metadata": {
    "editable": true,
    "slideshow": {
     "slide_type": ""
    },
    "tags": []
   },
   "outputs": [],
   "source": [
    "from jupyterscad import view\n",
    "from  solid2 import * \n",
    "import os \n",
    "import math\n",
    "import gradio as gr\n",
    "\n",
    "from const import *"
   ]
  },
  {
   "cell_type": "code",
   "execution_count": 2,
   "id": "3e097586-36d3-4a13-9154-ab68ee269630",
   "metadata": {
    "editable": true,
    "slideshow": {
     "slide_type": ""
    },
    "tags": []
   },
   "outputs": [
    {
     "data": {
      "application/vnd.jupyter.widget-view+json": {
       "model_id": "124035015a74430ab1fd78798b564534",
       "version_major": 2,
       "version_minor": 0
      },
      "text/plain": [
       "Renderer(camera=PerspectiveCamera(children=(DirectionalLight(color='white', intensity=0.7, position=(3.0, 5.0,…"
      ]
     },
     "execution_count": 2,
     "metadata": {},
     "output_type": "execute_result"
    }
   ],
   "source": [
    "filename = \"test\"\n",
    "set_global_fn=50\n",
    "obj = []\n",
    "a = 5\n",
    "b = 1\n",
    "base_c = cube([a,a,b],center=True)\n",
    "base_2 = cylinder(b,a,a, center=True)\n",
    "obj += base_c.translate([10.5,0,0])\n",
    "obj += base_c.translate([19.5,0,0])\n",
    "obj -= base_2.translate([15,0,0])\n",
    "\n",
    "obj.save_as_scad(f\"{filename}.scad\")\n",
    "obj.save_as_stl(f\"{filename}.stl\")\n",
    "\n",
    "view(obj)\n"
   ]
  },
  {
   "cell_type": "code",
   "execution_count": 6,
   "id": "573fca22-d891-4023-b2b4-75afdc9a6327",
   "metadata": {},
   "outputs": [],
   "source": [
    "def load_mesh(value):\n",
    "    render(obj)\n",
    "    return filename\n",
    "\n",
    "demo = gr.Interface(\n",
    "    fn=load_mesh,\n",
    "    inputs=[\n",
    "        gr.Slider(0, 20, value=gap, label=\"gap\", info=\"Choose between 2 and 20\")],\n",
    "    outputs=gr.Model3D(clear_color=(0.0, 0.0, 0.0, 0.0),  label=\"3D Model\", display_mode=\"wireframe\"),\n",
    "\n",
    "    examples=[\n",
    "        [4,f\"/home/m/proj/mausring/{filename}.stl\"],\n",
    "    ],\n",
    ")"
   ]
  },
  {
   "cell_type": "code",
   "execution_count": 5,
   "id": "2f04a10b-9def-40e6-8a75-ccf0f2effc8d",
   "metadata": {},
   "outputs": [
    {
     "name": "stdout",
     "output_type": "stream",
     "text": [
      "Rerunning server... use `close()` to stop if you need to change `launch()` parameters.\n",
      "----\n",
      "* To create a public link, set `share=True` in `launch()`.\n"
     ]
    },
    {
     "data": {
      "text/html": [
       "<div><iframe src=\"http://127.0.0.1:7860/\" width=\"100%\" height=\"500\" allow=\"autoplay; camera; microphone; clipboard-read; clipboard-write;\" frameborder=\"0\" allowfullscreen></iframe></div>"
      ],
      "text/plain": [
       "<IPython.core.display.HTML object>"
      ]
     },
     "metadata": {},
     "output_type": "display_data"
    },
    {
     "data": {
      "text/plain": []
     },
     "execution_count": 5,
     "metadata": {},
     "output_type": "execute_result"
    }
   ],
   "source": [
    "demo.launch()"
   ]
  },
  {
   "cell_type": "code",
   "execution_count": null,
   "id": "a5d66bc3-2c37-4a78-875e-924c984570fe",
   "metadata": {},
   "outputs": [],
   "source": []
  }
 ],
 "metadata": {
  "kernelspec": {
   "display_name": "Python 3 (ipykernel)",
   "language": "python",
   "name": "python3"
  },
  "language_info": {
   "codemirror_mode": {
    "name": "ipython",
    "version": 3
   },
   "file_extension": ".py",
   "mimetype": "text/x-python",
   "name": "python",
   "nbconvert_exporter": "python",
   "pygments_lexer": "ipython3",
   "version": "3.13.5"
  },
  "widgets": {
   "application/vnd.jupyter.widget-state+json": {
    "state": {
     "001d24c5-4792-415b-b1a8-5f5b76131f9c": {
      "model_module": "jupyter-threejs",
      "model_module_version": "^2.1.0",
      "model_name": "OrthographicCameraModel",
      "state": {
       "_view_module": null,
       "_view_module_version": "",
       "bottom": -5,
       "far": 500,
       "left": -5,
       "near": 0.5,
       "projectionMatrix": [
        0.2,
        0,
        0,
        0,
        0,
        0.2,
        0,
        0,
        0,
        0,
        -0.004004004004004004,
        0,
        0,
        0,
        -1.002002002002002,
        1
       ],
       "right": 5,
       "top": 5
      }
     },
     "0050a048b7ba4c35b40fb0be8c74c823": {
      "model_module": "jupyter-threejs",
      "model_module_version": "^2.4.1",
      "model_name": "AxesHelperModel",
      "state": {
       "_model_module_version": "^2.4.1",
       "_view_module": null,
       "_view_module_version": "",
       "size": 26,
       "type": "LineSegments"
      }
     },
     "009083181c694b42ba656867a11a5a23": {
      "model_module": "jupyter-threejs",
      "model_module_version": "^2.4.1",
      "model_name": "AmbientLightModel",
      "state": {
       "_model_module_version": "^2.4.1",
       "_view_module": null,
       "_view_module_version": "",
       "color": "#777777",
       "intensity": 0.5
      }
     },
     "01c91567-b09f-46ff-8ae5-6e83b176a4c2": {
      "model_module": "jupyter-threejs",
      "model_module_version": "^2.1.0",
      "model_name": "OrthographicCameraModel",
      "state": {
       "_view_module": null,
       "_view_module_version": "",
       "bottom": -5,
       "far": 500,
       "left": -5,
       "near": 0.5,
       "projectionMatrix": [
        0.2,
        0,
        0,
        0,
        0,
        0.2,
        0,
        0,
        0,
        0,
        -0.004004004004004004,
        0,
        0,
        0,
        -1.002002002002002,
        1
       ],
       "right": 5,
       "top": 5
      }
     },
     "01ed281511834d31aa31abfd1e18adb6": {
      "model_module": "jupyter-threejs",
      "model_module_version": "^2.4.1",
      "model_name": "MeshLambertMaterialModel",
      "state": {
       "_model_module_version": "^2.4.1",
       "_view_module": null,
       "_view_module_version": "",
       "color": "#ebcc34",
       "transparent": true
      }
     },
     "025b40948bbf4837a26b1ad680d3adf1": {
      "model_module": "jupyter-threejs",
      "model_module_version": "^2.4.1",
      "model_name": "BufferGeometryModel",
      "state": {
       "_model_module_version": "^2.4.1",
       "_view_module": null,
       "_view_module_version": "",
       "attributes": {
        "normal": "IPY_MODEL_379272a80df04083ac26359ddf93e68f",
        "position": "IPY_MODEL_06efaa6be9c6453cae26c292a6136b75"
       }
      }
     },
     "02705900ccf04b8c8c7b5e3498bb5507": {
      "model_module": "jupyter-threejs",
      "model_module_version": "^2.4.1",
      "model_name": "SceneModel",
      "state": {
       "_model_module_version": "^2.4.1",
       "_view_module": null,
       "_view_module_version": "",
       "children": [
        "IPY_MODEL_446417ca2c074d95818fb1264b178951",
        "IPY_MODEL_07c7aa396f5e46c7b1dea7201bfe8857",
        "IPY_MODEL_2b29e16418bd47928749cdca0bf8dbec",
        "IPY_MODEL_7ec55d602ec846d48417e6bfb8081c16",
        "IPY_MODEL_6f89a4b457d64c9bae73457c7878cb6a",
        "IPY_MODEL_97ab2418229c401f8982338d00cee3de",
        "IPY_MODEL_c37308a3eb934a3fa1f65cb0a2b56e73"
       ]
      }
     },
     "0342ca679b84434faf3de124af5fc311": {
      "model_module": "jupyter-threejs",
      "model_module_version": "^2.4.1",
      "model_name": "GridHelperModel",
      "state": {
       "_model_module_version": "^2.4.1",
       "_view_module": null,
       "_view_module_version": "",
       "colorCenterLine": "#ff0000",
       "colorGrid": "#ff0000",
       "divisions": 4,
       "matrix": [
        1,
        0,
        0,
        0,
        0,
        2.220446049250313e-16,
        1,
        0,
        0,
        -1,
        2.220446049250313e-16,
        0,
        10,
        10,
        0,
        1
       ],
       "matrixWorld": [
        1,
        0,
        0,
        0,
        0,
        2.220446049250313e-16,
        1,
        0,
        0,
        -1,
        2.220446049250313e-16,
        0,
        0,
        0,
        0,
        1
       ],
       "position": [
        10,
        10,
        0
       ],
       "quaternion": [
        0.7071067811865475,
        0,
        0,
        0.7071067811865476
       ],
       "rotation": [
        1.5707963267948963,
        0,
        0,
        "XYZ"
       ],
       "size": 40,
       "type": "LineSegments"
      }
     },
     "03c6d96409fa4c2491e1f0f32da8e391": {
      "model_module": "jupyter-threejs",
      "model_module_version": "^2.4.1",
      "model_name": "BufferGeometryModel",
      "state": {
       "_model_module_version": "^2.4.1",
       "_view_module": null,
       "_view_module_version": "",
       "attributes": {
        "normal": "IPY_MODEL_65d99b72294c481fb65b1684f7a892b7",
        "position": "IPY_MODEL_47f7187b323d4173a036c9e5562b9583"
       }
      }
     },
     "049e145e887f498292dd547a6edb5c55": {
      "model_module": "@jupyter-widgets/base",
      "model_module_version": "2.0.0",
      "model_name": "LayoutModel",
      "state": {}
     },
     "06102c73-cab4-4f69-ac1b-376c2ac9e37f": {
      "model_module": "jupyter-threejs",
      "model_module_version": "^2.1.0",
      "model_name": "Object3DModel",
      "state": {
       "_view_module": null,
       "_view_module_version": ""
      }
     },
     "06ec7ae2a3314c56883fb0378ffa7215": {
      "model_module": "jupyter-threejs",
      "model_module_version": "^2.4.1",
      "model_name": "GridHelperModel",
      "state": {
       "_model_module_version": "^2.4.1",
       "_view_module": null,
       "_view_module_version": "",
       "colorCenterLine": "#008000",
       "colorGrid": "#008000",
       "divisions": 3,
       "matrix": [
        2.220446049250313e-16,
        1,
        0,
        0,
        -1,
        2.220446049250313e-16,
        0,
        0,
        0,
        0,
        1,
        0,
        0,
        5,
        5,
        1
       ],
       "matrixWorld": [
        2.220446049250313e-16,
        1,
        0,
        0,
        -1,
        2.220446049250313e-16,
        0,
        0,
        0,
        0,
        1,
        0,
        0,
        0,
        0,
        1
       ],
       "position": [
        0,
        5,
        5
       ],
       "quaternion": [
        0,
        0,
        0.7071067811865475,
        0.7071067811865476
       ],
       "rotation": [
        0,
        0,
        1.5707963267948963,
        "XYZ"
       ],
       "size": 30,
       "type": "LineSegments"
      }
     },
     "06efaa6be9c6453cae26c292a6136b75": {
      "buffers": [
       {
        "data": "AAAAQQAAIEAAAGBAAABQQQAAIMAAAGBAAABQQQAAIEAAAGBAAABQQQAAIMAAAGBAAAAAQQAAIEAAAGBAAAAAQQAAIMAAAGBAAAAAQQAAIMAAAGDAAABQQQAAIEAAAGDAAABQQQAAIMAAAGDAAABQQQAAIEAAAGDAAAAAQQAAIMAAAGDAAAAAQQAAIEAAAGDAAAAAQQAAIMAAAGDAAABQQQAAIMAAAGBAAAAAQQAAIMAAAGBAAABQQQAAIMAAAGBAAAAAQQAAIMAAAGDAAABQQQAAIMAAAGDAAABQQQAAIMAAAGBAAABQQQAAIEAAAGDAAABQQQAAIEAAAGBAAABQQQAAIEAAAGDAAABQQQAAIMAAAGBAAABQQQAAIMAAAGDAAABQQQAAIEAAAGDAAAAAQQAAIEAAAGBAAABQQQAAIEAAAGBAAAAAQQAAIEAAAGBAAABQQQAAIEAAAGDAAAAAQQAAIEAAAGDAAAAAQQAAIMAAAGDAAAAAQQAAIEAAAGBAAAAAQQAAIEAAAGDAAAAAQQAAIEAAAGBAAAAAQQAAIMAAAGDAAAAAQQAAIMAAAGBA",
        "encoding": "base64",
        "path": [
         "array",
         "buffer"
        ]
       }
      ],
      "model_module": "jupyter-threejs",
      "model_module_version": "^2.4.1",
      "model_name": "BufferAttributeModel",
      "state": {
       "_model_module_version": "^2.4.1",
       "_view_module": null,
       "_view_module_version": "",
       "array": {
        "dtype": "float32",
        "shape": [
         12,
         3,
         3
        ]
       },
       "version": 2
      }
     },
     "07c7aa396f5e46c7b1dea7201bfe8857": {
      "model_module": "jupyter-threejs",
      "model_module_version": "^2.4.1",
      "model_name": "PerspectiveCameraModel",
      "state": {
       "_model_module_version": "^2.4.1",
       "_view_module": null,
       "_view_module_version": "",
       "children": [
        "IPY_MODEL_3873541f061a4a01abfc309c091eb092"
       ],
       "fov": 20,
       "matrix": [
        1,
        0,
        0,
        0,
        0,
        1,
        0,
        0,
        0,
        0,
        1,
        0,
        25,
        25,
        35,
        1
       ],
       "position": [
        24.81960395414707,
        -21.881424301066932,
        37.15091560265941
       ],
       "projectionMatrix": [
        5.67128181961771,
        0,
        0,
        0,
        0,
        5.67128181961771,
        0,
        0,
        0,
        0,
        -1.00010000500025,
        -1,
        0,
        0,
        -0.200010000500025,
        0
       ],
       "quaternion": [
        0.32431008428398217,
        0.14643161786291692,
        0.3845800939053179,
        0.8517504927462866
       ],
       "up": [
        0,
        0,
        1
       ]
      }
     },
     "09b39d9d04e7466196270b1feab8c61d": {
      "model_module": "jupyter-threejs",
      "model_module_version": "^2.4.1",
      "model_name": "MeshModel",
      "state": {
       "_model_module_version": "^2.4.1",
       "_view_module": null,
       "_view_module_version": "",
       "geometry": "IPY_MODEL_9f2b5d77fb4d498db90abbbba568ad89",
       "material": "IPY_MODEL_13a4a945c9044a87be3248820a775e79"
      }
     },
     "0ae3bd252d3744729e2a361430ef577b": {
      "model_module": "jupyter-threejs",
      "model_module_version": "^2.4.1",
      "model_name": "MeshModel",
      "state": {
       "_model_module_version": "^2.4.1",
       "_view_module": null,
       "_view_module_version": "",
       "geometry": "IPY_MODEL_fb9d8952010d4975bd0150ec7c45c09b",
       "material": "IPY_MODEL_1e409d2e579c4b748665ad1f86ee0539"
      }
     },
     "0b7b61542ce44d9c9d2127e8af745d8b": {
      "model_module": "jupyter-threejs",
      "model_module_version": "^2.4.1",
      "model_name": "WebGLShadowMapModel",
      "state": {
       "_model_module_version": "^2.4.1",
       "_view_module": null,
       "_view_module_version": ""
      }
     },
     "0baabc24-c582-4458-adc0-83c8ea306e30": {
      "model_module": "jupyter-threejs",
      "model_module_version": "^2.1.0",
      "model_name": "OrthographicCameraModel",
      "state": {
       "_view_module": null,
       "_view_module_version": "",
       "bottom": -5,
       "far": 500,
       "left": -5,
       "near": 0.5,
       "projectionMatrix": [
        0.2,
        0,
        0,
        0,
        0,
        0.2,
        0,
        0,
        0,
        0,
        -0.004004004004004004,
        0,
        0,
        0,
        -1.002002002002002,
        1
       ],
       "right": 5,
       "top": 5
      }
     },
     "0bb061aa92164d4da087c9e8dffdd310": {
      "model_module": "jupyter-threejs",
      "model_module_version": "^2.4.1",
      "model_name": "DirectionalLightModel",
      "state": {
       "_model_module_version": "^2.4.1",
       "_view_module": null,
       "_view_module_version": "",
       "color": "white",
       "intensity": 0.7,
       "matrixWorldNeedsUpdate": true,
       "position": [
        3,
        5,
        1
       ],
       "shadow": "IPY_MODEL_49e1e3a7-f530-420c-a3e3-c329770e01bc",
       "target": "IPY_MODEL_71b91d5b-aaf6-4e8c-9070-6a3d3fc25807"
      }
     },
     "0bd3381a73f34f6eab4f5952c925389b": {
      "model_module": "jupyter-threejs",
      "model_module_version": "^2.4.1",
      "model_name": "DirectionalLightModel",
      "state": {
       "_model_module_version": "^2.4.1",
       "_view_module": null,
       "_view_module_version": "",
       "color": "white",
       "intensity": 0.7,
       "matrixWorldNeedsUpdate": true,
       "position": [
        3,
        5,
        1
       ],
       "shadow": "IPY_MODEL_4df97ef1-cce0-46b5-9e31-26fd42c374aa",
       "target": "IPY_MODEL_d3634178-b464-44db-b996-7af34d86afbf"
      }
     },
     "0c5599c85f4c436eb4300bdc0a033dfd": {
      "model_module": "jupyter-threejs",
      "model_module_version": "^2.4.1",
      "model_name": "GridHelperModel",
      "state": {
       "_model_module_version": "^2.4.1",
       "_view_module": null,
       "_view_module_version": "",
       "colorCenterLine": "#ff0000",
       "colorGrid": "#ff0000",
       "divisions": 3,
       "matrix": [
        1,
        0,
        0,
        0,
        0,
        2.220446049250313e-16,
        1,
        0,
        0,
        -1,
        2.220446049250313e-16,
        0,
        5,
        5,
        0,
        1
       ],
       "matrixWorld": [
        1,
        0,
        0,
        0,
        0,
        2.220446049250313e-16,
        1,
        0,
        0,
        -1,
        2.220446049250313e-16,
        0,
        0,
        0,
        0,
        1
       ],
       "position": [
        5,
        5,
        0
       ],
       "quaternion": [
        0.7071067811865475,
        0,
        0,
        0.7071067811865476
       ],
       "rotation": [
        1.5707963267948963,
        0,
        0,
        "XYZ"
       ],
       "size": 30,
       "type": "LineSegments"
      }
     },
     "0d43596d70f74d67a2afb1e69a3cb1c7": {
      "buffers": [
       {
        "data": "AACgQAAAAIAAAAAAAACgQAAAAIAAAAAAAACgQAAAAIAAAAAAAACgQAAAAAAAAAAAAACgQAAAAAAAAAAAAACgQAAAAAAAAAAAAAAAgAAAAAAAAMhBAAAAgAAAAAAAAMhBAAAAgAAAAAAAAMhBAAAAAAAAAAAAAMhBAAAAAAAAAAAAAMhBAAAAAAAAAAAAAMhBAAAAAAAAAAAAAMjBAAAAAAAAAAAAAMjBAAAAAAAAAAAAAMjBAAAAgAAAAAAAAMjBAAAAgAAAAAAAAMjBAAAAgAAAAAAAAMjBAACgwAAAAAAAAAAAAACgwAAAAAAAAAAAAACgwAAAAAAAAAAAAACgwAAAAIAAAAAAAACgwAAAAIAAAAAAAACgwAAAAIAAAAAAAAAAAAAAoEAAAACAAAAAAAAAoEAAAACAAAAAAAAAoEAAAACAAAAAAAAAoEAAAAAAAAAAAAAAoEAAAAAAAAAAAAAAoEAAAAAAAAAAAAAAoMAAAAAAAAAAAAAAoMAAAAAAAAAAAAAAoMAAAAAAAAAAAAAAoMAAAACAAAAAAAAAoMAAAACAAAAAAAAAoMAAAACAAACgQAAAAIAAAAAAAACgQAAAAIAAAAAAAACgQAAAAIAAAAAAAACgQAAAAAAAAAAAAACgQAAAAAAAAAAAAACgQAAAAAAAAAAAAAAAgAAAAAAAAMhBAAAAgAAAAAAAAMhBAAAAgAAAAAAAAMhBAAAAAAAAAAAAAMhBAAAAAAAAAAAAAMhBAAAAAAAAAAAAAMhBAAAAAAAAAAAAAMjBAAAAAAAAAAAAAMjBAAAAAAAAAAAAAMjBAAAAgAAAAAAAAMjBAAAAgAAAAAAAAMjBAAAAgAAAAAAAAMjBAACgwAAAAAAAAAAAAACgwAAAAAAAAAAAAACgwAAAAAAAAAAAAACgwAAAAIAAAAAAAACgwAAAAIAAAAAAAACgwAAAAIAAAAAAAAAAAAAAoEAAAACAAAAAAAAAoEAAAACAAAAAAAAAoEAAAACAAAAAAAAAoEAAAAAAAAAAAAAAoEAAAAAAAAAAAAAAoEAAAAAAAAAAAAAAoMAAAAAAAAAAAAAAoMAAAAAAAAAAAAAAoMAAAAAAAAAAAAAAoMAAAACAAAAAAAAAoMAAAACAAAAAAAAAoMAAAACAqP65vqAaj78AAAAAqP65vqAaj78AAAAAqP65vqAaj78AAAAAqP65vqAaj78AAACAqP65vqAaj78AAACAqP65vqAaj78AAACAqP65vqAajz8AAAAAqP65vqAajz8AAAAAqP65vqAajz8AAAAAqP65vqAajz8AAAAAqP65vqAajz8AAAAAqP65vqAajz8AAAAAaHhzP2DlMD8AAAAAaHhzP2DlMD8AAAAAaHhzP2DlMD8AAAAAaHhzP2DlMD8AAAAAaHhzP2DlMD8AAAAAaHhzP2DlMD8AAAAAFHmWvwAAAAAAAAAAFHmWvwAAAAAAAAAAFHmWvwAAAAAAAAAAFHmWvwAAAIAAAAAAFHmWvwAAAIAAAAAAFHmWvwAAAIAAAAAAAAAAAAAAAADuPKg/AAAAAAAAAADuPKg/AAAAAAAAAADuPKg/AAAAgAAAAACUGQhAAAAAgAAAAACUGQhAAAAAgAAAAACUGQhAAAAAAAAAAACROqg/AAAAAAAAAACROqg/AAAAAAAAAACROqg/aHhzP2DlML8AAAAAaHhzP2DlML8AAAAAaHhzP2DlML8AAAAAaHhzP2DlML8AAAAAaHhzP2DlML8AAAAAaHhzP2DlML8AAAAAAAAAAAAAAADuPKi/AAAAAAAAAADuPKi/AAAAAAAAAADuPKi/AAAAAAAAAACUGQjAAAAAAAAAAACUGQjAAAAAAAAAAACUGQjAAAAAAAAAAACROqi/AAAAAAAAAACROqi/AAAAAAAAAACROqi/",
        "encoding": "base64",
        "path": [
         "array",
         "buffer"
        ]
       }
      ],
      "model_module": "jupyter-threejs",
      "model_module_version": "^2.4.1",
      "model_name": "BufferAttributeModel",
      "state": {
       "_model_module_version": "^2.4.1",
       "_view_module": null,
       "_view_module_version": "",
       "array": {
        "dtype": "float32",
        "shape": [
         120,
         3
        ]
       },
       "normalized": true,
       "version": 2
      }
     },
     "0d9f8c28bcd643238c30dd4f4f789a26": {
      "model_module": "jupyter-threejs",
      "model_module_version": "^2.4.1",
      "model_name": "MeshLambertMaterialModel",
      "state": {
       "_model_module_version": "^2.4.1",
       "_view_module": null,
       "_view_module_version": "",
       "color": "#ebcc34",
       "transparent": true
      }
     },
     "0ee5263e3c08499a90e46bd7216eff46": {
      "model_module": "jupyter-threejs",
      "model_module_version": "^2.4.1",
      "model_name": "MeshModel",
      "state": {
       "_model_module_version": "^2.4.1",
       "_view_module": null,
       "_view_module_version": "",
       "geometry": "IPY_MODEL_3cbc9c71c4c84772b3582bfe5274626f",
       "material": "IPY_MODEL_976eca86ea334328baedc2a88c8f2913"
      }
     },
     "0f747abff4f54bbd99fc8022d1d7dd9e": {
      "model_module": "jupyter-threejs",
      "model_module_version": "^2.4.1",
      "model_name": "DirectionalLightModel",
      "state": {
       "_model_module_version": "^2.4.1",
       "_view_module": null,
       "_view_module_version": "",
       "color": "white",
       "intensity": 0.7,
       "matrixWorldNeedsUpdate": true,
       "position": [
        3,
        5,
        1
       ],
       "shadow": "IPY_MODEL_126ff868-afee-4923-8566-63461ec64768",
       "target": "IPY_MODEL_a67c0e8e-272e-437e-890d-1f68b9aa2abc"
      }
     },
     "0fb4d188-80b8-4708-aa69-944fad07cbbd": {
      "model_module": "jupyter-threejs",
      "model_module_version": "^2.1.0",
      "model_name": "Object3DModel",
      "state": {
       "_view_module": null,
       "_view_module_version": ""
      }
     },
     "1081a0d7-59c8-45e7-96da-d0c37ba251e0": {
      "model_module": "jupyter-threejs",
      "model_module_version": "^2.1.0",
      "model_name": "DirectionalLightShadowModel",
      "state": {
       "_view_module": null,
       "_view_module_version": "",
       "camera": "IPY_MODEL_d4fad29c-eb56-46a5-8838-0e1a495f7ae9"
      }
     },
     "11f117512dce42f7a0db947381a6a576": {
      "buffers": [
       {
        "data": "AACgQAAAAAAAAOBAAACgQAAAoEAAAAAAAACgQAAAoEAAAOBAAACgQAAAoEAAAAAAAACgQAAAAAAAAOBAAACgQAAAAAAAAAAAAAAAAAAAoEAAAOBAAACgQAAAAAAAAOBAAACgQAAAoEAAAOBAAACgQAAAAAAAAOBAAAAAAAAAoEAAAOBAAAAAAAAAAAAAAOBAAAAgQAAAIEAAAAAAAACgQAAAAAAAAAAAAAAgQAAAAAAAAAAAAACgQAAAAAAAAAAAAAAgQAAAIEAAAAAAAACgQAAAoEAAAAAAAAAAAAAAoEAAAAAAAAAgQAAAIEAAAAAAAAAAAAAAIEAAAAAAAAAgQAAAIEAAAAAAAAAAAAAAoEAAAAAAAACgQAAAoEAAAAAAAAAAAAAAIEAAAGBAAAAAAAAAoEAAAAAAAAAAAAAAIEAAAAAAAAAAAAAAoEAAAAAAAAAAAAAAIEAAAGBAAAAAAAAAoEAAAOBAAAAAAAAAAAAAAOBAAAAAAAAAIEAAAGBAAAAAAAAAAAAAAGBAAAAAAAAAIEAAAGBAAAAAAAAAAAAAAOBAAAAAAAAAoEAAAOBAAACgQAAAoEAAAAAAAAAAAAAAoEAAAOBAAACgQAAAoEAAAOBAAAAAAAAAoEAAAOBAAACgQAAAoEAAAAAAAAAAAAAAoEAAAAAAAAAgQAAAAAAAAGBAAAAAAAAAAAAAAOBAAAAAAAAAAAAAAGBAAAAAAAAAAAAAAOBAAAAgQAAAAAAAAGBAAACgQAAAAAAAAOBAAACgQAAAAAAAAAAAAAAgQAAAAAAAAGBAAAAgQAAAAAAAAAAAAAAgQAAAAAAAAGBAAACgQAAAAAAAAAAAAACgQAAAAAAAAOBAAAAgQAAAAAAAAGBAAAAgQAAAIMAAAGBAAAAgQAAAAAAAAAAAAAAgQAAAAAAAAAAAAAAgQAAAIEAAAGDAAAAgQAAAIEAAAAAAAAAgQAAAIMAAAGDAAAAgQAAAAAAAAAAAAAAgQAAAIMAAAGBAAAAgQAAAAAAAAAAAAAAgQAAAIMAAAGDAAAAgQAAAIEAAAGDAAAAAAAAAIEAAAGBAAAAgwAAAIEAAAGBAAAAAAAAAAAAAAGBAAAAAAAAAAAAAAGBAAAAgQAAAIMAAAGBAAAAgQAAAAAAAAGBAAAAgwAAAIMAAAGBAAAAAAAAAAAAAAGBAAAAgwAAAIEAAAGBAAAAAAAAAAAAAAGBAAAAgwAAAIMAAAGBAAAAgQAAAIMAAAGBAAAAgwAAAIMAAAGDAAAAgQAAAIEAAAGDAAAAgQAAAIMAAAGDAAAAgQAAAIEAAAGDAAAAgwAAAIMAAAGDAAAAgwAAAIEAAAGDAAAAgwAAAIMAAAGDAAAAgwAAAIEAAAGBAAAAgwAAAIEAAAGDAAAAgwAAAIEAAAGBAAAAgwAAAIMAAAGDAAAAgwAAAIMAAAGBAAAAgQAAAIEAAAAAAAAAgQAAAIEAAAGDAAAAAAAAAIEAAAAAAAAAAAAAAIEAAAAAAAAAgwAAAIEAAAGBAAAAAAAAAIEAAAGBAAAAgwAAAIEAAAGDAAAAAAAAAIEAAAAAAAAAgQAAAIEAAAGDAAAAAAAAAIEAAAAAAAAAgwAAAIEAAAGDAAAAgwAAAIEAAAGBAAAAgwAAAIMAAAGDAAAAgQAAAIMAAAGBAAAAgwAAAIMAAAGBAAAAgQAAAIMAAAGBAAAAgwAAAIMAAAGDAAAAgQAAAIMAAAGDA",
        "encoding": "base64",
        "path": [
         "array",
         "buffer"
        ]
       }
      ],
      "model_module": "jupyter-threejs",
      "model_module_version": "^2.4.1",
      "model_name": "BufferAttributeModel",
      "state": {
       "_model_module_version": "^2.4.1",
       "_view_module": null,
       "_view_module_version": "",
       "array": {
        "dtype": "float32",
        "shape": [
         36,
         3,
         3
        ]
       },
       "version": 2
      }
     },
     "126ff868-afee-4923-8566-63461ec64768": {
      "model_module": "jupyter-threejs",
      "model_module_version": "^2.1.0",
      "model_name": "DirectionalLightShadowModel",
      "state": {
       "_view_module": null,
       "_view_module_version": "",
       "camera": "IPY_MODEL_01c91567-b09f-46ff-8ae5-6e83b176a4c2"
      }
     },
     "12b02229774842318f9e88cb62ed6e6f": {
      "model_module": "jupyter-threejs",
      "model_module_version": "^2.4.1",
      "model_name": "WebGLShadowMapModel",
      "state": {
       "_model_module_version": "^2.4.1",
       "_view_module": null,
       "_view_module_version": ""
      }
     },
     "1337932c1e8249ddb675b514ec6d10a2": {
      "model_module": "jupyter-threejs",
      "model_module_version": "^2.4.1",
      "model_name": "GridHelperModel",
      "state": {
       "_model_module_version": "^2.4.1",
       "_view_module": null,
       "_view_module_version": "",
       "colorCenterLine": "#ff0000",
       "colorGrid": "#ff0000",
       "divisions": 3,
       "matrix": [
        1,
        0,
        0,
        0,
        0,
        2.220446049250313e-16,
        1,
        0,
        0,
        -1,
        2.220446049250313e-16,
        0,
        5,
        5,
        0,
        1
       ],
       "matrixWorld": [
        1,
        0,
        0,
        0,
        0,
        2.220446049250313e-16,
        1,
        0,
        0,
        -1,
        2.220446049250313e-16,
        0,
        0,
        0,
        0,
        1
       ],
       "position": [
        5,
        5,
        0
       ],
       "quaternion": [
        0.7071067811865475,
        0,
        0,
        0.7071067811865476
       ],
       "rotation": [
        1.5707963267948963,
        0,
        0,
        "XYZ"
       ],
       "size": 30,
       "type": "LineSegments"
      }
     },
     "13a4a945c9044a87be3248820a775e79": {
      "model_module": "jupyter-threejs",
      "model_module_version": "^2.4.1",
      "model_name": "MeshLambertMaterialModel",
      "state": {
       "_model_module_version": "^2.4.1",
       "_view_module": null,
       "_view_module_version": "",
       "color": "#ebcc34",
       "transparent": true
      }
     },
     "1425f8ac-389d-4894-ad52-ec666e0ab628": {
      "model_module": "jupyter-threejs",
      "model_module_version": "^2.1.0",
      "model_name": "OrthographicCameraModel",
      "state": {
       "_view_module": null,
       "_view_module_version": "",
       "bottom": -5,
       "far": 500,
       "left": -5,
       "near": 0.5,
       "projectionMatrix": [
        0.2,
        0,
        0,
        0,
        0,
        0.2,
        0,
        0,
        0,
        0,
        -0.004004004004004004,
        0,
        0,
        0,
        -1.002002002002002,
        1
       ],
       "right": 5,
       "top": 5
      }
     },
     "15385fa7f05c46c386a1db162ff7e794": {
      "model_module": "jupyter-threejs",
      "model_module_version": "^2.4.1",
      "model_name": "GridHelperModel",
      "state": {
       "_model_module_version": "^2.4.1",
       "_view_module": null,
       "_view_module_version": "",
       "colorCenterLine": "blue",
       "colorGrid": "blue",
       "divisions": 3,
       "matrix": [
        1,
        0,
        0,
        0,
        0,
        1,
        0,
        0,
        0,
        0,
        1,
        0,
        5,
        0,
        5,
        1
       ],
       "position": [
        5,
        0,
        5
       ],
       "size": 30,
       "type": "LineSegments"
      }
     },
     "15d15342dc1b450e9410e2f3bab95e55": {
      "model_module": "jupyter-threejs",
      "model_module_version": "^2.4.1",
      "model_name": "RendererModel",
      "state": {
       "_height": 400,
       "_model_module_version": "^2.4.1",
       "_view_module_version": "^2.4.1",
       "_webgl_version": 2,
       "_width": 400,
       "camera": "IPY_MODEL_642fdf9c565b4659ab03756e72de746f",
       "controls": [
        "IPY_MODEL_88702a4276d249ebaa947410ab6d5ea6"
       ],
       "layout": "IPY_MODEL_c3cfca3dfb8d4f1588ea5187d579e3fc",
       "scene": "IPY_MODEL_c1af937974054bf699c4ca8aae29ef53",
       "shadowMap": "IPY_MODEL_f5ff520267a24c309f5d631b0ae320df"
      }
     },
     "18ff70c25dab4eb3ae5d4c73dbd05faa": {
      "model_module": "jupyter-threejs",
      "model_module_version": "^2.4.1",
      "model_name": "MeshLambertMaterialModel",
      "state": {
       "_model_module_version": "^2.4.1",
       "_view_module": null,
       "_view_module_version": "",
       "color": "#ebcc34",
       "transparent": true
      }
     },
     "19217a6f4bcf40d4982909155f36c31f": {
      "buffers": [
       {
        "data": "AAAAgAAAAAAAAAxCAAAAgAAAAAAAAAxCAAAAgAAAAAAAAAxCAAAAAAAAAAAAAAxCAAAAAAAAAAAAAAxCAAAAAAAAAAAAAAxCAAAAAAAAAAAAAAzCAAAAAAAAAAAAAAzCAAAAAAAAAAAAAAzCAAAAgAAAAAAAAAzCAAAAgAAAAAAAAAzCAAAAgAAAAAAAAAzCAAAAAAAAyMEAAAAAAAAAAAAAyMEAAAAAAAAAAAAAyMEAAAAAAAAAAAAAyMEAAACAAAAAAAAAyMEAAACAAAAAAAAAyMEAAACAAAAMQgAAAIAAAAAAAAAMQgAAAIAAAAAAAAAMQgAAAIAAAAAAAAAMQgAAAAAAAAAAAAAMQgAAAAAAAAAAAAAMQgAAAAAAAAAAAAAAAAAAyEEAAACAAAAAAAAAyEEAAACAAAAAAAAAyEEAAACAAAAAAAAAyEEAAAAAAAAAAAAAyEEAAAAAAAAAAAAAyEEAAAAAAAAMwgAAAAAAAAAAAAAMwgAAAAAAAAAAAAAMwgAAAAAAAAAAAAAMwgAAAIAAAAAAAAAMwgAAAIAAAAAAAAAMwgAAAIAAAAAA",
        "encoding": "base64",
        "path": [
         "array",
         "buffer"
        ]
       }
      ],
      "model_module": "jupyter-threejs",
      "model_module_version": "^2.4.1",
      "model_name": "BufferAttributeModel",
      "state": {
       "_model_module_version": "^2.4.1",
       "_view_module": null,
       "_view_module_version": "",
       "array": {
        "dtype": "float32",
        "shape": [
         36,
         3
        ]
       },
       "normalized": true,
       "version": 2
      }
     },
     "196ae0102d43498482119c8fe4cbe9ce": {
      "model_module": "jupyter-threejs",
      "model_module_version": "^2.4.1",
      "model_name": "RendererModel",
      "state": {
       "_height": 400,
       "_model_module_version": "^2.4.1",
       "_view_module_version": "^2.4.1",
       "_webgl_version": 2,
       "_width": 400,
       "camera": "IPY_MODEL_318749e977b449c69f43d66e76a5eb47",
       "controls": [
        "IPY_MODEL_21bd5e4883224a878a2e7a86188356d0"
       ],
       "layout": "IPY_MODEL_8986beede444463fad1dd82a5e16c396",
       "scene": "IPY_MODEL_744232e1d7dc457789e1e4c7d42aac13",
       "shadowMap": "IPY_MODEL_6691dbd010e146dca5f3671dc66ee23f"
      }
     },
     "196e6a55492f4540a5dbc56664e9d9e4": {
      "model_module": "jupyter-threejs",
      "model_module_version": "^2.4.1",
      "model_name": "AmbientLightModel",
      "state": {
       "_model_module_version": "^2.4.1",
       "_view_module": null,
       "_view_module_version": "",
       "color": "#777777",
       "intensity": 0.5
      }
     },
     "1a03564befeb4817b918bc8c59086b6f": {
      "model_module": "jupyter-threejs",
      "model_module_version": "^2.4.1",
      "model_name": "MeshLambertMaterialModel",
      "state": {
       "_model_module_version": "^2.4.1",
       "_view_module": null,
       "_view_module_version": "",
       "color": "#ebcc34",
       "transparent": true
      }
     },
     "1a32e1ca46494bd1b3cb9979371338e4": {
      "model_module": "jupyter-threejs",
      "model_module_version": "^2.4.1",
      "model_name": "GridHelperModel",
      "state": {
       "_model_module_version": "^2.4.1",
       "_view_module": null,
       "_view_module_version": "",
       "colorCenterLine": "blue",
       "colorGrid": "blue",
       "divisions": 4,
       "matrix": [
        1,
        0,
        0,
        0,
        0,
        1,
        0,
        0,
        0,
        0,
        1,
        0,
        10,
        0,
        10,
        1
       ],
       "position": [
        10,
        0,
        10
       ],
       "size": 40,
       "type": "LineSegments"
      }
     },
     "1a7c6d8b308b4aef823026f016fe807d": {
      "buffers": [
       {
        "data": "AACgQAAAAIAAAAAAAACgQAAAAIAAAAAAAACgQAAAAIAAAAAAAACgQAAAAAAAAAAAAACgQAAAAAAAAAAAAACgQAAAAAAAAAAAAAAAgAAAAAAAAMhBAAAAgAAAAAAAAMhBAAAAgAAAAAAAAMhBAAAAAAAAAAAAAMhBAAAAAAAAAAAAAMhBAAAAAAAAAAAAAMhBAAAAAAAAAAAAAMjBAAAAAAAAAAAAAMjBAAAAAAAAAAAAAMjBAAAAgAAAAAAAAMjBAAAAgAAAAAAAAMjBAAAAgAAAAAAAAMjBAACgwAAAAAAAAAAAAACgwAAAAAAAAAAAAACgwAAAAAAAAAAAAACgwAAAAIAAAAAAAACgwAAAAIAAAAAAAACgwAAAAIAAAAAAAAAAAAAAoEAAAACAAAAAAAAAoEAAAACAAAAAAAAAoEAAAACAAAAAAAAAoEAAAAAAAAAAAAAAoEAAAAAAAAAAAAAAoEAAAAAAAAAAAAAAoMAAAAAAAAAAAAAAoMAAAAAAAAAAAAAAoMAAAAAAAAAAAAAAoMAAAACAAAAAAAAAoMAAAACAAAAAAAAAoMAAAACAAACgQAAAAIAAAAAAAACgQAAAAIAAAAAAAACgQAAAAIAAAAAAAACgQAAAAAAAAAAAAACgQAAAAAAAAAAAAACgQAAAAAAAAAAAAAAAgAAAAAAAAMhBAAAAgAAAAAAAAMhBAAAAgAAAAAAAAMhBAAAAAAAAAAAAAMhBAAAAAAAAAAAAAMhBAAAAAAAAAAAAAMhBAAAAAAAAAAAAAMjBAAAAAAAAAAAAAMjBAAAAAAAAAAAAAMjBAAAAgAAAAAAAAMjBAAAAgAAAAAAAAMjBAAAAgAAAAAAAAMjBAACgwAAAAAAAAAAAAACgwAAAAAAAAAAAAACgwAAAAAAAAAAAAACgwAAAAIAAAAAAAACgwAAAAIAAAAAAAACgwAAAAIAAAAAAAAAAAAAAoEAAAACAAAAAAAAAoEAAAACAAAAAAAAAoEAAAACAAAAAAAAAoEAAAAAAAAAAAAAAoEAAAAAAAAAAAAAAoEAAAAAAAAAAAAAAoMAAAAAAAAAAAAAAoMAAAAAAAAAAAAAAoMAAAAAAAAAAAAAAoMAAAACAAAAAAAAAoMAAAACAAAAAAAAAoMAAAACA",
        "encoding": "base64",
        "path": [
         "array",
         "buffer"
        ]
       }
      ],
      "model_module": "jupyter-threejs",
      "model_module_version": "^2.4.1",
      "model_name": "BufferAttributeModel",
      "state": {
       "_model_module_version": "^2.4.1",
       "_view_module": null,
       "_view_module_version": "",
       "array": {
        "dtype": "float32",
        "shape": [
         72,
         3
        ]
       },
       "normalized": true,
       "version": 2
      }
     },
     "1ac791d6379645ab97d65f83d29cb9d1": {
      "model_module": "jupyter-threejs",
      "model_module_version": "^2.4.1",
      "model_name": "WebGLShadowMapModel",
      "state": {
       "_model_module_version": "^2.4.1",
       "_view_module": null,
       "_view_module_version": ""
      }
     },
     "1b2498fba68d48da841d1c8c4b0f0bf8": {
      "model_module": "jupyter-threejs",
      "model_module_version": "^2.4.1",
      "model_name": "AmbientLightModel",
      "state": {
       "_model_module_version": "^2.4.1",
       "_view_module": null,
       "_view_module_version": "",
       "color": "#777777",
       "intensity": 0.5
      }
     },
     "1b2e106cfcee4fd08ddeaeb9ee8857a0": {
      "model_module": "jupyter-threejs",
      "model_module_version": "^2.4.1",
      "model_name": "AmbientLightModel",
      "state": {
       "_model_module_version": "^2.4.1",
       "_view_module": null,
       "_view_module_version": "",
       "color": "#777777",
       "intensity": 0.5
      }
     },
     "1b3b01426ff54b07ba5538cc2a2463fa": {
      "buffers": [
       {
        "data": "AABQQQAAIMAAAAA/AABQQQAAIEAAAAC/AABQQQAAIEAAAAA/AABQQQAAIEAAAAC/AABQQQAAIMAAAAA/AABQQQAAIMAAAAC/AAAAQQAAIEAAAAA/AABQQQAAIMAAAAA/AABQQQAAIEAAAAA/AABQQQAAIMAAAAA/AAAAQQAAIEAAAAA/AAAAQQAAIMAAAAA/AAAAQQAAIMAAAAC/AABQQQAAIEAAAAC/AABQQQAAIMAAAAC/AABQQQAAIEAAAAC/AAAAQQAAIMAAAAC/AAAAQQAAIEAAAAC/AAAAQQAAIMAAAAC/AAAAQQAAIEAAAAA/AAAAQQAAIEAAAAC/AAAAQQAAIEAAAAA/AAAAQQAAIMAAAAC/AAAAQQAAIMAAAAA/AABQQQAAIEAAAAC/AAAAQQAAIEAAAAA/AABQQQAAIEAAAAA/AAAAQQAAIEAAAAA/AABQQQAAIEAAAAC/AAAAQQAAIEAAAAC/AAAAQQAAIMAAAAC/AABQQQAAIMAAAAA/AAAAQQAAIMAAAAA/AABQQQAAIMAAAAA/AAAAQQAAIMAAAAC/AABQQQAAIMAAAAC/AACwQQAAIMAAAAA/AACwQQAAIEAAAAC/AACwQQAAIEAAAAA/AACwQQAAIEAAAAC/AACwQQAAIMAAAAA/AACwQQAAIMAAAAC/AACIQQAAIEAAAAA/AACwQQAAIMAAAAA/AACwQQAAIEAAAAA/AACwQQAAIMAAAAA/AACIQQAAIEAAAAA/AACIQQAAIMAAAAA/AACIQQAAIMAAAAC/AACwQQAAIEAAAAC/AACwQQAAIMAAAAC/AACwQQAAIEAAAAC/AACIQQAAIMAAAAC/AACIQQAAIEAAAAC/AACIQQAAIMAAAAC/AACIQQAAIEAAAAA/AACIQQAAIEAAAAC/AACIQQAAIEAAAAA/AACIQQAAIMAAAAC/AACIQQAAIMAAAAA/AACwQQAAIEAAAAC/AACIQQAAIEAAAAA/AACwQQAAIEAAAAA/AACIQQAAIEAAAAA/AACwQQAAIEAAAAC/AACIQQAAIEAAAAC/AACIQQAAIMAAAAC/AACwQQAAIMAAAAA/AACIQQAAIMAAAAA/AACwQQAAIMAAAAA/AACIQQAAIMAAAAC/AACwQQAAIMAAAAC/Vg5jQRR5Fr8AAAC/qvF0QWh4c78AAAA/Vg5jQRR5Fr8AAAA/qvF0QWh4c78AAAA/Vg5jQRR5Fr8AAAC/qvF0QWh4c78AAAC/qvF0QWh4cz8AAAC/Vg5jQRR5Fj8AAAA/qvF0QWh4cz8AAAA/Vg5jQRR5Fj8AAAA/qvF0QWh4cz8AAAC/Vg5jQRR5Fj8AAAC/AACAQQAAAAAAAAA/qvF0QWh4cz8AAAC/qvF0QWh4cz8AAAA/qvF0QWh4cz8AAAC/AACAQQAAAAAAAAA/AACAQQAAAAAAAAC/Vg5jQRR5Fr8AAAC/Vg5jQRR5Fj8AAAA/Vg5jQRR5Fj8AAAC/Vg5jQRR5Fj8AAAA/Vg5jQRR5Fr8AAAC/Vg5jQRR5Fr8AAAA/qvF0QWh4cz8AAAA/qvF0QWh4c78AAAA/AACAQQAAAAAAAAA/Vg5jQRR5Fj8AAAA/qvF0QWh4c78AAAA/qvF0QWh4cz8AAAA/qvF0QWh4c78AAAA/Vg5jQRR5Fj8AAAA/Vg5jQRR5Fr8AAAA/qvF0QWh4c78AAAA/AACAQQAAAAAAAAC/AACAQQAAAAAAAAA/AACAQQAAAAAAAAC/qvF0QWh4c78AAAA/qvF0QWh4c78AAAC/qvF0QWh4c78AAAC/qvF0QWh4cz8AAAC/AACAQQAAAAAAAAC/Vg5jQRR5Fr8AAAC/qvF0QWh4cz8AAAC/qvF0QWh4c78AAAC/qvF0QWh4cz8AAAC/Vg5jQRR5Fr8AAAC/Vg5jQRR5Fj8AAAC/",
        "encoding": "base64",
        "path": [
         "array",
         "buffer"
        ]
       }
      ],
      "model_module": "jupyter-threejs",
      "model_module_version": "^2.4.1",
      "model_name": "BufferAttributeModel",
      "state": {
       "_model_module_version": "^2.4.1",
       "_view_module": null,
       "_view_module_version": "",
       "array": {
        "dtype": "float32",
        "shape": [
         40,
         3,
         3
        ]
       },
       "version": 2
      }
     },
     "1b757834-ca05-44d3-9da5-c5212b2c106e": {
      "model_module": "jupyter-threejs",
      "model_module_version": "^2.1.0",
      "model_name": "DirectionalLightShadowModel",
      "state": {
       "_view_module": null,
       "_view_module_version": "",
       "camera": "IPY_MODEL_d8afbc93-9013-4ad0-bdd9-e9276b2596b9"
      }
     },
     "1be37a30e47c4127a51e98da8cf57977": {
      "model_module": "jupyter-threejs",
      "model_module_version": "^2.4.1",
      "model_name": "WebGLShadowMapModel",
      "state": {
       "_model_module_version": "^2.4.1",
       "_view_module": null,
       "_view_module_version": ""
      }
     },
     "1e409d2e579c4b748665ad1f86ee0539": {
      "model_module": "jupyter-threejs",
      "model_module_version": "^2.4.1",
      "model_name": "MeshLambertMaterialModel",
      "state": {
       "_model_module_version": "^2.4.1",
       "_view_module": null,
       "_view_module_version": "",
       "color": "#ebcc34",
       "transparent": true
      }
     },
     "1e68bb0449174a238c7686e5c23cf3d3": {
      "model_module": "jupyter-threejs",
      "model_module_version": "^2.4.1",
      "model_name": "AxesHelperModel",
      "state": {
       "_model_module_version": "^2.4.1",
       "_view_module": null,
       "_view_module_version": "",
       "size": 44,
       "type": "LineSegments"
      }
     },
     "1f513234812e45d8a990efb3f8f965b0": {
      "model_module": "jupyter-threejs",
      "model_module_version": "^2.4.1",
      "model_name": "OrbitControlsModel",
      "state": {
       "_model_module_version": "^2.4.1",
       "_view_module": null,
       "_view_module_version": "",
       "controlling": "IPY_MODEL_9ebbafb92435408b9a1afe79db2f00a1",
       "maxAzimuthAngle": "inf",
       "maxDistance": "inf",
       "maxZoom": "inf",
       "minAzimuthAngle": "-inf"
      }
     },
     "1f579e4c8ba449058862c8ad1ca61614": {
      "model_module": "jupyter-threejs",
      "model_module_version": "^2.4.1",
      "model_name": "DirectionalLightModel",
      "state": {
       "_model_module_version": "^2.4.1",
       "_view_module": null,
       "_view_module_version": "",
       "color": "white",
       "intensity": 0.7,
       "matrixWorldNeedsUpdate": true,
       "position": [
        3,
        5,
        1
       ],
       "shadow": "IPY_MODEL_5918e608-d6cf-4cb4-99ab-ebf7aacdd36d",
       "target": "IPY_MODEL_33414847-e295-4b0e-a620-1d6403bfbbdb"
      }
     },
     "20a97f10d812476fa439d1f434e580fd": {
      "model_module": "jupyter-threejs",
      "model_module_version": "^2.4.1",
      "model_name": "GridHelperModel",
      "state": {
       "_model_module_version": "^2.4.1",
       "_view_module": null,
       "_view_module_version": "",
       "colorCenterLine": "#008000",
       "colorGrid": "#008000",
       "divisions": 4,
       "matrix": [
        2.220446049250313e-16,
        1,
        0,
        0,
        -1,
        2.220446049250313e-16,
        0,
        0,
        0,
        0,
        1,
        0,
        0,
        10,
        10,
        1
       ],
       "matrixWorld": [
        2.220446049250313e-16,
        1,
        0,
        0,
        -1,
        2.220446049250313e-16,
        0,
        0,
        0,
        0,
        1,
        0,
        0,
        0,
        0,
        1
       ],
       "position": [
        0,
        10,
        10
       ],
       "quaternion": [
        0,
        0,
        0.7071067811865475,
        0.7071067811865476
       ],
       "rotation": [
        0,
        0,
        1.5707963267948963,
        "XYZ"
       ],
       "size": 40,
       "type": "LineSegments"
      }
     },
     "20db3ea3e9384407a83f5e4d56975d23": {
      "model_module": "jupyter-threejs",
      "model_module_version": "^2.4.1",
      "model_name": "GridHelperModel",
      "state": {
       "_model_module_version": "^2.4.1",
       "_view_module": null,
       "_view_module_version": "",
       "colorCenterLine": "#008000",
       "colorGrid": "#008000",
       "divisions": 4,
       "matrix": [
        2.220446049250313e-16,
        1,
        0,
        0,
        -1,
        2.220446049250313e-16,
        0,
        0,
        0,
        0,
        1,
        0,
        0,
        10,
        10,
        1
       ],
       "matrixWorld": [
        2.220446049250313e-16,
        1,
        0,
        0,
        -1,
        2.220446049250313e-16,
        0,
        0,
        0,
        0,
        1,
        0,
        0,
        0,
        0,
        1
       ],
       "position": [
        0,
        10,
        10
       ],
       "quaternion": [
        0,
        0,
        0.7071067811865475,
        0.7071067811865476
       ],
       "rotation": [
        0,
        0,
        1.5707963267948963,
        "XYZ"
       ],
       "size": 40,
       "type": "LineSegments"
      }
     },
     "21bd5e4883224a878a2e7a86188356d0": {
      "model_module": "jupyter-threejs",
      "model_module_version": "^2.4.1",
      "model_name": "OrbitControlsModel",
      "state": {
       "_model_module_version": "^2.4.1",
       "_view_module": null,
       "_view_module_version": "",
       "controlling": "IPY_MODEL_318749e977b449c69f43d66e76a5eb47",
       "maxAzimuthAngle": "inf",
       "maxDistance": "inf",
       "maxZoom": "inf",
       "minAzimuthAngle": "-inf"
      }
     },
     "21ecbe3c710d4e54a218117344c90c53": {
      "model_module": "jupyter-threejs",
      "model_module_version": "^2.4.1",
      "model_name": "BufferGeometryModel",
      "state": {
       "_model_module_version": "^2.4.1",
       "_view_module": null,
       "_view_module_version": "",
       "attributes": {
        "normal": "IPY_MODEL_dc456614741e42438fa6789b1cc8a7e2",
        "position": "IPY_MODEL_fdfb5ef1ca73409687a6ccc83fac0018"
       }
      }
     },
     "221679b7218a48b9a3d4fdfdd07d28fd": {
      "model_module": "jupyter-threejs",
      "model_module_version": "^2.4.1",
      "model_name": "RendererModel",
      "state": {
       "_height": 400,
       "_model_module_version": "^2.4.1",
       "_view_module_version": "^2.4.1",
       "_webgl_version": 2,
       "_width": 400,
       "camera": "IPY_MODEL_428acb7eb7d64f959f39238f46dbece4",
       "controls": [
        "IPY_MODEL_5bda6c60fd984b32a4a19cf0c05d7f24"
       ],
       "layout": "IPY_MODEL_52f9ef580f914118837d9a8a5f75d95d",
       "scene": "IPY_MODEL_a04e1fbcc8fe4a6ba271d196b715a899",
       "shadowMap": "IPY_MODEL_5324e9785c1443e88300405fc8f5eaad"
      }
     },
     "224dc086-4db7-447c-9ab1-f4be1a051a03": {
      "model_module": "jupyter-threejs",
      "model_module_version": "^2.1.0",
      "model_name": "OrthographicCameraModel",
      "state": {
       "_view_module": null,
       "_view_module_version": "",
       "bottom": -5,
       "far": 500,
       "left": -5,
       "near": 0.5,
       "projectionMatrix": [
        0.2,
        0,
        0,
        0,
        0,
        0.2,
        0,
        0,
        0,
        0,
        -0.004004004004004004,
        0,
        0,
        0,
        -1.002002002002002,
        1
       ],
       "right": 5,
       "top": 5
      }
     },
     "2262fe7b9ea5495cb40d705e640bea50": {
      "model_module": "@jupyter-widgets/base",
      "model_module_version": "2.0.0",
      "model_name": "LayoutModel",
      "state": {}
     },
     "231d941d66f74466a902ddc4eefa2a4d": {
      "model_module": "jupyter-threejs",
      "model_module_version": "^2.4.1",
      "model_name": "GridHelperModel",
      "state": {
       "_model_module_version": "^2.4.1",
       "_view_module": null,
       "_view_module_version": "",
       "colorCenterLine": "#ff0000",
       "colorGrid": "#ff0000",
       "divisions": 9,
       "matrix": [
        1,
        0,
        0,
        0,
        0,
        2.220446049250313e-16,
        1,
        0,
        0,
        -1,
        2.220446049250313e-16,
        0,
        3.5,
        3.5,
        0,
        1
       ],
       "matrixWorld": [
        1,
        0,
        0,
        0,
        0,
        2.220446049250313e-16,
        1,
        0,
        0,
        -1,
        2.220446049250313e-16,
        0,
        0,
        0,
        0,
        1
       ],
       "position": [
        3.5,
        3.5,
        0
       ],
       "quaternion": [
        0.7071067811865475,
        0,
        0,
        0.7071067811865476
       ],
       "rotation": [
        1.5707963267948963,
        0,
        0,
        "XYZ"
       ],
       "size": 9,
       "type": "LineSegments"
      }
     },
     "24f96eec3d344ee28e62e6ec5aca137e": {
      "model_module": "jupyter-threejs",
      "model_module_version": "^2.4.1",
      "model_name": "MeshLambertMaterialModel",
      "state": {
       "_model_module_version": "^2.4.1",
       "_view_module": null,
       "_view_module_version": "",
       "color": "#ebcc34",
       "transparent": true
      }
     },
     "25a4a78eda9d4fc58a56f4c7b83c1496": {
      "model_module": "jupyter-threejs",
      "model_module_version": "^2.4.1",
      "model_name": "GridHelperModel",
      "state": {
       "_model_module_version": "^2.4.1",
       "_view_module": null,
       "_view_module_version": "",
       "colorCenterLine": "#ff0000",
       "colorGrid": "#ff0000",
       "divisions": 4,
       "matrix": [
        1,
        0,
        0,
        0,
        0,
        2.220446049250313e-16,
        1,
        0,
        0,
        -1,
        2.220446049250313e-16,
        0,
        10,
        10,
        0,
        1
       ],
       "matrixWorld": [
        1,
        0,
        0,
        0,
        0,
        2.220446049250313e-16,
        1,
        0,
        0,
        -1,
        2.220446049250313e-16,
        0,
        0,
        0,
        0,
        1
       ],
       "position": [
        10,
        10,
        0
       ],
       "quaternion": [
        0.7071067811865475,
        0,
        0,
        0.7071067811865476
       ],
       "rotation": [
        1.5707963267948963,
        0,
        0,
        "XYZ"
       ],
       "size": 40,
       "type": "LineSegments"
      }
     },
     "2755c0f4620e4cfbb6bf02bb6823e34a": {
      "model_module": "jupyter-threejs",
      "model_module_version": "^2.4.1",
      "model_name": "GridHelperModel",
      "state": {
       "_model_module_version": "^2.4.1",
       "_view_module": null,
       "_view_module_version": "",
       "colorCenterLine": "#008000",
       "colorGrid": "#008000",
       "divisions": 4,
       "matrix": [
        2.220446049250313e-16,
        1,
        0,
        0,
        -1,
        2.220446049250313e-16,
        0,
        0,
        0,
        0,
        1,
        0,
        0,
        10,
        10,
        1
       ],
       "matrixWorld": [
        2.220446049250313e-16,
        1,
        0,
        0,
        -1,
        2.220446049250313e-16,
        0,
        0,
        0,
        0,
        1,
        0,
        0,
        0,
        0,
        1
       ],
       "position": [
        0,
        10,
        10
       ],
       "quaternion": [
        0,
        0,
        0.7071067811865475,
        0.7071067811865476
       ],
       "rotation": [
        0,
        0,
        1.5707963267948963,
        "XYZ"
       ],
       "size": 40,
       "type": "LineSegments"
      }
     },
     "276465c5e9ba4bebbf5b5fa3c0b0b6c0": {
      "model_module": "jupyter-threejs",
      "model_module_version": "^2.4.1",
      "model_name": "GridHelperModel",
      "state": {
       "_model_module_version": "^2.4.1",
       "_view_module": null,
       "_view_module_version": "",
       "colorCenterLine": "#ff0000",
       "colorGrid": "#ff0000",
       "divisions": 4,
       "matrix": [
        1,
        0,
        0,
        0,
        0,
        2.220446049250313e-16,
        1,
        0,
        0,
        -1,
        2.220446049250313e-16,
        0,
        10,
        10,
        0,
        1
       ],
       "matrixWorld": [
        1,
        0,
        0,
        0,
        0,
        2.220446049250313e-16,
        1,
        0,
        0,
        -1,
        2.220446049250313e-16,
        0,
        0,
        0,
        0,
        1
       ],
       "position": [
        10,
        10,
        0
       ],
       "quaternion": [
        0.7071067811865475,
        0,
        0,
        0.7071067811865476
       ],
       "rotation": [
        1.5707963267948963,
        0,
        0,
        "XYZ"
       ],
       "size": 40,
       "type": "LineSegments"
      }
     },
     "27799861207e4d32a3b5f7e37b61abe1": {
      "buffers": [
       {
        "data": "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",
        "encoding": "base64",
        "path": [
         "array",
         "buffer"
        ]
       }
      ],
      "model_module": "jupyter-threejs",
      "model_module_version": "^2.4.1",
      "model_name": "BufferAttributeModel",
      "state": {
       "_model_module_version": "^2.4.1",
       "_view_module": null,
       "_view_module_version": "",
       "array": {
        "dtype": "float32",
        "shape": [
         144,
         3
        ]
       },
       "normalized": true,
       "version": 2
      }
     },
     "279ef7ff56d446c2a7e3bc235f0b9dca": {
      "model_module": "jupyter-threejs",
      "model_module_version": "^2.4.1",
      "model_name": "DirectionalLightModel",
      "state": {
       "_model_module_version": "^2.4.1",
       "_view_module": null,
       "_view_module_version": "",
       "color": "white",
       "intensity": 0.7,
       "matrixWorldNeedsUpdate": true,
       "position": [
        3,
        5,
        1
       ],
       "shadow": "IPY_MODEL_b1e50fe2-b580-47ed-9cb0-7f42bbca31f9",
       "target": "IPY_MODEL_50aaa0b1-4965-4c15-8dea-daa79a0368bf"
      }
     },
     "283151c3802c4548920309c4a1d71dac": {
      "model_module": "jupyter-threejs",
      "model_module_version": "^2.4.1",
      "model_name": "MeshLambertMaterialModel",
      "state": {
       "_model_module_version": "^2.4.1",
       "_view_module": null,
       "_view_module_version": "",
       "color": "#ebcc34",
       "transparent": true
      }
     },
     "285a9441acdb4fc6984f5e94495b7d3f": {
      "model_module": "jupyter-threejs",
      "model_module_version": "^2.4.1",
      "model_name": "MeshLambertMaterialModel",
      "state": {
       "_model_module_version": "^2.4.1",
       "_view_module": null,
       "_view_module_version": "",
       "color": "#ebcc34",
       "transparent": true
      }
     },
     "286de4156d864320b829ccafde684190": {
      "model_module": "jupyter-threejs",
      "model_module_version": "^2.4.1",
      "model_name": "RendererModel",
      "state": {
       "_height": 400,
       "_model_module_version": "^2.4.1",
       "_view_module_version": "^2.4.1",
       "_webgl_version": 2,
       "_width": 400,
       "camera": "IPY_MODEL_3c53724470c64ee48ef221c15e10a636",
       "controls": [
        "IPY_MODEL_d4dcc4b9868247de91d6e9ba6ea5b0af"
       ],
       "layout": "IPY_MODEL_74d60a05b2bf43079fdb09a46d0d7c8e",
       "scene": "IPY_MODEL_74713554cab948fd93e1b4750072e6c5",
       "shadowMap": "IPY_MODEL_12b02229774842318f9e88cb62ed6e6f"
      }
     },
     "28f6e6ee7bc045489e4553d614d6bbfb": {
      "model_module": "jupyter-threejs",
      "model_module_version": "^2.4.1",
      "model_name": "AxesHelperModel",
      "state": {
       "_model_module_version": "^2.4.1",
       "_view_module": null,
       "_view_module_version": "",
       "size": 26,
       "type": "LineSegments"
      }
     },
     "28f8fa3cf51b4163866df62e38b7a650": {
      "model_module": "jupyter-threejs",
      "model_module_version": "^2.4.1",
      "model_name": "MeshModel",
      "state": {
       "_model_module_version": "^2.4.1",
       "_view_module": null,
       "_view_module_version": "",
       "geometry": "IPY_MODEL_45358dc1c21546e2997b3bcb5accbaf9",
       "material": "IPY_MODEL_d776b1bdd3124673a7982ead43875409"
      }
     },
     "298977f98e8b4b6d819d22062b9bbe3e": {
      "model_module": "jupyter-threejs",
      "model_module_version": "^2.4.1",
      "model_name": "AxesHelperModel",
      "state": {
       "_model_module_version": "^2.4.1",
       "_view_module": null,
       "_view_module_version": "",
       "size": 44,
       "type": "LineSegments"
      }
     },
     "2a76b3eba15746e191e1a4698275c66f": {
      "model_module": "jupyter-threejs",
      "model_module_version": "^2.4.1",
      "model_name": "MeshModel",
      "state": {
       "_model_module_version": "^2.4.1",
       "_view_module": null,
       "_view_module_version": "",
       "geometry": "IPY_MODEL_ccbea05cf13d43c3b6c41a165d09afb1",
       "material": "IPY_MODEL_283151c3802c4548920309c4a1d71dac"
      }
     },
     "2b29e16418bd47928749cdca0bf8dbec": {
      "model_module": "jupyter-threejs",
      "model_module_version": "^2.4.1",
      "model_name": "AmbientLightModel",
      "state": {
       "_model_module_version": "^2.4.1",
       "_view_module": null,
       "_view_module_version": "",
       "color": "#777777",
       "intensity": 0.5
      }
     },
     "2bf7b3701faf4b8c841ecd1039dc236a": {
      "model_module": "jupyter-threejs",
      "model_module_version": "^2.4.1",
      "model_name": "RendererModel",
      "state": {
       "_height": 400,
       "_model_module_version": "^2.4.1",
       "_view_module_version": "^2.4.1",
       "_webgl_version": 2,
       "_width": 400,
       "camera": "IPY_MODEL_548876bb1bd1471ba6666c89a0199996",
       "controls": [
        "IPY_MODEL_7d68f91dccf940fc8e396af55a56633e"
       ],
       "layout": "IPY_MODEL_d7b9f51b728b47b094872d0dcbcd36c0",
       "scene": "IPY_MODEL_63d590a1f70a4d25b95d671b461e1f33",
       "shadowMap": "IPY_MODEL_4833132cafe447cca4558c0b90ab6724"
      }
     },
     "2ce0b4fc9cc944448588084a5ee52155": {
      "model_module": "jupyter-threejs",
      "model_module_version": "^2.4.1",
      "model_name": "BufferGeometryModel",
      "state": {
       "_model_module_version": "^2.4.1",
       "_view_module": null,
       "_view_module_version": "",
       "attributes": {
        "normal": "IPY_MODEL_e9db910f2d1f4fe48697c9bdc5deb8f4",
        "position": "IPY_MODEL_8f92fc67b49242a1abe777b9ef424d38"
       }
      }
     },
     "2cee6d0c138444e2853d2d990baa48f7": {
      "model_module": "jupyter-threejs",
      "model_module_version": "^2.4.1",
      "model_name": "OrbitControlsModel",
      "state": {
       "_model_module_version": "^2.4.1",
       "_view_module": null,
       "_view_module_version": "",
       "controlling": "IPY_MODEL_99da698cbd0047f3adcaf91ec227b37e",
       "maxAzimuthAngle": "inf",
       "maxDistance": "inf",
       "maxZoom": "inf",
       "minAzimuthAngle": "-inf"
      }
     },
     "2e3e07c6b7644ab996d277e4036945bb": {
      "model_module": "jupyter-threejs",
      "model_module_version": "^2.4.1",
      "model_name": "GridHelperModel",
      "state": {
       "_model_module_version": "^2.4.1",
       "_view_module": null,
       "_view_module_version": "",
       "colorCenterLine": "#ff0000",
       "colorGrid": "#ff0000",
       "divisions": 3,
       "matrix": [
        1,
        0,
        0,
        0,
        0,
        2.220446049250313e-16,
        1,
        0,
        0,
        -1,
        2.220446049250313e-16,
        0,
        5,
        5,
        0,
        1
       ],
       "matrixWorld": [
        1,
        0,
        0,
        0,
        0,
        2.220446049250313e-16,
        1,
        0,
        0,
        -1,
        2.220446049250313e-16,
        0,
        0,
        0,
        0,
        1
       ],
       "position": [
        5,
        5,
        0
       ],
       "quaternion": [
        0.7071067811865475,
        0,
        0,
        0.7071067811865476
       ],
       "rotation": [
        1.5707963267948963,
        0,
        0,
        "XYZ"
       ],
       "size": 30,
       "type": "LineSegments"
      }
     },
     "2f538122e62a49929896f2b0c08365de": {
      "model_module": "jupyter-threejs",
      "model_module_version": "^2.4.1",
      "model_name": "BufferGeometryModel",
      "state": {
       "_model_module_version": "^2.4.1",
       "_view_module": null,
       "_view_module_version": "",
       "attributes": {
        "normal": "IPY_MODEL_a485eb2b9fe247aeb918bd1f7d438efd",
        "position": "IPY_MODEL_11f117512dce42f7a0db947381a6a576"
       }
      }
     },
     "30e42d19d32a4995b5ab6afb57162347": {
      "buffers": [
       {
        "data": "AABQQQAAIMAAAAA/AABQQQAAIEAAAAC/AABQQQAAIEAAAAA/AABQQQAAIEAAAAC/AABQQQAAIMAAAAA/AABQQQAAIMAAAAC/AAAAQQAAIEAAAAA/AABQQQAAIMAAAAA/AABQQQAAIEAAAAA/AABQQQAAIMAAAAA/AAAAQQAAIEAAAAA/AAAAQQAAIMAAAAA/AAAAQQAAIMAAAAC/AABQQQAAIEAAAAC/AABQQQAAIMAAAAC/AABQQQAAIEAAAAC/AAAAQQAAIMAAAAC/AAAAQQAAIEAAAAC/AAAAQQAAIMAAAAC/AAAAQQAAIEAAAAA/AAAAQQAAIEAAAAC/AAAAQQAAIEAAAAA/AAAAQQAAIMAAAAC/AAAAQQAAIMAAAAA/AABQQQAAIEAAAAC/AAAAQQAAIEAAAAA/AABQQQAAIEAAAAA/AAAAQQAAIEAAAAA/AABQQQAAIEAAAAC/AAAAQQAAIEAAAAC/AAAAQQAAIMAAAAC/AABQQQAAIMAAAAA/AAAAQQAAIMAAAAA/AABQQQAAIMAAAAA/AAAAQQAAIMAAAAC/AABQQQAAIMAAAAC/AACwQQAAIMAAAAA/AACwQQAAIEAAAAC/AACwQQAAIEAAAAA/AACwQQAAIEAAAAC/AACwQQAAIMAAAAA/AACwQQAAIMAAAAC/AACIQQAAIEAAAAA/AACwQQAAIMAAAAA/AACwQQAAIEAAAAA/AACwQQAAIMAAAAA/AACIQQAAIEAAAAA/AACIQQAAIMAAAAA/AACIQQAAIMAAAAC/AACwQQAAIEAAAAC/AACwQQAAIMAAAAC/AACwQQAAIEAAAAC/AACIQQAAIMAAAAC/AACIQQAAIEAAAAC/AACIQQAAIMAAAAC/AACIQQAAIEAAAAA/AACIQQAAIEAAAAC/AACIQQAAIEAAAAA/AACIQQAAIMAAAAC/AACIQQAAIMAAAAA/AACwQQAAIEAAAAC/AACIQQAAIEAAAAA/AACwQQAAIEAAAAA/AACIQQAAIEAAAAA/AACwQQAAIEAAAAC/AACIQQAAIEAAAAC/AACIQQAAIMAAAAC/AACwQQAAIMAAAAA/AACIQQAAIMAAAAA/AACwQQAAIMAAAAA/AACIQQAAIMAAAAC/AACwQQAAIMAAAAC/Vg5jQRR5Fr8AAAC/qvF0QWh4c78AAAA/Vg5jQRR5Fr8AAAA/qvF0QWh4c78AAAA/Vg5jQRR5Fr8AAAC/qvF0QWh4c78AAAC/qvF0QWh4cz8AAAC/Vg5jQRR5Fj8AAAA/qvF0QWh4cz8AAAA/Vg5jQRR5Fj8AAAA/qvF0QWh4cz8AAAC/Vg5jQRR5Fj8AAAC/AACAQQAAAAAAAAA/qvF0QWh4cz8AAAC/qvF0QWh4cz8AAAA/qvF0QWh4cz8AAAC/AACAQQAAAAAAAAA/AACAQQAAAAAAAAC/Vg5jQRR5Fr8AAAC/Vg5jQRR5Fj8AAAA/Vg5jQRR5Fj8AAAC/Vg5jQRR5Fj8AAAA/Vg5jQRR5Fr8AAAC/Vg5jQRR5Fr8AAAA/qvF0QWh4cz8AAAA/qvF0QWh4c78AAAA/AACAQQAAAAAAAAA/Vg5jQRR5Fj8AAAA/qvF0QWh4c78AAAA/qvF0QWh4cz8AAAA/qvF0QWh4c78AAAA/Vg5jQRR5Fj8AAAA/Vg5jQRR5Fr8AAAA/qvF0QWh4c78AAAA/AACAQQAAAAAAAAC/AACAQQAAAAAAAAA/AACAQQAAAAAAAAC/qvF0QWh4c78AAAA/qvF0QWh4c78AAAC/qvF0QWh4c78AAAC/qvF0QWh4cz8AAAC/AACAQQAAAAAAAAC/Vg5jQRR5Fr8AAAC/qvF0QWh4cz8AAAC/qvF0QWh4c78AAAC/qvF0QWh4cz8AAAC/Vg5jQRR5Fr8AAAC/Vg5jQRR5Fj8AAAC/",
        "encoding": "base64",
        "path": [
         "array",
         "buffer"
        ]
       }
      ],
      "model_module": "jupyter-threejs",
      "model_module_version": "^2.4.1",
      "model_name": "BufferAttributeModel",
      "state": {
       "_model_module_version": "^2.4.1",
       "_view_module": null,
       "_view_module_version": "",
       "array": {
        "dtype": "float32",
        "shape": [
         40,
         3,
         3
        ]
       },
       "version": 2
      }
     },
     "317c2c3f0ec84f79a2728d7f65b726b4": {
      "model_module": "jupyter-threejs",
      "model_module_version": "^2.4.1",
      "model_name": "GridHelperModel",
      "state": {
       "_model_module_version": "^2.4.1",
       "_view_module": null,
       "_view_module_version": "",
       "colorCenterLine": "blue",
       "colorGrid": "blue",
       "divisions": 3,
       "matrix": [
        1,
        0,
        0,
        0,
        0,
        1,
        0,
        0,
        0,
        0,
        1,
        0,
        5,
        0,
        5,
        1
       ],
       "position": [
        5,
        0,
        5
       ],
       "size": 30,
       "type": "LineSegments"
      }
     },
     "318749e977b449c69f43d66e76a5eb47": {
      "model_module": "jupyter-threejs",
      "model_module_version": "^2.4.1",
      "model_name": "PerspectiveCameraModel",
      "state": {
       "_model_module_version": "^2.4.1",
       "_view_module": null,
       "_view_module_version": "",
       "children": [
        "IPY_MODEL_c07a8dab649a47b3a2cfa5d67dfcb824"
       ],
       "fov": 20,
       "matrix": [
        1,
        0,
        0,
        0,
        0,
        1,
        0,
        0,
        0,
        0,
        1,
        0,
        110,
        12.5,
        2.5,
        1
       ],
       "position": [
        40.0851545283989,
        -60.60095221225684,
        83.56557291972574
       ],
       "projectionMatrix": [
        5.67128181961771,
        0,
        0,
        0,
        0,
        5.67128181961771,
        0,
        0,
        0,
        0,
        -1.00010000500025,
        -1,
        0,
        0,
        -0.200010000500025,
        0
       ],
       "quaternion": [
        0.3354133251726976,
        0.10089392369642684,
        0.2698073326815419,
        0.8969516824718071
       ],
       "up": [
        0,
        0,
        1
       ]
      }
     },
     "325c9005d1bd492ca7e00849ac765e56": {
      "model_module": "jupyter-threejs",
      "model_module_version": "^2.4.1",
      "model_name": "AxesHelperModel",
      "state": {
       "_model_module_version": "^2.4.1",
       "_view_module": null,
       "_view_module_version": "",
       "size": 44,
       "type": "LineSegments"
      }
     },
     "3265b36095c34925b48e7cba55ad5d50": {
      "model_module": "@jupyter-widgets/base",
      "model_module_version": "2.0.0",
      "model_name": "LayoutModel",
      "state": {}
     },
     "32ac7bdc5c224cd796766c13fee2ee69": {
      "model_module": "jupyter-threejs",
      "model_module_version": "^2.4.1",
      "model_name": "WebGLShadowMapModel",
      "state": {
       "_model_module_version": "^2.4.1",
       "_view_module": null,
       "_view_module_version": ""
      }
     },
     "3333a1887918498f8766ae8b77d88684": {
      "model_module": "@jupyter-widgets/base",
      "model_module_version": "2.0.0",
      "model_name": "LayoutModel",
      "state": {}
     },
     "33414847-e295-4b0e-a620-1d6403bfbbdb": {
      "model_module": "jupyter-threejs",
      "model_module_version": "^2.1.0",
      "model_name": "Object3DModel",
      "state": {
       "_view_module": null,
       "_view_module_version": ""
      }
     },
     "335ffa38c3454098a91390a422d9aa69": {
      "model_module": "jupyter-threejs",
      "model_module_version": "^2.4.1",
      "model_name": "MeshModel",
      "state": {
       "_model_module_version": "^2.4.1",
       "_view_module": null,
       "_view_module_version": "",
       "geometry": "IPY_MODEL_63e81fa573234de9b54cfb9120b5195b",
       "material": "IPY_MODEL_514c68a64c384fa0bc361379233ab72b"
      }
     },
     "33dd1c6d-aca2-460e-9428-81364af436b9": {
      "model_module": "jupyter-threejs",
      "model_module_version": "^2.1.0",
      "model_name": "OrthographicCameraModel",
      "state": {
       "_view_module": null,
       "_view_module_version": "",
       "bottom": -5,
       "far": 500,
       "left": -5,
       "near": 0.5,
       "projectionMatrix": [
        0.2,
        0,
        0,
        0,
        0,
        0.2,
        0,
        0,
        0,
        0,
        -0.004004004004004004,
        0,
        0,
        0,
        -1.002002002002002,
        1
       ],
       "right": 5,
       "top": 5
      }
     },
     "349d542cbc4e403cbcf7795994a3e30e": {
      "model_module": "jupyter-threejs",
      "model_module_version": "^2.4.1",
      "model_name": "WebGLShadowMapModel",
      "state": {
       "_model_module_version": "^2.4.1",
       "_view_module": null,
       "_view_module_version": ""
      }
     },
     "35d0bc0777924fc180a505de4ae6d6d1": {
      "model_module": "jupyter-threejs",
      "model_module_version": "^2.4.1",
      "model_name": "RendererModel",
      "state": {
       "_height": 400,
       "_model_module_version": "^2.4.1",
       "_view_module_version": "^2.4.1",
       "_webgl_version": 2,
       "_width": 400,
       "camera": "IPY_MODEL_47f80d49426b46dfbf96146a4ccfa387",
       "controls": [
        "IPY_MODEL_98d00eaca8184fc1b61ea6d734c83abb"
       ],
       "layout": "IPY_MODEL_a4a188e63cd949a2b3a4a8e75861a9ef",
       "scene": "IPY_MODEL_6dd64d104c4545218d882f56ec3369ee",
       "shadowMap": "IPY_MODEL_fc298189ef5a4977a3280b31555cd8b2"
      }
     },
     "3650b06583374a618877e3bfe07b61b9": {
      "buffers": [
       {
        "data": "AACgQAAAAIAAAAAAAACgQAAAAIAAAAAAAACgQAAAAIAAAAAAAACgQAAAAAAAAAAAAACgQAAAAAAAAAAAAACgQAAAAAAAAAAAAAAAgAAAAAAAAMhBAAAAgAAAAAAAAMhBAAAAgAAAAAAAAMhBAAAAAAAAAAAAAMhBAAAAAAAAAAAAAMhBAAAAAAAAAAAAAMhBAAAAAAAAAAAAAMjBAAAAAAAAAAAAAMjBAAAAAAAAAAAAAMjBAAAAgAAAAAAAAMjBAAAAgAAAAAAAAMjBAAAAgAAAAAAAAMjBAACgwAAAAAAAAAAAAACgwAAAAAAAAAAAAACgwAAAAAAAAAAAAACgwAAAAIAAAAAAAACgwAAAAIAAAAAAAACgwAAAAIAAAAAAAAAAAAAAoEAAAACAAAAAAAAAoEAAAACAAAAAAAAAoEAAAACAAAAAAAAAoEAAAAAAAAAAAAAAoEAAAAAAAAAAAAAAoEAAAAAAAAAAAAAAoMAAAAAAAAAAAAAAoMAAAAAAAAAAAAAAoMAAAAAAAAAAAAAAoMAAAACAAAAAAAAAoMAAAACAAAAAAAAAoMAAAACAAACgQAAAAIAAAAAAAACgQAAAAIAAAAAAAACgQAAAAIAAAAAAAACgQAAAAAAAAAAAAACgQAAAAAAAAAAAAACgQAAAAAAAAAAAAAAAgAAAAAAAAMhBAAAAgAAAAAAAAMhBAAAAgAAAAAAAAMhBAAAAAAAAAAAAAMhBAAAAAAAAAAAAAMhBAAAAAAAAAAAAAMhBAAAAAAAAAAAAAMjBAAAAAAAAAAAAAMjBAAAAAAAAAAAAAMjBAAAAgAAAAAAAAMjBAAAAgAAAAAAAAMjBAAAAgAAAAAAAAMjBAACgwAAAAAAAAAAAAACgwAAAAAAAAAAAAACgwAAAAAAAAAAAAACgwAAAAIAAAAAAAACgwAAAAIAAAAAAAACgwAAAAIAAAAAAAAAAAAAAoEAAAACAAAAAAAAAoEAAAACAAAAAAAAAoEAAAACAAAAAAAAAoEAAAAAAAAAAAAAAoEAAAAAAAAAAAAAAoEAAAAAAAAAAAAAAoMAAAAAAAAAAAAAAoMAAAAAAAAAAAAAAoMAAAAAAAAAAAAAAoMAAAACAAAAAAAAAoMAAAACAAAAAAAAAoMAAAACAqP65vqAaj78AAAAAqP65vqAaj78AAAAAqP65vqAaj78AAAAAqP65vqAaj78AAACAqP65vqAaj78AAACAqP65vqAaj78AAACAqP65vqAajz8AAAAAqP65vqAajz8AAAAAqP65vqAajz8AAAAAqP65vqAajz8AAAAAqP65vqAajz8AAAAAqP65vqAajz8AAAAAaHhzP2DlMD8AAAAAaHhzP2DlMD8AAAAAaHhzP2DlMD8AAAAAaHhzP2DlMD8AAAAAaHhzP2DlMD8AAAAAaHhzP2DlMD8AAAAAFHmWvwAAAAAAAAAAFHmWvwAAAAAAAAAAFHmWvwAAAAAAAAAAFHmWvwAAAIAAAAAAFHmWvwAAAIAAAAAAFHmWvwAAAIAAAAAAAAAAAAAAAADuPKg/AAAAAAAAAADuPKg/AAAAAAAAAADuPKg/AAAAgAAAAACUGQhAAAAAgAAAAACUGQhAAAAAgAAAAACUGQhAAAAAAAAAAACROqg/AAAAAAAAAACROqg/AAAAAAAAAACROqg/aHhzP2DlML8AAAAAaHhzP2DlML8AAAAAaHhzP2DlML8AAAAAaHhzP2DlML8AAAAAaHhzP2DlML8AAAAAaHhzP2DlML8AAAAAAAAAAAAAAADuPKi/AAAAAAAAAADuPKi/AAAAAAAAAADuPKi/AAAAAAAAAACUGQjAAAAAAAAAAACUGQjAAAAAAAAAAACUGQjAAAAAAAAAAACROqi/AAAAAAAAAACROqi/AAAAAAAAAACROqi/",
        "encoding": "base64",
        "path": [
         "array",
         "buffer"
        ]
       }
      ],
      "model_module": "jupyter-threejs",
      "model_module_version": "^2.4.1",
      "model_name": "BufferAttributeModel",
      "state": {
       "_model_module_version": "^2.4.1",
       "_view_module": null,
       "_view_module_version": "",
       "array": {
        "dtype": "float32",
        "shape": [
         120,
         3
        ]
       },
       "normalized": true,
       "version": 2
      }
     },
     "36a1ffe3871a4b589fab4d96d38ad37e": {
      "model_module": "@jupyter-widgets/base",
      "model_module_version": "2.0.0",
      "model_name": "LayoutModel",
      "state": {}
     },
     "36fbd18aa08a4d25a8545170deeee6c6": {
      "model_module": "jupyter-threejs",
      "model_module_version": "^2.4.1",
      "model_name": "DirectionalLightModel",
      "state": {
       "_model_module_version": "^2.4.1",
       "_view_module": null,
       "_view_module_version": "",
       "color": "white",
       "intensity": 0.7,
       "matrixWorldNeedsUpdate": true,
       "position": [
        3,
        5,
        1
       ],
       "shadow": "IPY_MODEL_c8dc4f94-3d89-4028-a8c9-363e41f9738e",
       "target": "IPY_MODEL_62e1e9e4-d4ce-4aa8-9820-454b6c8062f4"
      }
     },
     "3717a04706cd4f9eb9822b32e85c7e2b": {
      "model_module": "jupyter-threejs",
      "model_module_version": "^2.4.1",
      "model_name": "DirectionalLightModel",
      "state": {
       "_model_module_version": "^2.4.1",
       "_view_module": null,
       "_view_module_version": "",
       "color": "white",
       "intensity": 0.7,
       "matrixWorldNeedsUpdate": true,
       "position": [
        3,
        5,
        1
       ],
       "shadow": "IPY_MODEL_b3dad2dd-bbc1-418a-9b67-2ab504ab6417",
       "target": "IPY_MODEL_e4f76ff4-482f-476d-b5ed-e3f8a7447286"
      }
     },
     "379272a80df04083ac26359ddf93e68f": {
      "buffers": [
       {
        "data": "AAAAgAAAAAAAAMhBAAAAgAAAAAAAAMhBAAAAgAAAAAAAAMhBAAAAAAAAAAAAAMhBAAAAAAAAAAAAAMhBAAAAAAAAAAAAAMhBAAAAAAAAAAAAAMjBAAAAAAAAAAAAAMjBAAAAAAAAAAAAAMjBAAAAgAAAAAAAAMjBAAAAgAAAAAAAAMjBAAAAgAAAAAAAAMjBAAAAAAAADMIAAAAAAAAAAAAADMIAAAAAAAAAAAAADMIAAAAAAAAAAAAADMIAAACAAAAAAAAADMIAAACAAAAAAAAADMIAAACAAAAMQgAAAIAAAAAAAAAMQgAAAIAAAAAAAAAMQgAAAIAAAAAAAAAMQgAAAAAAAAAAAAAMQgAAAAAAAAAAAAAMQgAAAAAAAAAAAAAAAAAADEIAAACAAAAAAAAADEIAAACAAAAAAAAADEIAAACAAAAAAAAADEIAAAAAAAAAAAAADEIAAAAAAAAAAAAADEIAAAAAAAAMwgAAAAAAAAAAAAAMwgAAAAAAAAAAAAAMwgAAAAAAAAAAAAAMwgAAAIAAAAAAAAAMwgAAAIAAAAAAAAAMwgAAAIAAAAAA",
        "encoding": "base64",
        "path": [
         "array",
         "buffer"
        ]
       }
      ],
      "model_module": "jupyter-threejs",
      "model_module_version": "^2.4.1",
      "model_name": "BufferAttributeModel",
      "state": {
       "_model_module_version": "^2.4.1",
       "_view_module": null,
       "_view_module_version": "",
       "array": {
        "dtype": "float32",
        "shape": [
         36,
         3
        ]
       },
       "normalized": true,
       "version": 2
      }
     },
     "38179bd087a24533ba6867851d6c0ed2": {
      "model_module": "jupyter-threejs",
      "model_module_version": "^2.4.1",
      "model_name": "AmbientLightModel",
      "state": {
       "_model_module_version": "^2.4.1",
       "_view_module": null,
       "_view_module_version": "",
       "color": "#777777",
       "intensity": 0.5
      }
     },
     "3873541f061a4a01abfc309c091eb092": {
      "model_module": "jupyter-threejs",
      "model_module_version": "^2.4.1",
      "model_name": "DirectionalLightModel",
      "state": {
       "_model_module_version": "^2.4.1",
       "_view_module": null,
       "_view_module_version": "",
       "color": "white",
       "intensity": 0.7,
       "matrixWorldNeedsUpdate": true,
       "position": [
        3,
        5,
        1
       ],
       "shadow": "IPY_MODEL_1b757834-ca05-44d3-9da5-c5212b2c106e",
       "target": "IPY_MODEL_abb09d70-5f4b-4053-bf78-616b10cf55f9"
      }
     },
     "392ded46645b4d58afb66d7dc0892b8e": {
      "model_module": "jupyter-threejs",
      "model_module_version": "^2.4.1",
      "model_name": "SceneModel",
      "state": {
       "_model_module_version": "^2.4.1",
       "_view_module": null,
       "_view_module_version": "",
       "children": [
        "IPY_MODEL_938837df7f6146aeaee2920ed1a5323f",
        "IPY_MODEL_d0edeb246ecf4f6f98cad2356018a687",
        "IPY_MODEL_b1e92cfb8bd44d0d8bd3e99cb544f95a",
        "IPY_MODEL_b73b953b14144d3bb1b9b300f9bb3a02",
        "IPY_MODEL_0342ca679b84434faf3de124af5fc311",
        "IPY_MODEL_5fd49eaf9e18403283f7c92ebff1ce0f",
        "IPY_MODEL_d0c91ed4ceee4c989cb3096bb090ef21"
       ]
      }
     },
     "39e63d9f96a44b1cb06456adf1ace93f": {
      "model_module": "jupyter-threejs",
      "model_module_version": "^2.4.1",
      "model_name": "AxesHelperModel",
      "state": {
       "_model_module_version": "^2.4.1",
       "_view_module": null,
       "_view_module_version": "",
       "size": 7,
       "type": "LineSegments"
      }
     },
     "3a0ba1cdf15247e59fc4b96ae4fdf92f": {
      "model_module": "jupyter-threejs",
      "model_module_version": "^2.4.1",
      "model_name": "AmbientLightModel",
      "state": {
       "_model_module_version": "^2.4.1",
       "_view_module": null,
       "_view_module_version": "",
       "color": "#777777",
       "intensity": 0.5
      }
     },
     "3b0179bf81a841408dfd1c48b1414f95": {
      "model_module": "jupyter-threejs",
      "model_module_version": "^2.4.1",
      "model_name": "DirectionalLightModel",
      "state": {
       "_model_module_version": "^2.4.1",
       "_view_module": null,
       "_view_module_version": "",
       "color": "white",
       "intensity": 0.7,
       "matrixWorldNeedsUpdate": true,
       "position": [
        3,
        5,
        1
       ],
       "shadow": "IPY_MODEL_49d93e7b-f7e6-423e-9171-e8d6c57429e9",
       "target": "IPY_MODEL_dcb45a95-140d-46d7-b246-8ba14d0b8a6d"
      }
     },
     "3c53724470c64ee48ef221c15e10a636": {
      "model_module": "jupyter-threejs",
      "model_module_version": "^2.4.1",
      "model_name": "PerspectiveCameraModel",
      "state": {
       "_model_module_version": "^2.4.1",
       "_view_module": null,
       "_view_module_version": "",
       "children": [
        "IPY_MODEL_7c68d9e75eaf412fb4c3220eec1f9a3a"
       ],
       "fov": 20,
       "matrix": [
        1,
        0,
        0,
        0,
        0,
        1,
        0,
        0,
        0,
        0,
        1,
        0,
        65,
        12.5,
        17.5,
        1
       ],
       "position": [
        65,
        12.5,
        17.5
       ],
       "projectionMatrix": [
        5.67128181961771,
        0,
        0,
        0,
        0,
        5.67128181961771,
        0,
        0,
        0,
        0,
        -1.00010000500025,
        -1,
        0,
        0,
        -0.200010000500025,
        0
       ],
       "up": [
        0,
        0,
        1
       ]
      }
     },
     "3cbc9c71c4c84772b3582bfe5274626f": {
      "model_module": "jupyter-threejs",
      "model_module_version": "^2.4.1",
      "model_name": "BufferGeometryModel",
      "state": {
       "_model_module_version": "^2.4.1",
       "_view_module": null,
       "_view_module_version": "",
       "attributes": {
        "normal": "IPY_MODEL_9b9feb878a5949f98ef1a260b5dfaa63",
        "position": "IPY_MODEL_ec52b4026ed64608bb441e9784e4c871"
       }
      }
     },
     "3cc666da505545af9343125a7530ac52": {
      "model_module": "jupyter-threejs",
      "model_module_version": "^2.4.1",
      "model_name": "SceneModel",
      "state": {
       "_model_module_version": "^2.4.1",
       "_view_module": null,
       "_view_module_version": "",
       "children": [
        "IPY_MODEL_ffb9d4d4d1694f619699b612bd068eb5",
        "IPY_MODEL_95dd4390ba6f4497ad3923ec7e88dd30",
        "IPY_MODEL_d29987810dba49ffac28d1801a6e86c9",
        "IPY_MODEL_95a71a85d7f34090a2f48d98f7b8271f",
        "IPY_MODEL_4cb85a8d8e8e46e0a11a7e13254ceff1",
        "IPY_MODEL_4e7270c6f17148c28d8ceb95df1639c3",
        "IPY_MODEL_c02b083e77fb4afe9f4132d1f3b4dafd"
       ]
      }
     },
     "3d239bf431b3460a822f0b064e2858be": {
      "buffers": [
       {
        "data": "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",
        "encoding": "base64",
        "path": [
         "array",
         "buffer"
        ]
       }
      ],
      "model_module": "jupyter-threejs",
      "model_module_version": "^2.4.1",
      "model_name": "BufferAttributeModel",
      "state": {
       "_model_module_version": "^2.4.1",
       "_view_module": null,
       "_view_module_version": "",
       "array": {
        "dtype": "float32",
        "shape": [
         144,
         3
        ]
       },
       "normalized": true,
       "version": 2
      }
     },
     "3eb07e0a0dfc4944b0b6b59a1421a106": {
      "model_module": "jupyter-threejs",
      "model_module_version": "^2.4.1",
      "model_name": "GridHelperModel",
      "state": {
       "_model_module_version": "^2.4.1",
       "_view_module": null,
       "_view_module_version": "",
       "colorCenterLine": "#008000",
       "colorGrid": "#008000",
       "divisions": 4,
       "matrix": [
        2.220446049250313e-16,
        1,
        0,
        0,
        -1,
        2.220446049250313e-16,
        0,
        0,
        0,
        0,
        1,
        0,
        0,
        10,
        10,
        1
       ],
       "matrixWorld": [
        2.220446049250313e-16,
        1,
        0,
        0,
        -1,
        2.220446049250313e-16,
        0,
        0,
        0,
        0,
        1,
        0,
        0,
        0,
        0,
        1
       ],
       "position": [
        0,
        10,
        10
       ],
       "quaternion": [
        0,
        0,
        0.7071067811865475,
        0.7071067811865476
       ],
       "rotation": [
        0,
        0,
        1.5707963267948963,
        "XYZ"
       ],
       "size": 40,
       "type": "LineSegments"
      }
     },
     "3f8860f7-d950-466d-938e-c7a9a7eab0c6": {
      "model_module": "jupyter-threejs",
      "model_module_version": "^2.1.0",
      "model_name": "Object3DModel",
      "state": {
       "_view_module": null,
       "_view_module_version": ""
      }
     },
     "4131a0a5e07846a9998854eb1cdc9dd8": {
      "model_module": "jupyter-threejs",
      "model_module_version": "^2.4.1",
      "model_name": "DirectionalLightModel",
      "state": {
       "_model_module_version": "^2.4.1",
       "_view_module": null,
       "_view_module_version": "",
       "color": "white",
       "intensity": 0.7,
       "matrixWorldNeedsUpdate": true,
       "position": [
        3,
        5,
        1
       ],
       "shadow": "IPY_MODEL_fa7c164d-c52d-4ea3-851b-a41e6fd804d5",
       "target": "IPY_MODEL_62969981-5fad-488e-925e-d74fdbd56150"
      }
     },
     "428acb7eb7d64f959f39238f46dbece4": {
      "model_module": "jupyter-threejs",
      "model_module_version": "^2.4.1",
      "model_name": "PerspectiveCameraModel",
      "state": {
       "_model_module_version": "^2.4.1",
       "_view_module": null,
       "_view_module_version": "",
       "children": [
        "IPY_MODEL_b4b0feaf014b4965b8fe49ce8ab43a2d"
       ],
       "fov": 20,
       "matrix": [
        1,
        0,
        0,
        0,
        0,
        1,
        0,
        0,
        0,
        0,
        1,
        0,
        25,
        25,
        35,
        1
       ],
       "position": [
        23.299482397505212,
        15.834311886339373,
        41.00498368606426
       ],
       "projectionMatrix": [
        5.67128181961771,
        0,
        0,
        0,
        0,
        5.67128181961771,
        0,
        0,
        0,
        0,
        -1.00010000500025,
        -1,
        0,
        0,
        -0.200010000500025,
        0
       ],
       "quaternion": [
        0.1387192182241701,
        0.2619950119934573,
        0.8440380931075415,
        0.4468951661958409
       ],
       "up": [
        0,
        0,
        1
       ]
      }
     },
     "445d78ee37f4477d9a3936595f2a02db": {
      "model_module": "jupyter-threejs",
      "model_module_version": "^2.4.1",
      "model_name": "RendererModel",
      "state": {
       "_height": 400,
       "_model_module_version": "^2.4.1",
       "_view_module_version": "^2.4.1",
       "_webgl_version": 2,
       "_width": 400,
       "camera": "IPY_MODEL_d0edeb246ecf4f6f98cad2356018a687",
       "controls": [
        "IPY_MODEL_c73fb12f050a4763ad8608903905ec7b"
       ],
       "layout": "IPY_MODEL_f0c361418eb640708732f7943b5234ba",
       "scene": "IPY_MODEL_392ded46645b4d58afb66d7dc0892b8e",
       "shadowMap": "IPY_MODEL_0b7b61542ce44d9c9d2127e8af745d8b"
      }
     },
     "4460f77dc72d471da5f4e88a8346ba89": {
      "model_module": "jupyter-threejs",
      "model_module_version": "^2.4.1",
      "model_name": "SceneModel",
      "state": {
       "_model_module_version": "^2.4.1",
       "_view_module": null,
       "_view_module_version": "",
       "children": [
        "IPY_MODEL_887fe64d9bc4477ca5e13599c202acf3",
        "IPY_MODEL_c4388d1a44d0489f9f7e8969fcb6967c",
        "IPY_MODEL_89a241247d51439f88f4742194064b2b",
        "IPY_MODEL_ae14aa0aed574c3793525ec024735692",
        "IPY_MODEL_b9c91243312c4be1915ae812fbf8b832",
        "IPY_MODEL_fec969170530489c84505409a0ab3ba4",
        "IPY_MODEL_a1bc169e56e647119f4d2876fdf41d10"
       ]
      }
     },
     "446417ca2c074d95818fb1264b178951": {
      "model_module": "jupyter-threejs",
      "model_module_version": "^2.4.1",
      "model_name": "MeshModel",
      "state": {
       "_model_module_version": "^2.4.1",
       "_view_module": null,
       "_view_module_version": "",
       "geometry": "IPY_MODEL_2f538122e62a49929896f2b0c08365de",
       "material": "IPY_MODEL_6749f06843134775a203c840691e5163"
      }
     },
     "44c1c522d24c4227913f8ec37cb305e2": {
      "model_module": "jupyter-threejs",
      "model_module_version": "^2.4.1",
      "model_name": "GridHelperModel",
      "state": {
       "_model_module_version": "^2.4.1",
       "_view_module": null,
       "_view_module_version": "",
       "colorCenterLine": "#ff0000",
       "colorGrid": "#ff0000",
       "divisions": 4,
       "matrix": [
        1,
        0,
        0,
        0,
        0,
        2.220446049250313e-16,
        1,
        0,
        0,
        -1,
        2.220446049250313e-16,
        0,
        10,
        10,
        0,
        1
       ],
       "matrixWorld": [
        1,
        0,
        0,
        0,
        0,
        2.220446049250313e-16,
        1,
        0,
        0,
        -1,
        2.220446049250313e-16,
        0,
        0,
        0,
        0,
        1
       ],
       "position": [
        10,
        10,
        0
       ],
       "quaternion": [
        0.7071067811865475,
        0,
        0,
        0.7071067811865476
       ],
       "rotation": [
        1.5707963267948963,
        0,
        0,
        "XYZ"
       ],
       "size": 40,
       "type": "LineSegments"
      }
     },
     "45181e6e5afb463491c25bafdbe1ee10": {
      "model_module": "jupyter-threejs",
      "model_module_version": "^2.4.1",
      "model_name": "MeshModel",
      "state": {
       "_model_module_version": "^2.4.1",
       "_view_module": null,
       "_view_module_version": "",
       "geometry": "IPY_MODEL_49457b73ba2f4103b351688ae339f88a",
       "material": "IPY_MODEL_79b82508e9a24eaf920e95f88b2b2c00"
      }
     },
     "45358dc1c21546e2997b3bcb5accbaf9": {
      "model_module": "jupyter-threejs",
      "model_module_version": "^2.4.1",
      "model_name": "BufferGeometryModel",
      "state": {
       "_model_module_version": "^2.4.1",
       "_view_module": null,
       "_view_module_version": "",
       "attributes": {
        "normal": "IPY_MODEL_dc5a2468377241dcb3c6858724850932",
        "position": "IPY_MODEL_1b3b01426ff54b07ba5538cc2a2463fa"
       }
      }
     },
     "457ac04697e94c75afdfe67c5e931cef": {
      "model_module": "jupyter-threejs",
      "model_module_version": "^2.4.1",
      "model_name": "PerspectiveCameraModel",
      "state": {
       "_model_module_version": "^2.4.1",
       "_view_module": null,
       "_view_module_version": "",
       "children": [
        "IPY_MODEL_3b0179bf81a841408dfd1c48b1414f95"
       ],
       "fov": 20,
       "matrix": [
        1,
        0,
        0,
        0,
        0,
        1,
        0,
        0,
        0,
        0,
        1,
        0,
        110,
        25,
        2.5,
        1
       ],
       "position": [
        45.88657940439588,
        -100.66904489793828,
        -22.16788735762985
       ],
       "projectionMatrix": [
        5.67128181961771,
        0,
        0,
        0,
        0,
        5.67128181961771,
        0,
        0,
        0,
        0,
        -1.00010000500025,
        -1,
        0,
        0,
        -0.200010000500025,
        0
       ],
       "quaternion": [
        0.7558386018170051,
        0.16413811281703464,
        0.13451202224097752,
        0.619413596716136
       ],
       "up": [
        0,
        0,
        1
       ]
      }
     },
     "45ac738dfdc34120beeff3079479175c": {
      "model_module": "jupyter-threejs",
      "model_module_version": "^2.4.1",
      "model_name": "SceneModel",
      "state": {
       "_model_module_version": "^2.4.1",
       "_view_module": null,
       "_view_module_version": "",
       "children": [
        "IPY_MODEL_d417ba9bfa1547d1b7d71c74fdc3cb45",
        "IPY_MODEL_bb25d22d78b942f390f60d6e7575684d",
        "IPY_MODEL_38179bd087a24533ba6867851d6c0ed2",
        "IPY_MODEL_cb60311b44654869acad0fa858032974",
        "IPY_MODEL_d2e509b717634ff6ba94879c627a4569",
        "IPY_MODEL_c002653368b0452bb781653e7924c947",
        "IPY_MODEL_8e5e851e8564435c8fd03342e82fafb9"
       ]
      }
     },
     "4758538c8c7b4a6bb3a710ff79161378": {
      "model_module": "jupyter-threejs",
      "model_module_version": "^2.4.1",
      "model_name": "DirectionalLightModel",
      "state": {
       "_model_module_version": "^2.4.1",
       "_view_module": null,
       "_view_module_version": "",
       "color": "white",
       "intensity": 0.7,
       "matrixWorldNeedsUpdate": true,
       "position": [
        3,
        5,
        1
       ],
       "shadow": "IPY_MODEL_1081a0d7-59c8-45e7-96da-d0c37ba251e0",
       "target": "IPY_MODEL_60351e35-e14a-4360-9306-15cb7123b5f9"
      }
     },
     "47f7187b323d4173a036c9e5562b9583": {
      "buffers": [
       {
        "data": "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",
        "encoding": "base64",
        "path": [
         "array",
         "buffer"
        ]
       }
      ],
      "model_module": "jupyter-threejs",
      "model_module_version": "^2.4.1",
      "model_name": "BufferAttributeModel",
      "state": {
       "_model_module_version": "^2.4.1",
       "_view_module": null,
       "_view_module_version": "",
       "array": {
        "dtype": "float32",
        "shape": [
         68,
         3,
         3
        ]
       },
       "version": 2
      }
     },
     "47f80d49426b46dfbf96146a4ccfa387": {
      "model_module": "jupyter-threejs",
      "model_module_version": "^2.4.1",
      "model_name": "PerspectiveCameraModel",
      "state": {
       "_model_module_version": "^2.4.1",
       "_view_module": null,
       "_view_module_version": "",
       "children": [
        "IPY_MODEL_279ef7ff56d446c2a7e3bc235f0b9dca"
       ],
       "fov": 20,
       "matrix": [
        1,
        0,
        0,
        0,
        0,
        1,
        0,
        0,
        0,
        0,
        1,
        0,
        65,
        17.5,
        12.5,
        1
       ],
       "position": [
        64.85163811764859,
        6.894568080181117,
        20.838185248366607
       ],
       "projectionMatrix": [
        5.67128181961771,
        0,
        0,
        0,
        0,
        5.67128181961771,
        0,
        0,
        0,
        0,
        -1.00010000500025,
        -1,
        0,
        0,
        -0.200010000500025,
        0
       ],
       "quaternion": [
        0.39436589800504307,
        0.4385144812325487,
        0.6004695177394872,
        0.5400156909810421
       ],
       "up": [
        0,
        0,
        1
       ]
      }
     },
     "4833132cafe447cca4558c0b90ab6724": {
      "model_module": "jupyter-threejs",
      "model_module_version": "^2.4.1",
      "model_name": "WebGLShadowMapModel",
      "state": {
       "_model_module_version": "^2.4.1",
       "_view_module": null,
       "_view_module_version": ""
      }
     },
     "48a0127419d749de8b24483c74e70270": {
      "model_module": "jupyter-threejs",
      "model_module_version": "^2.4.1",
      "model_name": "MeshModel",
      "state": {
       "_model_module_version": "^2.4.1",
       "_view_module": null,
       "_view_module_version": "",
       "geometry": "IPY_MODEL_ca5ece3935e94c799c97864bbd0785d2",
       "material": "IPY_MODEL_18ff70c25dab4eb3ae5d4c73dbd05faa"
      }
     },
     "48e9c728ae5f4ed6b9cdad2923ed0a85": {
      "model_module": "jupyter-threejs",
      "model_module_version": "^2.4.1",
      "model_name": "GridHelperModel",
      "state": {
       "_model_module_version": "^2.4.1",
       "_view_module": null,
       "_view_module_version": "",
       "colorCenterLine": "#ff0000",
       "colorGrid": "#ff0000",
       "divisions": 4,
       "matrix": [
        1,
        0,
        0,
        0,
        0,
        2.220446049250313e-16,
        1,
        0,
        0,
        -1,
        2.220446049250313e-16,
        0,
        10,
        10,
        0,
        1
       ],
       "matrixWorld": [
        1,
        0,
        0,
        0,
        0,
        2.220446049250313e-16,
        1,
        0,
        0,
        -1,
        2.220446049250313e-16,
        0,
        0,
        0,
        0,
        1
       ],
       "position": [
        10,
        10,
        0
       ],
       "quaternion": [
        0.7071067811865475,
        0,
        0,
        0.7071067811865476
       ],
       "rotation": [
        1.5707963267948963,
        0,
        0,
        "XYZ"
       ],
       "size": 40,
       "type": "LineSegments"
      }
     },
     "49457b73ba2f4103b351688ae339f88a": {
      "model_module": "jupyter-threejs",
      "model_module_version": "^2.4.1",
      "model_name": "BufferGeometryModel",
      "state": {
       "_model_module_version": "^2.4.1",
       "_view_module": null,
       "_view_module_version": "",
       "attributes": {
        "normal": "IPY_MODEL_495f58534ea84800b040a05703a85a98",
        "position": "IPY_MODEL_30e42d19d32a4995b5ab6afb57162347"
       }
      }
     },
     "495f58534ea84800b040a05703a85a98": {
      "buffers": [
       {
        "data": "AACgQAAAAIAAAAAAAACgQAAAAIAAAAAAAACgQAAAAIAAAAAAAACgQAAAAAAAAAAAAACgQAAAAAAAAAAAAACgQAAAAAAAAAAAAAAAgAAAAAAAAMhBAAAAgAAAAAAAAMhBAAAAgAAAAAAAAMhBAAAAAAAAAAAAAMhBAAAAAAAAAAAAAMhBAAAAAAAAAAAAAMhBAAAAAAAAAAAAAMjBAAAAAAAAAAAAAMjBAAAAAAAAAAAAAMjBAAAAgAAAAAAAAMjBAAAAgAAAAAAAAMjBAAAAgAAAAAAAAMjBAACgwAAAAAAAAAAAAACgwAAAAAAAAAAAAACgwAAAAAAAAAAAAACgwAAAAIAAAAAAAACgwAAAAIAAAAAAAACgwAAAAIAAAAAAAAAAAAAAoEAAAACAAAAAAAAAoEAAAACAAAAAAAAAoEAAAACAAAAAAAAAoEAAAAAAAAAAAAAAoEAAAAAAAAAAAAAAoEAAAAAAAAAAAAAAoMAAAAAAAAAAAAAAoMAAAAAAAAAAAAAAoMAAAAAAAAAAAAAAoMAAAACAAAAAAAAAoMAAAACAAAAAAAAAoMAAAACAAACgQAAAAIAAAAAAAACgQAAAAIAAAAAAAACgQAAAAIAAAAAAAACgQAAAAAAAAAAAAACgQAAAAAAAAAAAAACgQAAAAAAAAAAAAAAAgAAAAAAAAMhBAAAAgAAAAAAAAMhBAAAAgAAAAAAAAMhBAAAAAAAAAAAAAMhBAAAAAAAAAAAAAMhBAAAAAAAAAAAAAMhBAAAAAAAAAAAAAMjBAAAAAAAAAAAAAMjBAAAAAAAAAAAAAMjBAAAAgAAAAAAAAMjBAAAAgAAAAAAAAMjBAAAAgAAAAAAAAMjBAACgwAAAAAAAAAAAAACgwAAAAAAAAAAAAACgwAAAAAAAAAAAAACgwAAAAIAAAAAAAACgwAAAAIAAAAAAAACgwAAAAIAAAAAAAAAAAAAAoEAAAACAAAAAAAAAoEAAAACAAAAAAAAAoEAAAACAAAAAAAAAoEAAAAAAAAAAAAAAoEAAAAAAAAAAAAAAoEAAAAAAAAAAAAAAoMAAAAAAAAAAAAAAoMAAAAAAAAAAAAAAoMAAAAAAAAAAAAAAoMAAAACAAAAAAAAAoMAAAACAAAAAAAAAoMAAAACAqP65vqAaj78AAAAAqP65vqAaj78AAAAAqP65vqAaj78AAAAAqP65vqAaj78AAACAqP65vqAaj78AAACAqP65vqAaj78AAACAqP65vqAajz8AAAAAqP65vqAajz8AAAAAqP65vqAajz8AAAAAqP65vqAajz8AAAAAqP65vqAajz8AAAAAqP65vqAajz8AAAAAaHhzP2DlMD8AAAAAaHhzP2DlMD8AAAAAaHhzP2DlMD8AAAAAaHhzP2DlMD8AAAAAaHhzP2DlMD8AAAAAaHhzP2DlMD8AAAAAFHmWvwAAAAAAAAAAFHmWvwAAAAAAAAAAFHmWvwAAAAAAAAAAFHmWvwAAAIAAAAAAFHmWvwAAAIAAAAAAFHmWvwAAAIAAAAAAAAAAAAAAAADuPKg/AAAAAAAAAADuPKg/AAAAAAAAAADuPKg/AAAAgAAAAACUGQhAAAAAgAAAAACUGQhAAAAAgAAAAACUGQhAAAAAAAAAAACROqg/AAAAAAAAAACROqg/AAAAAAAAAACROqg/aHhzP2DlML8AAAAAaHhzP2DlML8AAAAAaHhzP2DlML8AAAAAaHhzP2DlML8AAAAAaHhzP2DlML8AAAAAaHhzP2DlML8AAAAAAAAAAAAAAADuPKi/AAAAAAAAAADuPKi/AAAAAAAAAADuPKi/AAAAAAAAAACUGQjAAAAAAAAAAACUGQjAAAAAAAAAAACUGQjAAAAAAAAAAACROqi/AAAAAAAAAACROqi/AAAAAAAAAACROqi/",
        "encoding": "base64",
        "path": [
         "array",
         "buffer"
        ]
       }
      ],
      "model_module": "jupyter-threejs",
      "model_module_version": "^2.4.1",
      "model_name": "BufferAttributeModel",
      "state": {
       "_model_module_version": "^2.4.1",
       "_view_module": null,
       "_view_module_version": "",
       "array": {
        "dtype": "float32",
        "shape": [
         120,
         3
        ]
       },
       "normalized": true,
       "version": 2
      }
     },
     "49d93e7b-f7e6-423e-9171-e8d6c57429e9": {
      "model_module": "jupyter-threejs",
      "model_module_version": "^2.1.0",
      "model_name": "DirectionalLightShadowModel",
      "state": {
       "_view_module": null,
       "_view_module_version": "",
       "camera": "IPY_MODEL_9df9e08d-5d30-458d-8a11-877be6a74f9f"
      }
     },
     "49e1e3a7-f530-420c-a3e3-c329770e01bc": {
      "model_module": "jupyter-threejs",
      "model_module_version": "^2.1.0",
      "model_name": "DirectionalLightShadowModel",
      "state": {
       "_view_module": null,
       "_view_module_version": "",
       "camera": "IPY_MODEL_6af1179a-ae20-486f-8522-41c3d600c1fc"
      }
     },
     "49edfa48bee74ccb8a22a10eb51db507": {
      "model_module": "jupyter-threejs",
      "model_module_version": "^2.4.1",
      "model_name": "RendererModel",
      "state": {
       "_height": 400,
       "_model_module_version": "^2.4.1",
       "_view_module_version": "^2.4.1",
       "_webgl_version": 2,
       "_width": 400,
       "camera": "IPY_MODEL_457ac04697e94c75afdfe67c5e931cef",
       "controls": [
        "IPY_MODEL_bfd71699b6324fc99b237b115a58c456"
       ],
       "layout": "IPY_MODEL_bc6c4286bef349d0b6b4fb8dd3b830f7",
       "scene": "IPY_MODEL_b3e16fc2da9945b09032a0b1848d306c",
       "shadowMap": "IPY_MODEL_68d66576d96445be9d189437b2b50912"
      }
     },
     "4a64e160cd984896b62d8e8efc4458ef": {
      "buffers": [
       {
        "data": "AAAAgAAAAAAAAMhBAAAAgAAAAAAAAMhBAAAAgAAAAAAAAMhBAAAAAAAAAAAAAMhBAAAAAAAAAAAAAMhBAAAAAAAAAAAAAMhBAAAAAAAAAAAAAMjBAAAAAAAAAAAAAMjBAAAAAAAAAAAAAMjBAAAAgAAAAAAAAMjBAAAAgAAAAAAAAMjBAAAAgAAAAAAAAMjBAAAAAAAADMIAAAAAAAAAAAAADMIAAAAAAAAAAAAADMIAAAAAAAAAAAAADMIAAACAAAAAAAAADMIAAACAAAAAAAAADMIAAACAAAAMQgAAAIAAAAAAAAAMQgAAAIAAAAAAAAAMQgAAAIAAAAAAAAAMQgAAAAAAAAAAAAAMQgAAAAAAAAAAAAAMQgAAAAAAAAAAAAAAAAAADEIAAACAAAAAAAAADEIAAACAAAAAAAAADEIAAACAAAAAAAAADEIAAAAAAAAAAAAADEIAAAAAAAAAAAAADEIAAAAAAAAMwgAAAAAAAAAAAAAMwgAAAAAAAAAAAAAMwgAAAAAAAAAAAAAMwgAAAIAAAAAAAAAMwgAAAIAAAAAAAAAMwgAAAIAAAAAA",
        "encoding": "base64",
        "path": [
         "array",
         "buffer"
        ]
       }
      ],
      "model_module": "jupyter-threejs",
      "model_module_version": "^2.4.1",
      "model_name": "BufferAttributeModel",
      "state": {
       "_model_module_version": "^2.4.1",
       "_view_module": null,
       "_view_module_version": "",
       "array": {
        "dtype": "float32",
        "shape": [
         36,
         3
        ]
       },
       "normalized": true,
       "version": 2
      }
     },
     "4ba1176c3ca947a9a8402a3c5938c653": {
      "model_module": "jupyter-threejs",
      "model_module_version": "^2.4.1",
      "model_name": "DirectionalLightModel",
      "state": {
       "_model_module_version": "^2.4.1",
       "_view_module": null,
       "_view_module_version": "",
       "color": "white",
       "intensity": 0.7,
       "matrixWorldNeedsUpdate": true,
       "position": [
        3,
        5,
        1
       ],
       "shadow": "IPY_MODEL_da1eae55-b8ed-4f05-9267-95ffde273f6c",
       "target": "IPY_MODEL_06102c73-cab4-4f69-ac1b-376c2ac9e37f"
      }
     },
     "4bda0b62df73445caed5fbbf6fc79cec": {
      "model_module": "jupyter-threejs",
      "model_module_version": "^2.4.1",
      "model_name": "WebGLShadowMapModel",
      "state": {
       "_model_module_version": "^2.4.1",
       "_view_module": null,
       "_view_module_version": ""
      }
     },
     "4c1cdfdf2ad14e4a8ba7ccccc2a38b5d": {
      "model_module": "jupyter-threejs",
      "model_module_version": "^2.4.1",
      "model_name": "DirectionalLightModel",
      "state": {
       "_model_module_version": "^2.4.1",
       "_view_module": null,
       "_view_module_version": "",
       "color": "white",
       "intensity": 0.7,
       "matrixWorldNeedsUpdate": true,
       "position": [
        3,
        5,
        1
       ],
       "shadow": "IPY_MODEL_f2ff5bf5-879a-4cd1-a97a-3890a3345ca6",
       "target": "IPY_MODEL_cba74fec-2b5e-4401-a017-65c9a38a6195"
      }
     },
     "4c97f1213c4c48efb5b746a3128e1639": {
      "model_module": "jupyter-threejs",
      "model_module_version": "^2.4.1",
      "model_name": "MeshLambertMaterialModel",
      "state": {
       "_model_module_version": "^2.4.1",
       "_view_module": null,
       "_view_module_version": "",
       "color": "#ebcc34",
       "transparent": true
      }
     },
     "4caf071e70c84dedaab3a10feb7132ba": {
      "model_module": "jupyter-threejs",
      "model_module_version": "^2.4.1",
      "model_name": "GridHelperModel",
      "state": {
       "_model_module_version": "^2.4.1",
       "_view_module": null,
       "_view_module_version": "",
       "colorCenterLine": "blue",
       "colorGrid": "blue",
       "divisions": 4,
       "matrix": [
        1,
        0,
        0,
        0,
        0,
        1,
        0,
        0,
        0,
        0,
        1,
        0,
        10,
        0,
        10,
        1
       ],
       "position": [
        10,
        0,
        10
       ],
       "size": 40,
       "type": "LineSegments"
      }
     },
     "4cb85a8d8e8e46e0a11a7e13254ceff1": {
      "model_module": "jupyter-threejs",
      "model_module_version": "^2.4.1",
      "model_name": "GridHelperModel",
      "state": {
       "_model_module_version": "^2.4.1",
       "_view_module": null,
       "_view_module_version": "",
       "colorCenterLine": "#ff0000",
       "colorGrid": "#ff0000",
       "divisions": 9,
       "matrix": [
        1,
        0,
        0,
        0,
        0,
        2.220446049250313e-16,
        1,
        0,
        0,
        -1,
        2.220446049250313e-16,
        0,
        1.5,
        1.5,
        0,
        1
       ],
       "matrixWorld": [
        1,
        0,
        0,
        0,
        0,
        2.220446049250313e-16,
        1,
        0,
        0,
        -1,
        2.220446049250313e-16,
        0,
        0,
        0,
        0,
        1
       ],
       "position": [
        1.5,
        1.5,
        0
       ],
       "quaternion": [
        0.7071067811865475,
        0,
        0,
        0.7071067811865476
       ],
       "rotation": [
        1.5707963267948963,
        0,
        0,
        "XYZ"
       ],
       "size": 9,
       "type": "LineSegments"
      }
     },
     "4ce8404b26dc4f7bbadd2fe239fabb6d": {
      "model_module": "jupyter-threejs",
      "model_module_version": "^2.4.1",
      "model_name": "GridHelperModel",
      "state": {
       "_model_module_version": "^2.4.1",
       "_view_module": null,
       "_view_module_version": "",
       "colorCenterLine": "blue",
       "colorGrid": "blue",
       "divisions": 4,
       "matrix": [
        1,
        0,
        0,
        0,
        0,
        1,
        0,
        0,
        0,
        0,
        1,
        0,
        10,
        0,
        10,
        1
       ],
       "position": [
        10,
        0,
        10
       ],
       "size": 40,
       "type": "LineSegments"
      }
     },
     "4df97ef1-cce0-46b5-9e31-26fd42c374aa": {
      "model_module": "jupyter-threejs",
      "model_module_version": "^2.1.0",
      "model_name": "DirectionalLightShadowModel",
      "state": {
       "_view_module": null,
       "_view_module_version": "",
       "camera": "IPY_MODEL_cfebfe6c-0679-4849-880d-ad8f95f1dc47"
      }
     },
     "4e7270c6f17148c28d8ceb95df1639c3": {
      "model_module": "jupyter-threejs",
      "model_module_version": "^2.4.1",
      "model_name": "GridHelperModel",
      "state": {
       "_model_module_version": "^2.4.1",
       "_view_module": null,
       "_view_module_version": "",
       "colorCenterLine": "#008000",
       "colorGrid": "#008000",
       "divisions": 9,
       "matrix": [
        2.220446049250313e-16,
        1,
        0,
        0,
        -1,
        2.220446049250313e-16,
        0,
        0,
        0,
        0,
        1,
        0,
        0,
        1.5,
        -0.5,
        1
       ],
       "matrixWorld": [
        2.220446049250313e-16,
        1,
        0,
        0,
        -1,
        2.220446049250313e-16,
        0,
        0,
        0,
        0,
        1,
        0,
        0,
        0,
        0,
        1
       ],
       "position": [
        0,
        1.5,
        -0.5
       ],
       "quaternion": [
        0,
        0,
        0.7071067811865475,
        0.7071067811865476
       ],
       "rotation": [
        0,
        0,
        1.5707963267948963,
        "XYZ"
       ],
       "size": 9,
       "type": "LineSegments"
      }
     },
     "4fbe02aa78bc42a4b2d28ba8b867cfa9": {
      "model_module": "jupyter-threejs",
      "model_module_version": "^2.4.1",
      "model_name": "SceneModel",
      "state": {
       "_model_module_version": "^2.4.1",
       "_view_module": null,
       "_view_module_version": "",
       "children": [
        "IPY_MODEL_28f8fa3cf51b4163866df62e38b7a650",
        "IPY_MODEL_54a6e796fdc64fbdb41f3e4ec814f0c4",
        "IPY_MODEL_196e6a55492f4540a5dbc56664e9d9e4",
        "IPY_MODEL_df6b388d9e12444f9a79228654d6aa5b",
        "IPY_MODEL_276465c5e9ba4bebbf5b5fa3c0b0b6c0",
        "IPY_MODEL_a7cd371f80c74853bead201f7ed2935e",
        "IPY_MODEL_ac11c00bdc0145fd83379baec112c80f"
       ]
      }
     },
     "50aaa0b1-4965-4c15-8dea-daa79a0368bf": {
      "model_module": "jupyter-threejs",
      "model_module_version": "^2.1.0",
      "model_name": "Object3DModel",
      "state": {
       "_view_module": null,
       "_view_module_version": ""
      }
     },
     "5106dd84fd934984b2308e506d89ca6a": {
      "buffers": [
       {
        "data": "AABQQQAAIMAAAAA/AABQQQAAIEAAAAC/AABQQQAAIEAAAAA/AABQQQAAIEAAAAC/AABQQQAAIMAAAAA/AABQQQAAIMAAAAC/AAAAQQAAIEAAAAA/AABQQQAAIMAAAAA/AABQQQAAIEAAAAA/AABQQQAAIMAAAAA/AAAAQQAAIEAAAAA/AAAAQQAAIMAAAAA/AAAAQQAAIMAAAAC/AABQQQAAIEAAAAC/AABQQQAAIMAAAAC/AABQQQAAIEAAAAC/AAAAQQAAIMAAAAC/AAAAQQAAIEAAAAC/AAAAQQAAIMAAAAC/AAAAQQAAIEAAAAA/AAAAQQAAIEAAAAC/AAAAQQAAIEAAAAA/AAAAQQAAIMAAAAC/AAAAQQAAIMAAAAA/AABQQQAAIEAAAAC/AAAAQQAAIEAAAAA/AABQQQAAIEAAAAA/AAAAQQAAIEAAAAA/AABQQQAAIEAAAAC/AAAAQQAAIEAAAAC/AAAAQQAAIMAAAAC/AABQQQAAIMAAAAA/AAAAQQAAIMAAAAA/AABQQQAAIMAAAAA/AAAAQQAAIMAAAAC/AABQQQAAIMAAAAC/AACwQQAAIMAAAAA/AACwQQAAIEAAAAC/AACwQQAAIEAAAAA/AACwQQAAIEAAAAC/AACwQQAAIMAAAAA/AACwQQAAIMAAAAC/AACIQQAAIEAAAAA/AACwQQAAIMAAAAA/AACwQQAAIEAAAAA/AACwQQAAIMAAAAA/AACIQQAAIEAAAAA/AACIQQAAIMAAAAA/AACIQQAAIMAAAAC/AACwQQAAIEAAAAC/AACwQQAAIMAAAAC/AACwQQAAIEAAAAC/AACIQQAAIMAAAAC/AACIQQAAIEAAAAC/AACIQQAAIMAAAAC/AACIQQAAIEAAAAA/AACIQQAAIEAAAAC/AACIQQAAIEAAAAA/AACIQQAAIMAAAAC/AACIQQAAIMAAAAA/AACwQQAAIEAAAAC/AACIQQAAIEAAAAA/AACwQQAAIEAAAAA/AACIQQAAIEAAAAA/AACwQQAAIEAAAAC/AACIQQAAIEAAAAC/AACIQQAAIMAAAAC/AACwQQAAIMAAAAA/AACIQQAAIMAAAAA/AACwQQAAIMAAAAA/AACIQQAAIMAAAAC/AACwQQAAIMAAAAC/",
        "encoding": "base64",
        "path": [
         "array",
         "buffer"
        ]
       }
      ],
      "model_module": "jupyter-threejs",
      "model_module_version": "^2.4.1",
      "model_name": "BufferAttributeModel",
      "state": {
       "_model_module_version": "^2.4.1",
       "_view_module": null,
       "_view_module_version": "",
       "array": {
        "dtype": "float32",
        "shape": [
         24,
         3,
         3
        ]
       },
       "version": 2
      }
     },
     "514c68a64c384fa0bc361379233ab72b": {
      "model_module": "jupyter-threejs",
      "model_module_version": "^2.4.1",
      "model_name": "MeshLambertMaterialModel",
      "state": {
       "_model_module_version": "^2.4.1",
       "_view_module": null,
       "_view_module_version": "",
       "color": "#ebcc34",
       "transparent": true
      }
     },
     "518cd32daee445a5b58b8703aaf848ff": {
      "model_module": "jupyter-threejs",
      "model_module_version": "^2.4.1",
      "model_name": "DirectionalLightModel",
      "state": {
       "_model_module_version": "^2.4.1",
       "_view_module": null,
       "_view_module_version": "",
       "color": "white",
       "intensity": 0.7,
       "matrixWorldNeedsUpdate": true,
       "position": [
        3,
        5,
        1
       ],
       "shadow": "IPY_MODEL_a5af86a6-78bc-45f1-a867-fbd0ea82735f",
       "target": "IPY_MODEL_5d9784d1-3c22-4807-aa9b-62ef17c0de7c"
      }
     },
     "529b2b56f3074df1939c2307ed7d6adc": {
      "model_module": "jupyter-threejs",
      "model_module_version": "^2.4.1",
      "model_name": "OrbitControlsModel",
      "state": {
       "_model_module_version": "^2.4.1",
       "_view_module": null,
       "_view_module_version": "",
       "controlling": "IPY_MODEL_c816c192af3c48e48e35c10b2e934ecf",
       "maxAzimuthAngle": "inf",
       "maxDistance": "inf",
       "maxZoom": "inf",
       "minAzimuthAngle": "-inf"
      }
     },
     "52f9ef580f914118837d9a8a5f75d95d": {
      "model_module": "@jupyter-widgets/base",
      "model_module_version": "2.0.0",
      "model_name": "LayoutModel",
      "state": {}
     },
     "5324e9785c1443e88300405fc8f5eaad": {
      "model_module": "jupyter-threejs",
      "model_module_version": "^2.4.1",
      "model_name": "WebGLShadowMapModel",
      "state": {
       "_model_module_version": "^2.4.1",
       "_view_module": null,
       "_view_module_version": ""
      }
     },
     "53aea373eb704bd9b55d0c3d7a43ef7a": {
      "model_module": "jupyter-threejs",
      "model_module_version": "^2.4.1",
      "model_name": "MeshLambertMaterialModel",
      "state": {
       "_model_module_version": "^2.4.1",
       "_view_module": null,
       "_view_module_version": "",
       "color": "#ebcc34",
       "transparent": true
      }
     },
     "5428ff452ea645c9b7082a83351f3c65": {
      "model_module": "jupyter-threejs",
      "model_module_version": "^2.4.1",
      "model_name": "BufferGeometryModel",
      "state": {
       "_model_module_version": "^2.4.1",
       "_view_module": null,
       "_view_module_version": "",
       "attributes": {
        "normal": "IPY_MODEL_5fff305327624df0a2d536ec5312902a",
        "position": "IPY_MODEL_5e4e2c258f3e49cd8a2f2a55dfafb408"
       }
      }
     },
     "548876bb1bd1471ba6666c89a0199996": {
      "model_module": "jupyter-threejs",
      "model_module_version": "^2.4.1",
      "model_name": "PerspectiveCameraModel",
      "state": {
       "_model_module_version": "^2.4.1",
       "_view_module": null,
       "_view_module_version": "",
       "children": [
        "IPY_MODEL_0bb061aa92164d4da087c9e8dffdd310"
       ],
       "fov": 20,
       "matrix": [
        1,
        0,
        0,
        0,
        0,
        1,
        0,
        0,
        0,
        0,
        1,
        0,
        110,
        12.5,
        2.5,
        1
       ],
       "position": [
        67.19997834004154,
        -51.782583042644724,
        71.17040820825324
       ],
       "projectionMatrix": [
        5.67128181961771,
        0,
        0,
        0,
        0,
        5.67128181961771,
        0,
        0,
        0,
        0,
        -1.00010000500025,
        -1,
        0,
        0,
        -0.200010000500025,
        0
       ],
       "quaternion": [
        0.37927053740174504,
        0.18655465958446857,
        0.40000970154607085,
        0.813230260821213
       ],
       "up": [
        0,
        0,
        1
       ]
      }
     },
     "54a6e796fdc64fbdb41f3e4ec814f0c4": {
      "model_module": "jupyter-threejs",
      "model_module_version": "^2.4.1",
      "model_name": "PerspectiveCameraModel",
      "state": {
       "_model_module_version": "^2.4.1",
       "_view_module": null,
       "_view_module_version": "",
       "children": [
        "IPY_MODEL_4131a0a5e07846a9998854eb1cdc9dd8"
       ],
       "fov": 20,
       "matrix": [
        1,
        0,
        0,
        0,
        0,
        1,
        0,
        0,
        0,
        0,
        1,
        0,
        110,
        12.5,
        2.5,
        1
       ],
       "position": [
        52.358857346408435,
        19.039550522358148,
        95.70029035109766
       ],
       "projectionMatrix": [
        5.67128181961771,
        0,
        0,
        0,
        0,
        5.67128181961771,
        0,
        0,
        0,
        0,
        -1.00010000500025,
        -1,
        0,
        0,
        -0.200010000500025,
        0
       ],
       "quaternion": [
        0.14948155678634745,
        0.21341468729571228,
        0.7907752105061916,
        0.5538808553074314
       ],
       "up": [
        0,
        0,
        1
       ]
      }
     },
     "56a32f2485c146e3beee8660720383ec": {
      "model_module": "jupyter-threejs",
      "model_module_version": "^2.4.1",
      "model_name": "GridHelperModel",
      "state": {
       "_model_module_version": "^2.4.1",
       "_view_module": null,
       "_view_module_version": "",
       "colorCenterLine": "#ff0000",
       "colorGrid": "#ff0000",
       "divisions": 4,
       "matrix": [
        1,
        0,
        0,
        0,
        0,
        2.220446049250313e-16,
        1,
        0,
        0,
        -1,
        2.220446049250313e-16,
        0,
        10,
        10,
        0,
        1
       ],
       "matrixWorld": [
        1,
        0,
        0,
        0,
        0,
        2.220446049250313e-16,
        1,
        0,
        0,
        -1,
        2.220446049250313e-16,
        0,
        0,
        0,
        0,
        1
       ],
       "position": [
        10,
        10,
        0
       ],
       "quaternion": [
        0.7071067811865475,
        0,
        0,
        0.7071067811865476
       ],
       "rotation": [
        1.5707963267948963,
        0,
        0,
        "XYZ"
       ],
       "size": 40,
       "type": "LineSegments"
      }
     },
     "58497f2de6f14f1c89038a406613c916": {
      "model_module": "@jupyter-widgets/base",
      "model_module_version": "2.0.0",
      "model_name": "LayoutModel",
      "state": {}
     },
     "58e3bb003a2d4e979de8f84b40a71d5f": {
      "model_module": "jupyter-threejs",
      "model_module_version": "^2.4.1",
      "model_name": "WebGLShadowMapModel",
      "state": {
       "_model_module_version": "^2.4.1",
       "_view_module": null,
       "_view_module_version": ""
      }
     },
     "5918e608-d6cf-4cb4-99ab-ebf7aacdd36d": {
      "model_module": "jupyter-threejs",
      "model_module_version": "^2.1.0",
      "model_name": "DirectionalLightShadowModel",
      "state": {
       "_view_module": null,
       "_view_module_version": "",
       "camera": "IPY_MODEL_c1fc23c5-abdc-48d6-9a83-35bfe40d3568"
      }
     },
     "5b38de2e-057c-41a6-879f-d6109c2fd815": {
      "model_module": "jupyter-threejs",
      "model_module_version": "^2.1.0",
      "model_name": "DirectionalLightShadowModel",
      "state": {
       "_view_module": null,
       "_view_module_version": "",
       "camera": "IPY_MODEL_8b7e1091-d8da-4fd7-99be-dc09cbcabb93"
      }
     },
     "5bda6c60fd984b32a4a19cf0c05d7f24": {
      "model_module": "jupyter-threejs",
      "model_module_version": "^2.4.1",
      "model_name": "OrbitControlsModel",
      "state": {
       "_model_module_version": "^2.4.1",
       "_view_module": null,
       "_view_module_version": "",
       "controlling": "IPY_MODEL_428acb7eb7d64f959f39238f46dbece4",
       "maxAzimuthAngle": "inf",
       "maxDistance": "inf",
       "maxZoom": "inf",
       "minAzimuthAngle": "-inf"
      }
     },
     "5bf4eca56708480a8f63c94cdc2b0fc2": {
      "buffers": [
       {
        "data": "AAAgwAAAIEAAAGBAAAAgQAAAIMAAAGBAAAAgQAAAIEAAAGBAAAAgQAAAIMAAAGBAAAAgwAAAIEAAAGBAAAAgwAAAIMAAAGBAAAAgwAAAIMAAAGDAAAAgQAAAIEAAAGDAAAAgQAAAIMAAAGDAAAAgQAAAIEAAAGDAAAAgwAAAIMAAAGDAAAAgwAAAIEAAAGDAAAAgwAAAIMAAAGDAAAAgQAAAIMAAAGBAAAAgwAAAIMAAAGBAAAAgQAAAIMAAAGBAAAAgwAAAIMAAAGDAAAAgQAAAIMAAAGDAAAAgQAAAIMAAAGBAAAAgQAAAIEAAAGDAAAAgQAAAIEAAAGBAAAAgQAAAIEAAAGDAAAAgQAAAIMAAAGBAAAAgQAAAIMAAAGDAAAAgQAAAIEAAAGDAAAAgwAAAIEAAAGBAAAAgQAAAIEAAAGBAAAAgwAAAIEAAAGBAAAAgQAAAIEAAAGDAAAAgwAAAIEAAAGDAAAAgwAAAIMAAAGDAAAAgwAAAIEAAAGBAAAAgwAAAIEAAAGDAAAAgwAAAIEAAAGBAAAAgwAAAIMAAAGDAAAAgwAAAIMAAAGBA",
        "encoding": "base64",
        "path": [
         "array",
         "buffer"
        ]
       }
      ],
      "model_module": "jupyter-threejs",
      "model_module_version": "^2.4.1",
      "model_name": "BufferAttributeModel",
      "state": {
       "_model_module_version": "^2.4.1",
       "_view_module": null,
       "_view_module_version": "",
       "array": {
        "dtype": "float32",
        "shape": [
         12,
         3,
         3
        ]
       },
       "version": 2
      }
     },
     "5c458e004c8a4f34bad4014e9e5057ae": {
      "model_module": "jupyter-threejs",
      "model_module_version": "^2.4.1",
      "model_name": "RendererModel",
      "state": {
       "_height": 400,
       "_model_module_version": "^2.4.1",
       "_view_module_version": "^2.4.1",
       "_webgl_version": 2,
       "_width": 400,
       "camera": "IPY_MODEL_95dd4390ba6f4497ad3923ec7e88dd30",
       "controls": [
        "IPY_MODEL_7971c7f7851845f19fc3f8d5b0d23c18"
       ],
       "layout": "IPY_MODEL_58497f2de6f14f1c89038a406613c916",
       "scene": "IPY_MODEL_3cc666da505545af9343125a7530ac52",
       "shadowMap": "IPY_MODEL_a1dc7a2573d244228dc83b0bc987c013"
      }
     },
     "5c55cbe3ae1c451cad40e70cb40196fb": {
      "model_module": "jupyter-threejs",
      "model_module_version": "^2.4.1",
      "model_name": "WebGLShadowMapModel",
      "state": {
       "_model_module_version": "^2.4.1",
       "_view_module": null,
       "_view_module_version": ""
      }
     },
     "5d0b3cee-124c-426d-9823-ad96114b480e": {
      "model_module": "jupyter-threejs",
      "model_module_version": "^2.1.0",
      "model_name": "DirectionalLightShadowModel",
      "state": {
       "_view_module": null,
       "_view_module_version": "",
       "camera": "IPY_MODEL_0baabc24-c582-4458-adc0-83c8ea306e30"
      }
     },
     "5d9784d1-3c22-4807-aa9b-62ef17c0de7c": {
      "model_module": "jupyter-threejs",
      "model_module_version": "^2.1.0",
      "model_name": "Object3DModel",
      "state": {
       "_view_module": null,
       "_view_module_version": ""
      }
     },
     "5e3c0e037983465eab384106fc023a10": {
      "model_module": "jupyter-threejs",
      "model_module_version": "^2.4.1",
      "model_name": "RendererModel",
      "state": {
       "_height": 400,
       "_model_module_version": "^2.4.1",
       "_view_module_version": "^2.4.1",
       "_webgl_version": 2,
       "_width": 400,
       "camera": "IPY_MODEL_b258899acd9645dd93df1abe8b565101",
       "controls": [
        "IPY_MODEL_e575d9d8add34948ac0415ddc6581d43"
       ],
       "layout": "IPY_MODEL_68a8264dadc64c5fb75f647a15c119f6",
       "scene": "IPY_MODEL_bb316845896546a6b78f63bc3458581c",
       "shadowMap": "IPY_MODEL_1ac791d6379645ab97d65f83d29cb9d1"
      }
     },
     "5e4e2c258f3e49cd8a2f2a55dfafb408": {
      "buffers": [
       {
        "data": "AABQQQAAIMAAAAA/AABQQQAAIEAAAAC/AABQQQAAIEAAAAA/AABQQQAAIEAAAAC/AABQQQAAIMAAAAA/AABQQQAAIMAAAAC/AAAAQQAAIEAAAAA/AABQQQAAIMAAAAA/AABQQQAAIEAAAAA/AABQQQAAIMAAAAA/AAAAQQAAIEAAAAA/AAAAQQAAIMAAAAA/AAAAQQAAIMAAAAC/AABQQQAAIEAAAAC/AABQQQAAIMAAAAC/AABQQQAAIEAAAAC/AAAAQQAAIMAAAAC/AAAAQQAAIEAAAAC/AAAAQQAAIMAAAAC/AAAAQQAAIEAAAAA/AAAAQQAAIEAAAAC/AAAAQQAAIEAAAAA/AAAAQQAAIMAAAAC/AAAAQQAAIMAAAAA/AABQQQAAIEAAAAC/AAAAQQAAIEAAAAA/AABQQQAAIEAAAAA/AAAAQQAAIEAAAAA/AABQQQAAIEAAAAC/AAAAQQAAIEAAAAC/AAAAQQAAIMAAAAC/AABQQQAAIMAAAAA/AAAAQQAAIMAAAAA/AABQQQAAIMAAAAA/AAAAQQAAIMAAAAC/AABQQQAAIMAAAAC/AACwQQAAIMAAAAA/AACwQQAAIEAAAAC/AACwQQAAIEAAAAA/AACwQQAAIEAAAAC/AACwQQAAIMAAAAA/AACwQQAAIMAAAAC/AACIQQAAIEAAAAA/AACwQQAAIMAAAAA/AACwQQAAIEAAAAA/AACwQQAAIMAAAAA/AACIQQAAIEAAAAA/AACIQQAAIMAAAAA/AACIQQAAIMAAAAC/AACwQQAAIEAAAAC/AACwQQAAIMAAAAC/AACwQQAAIEAAAAC/AACIQQAAIMAAAAC/AACIQQAAIEAAAAC/AACIQQAAIMAAAAC/AACIQQAAIEAAAAA/AACIQQAAIEAAAAC/AACIQQAAIEAAAAA/AACIQQAAIMAAAAC/AACIQQAAIMAAAAA/AACwQQAAIEAAAAC/AACIQQAAIEAAAAA/AACwQQAAIEAAAAA/AACIQQAAIEAAAAA/AACwQQAAIEAAAAC/AACIQQAAIEAAAAC/AACIQQAAIMAAAAC/AACwQQAAIMAAAAA/AACIQQAAIMAAAAA/AACwQQAAIMAAAAA/AACIQQAAIMAAAAC/AACwQQAAIMAAAAC/Vg5jQRR5Fr8AAAC/qvF0QWh4c78AAAA/Vg5jQRR5Fr8AAAA/qvF0QWh4c78AAAA/Vg5jQRR5Fr8AAAC/qvF0QWh4c78AAAC/qvF0QWh4cz8AAAC/Vg5jQRR5Fj8AAAA/qvF0QWh4cz8AAAA/Vg5jQRR5Fj8AAAA/qvF0QWh4cz8AAAC/Vg5jQRR5Fj8AAAC/AACAQQAAAAAAAAA/qvF0QWh4cz8AAAC/qvF0QWh4cz8AAAA/qvF0QWh4cz8AAAC/AACAQQAAAAAAAAA/AACAQQAAAAAAAAC/Vg5jQRR5Fr8AAAC/Vg5jQRR5Fj8AAAA/Vg5jQRR5Fj8AAAC/Vg5jQRR5Fj8AAAA/Vg5jQRR5Fr8AAAC/Vg5jQRR5Fr8AAAA/qvF0QWh4cz8AAAA/qvF0QWh4c78AAAA/AACAQQAAAAAAAAA/Vg5jQRR5Fj8AAAA/qvF0QWh4c78AAAA/qvF0QWh4cz8AAAA/qvF0QWh4c78AAAA/Vg5jQRR5Fj8AAAA/Vg5jQRR5Fr8AAAA/qvF0QWh4c78AAAA/AACAQQAAAAAAAAC/AACAQQAAAAAAAAA/AACAQQAAAAAAAAC/qvF0QWh4c78AAAA/qvF0QWh4c78AAAC/qvF0QWh4c78AAAC/qvF0QWh4cz8AAAC/AACAQQAAAAAAAAC/Vg5jQRR5Fr8AAAC/qvF0QWh4cz8AAAC/qvF0QWh4c78AAAC/qvF0QWh4cz8AAAC/Vg5jQRR5Fr8AAAC/Vg5jQRR5Fj8AAAC/",
        "encoding": "base64",
        "path": [
         "array",
         "buffer"
        ]
       }
      ],
      "model_module": "jupyter-threejs",
      "model_module_version": "^2.4.1",
      "model_name": "BufferAttributeModel",
      "state": {
       "_model_module_version": "^2.4.1",
       "_view_module": null,
       "_view_module_version": "",
       "array": {
        "dtype": "float32",
        "shape": [
         40,
         3,
         3
        ]
       },
       "version": 2
      }
     },
     "5e6ecc533b0d4caa9e3ffa55cd429ed8": {
      "model_module": "@jupyter-widgets/base",
      "model_module_version": "2.0.0",
      "model_name": "LayoutModel",
      "state": {}
     },
     "5ee3e51a79ba4de085ede24517458662": {
      "model_module": "jupyter-threejs",
      "model_module_version": "^2.4.1",
      "model_name": "DirectionalLightModel",
      "state": {
       "_model_module_version": "^2.4.1",
       "_view_module": null,
       "_view_module_version": "",
       "color": "white",
       "intensity": 0.7,
       "matrixWorldNeedsUpdate": true,
       "position": [
        3,
        5,
        1
       ],
       "shadow": "IPY_MODEL_66f3cb76-a5b4-42c5-8eba-d6b2fb9b4df4",
       "target": "IPY_MODEL_dde8c554-4d74-41e3-90b7-969d1711f67a"
      }
     },
     "5f6699ee698c4e5c9462ab6a1ba8dd05": {
      "model_module": "jupyter-threejs",
      "model_module_version": "^2.4.1",
      "model_name": "AxesHelperModel",
      "state": {
       "_model_module_version": "^2.4.1",
       "_view_module": null,
       "_view_module_version": "",
       "size": 44,
       "type": "LineSegments"
      }
     },
     "5fd49eaf9e18403283f7c92ebff1ce0f": {
      "model_module": "jupyter-threejs",
      "model_module_version": "^2.4.1",
      "model_name": "GridHelperModel",
      "state": {
       "_model_module_version": "^2.4.1",
       "_view_module": null,
       "_view_module_version": "",
       "colorCenterLine": "#008000",
       "colorGrid": "#008000",
       "divisions": 4,
       "matrix": [
        2.220446049250313e-16,
        1,
        0,
        0,
        -1,
        2.220446049250313e-16,
        0,
        0,
        0,
        0,
        1,
        0,
        0,
        10,
        10,
        1
       ],
       "matrixWorld": [
        2.220446049250313e-16,
        1,
        0,
        0,
        -1,
        2.220446049250313e-16,
        0,
        0,
        0,
        0,
        1,
        0,
        0,
        0,
        0,
        1
       ],
       "position": [
        0,
        10,
        10
       ],
       "quaternion": [
        0,
        0,
        0.7071067811865475,
        0.7071067811865476
       ],
       "rotation": [
        0,
        0,
        1.5707963267948963,
        "XYZ"
       ],
       "size": 40,
       "type": "LineSegments"
      }
     },
     "5ffe01929dd14e80aaadcb6eea01a7c8": {
      "model_module": "jupyter-threejs",
      "model_module_version": "^2.4.1",
      "model_name": "RendererModel",
      "state": {
       "_height": 400,
       "_model_module_version": "^2.4.1",
       "_view_module_version": "^2.4.1",
       "_webgl_version": 2,
       "_width": 400,
       "camera": "IPY_MODEL_54a6e796fdc64fbdb41f3e4ec814f0c4",
       "controls": [
        "IPY_MODEL_8498b6ff8fd648feab87b457449ad559"
       ],
       "layout": "IPY_MODEL_2262fe7b9ea5495cb40d705e640bea50",
       "scene": "IPY_MODEL_4fbe02aa78bc42a4b2d28ba8b867cfa9",
       "shadowMap": "IPY_MODEL_5c55cbe3ae1c451cad40e70cb40196fb"
      }
     },
     "5fff305327624df0a2d536ec5312902a": {
      "buffers": [
       {
        "data": "AACgQAAAAIAAAAAAAACgQAAAAIAAAAAAAACgQAAAAIAAAAAAAACgQAAAAAAAAAAAAACgQAAAAAAAAAAAAACgQAAAAAAAAAAAAAAAgAAAAAAAAMhBAAAAgAAAAAAAAMhBAAAAgAAAAAAAAMhBAAAAAAAAAAAAAMhBAAAAAAAAAAAAAMhBAAAAAAAAAAAAAMhBAAAAAAAAAAAAAMjBAAAAAAAAAAAAAMjBAAAAAAAAAAAAAMjBAAAAgAAAAAAAAMjBAAAAgAAAAAAAAMjBAAAAgAAAAAAAAMjBAACgwAAAAAAAAAAAAACgwAAAAAAAAAAAAACgwAAAAAAAAAAAAACgwAAAAIAAAAAAAACgwAAAAIAAAAAAAACgwAAAAIAAAAAAAAAAAAAAoEAAAACAAAAAAAAAoEAAAACAAAAAAAAAoEAAAACAAAAAAAAAoEAAAAAAAAAAAAAAoEAAAAAAAAAAAAAAoEAAAAAAAAAAAAAAoMAAAAAAAAAAAAAAoMAAAAAAAAAAAAAAoMAAAAAAAAAAAAAAoMAAAACAAAAAAAAAoMAAAACAAAAAAAAAoMAAAACAAACgQAAAAIAAAAAAAACgQAAAAIAAAAAAAACgQAAAAIAAAAAAAACgQAAAAAAAAAAAAACgQAAAAAAAAAAAAACgQAAAAAAAAAAAAAAAgAAAAAAAAMhBAAAAgAAAAAAAAMhBAAAAgAAAAAAAAMhBAAAAAAAAAAAAAMhBAAAAAAAAAAAAAMhBAAAAAAAAAAAAAMhBAAAAAAAAAAAAAMjBAAAAAAAAAAAAAMjBAAAAAAAAAAAAAMjBAAAAgAAAAAAAAMjBAAAAgAAAAAAAAMjBAAAAgAAAAAAAAMjBAACgwAAAAAAAAAAAAACgwAAAAAAAAAAAAACgwAAAAAAAAAAAAACgwAAAAIAAAAAAAACgwAAAAIAAAAAAAACgwAAAAIAAAAAAAAAAAAAAoEAAAACAAAAAAAAAoEAAAACAAAAAAAAAoEAAAACAAAAAAAAAoEAAAAAAAAAAAAAAoEAAAAAAAAAAAAAAoEAAAAAAAAAAAAAAoMAAAAAAAAAAAAAAoMAAAAAAAAAAAAAAoMAAAAAAAAAAAAAAoMAAAACAAAAAAAAAoMAAAACAAAAAAAAAoMAAAACAqP65vqAaj78AAAAAqP65vqAaj78AAAAAqP65vqAaj78AAAAAqP65vqAaj78AAACAqP65vqAaj78AAACAqP65vqAaj78AAACAqP65vqAajz8AAAAAqP65vqAajz8AAAAAqP65vqAajz8AAAAAqP65vqAajz8AAAAAqP65vqAajz8AAAAAqP65vqAajz8AAAAAaHhzP2DlMD8AAAAAaHhzP2DlMD8AAAAAaHhzP2DlMD8AAAAAaHhzP2DlMD8AAAAAaHhzP2DlMD8AAAAAaHhzP2DlMD8AAAAAFHmWvwAAAAAAAAAAFHmWvwAAAAAAAAAAFHmWvwAAAAAAAAAAFHmWvwAAAIAAAAAAFHmWvwAAAIAAAAAAFHmWvwAAAIAAAAAAAAAAAAAAAADuPKg/AAAAAAAAAADuPKg/AAAAAAAAAADuPKg/AAAAgAAAAACUGQhAAAAAgAAAAACUGQhAAAAAgAAAAACUGQhAAAAAAAAAAACROqg/AAAAAAAAAACROqg/AAAAAAAAAACROqg/aHhzP2DlML8AAAAAaHhzP2DlML8AAAAAaHhzP2DlML8AAAAAaHhzP2DlML8AAAAAaHhzP2DlML8AAAAAaHhzP2DlML8AAAAAAAAAAAAAAADuPKi/AAAAAAAAAADuPKi/AAAAAAAAAADuPKi/AAAAAAAAAACUGQjAAAAAAAAAAACUGQjAAAAAAAAAAACUGQjAAAAAAAAAAACROqi/AAAAAAAAAACROqi/AAAAAAAAAACROqi/",
        "encoding": "base64",
        "path": [
         "array",
         "buffer"
        ]
       }
      ],
      "model_module": "jupyter-threejs",
      "model_module_version": "^2.4.1",
      "model_name": "BufferAttributeModel",
      "state": {
       "_model_module_version": "^2.4.1",
       "_view_module": null,
       "_view_module_version": "",
       "array": {
        "dtype": "float32",
        "shape": [
         120,
         3
        ]
       },
       "normalized": true,
       "version": 2
      }
     },
     "60351e35-e14a-4360-9306-15cb7123b5f9": {
      "model_module": "jupyter-threejs",
      "model_module_version": "^2.1.0",
      "model_name": "Object3DModel",
      "state": {
       "_view_module": null,
       "_view_module_version": ""
      }
     },
     "628fb81348b54ac1bb5b0d69bbc6b068": {
      "model_module": "jupyter-threejs",
      "model_module_version": "^2.4.1",
      "model_name": "SceneModel",
      "state": {
       "_model_module_version": "^2.4.1",
       "_view_module": null,
       "_view_module_version": "",
       "children": [
        "IPY_MODEL_48a0127419d749de8b24483c74e70270",
        "IPY_MODEL_c816c192af3c48e48e35c10b2e934ecf",
        "IPY_MODEL_692b3de458934d1585b81a4132343a0f",
        "IPY_MODEL_692469f46f81495fbac1b29f8174655e",
        "IPY_MODEL_7cd02659ebda48c7bbda553ea3bce044",
        "IPY_MODEL_d6c381bfa71f4857809218e92d577a44",
        "IPY_MODEL_39e63d9f96a44b1cb06456adf1ace93f"
       ]
      }
     },
     "62969981-5fad-488e-925e-d74fdbd56150": {
      "model_module": "jupyter-threejs",
      "model_module_version": "^2.1.0",
      "model_name": "Object3DModel",
      "state": {
       "_view_module": null,
       "_view_module_version": ""
      }
     },
     "62c694d7f7bd49d0b50441464811b1f8": {
      "buffers": [
       {
        "data": "AAAAAAAAoEAAAOBAAACgQAAAAAAAAOBAAACgQAAAoEAAAOBAAACgQAAAAAAAAOBAAAAAAAAAoEAAAOBAAAAAAAAAAAAAAOBAAAAAAAAAAAAAAAAAAACgQAAAoEAAAAAAAACgQAAAAAAAAAAAAACgQAAAoEAAAAAAAAAAAAAAAAAAAAAAAAAAAAAAoEAAAAAAAAAAAAAAAAAAAAAAAACgQAAAAAAAAOBAAAAAAAAAAAAAAOBAAACgQAAAAAAAAOBAAAAAAAAAAAAAAAAAAACgQAAAAAAAAAAAAACgQAAAAAAAAOBAAACgQAAAoEAAAAAAAACgQAAAoEAAAOBAAACgQAAAoEAAAAAAAACgQAAAAAAAAOBAAACgQAAAAAAAAAAAAACgQAAAoEAAAAAAAAAAAAAAoEAAAOBAAACgQAAAoEAAAOBAAAAAAAAAoEAAAOBAAACgQAAAoEAAAAAAAAAAAAAAoEAAAAAAAAAAAAAAAAAAAAAAAAAAAAAAoEAAAOBAAAAAAAAAoEAAAAAAAAAAAAAAoEAAAOBAAAAAAAAAAAAAAAAAAAAAAAAAAAAAAOBA",
        "encoding": "base64",
        "path": [
         "array",
         "buffer"
        ]
       }
      ],
      "model_module": "jupyter-threejs",
      "model_module_version": "^2.4.1",
      "model_name": "BufferAttributeModel",
      "state": {
       "_model_module_version": "^2.4.1",
       "_view_module": null,
       "_view_module_version": "",
       "array": {
        "dtype": "float32",
        "shape": [
         12,
         3,
         3
        ]
       },
       "version": 2
      }
     },
     "62e1e9e4-d4ce-4aa8-9820-454b6c8062f4": {
      "model_module": "jupyter-threejs",
      "model_module_version": "^2.1.0",
      "model_name": "Object3DModel",
      "state": {
       "_view_module": null,
       "_view_module_version": ""
      }
     },
     "62f985c7edba45519feb717145120965": {
      "model_module": "jupyter-threejs",
      "model_module_version": "^2.4.1",
      "model_name": "BufferGeometryModel",
      "state": {
       "_model_module_version": "^2.4.1",
       "_view_module": null,
       "_view_module_version": "",
       "attributes": {
        "normal": "IPY_MODEL_7c7be52b57bb4d10ae874b11ca3b079f",
        "position": "IPY_MODEL_ecf7515a808a42d5a54f5a21f1fdeac8"
       }
      }
     },
     "63552f06c7534b38b3130a122bfd2eef": {
      "model_module": "jupyter-threejs",
      "model_module_version": "^2.4.1",
      "model_name": "GridHelperModel",
      "state": {
       "_model_module_version": "^2.4.1",
       "_view_module": null,
       "_view_module_version": "",
       "colorCenterLine": "#ff0000",
       "colorGrid": "#ff0000",
       "divisions": 4,
       "matrix": [
        1,
        0,
        0,
        0,
        0,
        2.220446049250313e-16,
        1,
        0,
        0,
        -1,
        2.220446049250313e-16,
        0,
        10,
        10,
        0,
        1
       ],
       "matrixWorld": [
        1,
        0,
        0,
        0,
        0,
        2.220446049250313e-16,
        1,
        0,
        0,
        -1,
        2.220446049250313e-16,
        0,
        0,
        0,
        0,
        1
       ],
       "position": [
        10,
        10,
        0
       ],
       "quaternion": [
        0.7071067811865475,
        0,
        0,
        0.7071067811865476
       ],
       "rotation": [
        1.5707963267948963,
        0,
        0,
        "XYZ"
       ],
       "size": 40,
       "type": "LineSegments"
      }
     },
     "63d590a1f70a4d25b95d671b461e1f33": {
      "model_module": "jupyter-threejs",
      "model_module_version": "^2.4.1",
      "model_name": "SceneModel",
      "state": {
       "_model_module_version": "^2.4.1",
       "_view_module": null,
       "_view_module_version": "",
       "children": [
        "IPY_MODEL_a190499474f440ebbcb354bd6adcbe6b",
        "IPY_MODEL_548876bb1bd1471ba6666c89a0199996",
        "IPY_MODEL_d9b4314c7bd84e2993364b4780cf0832",
        "IPY_MODEL_e52bee4b71884df2b43267b371cfe6e8",
        "IPY_MODEL_56a32f2485c146e3beee8660720383ec",
        "IPY_MODEL_fcce00c2ee934d33a886fed1291f31e0",
        "IPY_MODEL_9544737d7a4843cbbfacaeb3cdb35c45"
       ]
      }
     },
     "63e81fa573234de9b54cfb9120b5195b": {
      "model_module": "jupyter-threejs",
      "model_module_version": "^2.4.1",
      "model_name": "BufferGeometryModel",
      "state": {
       "_model_module_version": "^2.4.1",
       "_view_module": null,
       "_view_module_version": "",
       "attributes": {
        "normal": "IPY_MODEL_19217a6f4bcf40d4982909155f36c31f",
        "position": "IPY_MODEL_b42fd444c83d4f86904b0376f5af1350"
       }
      }
     },
     "640e5960af71403cbf64ec15e0c2c6e9": {
      "model_module": "jupyter-threejs",
      "model_module_version": "^2.4.1",
      "model_name": "AmbientLightModel",
      "state": {
       "_model_module_version": "^2.4.1",
       "_view_module": null,
       "_view_module_version": "",
       "color": "#777777",
       "intensity": 0.5
      }
     },
     "642fdf9c565b4659ab03756e72de746f": {
      "model_module": "jupyter-threejs",
      "model_module_version": "^2.4.1",
      "model_name": "PerspectiveCameraModel",
      "state": {
       "_model_module_version": "^2.4.1",
       "_view_module": null,
       "_view_module_version": "",
       "children": [
        "IPY_MODEL_3717a04706cd4f9eb9822b32e85c7e2b"
       ],
       "fov": 20,
       "matrix": [
        1,
        0,
        0,
        0,
        0,
        1,
        0,
        0,
        0,
        0,
        1,
        0,
        110,
        12.5,
        5,
        1
       ],
       "position": [
        66.21529763472775,
        -72.30418896602359,
        51.66128741242447
       ],
       "projectionMatrix": [
        5.67128181961771,
        0,
        0,
        0,
        0,
        5.67128181961771,
        0,
        0,
        0,
        0,
        -1.00010000500025,
        -1,
        0,
        0,
        -0.200010000500025,
        0
       ],
       "quaternion": [
        0.4815386797999987,
        0.1871782713592147,
        0.310202919159536,
        0.798034425029618
       ],
       "up": [
        0,
        0,
        1
       ]
      }
     },
     "65d99b72294c481fb65b1684f7a892b7": {
      "buffers": [
       {
        "data": "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",
        "encoding": "base64",
        "path": [
         "array",
         "buffer"
        ]
       }
      ],
      "model_module": "jupyter-threejs",
      "model_module_version": "^2.4.1",
      "model_name": "BufferAttributeModel",
      "state": {
       "_model_module_version": "^2.4.1",
       "_view_module": null,
       "_view_module_version": "",
       "array": {
        "dtype": "float32",
        "shape": [
         204,
         3
        ]
       },
       "normalized": true,
       "version": 2
      }
     },
     "6638b196-1983-4668-8e78-36ac088a8e99": {
      "model_module": "jupyter-threejs",
      "model_module_version": "^2.1.0",
      "model_name": "OrthographicCameraModel",
      "state": {
       "_view_module": null,
       "_view_module_version": "",
       "bottom": -5,
       "far": 500,
       "left": -5,
       "near": 0.5,
       "projectionMatrix": [
        0.2,
        0,
        0,
        0,
        0,
        0.2,
        0,
        0,
        0,
        0,
        -0.004004004004004004,
        0,
        0,
        0,
        -1.002002002002002,
        1
       ],
       "right": 5,
       "top": 5
      }
     },
     "6691dbd010e146dca5f3671dc66ee23f": {
      "model_module": "jupyter-threejs",
      "model_module_version": "^2.4.1",
      "model_name": "WebGLShadowMapModel",
      "state": {
       "_model_module_version": "^2.4.1",
       "_view_module": null,
       "_view_module_version": ""
      }
     },
     "66b900d1-f7b0-4872-aabe-650dc57e4029": {
      "model_module": "jupyter-threejs",
      "model_module_version": "^2.1.0",
      "model_name": "OrthographicCameraModel",
      "state": {
       "_view_module": null,
       "_view_module_version": "",
       "bottom": -5,
       "far": 500,
       "left": -5,
       "near": 0.5,
       "projectionMatrix": [
        0.2,
        0,
        0,
        0,
        0,
        0.2,
        0,
        0,
        0,
        0,
        -0.004004004004004004,
        0,
        0,
        0,
        -1.002002002002002,
        1
       ],
       "right": 5,
       "top": 5
      }
     },
     "66f3cb76-a5b4-42c5-8eba-d6b2fb9b4df4": {
      "model_module": "jupyter-threejs",
      "model_module_version": "^2.1.0",
      "model_name": "DirectionalLightShadowModel",
      "state": {
       "_view_module": null,
       "_view_module_version": "",
       "camera": "IPY_MODEL_001d24c5-4792-415b-b1a8-5f5b76131f9c"
      }
     },
     "67447c9542df4f6fb3d9548ff7d62876": {
      "model_module": "jupyter-threejs",
      "model_module_version": "^2.4.1",
      "model_name": "RendererModel",
      "state": {
       "_height": 400,
       "_model_module_version": "^2.4.1",
       "_view_module_version": "^2.4.1",
       "_webgl_version": 2,
       "_width": 400,
       "camera": "IPY_MODEL_c4388d1a44d0489f9f7e8969fcb6967c",
       "controls": [
        "IPY_MODEL_cd729eb22a9d4a4abeb3253a571c18a0"
       ],
       "layout": "IPY_MODEL_3265b36095c34925b48e7cba55ad5d50",
       "scene": "IPY_MODEL_4460f77dc72d471da5f4e88a8346ba89",
       "shadowMap": "IPY_MODEL_b6d90e49e3224ea7b8f5bd8ff2d1be53"
      }
     },
     "6749f06843134775a203c840691e5163": {
      "model_module": "jupyter-threejs",
      "model_module_version": "^2.4.1",
      "model_name": "MeshLambertMaterialModel",
      "state": {
       "_model_module_version": "^2.4.1",
       "_view_module": null,
       "_view_module_version": "",
       "color": "#ebcc34",
       "transparent": true
      }
     },
     "68a8264dadc64c5fb75f647a15c119f6": {
      "model_module": "@jupyter-widgets/base",
      "model_module_version": "2.0.0",
      "model_name": "LayoutModel",
      "state": {}
     },
     "68b35e8d63e540c98dc4a665bdb36b4a": {
      "model_module": "jupyter-threejs",
      "model_module_version": "^2.4.1",
      "model_name": "PerspectiveCameraModel",
      "state": {
       "_model_module_version": "^2.4.1",
       "_view_module": null,
       "_view_module_version": "",
       "children": [
        "IPY_MODEL_36fbd18aa08a4d25a8545170deeee6c6"
       ],
       "fov": 20,
       "matrix": [
        1,
        0,
        0,
        0,
        0,
        1,
        0,
        0,
        0,
        0,
        1,
        0,
        110,
        25,
        2.5,
        1
       ],
       "position": [
        87.12072705325116,
        -67.08165867208174,
        25.323506619636678
       ],
       "projectionMatrix": [
        5.67128181961771,
        0,
        0,
        0,
        0,
        5.67128181961771,
        0,
        0,
        0,
        0,
        -1.00010000500025,
        -1,
        0,
        0,
        -0.200010000500025,
        0
       ],
       "quaternion": [
        0.5587325758458498,
        0.2749563489198823,
        0.3454792624647603,
        0.7020405929033697
       ],
       "up": [
        0,
        0,
        1
       ]
      }
     },
     "68d66576d96445be9d189437b2b50912": {
      "model_module": "jupyter-threejs",
      "model_module_version": "^2.4.1",
      "model_name": "WebGLShadowMapModel",
      "state": {
       "_model_module_version": "^2.4.1",
       "_view_module": null,
       "_view_module_version": ""
      }
     },
     "692469f46f81495fbac1b29f8174655e": {
      "model_module": "jupyter-threejs",
      "model_module_version": "^2.4.1",
      "model_name": "GridHelperModel",
      "state": {
       "_model_module_version": "^2.4.1",
       "_view_module": null,
       "_view_module_version": "",
       "colorCenterLine": "blue",
       "colorGrid": "blue",
       "divisions": 9,
       "matrix": [
        1,
        0,
        0,
        0,
        0,
        1,
        0,
        0,
        0,
        0,
        1,
        0,
        1.5,
        0,
        -0.5,
        1
       ],
       "position": [
        1.5,
        0,
        -0.5
       ],
       "size": 9,
       "type": "LineSegments"
      }
     },
     "692b3de458934d1585b81a4132343a0f": {
      "model_module": "jupyter-threejs",
      "model_module_version": "^2.4.1",
      "model_name": "AmbientLightModel",
      "state": {
       "_model_module_version": "^2.4.1",
       "_view_module": null,
       "_view_module_version": "",
       "color": "#777777",
       "intensity": 0.5
      }
     },
     "69457ccdbb7249459c12494650b81fdb": {
      "model_module": "jupyter-threejs",
      "model_module_version": "^2.4.1",
      "model_name": "BufferGeometryModel",
      "state": {
       "_model_module_version": "^2.4.1",
       "_view_module": null,
       "_view_module_version": "",
       "attributes": {
        "normal": "IPY_MODEL_d81b0f1a7657497f8ae96372650169f3",
        "position": "IPY_MODEL_62c694d7f7bd49d0b50441464811b1f8"
       }
      }
     },
     "6969e3dae5f14885b919614baa63cf71": {
      "model_module": "jupyter-threejs",
      "model_module_version": "^2.4.1",
      "model_name": "PerspectiveCameraModel",
      "state": {
       "_model_module_version": "^2.4.1",
       "_view_module": null,
       "_view_module_version": "",
       "children": [
        "IPY_MODEL_1f579e4c8ba449058862c8ad1ca61614"
       ],
       "fov": 20,
       "matrix": [
        1,
        0,
        0,
        0,
        0,
        1,
        0,
        0,
        0,
        0,
        1,
        0,
        65,
        12.5,
        17.5,
        1
       ],
       "position": [
        65,
        12.5,
        17.5
       ],
       "projectionMatrix": [
        5.67128181961771,
        0,
        0,
        0,
        0,
        5.67128181961771,
        0,
        0,
        0,
        0,
        -1.00010000500025,
        -1,
        0,
        0,
        -0.200010000500025,
        0
       ],
       "up": [
        0,
        0,
        1
       ]
      }
     },
     "69baf588c290491f99ce0bbfec9b0c58": {
      "model_module": "jupyter-threejs",
      "model_module_version": "^2.4.1",
      "model_name": "WebGLShadowMapModel",
      "state": {
       "_model_module_version": "^2.4.1",
       "_view_module": null,
       "_view_module_version": ""
      }
     },
     "6aaa340297d142cab7c7f82d74bbb479": {
      "model_module": "@jupyter-widgets/base",
      "model_module_version": "2.0.0",
      "model_name": "LayoutModel",
      "state": {}
     },
     "6af1179a-ae20-486f-8522-41c3d600c1fc": {
      "model_module": "jupyter-threejs",
      "model_module_version": "^2.1.0",
      "model_name": "OrthographicCameraModel",
      "state": {
       "_view_module": null,
       "_view_module_version": "",
       "bottom": -5,
       "far": 500,
       "left": -5,
       "near": 0.5,
       "projectionMatrix": [
        0.2,
        0,
        0,
        0,
        0,
        0.2,
        0,
        0,
        0,
        0,
        -0.004004004004004004,
        0,
        0,
        0,
        -1.002002002002002,
        1
       ],
       "right": 5,
       "top": 5
      }
     },
     "6b9c415f654c4bc995e671a44ff1d3bd": {
      "model_module": "jupyter-threejs",
      "model_module_version": "^2.4.1",
      "model_name": "RendererModel",
      "state": {
       "_height": 400,
       "_model_module_version": "^2.4.1",
       "_view_module_version": "^2.4.1",
       "_webgl_version": 2,
       "_width": 400,
       "camera": "IPY_MODEL_a2a4202e96b9488cba4e6826935bf162",
       "controls": [
        "IPY_MODEL_7e8b84796a89488d8b2409b850484fa7"
       ],
       "layout": "IPY_MODEL_e37d2ee8e9cb4449895be67baa38f58a",
       "scene": "IPY_MODEL_aa3cd12b8f1d468da3a136443e2bd96a",
       "shadowMap": "IPY_MODEL_69baf588c290491f99ce0bbfec9b0c58"
      }
     },
     "6c3a3adcd97347dd98ef4efa0ecee305": {
      "buffers": [
       {
        "data": "AACgQAAAAIAAAAAAAACgQAAAAIAAAAAAAACgQAAAAIAAAAAAAACgQAAAAAAAAAAAAACgQAAAAAAAAAAAAACgQAAAAAAAAAAAAAAAgAAAAAAAAMhBAAAAgAAAAAAAAMhBAAAAgAAAAAAAAMhBAAAAAAAAAAAAAMhBAAAAAAAAAAAAAMhBAAAAAAAAAAAAAMhBAAAAAAAAAAAAAMjBAAAAAAAAAAAAAMjBAAAAAAAAAAAAAMjBAAAAgAAAAAAAAMjBAAAAgAAAAAAAAMjBAAAAgAAAAAAAAMjBAACgwAAAAAAAAAAAAACgwAAAAAAAAAAAAACgwAAAAAAAAAAAAACgwAAAAIAAAAAAAACgwAAAAIAAAAAAAACgwAAAAIAAAAAAAAAAAAAAoEAAAACAAAAAAAAAoEAAAACAAAAAAAAAoEAAAACAAAAAAAAAoEAAAAAAAAAAAAAAoEAAAAAAAAAAAAAAoEAAAAAAAAAAAAAAoMAAAAAAAAAAAAAAoMAAAAAAAAAAAAAAoMAAAAAAAAAAAAAAoMAAAACAAAAAAAAAoMAAAACAAAAAAAAAoMAAAACAAACgQAAAAIAAAAAAAACgQAAAAIAAAAAAAACgQAAAAIAAAAAAAACgQAAAAAAAAAAAAACgQAAAAAAAAAAAAACgQAAAAAAAAAAAAAAAgAAAAAAAAMhBAAAAgAAAAAAAAMhBAAAAgAAAAAAAAMhBAAAAAAAAAAAAAMhBAAAAAAAAAAAAAMhBAAAAAAAAAAAAAMhBAAAAAAAAAAAAAMjBAAAAAAAAAAAAAMjBAAAAAAAAAAAAAMjBAAAAgAAAAAAAAMjBAAAAgAAAAAAAAMjBAAAAgAAAAAAAAMjBAACgwAAAAAAAAAAAAACgwAAAAAAAAAAAAACgwAAAAAAAAAAAAACgwAAAAIAAAAAAAACgwAAAAIAAAAAAAACgwAAAAIAAAAAAAAAAAAAAoEAAAACAAAAAAAAAoEAAAACAAAAAAAAAoEAAAACAAAAAAAAAoEAAAAAAAAAAAAAAoEAAAAAAAAAAAAAAoEAAAAAAAAAAAAAAoMAAAAAAAAAAAAAAoMAAAAAAAAAAAAAAoMAAAAAAAAAAAAAAoMAAAACAAAAAAAAAoMAAAACAAAAAAAAAoMAAAACAqP65vqAaj78AAAAAqP65vqAaj78AAAAAqP65vqAaj78AAAAAqP65vqAaj78AAACAqP65vqAaj78AAACAqP65vqAaj78AAACAqP65vqAajz8AAAAAqP65vqAajz8AAAAAqP65vqAajz8AAAAAqP65vqAajz8AAAAAqP65vqAajz8AAAAAqP65vqAajz8AAAAAaHhzP2DlMD8AAAAAaHhzP2DlMD8AAAAAaHhzP2DlMD8AAAAAaHhzP2DlMD8AAAAAaHhzP2DlMD8AAAAAaHhzP2DlMD8AAAAAFHmWvwAAAAAAAAAAFHmWvwAAAAAAAAAAFHmWvwAAAAAAAAAAFHmWvwAAAIAAAAAAFHmWvwAAAIAAAAAAFHmWvwAAAIAAAAAAAAAAAAAAAADuPKg/AAAAAAAAAADuPKg/AAAAAAAAAADuPKg/AAAAgAAAAACUGQhAAAAAgAAAAACUGQhAAAAAgAAAAACUGQhAAAAAAAAAAACROqg/AAAAAAAAAACROqg/AAAAAAAAAACROqg/aHhzP2DlML8AAAAAaHhzP2DlML8AAAAAaHhzP2DlML8AAAAAaHhzP2DlML8AAAAAaHhzP2DlML8AAAAAaHhzP2DlML8AAAAAAAAAAAAAAADuPKi/AAAAAAAAAADuPKi/AAAAAAAAAADuPKi/AAAAAAAAAACUGQjAAAAAAAAAAACUGQjAAAAAAAAAAACUGQjAAAAAAAAAAACROqi/AAAAAAAAAACROqi/AAAAAAAAAACROqi/",
        "encoding": "base64",
        "path": [
         "array",
         "buffer"
        ]
       }
      ],
      "model_module": "jupyter-threejs",
      "model_module_version": "^2.4.1",
      "model_name": "BufferAttributeModel",
      "state": {
       "_model_module_version": "^2.4.1",
       "_view_module": null,
       "_view_module_version": "",
       "array": {
        "dtype": "float32",
        "shape": [
         120,
         3
        ]
       },
       "normalized": true,
       "version": 2
      }
     },
     "6dd64d104c4545218d882f56ec3369ee": {
      "model_module": "jupyter-threejs",
      "model_module_version": "^2.4.1",
      "model_name": "SceneModel",
      "state": {
       "_model_module_version": "^2.4.1",
       "_view_module": null,
       "_view_module_version": "",
       "children": [
        "IPY_MODEL_335ffa38c3454098a91390a422d9aa69",
        "IPY_MODEL_47f80d49426b46dfbf96146a4ccfa387",
        "IPY_MODEL_1b2e106cfcee4fd08ddeaeb9ee8857a0",
        "IPY_MODEL_f6e0c6a4323f43c989125641e4f14f8a",
        "IPY_MODEL_2e3e07c6b7644ab996d277e4036945bb",
        "IPY_MODEL_ded6a3b26d1847bdaccfff808b5c4bc5",
        "IPY_MODEL_0050a048b7ba4c35b40fb0be8c74c823"
       ]
      }
     },
     "6e1afd217b434f0d8b72660c294691c8": {
      "model_module": "@jupyter-widgets/base",
      "model_module_version": "2.0.0",
      "model_name": "LayoutModel",
      "state": {}
     },
     "6f19d91346534ab9bca8a3b72bcbd337": {
      "model_module": "jupyter-threejs",
      "model_module_version": "^2.4.1",
      "model_name": "PerspectiveCameraModel",
      "state": {
       "_model_module_version": "^2.4.1",
       "_view_module": null,
       "_view_module_version": "",
       "children": [
        "IPY_MODEL_0f747abff4f54bbd99fc8022d1d7dd9e"
       ],
       "fov": 20,
       "matrix": [
        1,
        0,
        0,
        0,
        0,
        1,
        0,
        0,
        0,
        0,
        1,
        0,
        110,
        12.5,
        2.5,
        1
       ],
       "position": [
        59.01845181269861,
        -73.1865992591493,
        58.50678622615298
       ],
       "projectionMatrix": [
        5.67128181961771,
        0,
        0,
        0,
        0,
        5.67128181961771,
        0,
        0,
        0,
        0,
        -1.00010000500025,
        -1,
        0,
        0,
        -0.200010000500025,
        0
       ],
       "quaternion": [
        0.4579319366405916,
        0.16163653674999404,
        0.29096274048173215,
        0.8243255758760766
       ],
       "up": [
        0,
        0,
        1
       ]
      }
     },
     "6f71868c-84a5-4903-9feb-c938f68cf349": {
      "model_module": "jupyter-threejs",
      "model_module_version": "^2.1.0",
      "model_name": "OrthographicCameraModel",
      "state": {
       "_view_module": null,
       "_view_module_version": "",
       "bottom": -5,
       "far": 500,
       "left": -5,
       "near": 0.5,
       "projectionMatrix": [
        0.2,
        0,
        0,
        0,
        0,
        0.2,
        0,
        0,
        0,
        0,
        -0.004004004004004004,
        0,
        0,
        0,
        -1.002002002002002,
        1
       ],
       "right": 5,
       "top": 5
      }
     },
     "6f89a4b457d64c9bae73457c7878cb6a": {
      "model_module": "jupyter-threejs",
      "model_module_version": "^2.4.1",
      "model_name": "GridHelperModel",
      "state": {
       "_model_module_version": "^2.4.1",
       "_view_module": null,
       "_view_module_version": "",
       "colorCenterLine": "#ff0000",
       "colorGrid": "#ff0000",
       "divisions": 3,
       "matrix": [
        1,
        0,
        0,
        0,
        0,
        2.220446049250313e-16,
        1,
        0,
        0,
        -1,
        2.220446049250313e-16,
        0,
        5,
        5,
        0,
        1
       ],
       "matrixWorld": [
        1,
        0,
        0,
        0,
        0,
        2.220446049250313e-16,
        1,
        0,
        0,
        -1,
        2.220446049250313e-16,
        0,
        0,
        0,
        0,
        1
       ],
       "position": [
        5,
        5,
        0
       ],
       "quaternion": [
        0.7071067811865475,
        0,
        0,
        0.7071067811865476
       ],
       "rotation": [
        1.5707963267948963,
        0,
        0,
        "XYZ"
       ],
       "size": 30,
       "type": "LineSegments"
      }
     },
     "6fa804b96f024f75be1c901666a28130": {
      "model_module": "jupyter-threejs",
      "model_module_version": "^2.4.1",
      "model_name": "RendererModel",
      "state": {
       "_height": 400,
       "_model_module_version": "^2.4.1",
       "_view_module_version": "^2.4.1",
       "_webgl_version": 2,
       "_width": 400,
       "camera": "IPY_MODEL_68b35e8d63e540c98dc4a665bdb36b4a",
       "controls": [
        "IPY_MODEL_8b9f9ae38c064ba39a4be8ec1db7342e"
       ],
       "layout": "IPY_MODEL_5e6ecc533b0d4caa9e3ffa55cd429ed8",
       "scene": "IPY_MODEL_f75c8b7ffb394ed99dbf71cfa0792028",
       "shadowMap": "IPY_MODEL_4bda0b62df73445caed5fbbf6fc79cec"
      }
     },
     "6fe5fc41e26a45af81ea04c929b9fbae": {
      "model_module": "jupyter-threejs",
      "model_module_version": "^2.4.1",
      "model_name": "GridHelperModel",
      "state": {
       "_model_module_version": "^2.4.1",
       "_view_module": null,
       "_view_module_version": "",
       "colorCenterLine": "#008000",
       "colorGrid": "#008000",
       "divisions": 3,
       "matrix": [
        2.220446049250313e-16,
        1,
        0,
        0,
        -1,
        2.220446049250313e-16,
        0,
        0,
        0,
        0,
        1,
        0,
        0,
        5,
        5,
        1
       ],
       "matrixWorld": [
        2.220446049250313e-16,
        1,
        0,
        0,
        -1,
        2.220446049250313e-16,
        0,
        0,
        0,
        0,
        1,
        0,
        0,
        0,
        0,
        1
       ],
       "position": [
        0,
        5,
        5
       ],
       "quaternion": [
        0,
        0,
        0.7071067811865475,
        0.7071067811865476
       ],
       "rotation": [
        0,
        0,
        1.5707963267948963,
        "XYZ"
       ],
       "size": 30,
       "type": "LineSegments"
      }
     },
     "7036f29c-84bc-4766-a8b5-04f19d3626cf": {
      "model_module": "jupyter-threejs",
      "model_module_version": "^2.1.0",
      "model_name": "DirectionalLightShadowModel",
      "state": {
       "_view_module": null,
       "_view_module_version": "",
       "camera": "IPY_MODEL_1425f8ac-389d-4894-ad52-ec666e0ab628"
      }
     },
     "71b91d5b-aaf6-4e8c-9070-6a3d3fc25807": {
      "model_module": "jupyter-threejs",
      "model_module_version": "^2.1.0",
      "model_name": "Object3DModel",
      "state": {
       "_view_module": null,
       "_view_module_version": ""
      }
     },
     "71e6f8ea245a44039d277f200bbd14a3": {
      "model_module": "jupyter-threejs",
      "model_module_version": "^2.4.1",
      "model_name": "GridHelperModel",
      "state": {
       "_model_module_version": "^2.4.1",
       "_view_module": null,
       "_view_module_version": "",
       "colorCenterLine": "blue",
       "colorGrid": "blue",
       "divisions": 9,
       "matrix": [
        1,
        0,
        0,
        0,
        0,
        1,
        0,
        0,
        0,
        0,
        1,
        0,
        3.5,
        0,
        3.5,
        1
       ],
       "position": [
        3.5,
        0,
        3.5
       ],
       "size": 9,
       "type": "LineSegments"
      }
     },
     "73d67239-91ec-44f0-bad5-872617eeeffc": {
      "model_module": "jupyter-threejs",
      "model_module_version": "^2.1.0",
      "model_name": "DirectionalLightShadowModel",
      "state": {
       "_view_module": null,
       "_view_module_version": "",
       "camera": "IPY_MODEL_c40f6097-1a54-49d5-b350-93828e1639ad"
      }
     },
     "744232e1d7dc457789e1e4c7d42aac13": {
      "model_module": "jupyter-threejs",
      "model_module_version": "^2.4.1",
      "model_name": "SceneModel",
      "state": {
       "_model_module_version": "^2.4.1",
       "_view_module": null,
       "_view_module_version": "",
       "children": [
        "IPY_MODEL_09b39d9d04e7466196270b1feab8c61d",
        "IPY_MODEL_318749e977b449c69f43d66e76a5eb47",
        "IPY_MODEL_93d78a2976e9413ebe39ce25c125a5d9",
        "IPY_MODEL_1a32e1ca46494bd1b3cb9979371338e4",
        "IPY_MODEL_d871d8f14132499e8592ca7f0ba783a3",
        "IPY_MODEL_95774e6b6ab4448b8812f6b8532a0393",
        "IPY_MODEL_298977f98e8b4b6d819d22062b9bbe3e"
       ]
      }
     },
     "74713554cab948fd93e1b4750072e6c5": {
      "model_module": "jupyter-threejs",
      "model_module_version": "^2.4.1",
      "model_name": "SceneModel",
      "state": {
       "_model_module_version": "^2.4.1",
       "_view_module": null,
       "_view_module_version": "",
       "children": [
        "IPY_MODEL_f464b38538204d3583d1a7a97cc7673a",
        "IPY_MODEL_3c53724470c64ee48ef221c15e10a636",
        "IPY_MODEL_640e5960af71403cbf64ec15e0c2c6e9",
        "IPY_MODEL_c29d0f64c03f4c84bfd76f4dd203ff4e",
        "IPY_MODEL_ac1a20813e324f179bfcca03a69b1fcf",
        "IPY_MODEL_06ec7ae2a3314c56883fb0378ffa7215",
        "IPY_MODEL_28f6e6ee7bc045489e4553d614d6bbfb"
       ]
      }
     },
     "74d60a05b2bf43079fdb09a46d0d7c8e": {
      "model_module": "@jupyter-widgets/base",
      "model_module_version": "2.0.0",
      "model_name": "LayoutModel",
      "state": {}
     },
     "7566a0e87baf421cbe82fa3a15c0bcec": {
      "model_module": "jupyter-threejs",
      "model_module_version": "^2.4.1",
      "model_name": "SceneModel",
      "state": {
       "_model_module_version": "^2.4.1",
       "_view_module": null,
       "_view_module_version": "",
       "children": [
        "IPY_MODEL_e71defbe12c24bcc91292daa09661d09",
        "IPY_MODEL_7c746addfdbb4a4fa95e0ce8640a693f",
        "IPY_MODEL_009083181c694b42ba656867a11a5a23",
        "IPY_MODEL_4caf071e70c84dedaab3a10feb7132ba",
        "IPY_MODEL_baac29bf70d24327b1c7c79746f82ce7",
        "IPY_MODEL_20a97f10d812476fa439d1f434e580fd",
        "IPY_MODEL_9c71cd193b264293ba39f1b3bd0600c1"
       ]
      }
     },
     "76ab0514940c48aeafbfddd5565ebd12": {
      "model_module": "jupyter-threejs",
      "model_module_version": "^2.4.1",
      "model_name": "AmbientLightModel",
      "state": {
       "_model_module_version": "^2.4.1",
       "_view_module": null,
       "_view_module_version": "",
       "color": "#777777",
       "intensity": 0.5
      }
     },
     "772cb2b62cf94c75b3121a8729e51a2b": {
      "model_module": "jupyter-threejs",
      "model_module_version": "^2.4.1",
      "model_name": "MeshLambertMaterialModel",
      "state": {
       "_model_module_version": "^2.4.1",
       "_view_module": null,
       "_view_module_version": "",
       "color": "#ebcc34",
       "transparent": true
      }
     },
     "774c61a6-99e7-4693-b0cf-9b96ed8f6cf7": {
      "model_module": "jupyter-threejs",
      "model_module_version": "^2.1.0",
      "model_name": "OrthographicCameraModel",
      "state": {
       "_view_module": null,
       "_view_module_version": "",
       "bottom": -5,
       "far": 500,
       "left": -5,
       "near": 0.5,
       "projectionMatrix": [
        0.2,
        0,
        0,
        0,
        0,
        0.2,
        0,
        0,
        0,
        0,
        -0.004004004004004004,
        0,
        0,
        0,
        -1.002002002002002,
        1
       ],
       "right": 5,
       "top": 5
      }
     },
     "78d5ed43952d4502afce4ddcf06d9f12": {
      "buffers": [
       {
        "data": "AABQQQAAIMAAAAA/AABQQQAAIEAAAAC/AABQQQAAIEAAAAA/AABQQQAAIEAAAAC/AABQQQAAIMAAAAA/AABQQQAAIMAAAAC/AAAAQQAAIEAAAAA/AABQQQAAIMAAAAA/AABQQQAAIEAAAAA/AABQQQAAIMAAAAA/AAAAQQAAIEAAAAA/AAAAQQAAIMAAAAA/AAAAQQAAIMAAAAC/AABQQQAAIEAAAAC/AABQQQAAIMAAAAC/AABQQQAAIEAAAAC/AAAAQQAAIMAAAAC/AAAAQQAAIEAAAAC/AAAAQQAAIMAAAAC/AAAAQQAAIEAAAAA/AAAAQQAAIEAAAAC/AAAAQQAAIEAAAAA/AAAAQQAAIMAAAAC/AAAAQQAAIMAAAAA/AABQQQAAIEAAAAC/AAAAQQAAIEAAAAA/AABQQQAAIEAAAAA/AAAAQQAAIEAAAAA/AABQQQAAIEAAAAC/AAAAQQAAIEAAAAC/AAAAQQAAIMAAAAC/AABQQQAAIMAAAAA/AAAAQQAAIMAAAAA/AABQQQAAIMAAAAA/AAAAQQAAIMAAAAC/AABQQQAAIMAAAAC/AACwQQAAIMAAAAA/AACwQQAAIEAAAAC/AACwQQAAIEAAAAA/AACwQQAAIEAAAAC/AACwQQAAIMAAAAA/AACwQQAAIMAAAAC/AACIQQAAIEAAAAA/AACwQQAAIMAAAAA/AACwQQAAIEAAAAA/AACwQQAAIMAAAAA/AACIQQAAIEAAAAA/AACIQQAAIMAAAAA/AACIQQAAIMAAAAC/AACwQQAAIEAAAAC/AACwQQAAIMAAAAC/AACwQQAAIEAAAAC/AACIQQAAIMAAAAC/AACIQQAAIEAAAAC/AACIQQAAIMAAAAC/AACIQQAAIEAAAAA/AACIQQAAIEAAAAC/AACIQQAAIEAAAAA/AACIQQAAIMAAAAC/AACIQQAAIMAAAAA/AACwQQAAIEAAAAC/AACIQQAAIEAAAAA/AACwQQAAIEAAAAA/AACIQQAAIEAAAAA/AACwQQAAIEAAAAC/AACIQQAAIEAAAAC/AACIQQAAIMAAAAC/AACwQQAAIMAAAAA/AACIQQAAIMAAAAA/AACwQQAAIMAAAAA/AACIQQAAIMAAAAC/AACwQQAAIMAAAAC/Vg5jQRR5Fr8AAAC/qvF0QWh4c78AAAA/Vg5jQRR5Fr8AAAA/qvF0QWh4c78AAAA/Vg5jQRR5Fr8AAAC/qvF0QWh4c78AAAC/qvF0QWh4cz8AAAC/Vg5jQRR5Fj8AAAA/qvF0QWh4cz8AAAA/Vg5jQRR5Fj8AAAA/qvF0QWh4cz8AAAC/Vg5jQRR5Fj8AAAC/AACAQQAAAAAAAAA/qvF0QWh4cz8AAAC/qvF0QWh4cz8AAAA/qvF0QWh4cz8AAAC/AACAQQAAAAAAAAA/AACAQQAAAAAAAAC/Vg5jQRR5Fr8AAAC/Vg5jQRR5Fj8AAAA/Vg5jQRR5Fj8AAAC/Vg5jQRR5Fj8AAAA/Vg5jQRR5Fr8AAAC/Vg5jQRR5Fr8AAAA/qvF0QWh4cz8AAAA/qvF0QWh4c78AAAA/AACAQQAAAAAAAAA/Vg5jQRR5Fj8AAAA/qvF0QWh4c78AAAA/qvF0QWh4cz8AAAA/qvF0QWh4c78AAAA/Vg5jQRR5Fj8AAAA/Vg5jQRR5Fr8AAAA/qvF0QWh4c78AAAA/AACAQQAAAAAAAAC/AACAQQAAAAAAAAA/AACAQQAAAAAAAAC/qvF0QWh4c78AAAA/qvF0QWh4c78AAAC/qvF0QWh4c78AAAC/qvF0QWh4cz8AAAC/AACAQQAAAAAAAAC/Vg5jQRR5Fr8AAAC/qvF0QWh4cz8AAAC/qvF0QWh4c78AAAC/qvF0QWh4cz8AAAC/Vg5jQRR5Fr8AAAC/Vg5jQRR5Fj8AAAC/",
        "encoding": "base64",
        "path": [
         "array",
         "buffer"
        ]
       }
      ],
      "model_module": "jupyter-threejs",
      "model_module_version": "^2.4.1",
      "model_name": "BufferAttributeModel",
      "state": {
       "_model_module_version": "^2.4.1",
       "_view_module": null,
       "_view_module_version": "",
       "array": {
        "dtype": "float32",
        "shape": [
         40,
         3,
         3
        ]
       },
       "version": 2
      }
     },
     "792346f5-7b92-48b3-81a2-c6a903539632": {
      "model_module": "jupyter-threejs",
      "model_module_version": "^2.1.0",
      "model_name": "DirectionalLightShadowModel",
      "state": {
       "_view_module": null,
       "_view_module_version": "",
       "camera": "IPY_MODEL_66b900d1-f7b0-4872-aabe-650dc57e4029"
      }
     },
     "7971c7f7851845f19fc3f8d5b0d23c18": {
      "model_module": "jupyter-threejs",
      "model_module_version": "^2.4.1",
      "model_name": "OrbitControlsModel",
      "state": {
       "_model_module_version": "^2.4.1",
       "_view_module": null,
       "_view_module_version": "",
       "controlling": "IPY_MODEL_95dd4390ba6f4497ad3923ec7e88dd30",
       "maxAzimuthAngle": "inf",
       "maxDistance": "inf",
       "maxZoom": "inf",
       "minAzimuthAngle": "-inf"
      }
     },
     "7996b15fcdf8445e8804ca2b1a1881f6": {
      "model_module": "jupyter-threejs",
      "model_module_version": "^2.4.1",
      "model_name": "AmbientLightModel",
      "state": {
       "_model_module_version": "^2.4.1",
       "_view_module": null,
       "_view_module_version": "",
       "color": "#777777",
       "intensity": 0.5
      }
     },
     "79b82508e9a24eaf920e95f88b2b2c00": {
      "model_module": "jupyter-threejs",
      "model_module_version": "^2.4.1",
      "model_name": "MeshLambertMaterialModel",
      "state": {
       "_model_module_version": "^2.4.1",
       "_view_module": null,
       "_view_module_version": "",
       "color": "#ebcc34",
       "transparent": true
      }
     },
     "7c2c4eb821ce420a89be84d84c282f96": {
      "model_module": "jupyter-threejs",
      "model_module_version": "^2.4.1",
      "model_name": "GridHelperModel",
      "state": {
       "_model_module_version": "^2.4.1",
       "_view_module": null,
       "_view_module_version": "",
       "colorCenterLine": "#008000",
       "colorGrid": "#008000",
       "divisions": 4,
       "matrix": [
        2.220446049250313e-16,
        1,
        0,
        0,
        -1,
        2.220446049250313e-16,
        0,
        0,
        0,
        0,
        1,
        0,
        0,
        10,
        10,
        1
       ],
       "matrixWorld": [
        2.220446049250313e-16,
        1,
        0,
        0,
        -1,
        2.220446049250313e-16,
        0,
        0,
        0,
        0,
        1,
        0,
        0,
        0,
        0,
        1
       ],
       "position": [
        0,
        10,
        10
       ],
       "quaternion": [
        0,
        0,
        0.7071067811865475,
        0.7071067811865476
       ],
       "rotation": [
        0,
        0,
        1.5707963267948963,
        "XYZ"
       ],
       "size": 40,
       "type": "LineSegments"
      }
     },
     "7c68d9e75eaf412fb4c3220eec1f9a3a": {
      "model_module": "jupyter-threejs",
      "model_module_version": "^2.4.1",
      "model_name": "DirectionalLightModel",
      "state": {
       "_model_module_version": "^2.4.1",
       "_view_module": null,
       "_view_module_version": "",
       "color": "white",
       "intensity": 0.7,
       "matrixWorldNeedsUpdate": true,
       "position": [
        3,
        5,
        1
       ],
       "shadow": "IPY_MODEL_7036f29c-84bc-4766-a8b5-04f19d3626cf",
       "target": "IPY_MODEL_b6ce2733-4e35-4c0c-b397-648b307b3601"
      }
     },
     "7c746addfdbb4a4fa95e0ce8640a693f": {
      "model_module": "jupyter-threejs",
      "model_module_version": "^2.4.1",
      "model_name": "PerspectiveCameraModel",
      "state": {
       "_model_module_version": "^2.4.1",
       "_view_module": null,
       "_view_module_version": "",
       "children": [
        "IPY_MODEL_e5cd5a1281a948abb161273080bb0e76"
       ],
       "fov": 20,
       "matrix": [
        1,
        0,
        0,
        0,
        0,
        1,
        0,
        0,
        0,
        0,
        1,
        0,
        110,
        12.5,
        2.5,
        1
       ],
       "position": [
        82.34775363424401,
        -53.71649721208669,
        50.949832174970624
       ],
       "projectionMatrix": [
        5.67128181961771,
        0,
        0,
        0,
        0,
        5.67128181961771,
        0,
        0,
        0,
        0,
        -1.00010000500025,
        -1,
        0,
        0,
        -0.200010000500025,
        0
       ],
       "quaternion": [
        0.4568567576059773,
        0.24744972361513354,
        0.40693233632759385,
        0.7513032749585971
       ],
       "up": [
        0,
        0,
        1
       ]
      }
     },
     "7c7be52b57bb4d10ae874b11ca3b079f": {
      "buffers": [
       {
        "data": "AACgQAAAAIAAAAAAAACgQAAAAIAAAAAAAACgQAAAAIAAAAAAAACgQAAAAAAAAAAAAACgQAAAAAAAAAAAAACgQAAAAAAAAAAAAAAAgAAAAAAAAMhBAAAAgAAAAAAAAMhBAAAAgAAAAAAAAMhBAAAAAAAAAAAAAMhBAAAAAAAAAAAAAMhBAAAAAAAAAAAAAMhBAAAAAAAAAAAAAMjBAAAAAAAAAAAAAMjBAAAAAAAAAAAAAMjBAAAAgAAAAAAAAMjBAAAAgAAAAAAAAMjBAAAAgAAAAAAAAMjBAACgwAAAAAAAAAAAAACgwAAAAAAAAAAAAACgwAAAAAAAAAAAAACgwAAAAIAAAAAAAACgwAAAAIAAAAAAAACgwAAAAIAAAAAAAAAAAAAAoEAAAACAAAAAAAAAoEAAAACAAAAAAAAAoEAAAACAAAAAAAAAoEAAAAAAAAAAAAAAoEAAAAAAAAAAAAAAoEAAAAAAAAAAAAAAoMAAAAAAAAAAAAAAoMAAAAAAAAAAAAAAoMAAAAAAAAAAAAAAoMAAAACAAAAAAAAAoMAAAACAAAAAAAAAoMAAAACAAACgQAAAAIAAAAAAAACgQAAAAIAAAAAAAACgQAAAAIAAAAAAAACgQAAAAAAAAAAAAACgQAAAAAAAAAAAAACgQAAAAAAAAAAAAAAAgAAAAAAAAMhBAAAAgAAAAAAAAMhBAAAAgAAAAAAAAMhBAAAAAAAAAAAAAMhBAAAAAAAAAAAAAMhBAAAAAAAAAAAAAMhBAAAAAAAAAAAAAMjBAAAAAAAAAAAAAMjBAAAAAAAAAAAAAMjBAAAAgAAAAAAAAMjBAAAAgAAAAAAAAMjBAAAAgAAAAAAAAMjBAACgwAAAAAAAAAAAAACgwAAAAAAAAAAAAACgwAAAAAAAAAAAAACgwAAAAIAAAAAAAACgwAAAAIAAAAAAAACgwAAAAIAAAAAAAAAAAAAAoEAAAACAAAAAAAAAoEAAAACAAAAAAAAAoEAAAACAAAAAAAAAoEAAAAAAAAAAAAAAoEAAAAAAAAAAAAAAoEAAAAAAAAAAAAAAoMAAAAAAAAAAAAAAoMAAAAAAAAAAAAAAoMAAAAAAAAAAAAAAoMAAAACAAAAAAAAAoMAAAACAAAAAAAAAoMAAAACAqP65vqwbj78AAAAAqP65vqwbj78AAAAAqP65vqwbj78AAAAAqP65vqwbj78AAACAqP65vqwbj78AAACAqP65vqwbj78AAACAqP65vqwbjz8AAAAAqP65vqwbjz8AAAAAqP65vqwbjz8AAAAAqP65vqwbjz8AAAAAqP65vqwbjz8AAAAAqP65vqwbjz8AAAAAaHhzP1TkMD8AAAAAaHhzP1TkMD8AAAAAaHhzP1TkMD8AAAAAaHhzP1TkMD8AAAAAaHhzP1TkMD8AAAAAaHhzP1TkMD8AAAAAFHmWvwAAAAAAAAAAFHmWvwAAAAAAAAAAFHmWvwAAAAAAAAAAFHmWvwAAAIAAAAAAFHmWvwAAAIAAAAAAFHmWvwAAAIAAAAAAAAAAAAAAAADvO6g/AAAAAAAAAADvO6g/AAAAAAAAAADvO6g/AAAAgAAAAACTGghAAAAAgAAAAACTGghAAAAAgAAAAACTGghAAAAAAAAAAADMO6g/AAAAAAAAAADMO6g/AAAAAAAAAADMO6g/aHhzP1TkML8AAAAAaHhzP1TkML8AAAAAaHhzP1TkML8AAAAAaHhzP1TkML8AAAAAaHhzP1TkML8AAAAAaHhzP1TkML8AAAAAAAAAAAAAAADvO6i/AAAAAAAAAADvO6i/AAAAAAAAAADvO6i/AAAAAAAAAACTGgjAAAAAAAAAAACTGgjAAAAAAAAAAACTGgjAAAAAAAAAAADMO6i/AAAAAAAAAADMO6i/AAAAAAAAAADMO6i/",
        "encoding": "base64",
        "path": [
         "array",
         "buffer"
        ]
       }
      ],
      "model_module": "jupyter-threejs",
      "model_module_version": "^2.4.1",
      "model_name": "BufferAttributeModel",
      "state": {
       "_model_module_version": "^2.4.1",
       "_view_module": null,
       "_view_module_version": "",
       "array": {
        "dtype": "float32",
        "shape": [
         120,
         3
        ]
       },
       "normalized": true,
       "version": 2
      }
     },
     "7c91a61171824fb3abb433daf5d3052e": {
      "model_module": "jupyter-threejs",
      "model_module_version": "^2.4.1",
      "model_name": "RendererModel",
      "state": {
       "_height": 400,
       "_model_module_version": "^2.4.1",
       "_view_module_version": "^2.4.1",
       "_webgl_version": 2,
       "_width": 400,
       "camera": "IPY_MODEL_07c7aa396f5e46c7b1dea7201bfe8857",
       "controls": [
        "IPY_MODEL_f745e9c45d5149de8f75308cb6090f64"
       ],
       "layout": "IPY_MODEL_b434f875157c488c907dc518cf5a9847",
       "scene": "IPY_MODEL_02705900ccf04b8c8c7b5e3498bb5507",
       "shadowMap": "IPY_MODEL_81038ec09cf84f799f54a409f708ceb8"
      }
     },
     "7cd02659ebda48c7bbda553ea3bce044": {
      "model_module": "jupyter-threejs",
      "model_module_version": "^2.4.1",
      "model_name": "GridHelperModel",
      "state": {
       "_model_module_version": "^2.4.1",
       "_view_module": null,
       "_view_module_version": "",
       "colorCenterLine": "#ff0000",
       "colorGrid": "#ff0000",
       "divisions": 9,
       "matrix": [
        1,
        0,
        0,
        0,
        0,
        2.220446049250313e-16,
        1,
        0,
        0,
        -1,
        2.220446049250313e-16,
        0,
        1.5,
        1.5,
        0,
        1
       ],
       "matrixWorld": [
        1,
        0,
        0,
        0,
        0,
        2.220446049250313e-16,
        1,
        0,
        0,
        -1,
        2.220446049250313e-16,
        0,
        0,
        0,
        0,
        1
       ],
       "position": [
        1.5,
        1.5,
        0
       ],
       "quaternion": [
        0.7071067811865475,
        0,
        0,
        0.7071067811865476
       ],
       "rotation": [
        1.5707963267948963,
        0,
        0,
        "XYZ"
       ],
       "size": 9,
       "type": "LineSegments"
      }
     },
     "7d68f91dccf940fc8e396af55a56633e": {
      "model_module": "jupyter-threejs",
      "model_module_version": "^2.4.1",
      "model_name": "OrbitControlsModel",
      "state": {
       "_model_module_version": "^2.4.1",
       "_view_module": null,
       "_view_module_version": "",
       "controlling": "IPY_MODEL_548876bb1bd1471ba6666c89a0199996",
       "maxAzimuthAngle": "inf",
       "maxDistance": "inf",
       "maxZoom": "inf",
       "minAzimuthAngle": "-inf"
      }
     },
     "7db9925acafb4e55a085814ada4744f7": {
      "model_module": "jupyter-threejs",
      "model_module_version": "^2.4.1",
      "model_name": "SceneModel",
      "state": {
       "_model_module_version": "^2.4.1",
       "_view_module": null,
       "_view_module_version": "",
       "children": [
        "IPY_MODEL_d693f19b696a4528b70fe1b49de18fe0",
        "IPY_MODEL_9ebbafb92435408b9a1afe79db2f00a1",
        "IPY_MODEL_8afb8afc809443eaaebc9afcaef11106",
        "IPY_MODEL_e41c6e34a409464b926212158253e9b4",
        "IPY_MODEL_25a4a78eda9d4fc58a56f4c7b83c1496",
        "IPY_MODEL_3eb07e0a0dfc4944b0b6b59a1421a106",
        "IPY_MODEL_1e68bb0449174a238c7686e5c23cf3d3"
       ]
      }
     },
     "7dd4f483c6f04b2881468d6aef8be929": {
      "model_module": "jupyter-threejs",
      "model_module_version": "^2.4.1",
      "model_name": "GridHelperModel",
      "state": {
       "_model_module_version": "^2.4.1",
       "_view_module": null,
       "_view_module_version": "",
       "colorCenterLine": "#008000",
       "colorGrid": "#008000",
       "divisions": 4,
       "matrix": [
        2.220446049250313e-16,
        1,
        0,
        0,
        -1,
        2.220446049250313e-16,
        0,
        0,
        0,
        0,
        1,
        0,
        0,
        10,
        10,
        1
       ],
       "matrixWorld": [
        2.220446049250313e-16,
        1,
        0,
        0,
        -1,
        2.220446049250313e-16,
        0,
        0,
        0,
        0,
        1,
        0,
        0,
        0,
        0,
        1
       ],
       "position": [
        0,
        10,
        10
       ],
       "quaternion": [
        0,
        0,
        0.7071067811865475,
        0.7071067811865476
       ],
       "rotation": [
        0,
        0,
        1.5707963267948963,
        "XYZ"
       ],
       "size": 40,
       "type": "LineSegments"
      }
     },
     "7e817883e01c42ef8713252010ffb0bf": {
      "model_module": "jupyter-threejs",
      "model_module_version": "^2.4.1",
      "model_name": "BufferGeometryModel",
      "state": {
       "_model_module_version": "^2.4.1",
       "_view_module": null,
       "_view_module_version": "",
       "attributes": {
        "normal": "IPY_MODEL_3650b06583374a618877e3bfe07b61b9",
        "position": "IPY_MODEL_c456e712c70147299104405c29da22ce"
       }
      }
     },
     "7e8b84796a89488d8b2409b850484fa7": {
      "model_module": "jupyter-threejs",
      "model_module_version": "^2.4.1",
      "model_name": "OrbitControlsModel",
      "state": {
       "_model_module_version": "^2.4.1",
       "_view_module": null,
       "_view_module_version": "",
       "controlling": "IPY_MODEL_a2a4202e96b9488cba4e6826935bf162",
       "maxAzimuthAngle": "inf",
       "maxDistance": "inf",
       "maxZoom": "inf",
       "minAzimuthAngle": "-inf"
      }
     },
     "7ec55d602ec846d48417e6bfb8081c16": {
      "model_module": "jupyter-threejs",
      "model_module_version": "^2.4.1",
      "model_name": "GridHelperModel",
      "state": {
       "_model_module_version": "^2.4.1",
       "_view_module": null,
       "_view_module_version": "",
       "colorCenterLine": "blue",
       "colorGrid": "blue",
       "divisions": 3,
       "matrix": [
        1,
        0,
        0,
        0,
        0,
        1,
        0,
        0,
        0,
        0,
        1,
        0,
        5,
        0,
        5,
        1
       ],
       "position": [
        5,
        0,
        5
       ],
       "size": 30,
       "type": "LineSegments"
      }
     },
     "7ff73f24-daed-4c6c-a83f-da8aac0e988d": {
      "model_module": "jupyter-threejs",
      "model_module_version": "^2.1.0",
      "model_name": "OrthographicCameraModel",
      "state": {
       "_view_module": null,
       "_view_module_version": "",
       "bottom": -5,
       "far": 500,
       "left": -5,
       "near": 0.5,
       "projectionMatrix": [
        0.2,
        0,
        0,
        0,
        0,
        0.2,
        0,
        0,
        0,
        0,
        -0.004004004004004004,
        0,
        0,
        0,
        -1.002002002002002,
        1
       ],
       "right": 5,
       "top": 5
      }
     },
     "80477226-3522-46d8-ac72-6fa802562ff2": {
      "model_module": "jupyter-threejs",
      "model_module_version": "^2.1.0",
      "model_name": "DirectionalLightShadowModel",
      "state": {
       "_view_module": null,
       "_view_module_version": "",
       "camera": "IPY_MODEL_224dc086-4db7-447c-9ab1-f4be1a051a03"
      }
     },
     "81038ec09cf84f799f54a409f708ceb8": {
      "model_module": "jupyter-threejs",
      "model_module_version": "^2.4.1",
      "model_name": "WebGLShadowMapModel",
      "state": {
       "_model_module_version": "^2.4.1",
       "_view_module": null,
       "_view_module_version": ""
      }
     },
     "8498b6ff8fd648feab87b457449ad559": {
      "model_module": "jupyter-threejs",
      "model_module_version": "^2.4.1",
      "model_name": "OrbitControlsModel",
      "state": {
       "_model_module_version": "^2.4.1",
       "_view_module": null,
       "_view_module_version": "",
       "controlling": "IPY_MODEL_54a6e796fdc64fbdb41f3e4ec814f0c4",
       "maxAzimuthAngle": "inf",
       "maxDistance": "inf",
       "maxZoom": "inf",
       "minAzimuthAngle": "-inf"
      }
     },
     "8708b8b9693c4d9386768279464ed740": {
      "model_module": "jupyter-threejs",
      "model_module_version": "^2.4.1",
      "model_name": "AxesHelperModel",
      "state": {
       "_model_module_version": "^2.4.1",
       "_view_module": null,
       "_view_module_version": "",
       "size": 44,
       "type": "LineSegments"
      }
     },
     "88702a4276d249ebaa947410ab6d5ea6": {
      "model_module": "jupyter-threejs",
      "model_module_version": "^2.4.1",
      "model_name": "OrbitControlsModel",
      "state": {
       "_model_module_version": "^2.4.1",
       "_view_module": null,
       "_view_module_version": "",
       "controlling": "IPY_MODEL_642fdf9c565b4659ab03756e72de746f",
       "maxAzimuthAngle": "inf",
       "maxDistance": "inf",
       "maxZoom": "inf",
       "minAzimuthAngle": "-inf"
      }
     },
     "887fe64d9bc4477ca5e13599c202acf3": {
      "model_module": "jupyter-threejs",
      "model_module_version": "^2.4.1",
      "model_name": "MeshModel",
      "state": {
       "_model_module_version": "^2.4.1",
       "_view_module": null,
       "_view_module_version": "",
       "geometry": "IPY_MODEL_f7505bf3b80d41b2aa2c8c7f2b34227f",
       "material": "IPY_MODEL_01ed281511834d31aa31abfd1e18adb6"
      }
     },
     "8986beede444463fad1dd82a5e16c396": {
      "model_module": "@jupyter-widgets/base",
      "model_module_version": "2.0.0",
      "model_name": "LayoutModel",
      "state": {}
     },
     "89a241247d51439f88f4742194064b2b": {
      "model_module": "jupyter-threejs",
      "model_module_version": "^2.4.1",
      "model_name": "AmbientLightModel",
      "state": {
       "_model_module_version": "^2.4.1",
       "_view_module": null,
       "_view_module_version": "",
       "color": "#777777",
       "intensity": 0.5
      }
     },
     "8afb8afc809443eaaebc9afcaef11106": {
      "model_module": "jupyter-threejs",
      "model_module_version": "^2.4.1",
      "model_name": "AmbientLightModel",
      "state": {
       "_model_module_version": "^2.4.1",
       "_view_module": null,
       "_view_module_version": "",
       "color": "#777777",
       "intensity": 0.5
      }
     },
     "8b4e0791-4a56-4cfa-8c5b-5cf91655deee": {
      "model_module": "jupyter-threejs",
      "model_module_version": "^2.1.0",
      "model_name": "Object3DModel",
      "state": {
       "_view_module": null,
       "_view_module_version": ""
      }
     },
     "8b7e1091-d8da-4fd7-99be-dc09cbcabb93": {
      "model_module": "jupyter-threejs",
      "model_module_version": "^2.1.0",
      "model_name": "OrthographicCameraModel",
      "state": {
       "_view_module": null,
       "_view_module_version": "",
       "bottom": -5,
       "far": 500,
       "left": -5,
       "near": 0.5,
       "projectionMatrix": [
        0.2,
        0,
        0,
        0,
        0,
        0.2,
        0,
        0,
        0,
        0,
        -0.004004004004004004,
        0,
        0,
        0,
        -1.002002002002002,
        1
       ],
       "right": 5,
       "top": 5
      }
     },
     "8b9f9ae38c064ba39a4be8ec1db7342e": {
      "model_module": "jupyter-threejs",
      "model_module_version": "^2.4.1",
      "model_name": "OrbitControlsModel",
      "state": {
       "_model_module_version": "^2.4.1",
       "_view_module": null,
       "_view_module_version": "",
       "controlling": "IPY_MODEL_68b35e8d63e540c98dc4a665bdb36b4a",
       "maxAzimuthAngle": "inf",
       "maxDistance": "inf",
       "maxZoom": "inf",
       "minAzimuthAngle": "-inf"
      }
     },
     "8de98c94e4e94909a711ced8e8038cf3": {
      "model_module": "jupyter-threejs",
      "model_module_version": "^2.4.1",
      "model_name": "MeshLambertMaterialModel",
      "state": {
       "_model_module_version": "^2.4.1",
       "_view_module": null,
       "_view_module_version": "",
       "color": "#ebcc34",
       "transparent": true
      }
     },
     "8e5e851e8564435c8fd03342e82fafb9": {
      "model_module": "jupyter-threejs",
      "model_module_version": "^2.4.1",
      "model_name": "AxesHelperModel",
      "state": {
       "_model_module_version": "^2.4.1",
       "_view_module": null,
       "_view_module_version": "",
       "size": 44,
       "type": "LineSegments"
      }
     },
     "8f92fc67b49242a1abe777b9ef424d38": {
      "buffers": [
       {
        "data": "AAAAQQAAIEAAAGBAAABQQQAAIMAAAGBAAABQQQAAIEAAAGBAAABQQQAAIMAAAGBAAAAAQQAAIEAAAGBAAAAAQQAAIMAAAGBAAAAAQQAAIMAAAGDAAABQQQAAIEAAAGDAAABQQQAAIMAAAGDAAABQQQAAIEAAAGDAAAAAQQAAIMAAAGDAAAAAQQAAIEAAAGDAAAAAQQAAIMAAAGDAAABQQQAAIMAAAGBAAAAAQQAAIMAAAGBAAABQQQAAIMAAAGBAAAAAQQAAIMAAAGDAAABQQQAAIMAAAGDAAABQQQAAIMAAAGBAAABQQQAAIEAAAGDAAABQQQAAIEAAAGBAAABQQQAAIEAAAGDAAABQQQAAIMAAAGBAAABQQQAAIMAAAGDAAABQQQAAIEAAAGDAAAAAQQAAIEAAAGBAAABQQQAAIEAAAGBAAAAAQQAAIEAAAGBAAABQQQAAIEAAAGDAAAAAQQAAIEAAAGDAAAAAQQAAIMAAAGDAAAAAQQAAIEAAAGBAAAAAQQAAIEAAAGDAAAAAQQAAIEAAAGBAAAAAQQAAIMAAAGDAAAAAQQAAIMAAAGBA",
        "encoding": "base64",
        "path": [
         "array",
         "buffer"
        ]
       }
      ],
      "model_module": "jupyter-threejs",
      "model_module_version": "^2.4.1",
      "model_name": "BufferAttributeModel",
      "state": {
       "_model_module_version": "^2.4.1",
       "_view_module": null,
       "_view_module_version": "",
       "array": {
        "dtype": "float32",
        "shape": [
         12,
         3,
         3
        ]
       },
       "version": 2
      }
     },
     "8fea4bed6a7a49d2b303d4d7ee96bd51": {
      "model_module": "jupyter-threejs",
      "model_module_version": "^2.4.1",
      "model_name": "AmbientLightModel",
      "state": {
       "_model_module_version": "^2.4.1",
       "_view_module": null,
       "_view_module_version": "",
       "color": "#777777",
       "intensity": 0.5
      }
     },
     "9316f001-7988-4660-96f5-b83526ea1e02": {
      "model_module": "jupyter-threejs",
      "model_module_version": "^2.1.0",
      "model_name": "OrthographicCameraModel",
      "state": {
       "_view_module": null,
       "_view_module_version": "",
       "bottom": -5,
       "far": 500,
       "left": -5,
       "near": 0.5,
       "projectionMatrix": [
        0.2,
        0,
        0,
        0,
        0,
        0.2,
        0,
        0,
        0,
        0,
        -0.004004004004004004,
        0,
        0,
        0,
        -1.002002002002002,
        1
       ],
       "right": 5,
       "top": 5
      }
     },
     "938837df7f6146aeaee2920ed1a5323f": {
      "model_module": "jupyter-threejs",
      "model_module_version": "^2.4.1",
      "model_name": "MeshModel",
      "state": {
       "_model_module_version": "^2.4.1",
       "_view_module": null,
       "_view_module_version": "",
       "geometry": "IPY_MODEL_62f985c7edba45519feb717145120965",
       "material": "IPY_MODEL_fa52e80569e34657ba2977243c5449dd"
      }
     },
     "9395eef5bfe047a1b46688c6653e566f": {
      "model_module": "jupyter-threejs",
      "model_module_version": "^2.4.1",
      "model_name": "GridHelperModel",
      "state": {
       "_model_module_version": "^2.4.1",
       "_view_module": null,
       "_view_module_version": "",
       "colorCenterLine": "blue",
       "colorGrid": "blue",
       "divisions": 4,
       "matrix": [
        1,
        0,
        0,
        0,
        0,
        1,
        0,
        0,
        0,
        0,
        1,
        0,
        10,
        0,
        10,
        1
       ],
       "position": [
        10,
        0,
        10
       ],
       "size": 40,
       "type": "LineSegments"
      }
     },
     "93d78a2976e9413ebe39ce25c125a5d9": {
      "model_module": "jupyter-threejs",
      "model_module_version": "^2.4.1",
      "model_name": "AmbientLightModel",
      "state": {
       "_model_module_version": "^2.4.1",
       "_view_module": null,
       "_view_module_version": "",
       "color": "#777777",
       "intensity": 0.5
      }
     },
     "9492fe3aabc94574aa4b5d6ef9d41b9b": {
      "buffers": [
       {
        "data": "AACgQAAAAIAAAAAAAACgQAAAAIAAAAAAAACgQAAAAIAAAAAAAACgQAAAAAAAAAAAAACgQAAAAAAAAAAAAACgQAAAAAAAAAAAAAAAgAAAAAAAAMhBAAAAgAAAAAAAAMhBAAAAgAAAAAAAAMhBAAAAAAAAAAAAAMhBAAAAAAAAAAAAAMhBAAAAAAAAAAAAAMhBAAAAAAAAAAAAAMjBAAAAAAAAAAAAAMjBAAAAAAAAAAAAAMjBAAAAgAAAAAAAAMjBAAAAgAAAAAAAAMjBAAAAgAAAAAAAAMjBAACgwAAAAAAAAAAAAACgwAAAAAAAAAAAAACgwAAAAAAAAAAAAACgwAAAAIAAAAAAAACgwAAAAIAAAAAAAACgwAAAAIAAAAAAAAAAAAAAoEAAAACAAAAAAAAAoEAAAACAAAAAAAAAoEAAAACAAAAAAAAAoEAAAAAAAAAAAAAAoEAAAAAAAAAAAAAAoEAAAAAAAAAAAAAAoMAAAAAAAAAAAAAAoMAAAAAAAAAAAAAAoMAAAAAAAAAAAAAAoMAAAACAAAAAAAAAoMAAAACAAAAAAAAAoMAAAACAAACgQAAAAIAAAAAAAACgQAAAAIAAAAAAAACgQAAAAIAAAAAAAACgQAAAAAAAAAAAAACgQAAAAAAAAAAAAACgQAAAAAAAAAAAAAAAgAAAAAAAAMhBAAAAgAAAAAAAAMhBAAAAgAAAAAAAAMhBAAAAAAAAAAAAAMhBAAAAAAAAAAAAAMhBAAAAAAAAAAAAAMhBAAAAAAAAAAAAAMjBAAAAAAAAAAAAAMjBAAAAAAAAAAAAAMjBAAAAgAAAAAAAAMjBAAAAgAAAAAAAAMjBAAAAgAAAAAAAAMjBAACgwAAAAAAAAAAAAACgwAAAAAAAAAAAAACgwAAAAAAAAAAAAACgwAAAAIAAAAAAAACgwAAAAIAAAAAAAACgwAAAAIAAAAAAAAAAAAAAoEAAAACAAAAAAAAAoEAAAACAAAAAAAAAoEAAAACAAAAAAAAAoEAAAAAAAAAAAAAAoEAAAAAAAAAAAAAAoEAAAAAAAAAAAAAAoMAAAAAAAAAAAAAAoMAAAAAAAAAAAAAAoMAAAAAAAAAAAAAAoMAAAACAAAAAAAAAoMAAAACAAAAAAAAAoMAAAACA",
        "encoding": "base64",
        "path": [
         "array",
         "buffer"
        ]
       }
      ],
      "model_module": "jupyter-threejs",
      "model_module_version": "^2.4.1",
      "model_name": "BufferAttributeModel",
      "state": {
       "_model_module_version": "^2.4.1",
       "_view_module": null,
       "_view_module_version": "",
       "array": {
        "dtype": "float32",
        "shape": [
         72,
         3
        ]
       },
       "normalized": true,
       "version": 2
      }
     },
     "9544737d7a4843cbbfacaeb3cdb35c45": {
      "model_module": "jupyter-threejs",
      "model_module_version": "^2.4.1",
      "model_name": "AxesHelperModel",
      "state": {
       "_model_module_version": "^2.4.1",
       "_view_module": null,
       "_view_module_version": "",
       "size": 44,
       "type": "LineSegments"
      }
     },
     "95774e6b6ab4448b8812f6b8532a0393": {
      "model_module": "jupyter-threejs",
      "model_module_version": "^2.4.1",
      "model_name": "GridHelperModel",
      "state": {
       "_model_module_version": "^2.4.1",
       "_view_module": null,
       "_view_module_version": "",
       "colorCenterLine": "#008000",
       "colorGrid": "#008000",
       "divisions": 4,
       "matrix": [
        2.220446049250313e-16,
        1,
        0,
        0,
        -1,
        2.220446049250313e-16,
        0,
        0,
        0,
        0,
        1,
        0,
        0,
        10,
        10,
        1
       ],
       "matrixWorld": [
        2.220446049250313e-16,
        1,
        0,
        0,
        -1,
        2.220446049250313e-16,
        0,
        0,
        0,
        0,
        1,
        0,
        0,
        0,
        0,
        1
       ],
       "position": [
        0,
        10,
        10
       ],
       "quaternion": [
        0,
        0,
        0.7071067811865475,
        0.7071067811865476
       ],
       "rotation": [
        0,
        0,
        1.5707963267948963,
        "XYZ"
       ],
       "size": 40,
       "type": "LineSegments"
      }
     },
     "95a71a85d7f34090a2f48d98f7b8271f": {
      "model_module": "jupyter-threejs",
      "model_module_version": "^2.4.1",
      "model_name": "GridHelperModel",
      "state": {
       "_model_module_version": "^2.4.1",
       "_view_module": null,
       "_view_module_version": "",
       "colorCenterLine": "blue",
       "colorGrid": "blue",
       "divisions": 9,
       "matrix": [
        1,
        0,
        0,
        0,
        0,
        1,
        0,
        0,
        0,
        0,
        1,
        0,
        1.5,
        0,
        -0.5,
        1
       ],
       "position": [
        1.5,
        0,
        -0.5
       ],
       "size": 9,
       "type": "LineSegments"
      }
     },
     "95dd4390ba6f4497ad3923ec7e88dd30": {
      "model_module": "jupyter-threejs",
      "model_module_version": "^2.4.1",
      "model_name": "PerspectiveCameraModel",
      "state": {
       "_model_module_version": "^2.4.1",
       "_view_module": null,
       "_view_module_version": "",
       "children": [
        "IPY_MODEL_0bd3381a73f34f6eab4f5952c925389b"
       ],
       "fov": 20,
       "matrix": [
        1,
        0,
        0,
        0,
        0,
        1,
        0,
        0,
        0,
        0,
        1,
        0,
        12.5,
        12.5,
        17.5,
        1
       ],
       "position": [
        12.5,
        12.5,
        17.5
       ],
       "projectionMatrix": [
        5.67128181961771,
        0,
        0,
        0,
        0,
        5.67128181961771,
        0,
        0,
        0,
        0,
        -1.00010000500025,
        -1,
        0,
        0,
        -0.200010000500025,
        0
       ],
       "up": [
        0,
        0,
        1
       ]
      }
     },
     "9653e564e57b4385871f66bdd38fee1c": {
      "model_module": "jupyter-threejs",
      "model_module_version": "^2.4.1",
      "model_name": "RendererModel",
      "state": {
       "_height": 400,
       "_model_module_version": "^2.4.1",
       "_view_module_version": "^2.4.1",
       "_webgl_version": 2,
       "_width": 400,
       "camera": "IPY_MODEL_6f19d91346534ab9bca8a3b72bcbd337",
       "controls": [
        "IPY_MODEL_acb90641ef0c43e6a517512e2bf0ab6e"
       ],
       "layout": "IPY_MODEL_6aaa340297d142cab7c7f82d74bbb479",
       "scene": "IPY_MODEL_e16d50784a8048f7a9b4dbacbfb7090c",
       "shadowMap": "IPY_MODEL_b103928c1a444e5fb3a6a33646c2a00b"
      }
     },
     "976eca86ea334328baedc2a88c8f2913": {
      "model_module": "jupyter-threejs",
      "model_module_version": "^2.4.1",
      "model_name": "MeshLambertMaterialModel",
      "state": {
       "_model_module_version": "^2.4.1",
       "_view_module": null,
       "_view_module_version": "",
       "color": "#ebcc34",
       "transparent": true
      }
     },
     "97ab2418229c401f8982338d00cee3de": {
      "model_module": "jupyter-threejs",
      "model_module_version": "^2.4.1",
      "model_name": "GridHelperModel",
      "state": {
       "_model_module_version": "^2.4.1",
       "_view_module": null,
       "_view_module_version": "",
       "colorCenterLine": "#008000",
       "colorGrid": "#008000",
       "divisions": 3,
       "matrix": [
        2.220446049250313e-16,
        1,
        0,
        0,
        -1,
        2.220446049250313e-16,
        0,
        0,
        0,
        0,
        1,
        0,
        0,
        5,
        5,
        1
       ],
       "matrixWorld": [
        2.220446049250313e-16,
        1,
        0,
        0,
        -1,
        2.220446049250313e-16,
        0,
        0,
        0,
        0,
        1,
        0,
        0,
        0,
        0,
        1
       ],
       "position": [
        0,
        5,
        5
       ],
       "quaternion": [
        0,
        0,
        0.7071067811865475,
        0.7071067811865476
       ],
       "rotation": [
        0,
        0,
        1.5707963267948963,
        "XYZ"
       ],
       "size": 30,
       "type": "LineSegments"
      }
     },
     "98d00eaca8184fc1b61ea6d734c83abb": {
      "model_module": "jupyter-threejs",
      "model_module_version": "^2.4.1",
      "model_name": "OrbitControlsModel",
      "state": {
       "_model_module_version": "^2.4.1",
       "_view_module": null,
       "_view_module_version": "",
       "controlling": "IPY_MODEL_47f80d49426b46dfbf96146a4ccfa387",
       "maxAzimuthAngle": "inf",
       "maxDistance": "inf",
       "maxZoom": "inf",
       "minAzimuthAngle": "-inf"
      }
     },
     "997c081ec2a04a0f945b6f0b25d76d1e": {
      "model_module": "jupyter-threejs",
      "model_module_version": "^2.4.1",
      "model_name": "GridHelperModel",
      "state": {
       "_model_module_version": "^2.4.1",
       "_view_module": null,
       "_view_module_version": "",
       "colorCenterLine": "#ff0000",
       "colorGrid": "#ff0000",
       "divisions": 4,
       "matrix": [
        1,
        0,
        0,
        0,
        0,
        2.220446049250313e-16,
        1,
        0,
        0,
        -1,
        2.220446049250313e-16,
        0,
        10,
        10,
        0,
        1
       ],
       "matrixWorld": [
        1,
        0,
        0,
        0,
        0,
        2.220446049250313e-16,
        1,
        0,
        0,
        -1,
        2.220446049250313e-16,
        0,
        0,
        0,
        0,
        1
       ],
       "position": [
        10,
        10,
        0
       ],
       "quaternion": [
        0.7071067811865475,
        0,
        0,
        0.7071067811865476
       ],
       "rotation": [
        1.5707963267948963,
        0,
        0,
        "XYZ"
       ],
       "size": 40,
       "type": "LineSegments"
      }
     },
     "99da698cbd0047f3adcaf91ec227b37e": {
      "model_module": "jupyter-threejs",
      "model_module_version": "^2.4.1",
      "model_name": "PerspectiveCameraModel",
      "state": {
       "_model_module_version": "^2.4.1",
       "_view_module": null,
       "_view_module_version": "",
       "children": [
        "IPY_MODEL_ab259b7e97da41aa914396f9e6527e9d"
       ],
       "fov": 20,
       "matrix": [
        1,
        0,
        0,
        0,
        0,
        1,
        0,
        0,
        0,
        0,
        1,
        0,
        65,
        12.5,
        2.5,
        1
       ],
       "position": [
        43.11503383008995,
        -19.389756565212252,
        46.396456741565274
       ],
       "projectionMatrix": [
        5.67128181961771,
        0,
        0,
        0,
        0,
        5.67128181961771,
        0,
        0,
        0,
        0,
        -1.00010000500025,
        -1,
        0,
        0,
        -0.200010000500025,
        0
       ],
       "quaternion": [
        0.32496672147255634,
        0.21017218427040096,
        0.5007503784896659,
        0.7742566379029906
       ],
       "up": [
        0,
        0,
        1
       ]
      }
     },
     "9b9feb878a5949f98ef1a260b5dfaa63": {
      "buffers": [
       {
        "data": "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",
        "encoding": "base64",
        "path": [
         "array",
         "buffer"
        ]
       }
      ],
      "model_module": "jupyter-threejs",
      "model_module_version": "^2.4.1",
      "model_name": "BufferAttributeModel",
      "state": {
       "_model_module_version": "^2.4.1",
       "_view_module": null,
       "_view_module_version": "",
       "array": {
        "dtype": "float32",
        "shape": [
         396,
         3
        ]
       },
       "normalized": true,
       "version": 2
      }
     },
     "9ba574b2ab4441869207d1e8e359a32d": {
      "model_module": "jupyter-threejs",
      "model_module_version": "^2.4.1",
      "model_name": "MeshModel",
      "state": {
       "_model_module_version": "^2.4.1",
       "_view_module": null,
       "_view_module_version": "",
       "geometry": "IPY_MODEL_69457ccdbb7249459c12494650b81fdb",
       "material": "IPY_MODEL_f28c91df292b4fb5903cc2afbc3b1516"
      }
     },
     "9bc7494d7225457f9ba32719ffda8b88": {
      "model_module": "jupyter-threejs",
      "model_module_version": "^2.4.1",
      "model_name": "MeshLambertMaterialModel",
      "state": {
       "_model_module_version": "^2.4.1",
       "_view_module": null,
       "_view_module_version": "",
       "color": "#ebcc34",
       "transparent": true
      }
     },
     "9c71cd193b264293ba39f1b3bd0600c1": {
      "model_module": "jupyter-threejs",
      "model_module_version": "^2.4.1",
      "model_name": "AxesHelperModel",
      "state": {
       "_model_module_version": "^2.4.1",
       "_view_module": null,
       "_view_module_version": "",
       "size": 44,
       "type": "LineSegments"
      }
     },
     "9c76e171022a48699abd01c21c1bb6e7": {
      "model_module": "jupyter-threejs",
      "model_module_version": "^2.4.1",
      "model_name": "AxesHelperModel",
      "state": {
       "_model_module_version": "^2.4.1",
       "_view_module": null,
       "_view_module_version": "",
       "size": 44,
       "type": "LineSegments"
      }
     },
     "9d6908b8995f418297fef3ec9e9b91f2": {
      "model_module": "jupyter-threejs",
      "model_module_version": "^2.4.1",
      "model_name": "DirectionalLightModel",
      "state": {
       "_model_module_version": "^2.4.1",
       "_view_module": null,
       "_view_module_version": "",
       "color": "white",
       "intensity": 0.7,
       "matrixWorldNeedsUpdate": true,
       "position": [
        3,
        5,
        1
       ],
       "shadow": "IPY_MODEL_792346f5-7b92-48b3-81a2-c6a903539632",
       "target": "IPY_MODEL_3f8860f7-d950-466d-938e-c7a9a7eab0c6"
      }
     },
     "9df9e08d-5d30-458d-8a11-877be6a74f9f": {
      "model_module": "jupyter-threejs",
      "model_module_version": "^2.1.0",
      "model_name": "OrthographicCameraModel",
      "state": {
       "_view_module": null,
       "_view_module_version": "",
       "bottom": -5,
       "far": 500,
       "left": -5,
       "near": 0.5,
       "projectionMatrix": [
        0.2,
        0,
        0,
        0,
        0,
        0.2,
        0,
        0,
        0,
        0,
        -0.004004004004004004,
        0,
        0,
        0,
        -1.002002002002002,
        1
       ],
       "right": 5,
       "top": 5
      }
     },
     "9ebbafb92435408b9a1afe79db2f00a1": {
      "model_module": "jupyter-threejs",
      "model_module_version": "^2.4.1",
      "model_name": "PerspectiveCameraModel",
      "state": {
       "_model_module_version": "^2.4.1",
       "_view_module": null,
       "_view_module_version": "",
       "children": [
        "IPY_MODEL_4ba1176c3ca947a9a8402a3c5938c653"
       ],
       "fov": 20,
       "matrix": [
        1,
        0,
        0,
        0,
        0,
        1,
        0,
        0,
        0,
        0,
        1,
        0,
        110,
        12.5,
        2.5,
        1
       ],
       "position": [
        28.098085981772325,
        -26.217412262818364,
        103.85395928130171
       ],
       "projectionMatrix": [
        5.67128181961771,
        0,
        0,
        0,
        0,
        5.67128181961771,
        0,
        0,
        0,
        0,
        -1.00010000500025,
        -1,
        0,
        0,
        -0.200010000500025,
        0
       ],
       "quaternion": [
        0.16167020783462535,
        0.0702678137125076,
        0.39237130505199996,
        0.9027568538795836
       ],
       "up": [
        0,
        0,
        1
       ]
      }
     },
     "9f2b5d77fb4d498db90abbbba568ad89": {
      "model_module": "jupyter-threejs",
      "model_module_version": "^2.4.1",
      "model_name": "BufferGeometryModel",
      "state": {
       "_model_module_version": "^2.4.1",
       "_view_module": null,
       "_view_module_version": "",
       "attributes": {
        "normal": "IPY_MODEL_1a7c6d8b308b4aef823026f016fe807d",
        "position": "IPY_MODEL_5106dd84fd934984b2308e506d89ca6a"
       }
      }
     },
     "a04e1fbcc8fe4a6ba271d196b715a899": {
      "model_module": "jupyter-threejs",
      "model_module_version": "^2.4.1",
      "model_name": "SceneModel",
      "state": {
       "_model_module_version": "^2.4.1",
       "_view_module": null,
       "_view_module_version": "",
       "children": [
        "IPY_MODEL_9ba574b2ab4441869207d1e8e359a32d",
        "IPY_MODEL_428acb7eb7d64f959f39238f46dbece4",
        "IPY_MODEL_76ab0514940c48aeafbfddd5565ebd12",
        "IPY_MODEL_71e6f8ea245a44039d277f200bbd14a3",
        "IPY_MODEL_231d941d66f74466a902ddc4eefa2a4d",
        "IPY_MODEL_d3aa20fc27044588a18a4259e51f3019",
        "IPY_MODEL_f1d84d31e9e74c888961463bbe05e15a"
       ]
      }
     },
     "a1347d44edea41a8952b22b0f6174d11": {
      "model_module": "jupyter-threejs",
      "model_module_version": "^2.4.1",
      "model_name": "RendererModel",
      "state": {
       "_height": 400,
       "_model_module_version": "^2.4.1",
       "_view_module_version": "^2.4.1",
       "_webgl_version": 2,
       "_width": 400,
       "camera": "IPY_MODEL_99da698cbd0047f3adcaf91ec227b37e",
       "controls": [
        "IPY_MODEL_2cee6d0c138444e2853d2d990baa48f7"
       ],
       "layout": "IPY_MODEL_ba0aefa28c3d470292a215e229c6fbed",
       "scene": "IPY_MODEL_d17bcae83fdd491f828eb7f7580e8d08",
       "shadowMap": "IPY_MODEL_a57a04dd3ae94f20922e074f76f6e8be"
      }
     },
     "a190499474f440ebbcb354bd6adcbe6b": {
      "model_module": "jupyter-threejs",
      "model_module_version": "^2.4.1",
      "model_name": "MeshModel",
      "state": {
       "_model_module_version": "^2.4.1",
       "_view_module": null,
       "_view_module_version": "",
       "geometry": "IPY_MODEL_5428ff452ea645c9b7082a83351f3c65",
       "material": "IPY_MODEL_24f96eec3d344ee28e62e6ec5aca137e"
      }
     },
     "a1bc169e56e647119f4d2876fdf41d10": {
      "model_module": "jupyter-threejs",
      "model_module_version": "^2.4.1",
      "model_name": "AxesHelperModel",
      "state": {
       "_model_module_version": "^2.4.1",
       "_view_module": null,
       "_view_module_version": "",
       "size": 44,
       "type": "LineSegments"
      }
     },
     "a1dc7a2573d244228dc83b0bc987c013": {
      "model_module": "jupyter-threejs",
      "model_module_version": "^2.4.1",
      "model_name": "WebGLShadowMapModel",
      "state": {
       "_model_module_version": "^2.4.1",
       "_view_module": null,
       "_view_module_version": ""
      }
     },
     "a2a4202e96b9488cba4e6826935bf162": {
      "model_module": "jupyter-threejs",
      "model_module_version": "^2.4.1",
      "model_name": "PerspectiveCameraModel",
      "state": {
       "_model_module_version": "^2.4.1",
       "_view_module": null,
       "_view_module_version": "",
       "children": [
        "IPY_MODEL_4c1cdfdf2ad14e4a8ba7ccccc2a38b5d"
       ],
       "fov": 20,
       "matrix": [
        1,
        0,
        0,
        0,
        0,
        1,
        0,
        0,
        0,
        0,
        1,
        0,
        110,
        12.5,
        2.5,
        1
       ],
       "position": [
        81.33265705662473,
        19.801311332617253,
        72.49418573663453
       ],
       "projectionMatrix": [
        5.67128181961771,
        0,
        0,
        0,
        0,
        5.67128181961771,
        0,
        0,
        0,
        0,
        -1.00010000500025,
        -1,
        0,
        0,
        -0.200010000500025,
        0
       ],
       "quaternion": [
        0.2567352229851478,
        0.32673940432361104,
        0.7152041122027171,
        0.5619710533731622
       ],
       "up": [
        0,
        0,
        1
       ]
      }
     },
     "a3b12f52629549f091c2f990a389483f": {
      "model_module": "jupyter-threejs",
      "model_module_version": "^2.4.1",
      "model_name": "RendererModel",
      "state": {
       "_height": 400,
       "_model_module_version": "^2.4.1",
       "_view_module_version": "^2.4.1",
       "_webgl_version": 2,
       "_width": 400,
       "camera": "IPY_MODEL_bb25d22d78b942f390f60d6e7575684d",
       "controls": [
        "IPY_MODEL_ddfac528902b4afb856f6d12ceccef6a"
       ],
       "layout": "IPY_MODEL_049e145e887f498292dd547a6edb5c55",
       "scene": "IPY_MODEL_45ac738dfdc34120beeff3079479175c",
       "shadowMap": "IPY_MODEL_58e3bb003a2d4e979de8f84b40a71d5f"
      }
     },
     "a485eb2b9fe247aeb918bd1f7d438efd": {
      "buffers": [
       {
        "data": "AAAMQgAAAIAAAAAAAAAMQgAAAIAAAAAAAAAMQgAAAIAAAAAAAAAMQgAAAAAAAAAAAAAMQgAAAAAAAAAAAAAMQgAAAAAAAAAAAAAAgAAAAAAAAMhBAAAAgAAAAAAAAMhBAAAAgAAAAAAAAMhBAAAAAAAAAAAAAMhBAAAAAAAAAAAAAMhBAAAAAAAAAAAAAMhBAAAAAAAAAAAAAMjAAAAAAAAAAAAAAMjAAAAAAAAAAAAAAMjAAAAAAAAAAAAAAEjBAAAAAAAAAAAAAEjBAAAAAAAAAAAAAEjBAAAAAAAAAAAAAMjAAAAAAAAAAAAAAMjAAAAAAAAAAAAAAMjAAAAAAAAAAAAAAEjBAAAAAAAAAAAAAEjBAAAAAAAAAAAAAEjBAAAMwQAAAAAAAAAAAAAMwQAAAAAAAAAAAAAMwQAAAAAAAAAAAACMwQAAAAAAAAAAAACMwQAAAAAAAAAAAACMwQAAAAAAAAAAAAAMwQAAAAAAAAAAAAAMwQAAAAAAAAAAAAAMwQAAAAAAAAAAAACMwQAAAAAAAAAAAACMwQAAAAAAAAAAAACMwQAAAAAAAAAAAAAAAAAADEIAAACAAAAAAAAADEIAAACAAAAAAAAADEIAAACAAAAAAAAADEIAAAAAAAAAAAAADEIAAAAAAAAAAAAADEIAAAAAAAAAAAAADMEAAAAAAAAAAAAADMEAAAAAAAAAAAAADMEAAAAAAAAAAAAAjMEAAAAAAAAAAAAAjMEAAAAAAAAAAAAAjMEAAAAAAAAAAAAADMEAAAAAAAAAAAAADMEAAAAAAAAAAAAADMEAAAAAAAAAAAAAjMEAAAAAAAAAAAAAjMEAAAAAAAAAAAAAjMEAAAAAAAAMQQAAAAAAAAAAAAAMQQAAAAAAAAAAAAAMQQAAAAAAAAAAAAAMQQAAAIAAAAAAAAAMQQAAAIAAAAAAAAAMQQAAAIAAAAAAAACMQQAAAAAAAAAAAACMQQAAAAAAAAAAAACMQQAAAAAAAAAAAACMQQAAAAAAAAAAAACMQQAAAAAAAAAAAACMQQAAAAAAAAAAAAAAAAAAAAAAAMhAAAAAAAAAAAAAAMhAAAAAAAAAAAAAAMhAAAAAgAAAAAAAAMhAAAAAgAAAAAAAAMhAAAAAgAAAAAAAAMhAAAAAAAAAAAAAAEhBAAAAAAAAAAAAAEhBAAAAAAAAAAAAAEhBAAAAAAAAAAAAAEhBAAAAAAAAAAAAAEhBAAAAAAAAAAAAAEhBAAAAAAAAAAAAAMjBAAAAAAAAAAAAAMjBAAAAAAAAAAAAAMjBAAAAgAAAAAAAAMjBAAAAgAAAAAAAAMjBAAAAgAAAAAAAAMjBAAAMwgAAAAAAAAAAAAAMwgAAAAAAAAAAAAAMwgAAAAAAAAAAAAAMwgAAAIAAAAAAAAAMwgAAAIAAAAAAAAAMwgAAAIAAAAAAAAAAAAAADEEAAAAAAAAAAAAADEEAAAAAAAAAAAAADEEAAAAAAAAAAAAADEEAAACAAAAAAAAADEEAAACAAAAAAAAADEEAAACAAAAAAAAAjEEAAAAAAAAAAAAAjEEAAAAAAAAAAAAAjEEAAAAAAAAAAAAAjEEAAAAAAAAAAAAAjEEAAAAAAAAAAAAAjEEAAAAAAAAAAAAADMIAAAAAAAAAAAAADMIAAAAAAAAAAAAADMIAAAAAAAAAAAAADMIAAACAAAAAAAAADMIAAACAAAAAAAAADMIAAACA",
        "encoding": "base64",
        "path": [
         "array",
         "buffer"
        ]
       }
      ],
      "model_module": "jupyter-threejs",
      "model_module_version": "^2.4.1",
      "model_name": "BufferAttributeModel",
      "state": {
       "_model_module_version": "^2.4.1",
       "_view_module": null,
       "_view_module_version": "",
       "array": {
        "dtype": "float32",
        "shape": [
         108,
         3
        ]
       },
       "normalized": true,
       "version": 2
      }
     },
     "a4a188e63cd949a2b3a4a8e75861a9ef": {
      "model_module": "@jupyter-widgets/base",
      "model_module_version": "2.0.0",
      "model_name": "LayoutModel",
      "state": {}
     },
     "a57a04dd3ae94f20922e074f76f6e8be": {
      "model_module": "jupyter-threejs",
      "model_module_version": "^2.4.1",
      "model_name": "WebGLShadowMapModel",
      "state": {
       "_model_module_version": "^2.4.1",
       "_view_module": null,
       "_view_module_version": ""
      }
     },
     "a5af86a6-78bc-45f1-a867-fbd0ea82735f": {
      "model_module": "jupyter-threejs",
      "model_module_version": "^2.1.0",
      "model_name": "DirectionalLightShadowModel",
      "state": {
       "_view_module": null,
       "_view_module_version": "",
       "camera": "IPY_MODEL_b94bf2f7-c64f-489b-b608-e57c3923571a"
      }
     },
     "a67c0e8e-272e-437e-890d-1f68b9aa2abc": {
      "model_module": "jupyter-threejs",
      "model_module_version": "^2.1.0",
      "model_name": "Object3DModel",
      "state": {
       "_view_module": null,
       "_view_module_version": ""
      }
     },
     "a7cd371f80c74853bead201f7ed2935e": {
      "model_module": "jupyter-threejs",
      "model_module_version": "^2.4.1",
      "model_name": "GridHelperModel",
      "state": {
       "_model_module_version": "^2.4.1",
       "_view_module": null,
       "_view_module_version": "",
       "colorCenterLine": "#008000",
       "colorGrid": "#008000",
       "divisions": 4,
       "matrix": [
        2.220446049250313e-16,
        1,
        0,
        0,
        -1,
        2.220446049250313e-16,
        0,
        0,
        0,
        0,
        1,
        0,
        0,
        10,
        10,
        1
       ],
       "matrixWorld": [
        2.220446049250313e-16,
        1,
        0,
        0,
        -1,
        2.220446049250313e-16,
        0,
        0,
        0,
        0,
        1,
        0,
        0,
        0,
        0,
        1
       ],
       "position": [
        0,
        10,
        10
       ],
       "quaternion": [
        0,
        0,
        0.7071067811865475,
        0.7071067811865476
       ],
       "rotation": [
        0,
        0,
        1.5707963267948963,
        "XYZ"
       ],
       "size": 40,
       "type": "LineSegments"
      }
     },
     "a9680aef268d4ac9b0abacf935041f48": {
      "buffers": [
       {
        "data": "AABQQQAAIMAAAAA/AABQQQAAIEAAAAC/AABQQQAAIEAAAAA/AABQQQAAIEAAAAC/AABQQQAAIMAAAAA/AABQQQAAIMAAAAC/AAAAQQAAIEAAAAA/AABQQQAAIMAAAAA/AABQQQAAIEAAAAA/AABQQQAAIMAAAAA/AAAAQQAAIEAAAAA/AAAAQQAAIMAAAAA/AAAAQQAAIMAAAAC/AABQQQAAIEAAAAC/AABQQQAAIMAAAAC/AABQQQAAIEAAAAC/AAAAQQAAIMAAAAC/AAAAQQAAIEAAAAC/AAAAQQAAIMAAAAC/AAAAQQAAIEAAAAA/AAAAQQAAIEAAAAC/AAAAQQAAIEAAAAA/AAAAQQAAIMAAAAC/AAAAQQAAIMAAAAA/AABQQQAAIEAAAAC/AAAAQQAAIEAAAAA/AABQQQAAIEAAAAA/AAAAQQAAIEAAAAA/AABQQQAAIEAAAAC/AAAAQQAAIEAAAAC/AAAAQQAAIMAAAAC/AABQQQAAIMAAAAA/AAAAQQAAIMAAAAA/AABQQQAAIMAAAAA/AAAAQQAAIMAAAAC/AABQQQAAIMAAAAC/AACwQQAAIMAAAAA/AACwQQAAIEAAAAC/AACwQQAAIEAAAAA/AACwQQAAIEAAAAC/AACwQQAAIMAAAAA/AACwQQAAIMAAAAC/AACIQQAAIEAAAAA/AACwQQAAIMAAAAA/AACwQQAAIEAAAAA/AACwQQAAIMAAAAA/AACIQQAAIEAAAAA/AACIQQAAIMAAAAA/AACIQQAAIMAAAAC/AACwQQAAIEAAAAC/AACwQQAAIMAAAAC/AACwQQAAIEAAAAC/AACIQQAAIMAAAAC/AACIQQAAIEAAAAC/AACIQQAAIMAAAAC/AACIQQAAIEAAAAA/AACIQQAAIEAAAAC/AACIQQAAIEAAAAA/AACIQQAAIMAAAAC/AACIQQAAIMAAAAA/AACwQQAAIEAAAAC/AACIQQAAIEAAAAA/AACwQQAAIEAAAAA/AACIQQAAIEAAAAA/AACwQQAAIEAAAAC/AACIQQAAIEAAAAC/AACIQQAAIMAAAAC/AACwQQAAIMAAAAA/AACIQQAAIMAAAAA/AACwQQAAIMAAAAA/AACIQQAAIMAAAAC/AACwQQAAIMAAAAC/",
        "encoding": "base64",
        "path": [
         "array",
         "buffer"
        ]
       }
      ],
      "model_module": "jupyter-threejs",
      "model_module_version": "^2.4.1",
      "model_name": "BufferAttributeModel",
      "state": {
       "_model_module_version": "^2.4.1",
       "_view_module": null,
       "_view_module_version": "",
       "array": {
        "dtype": "float32",
        "shape": [
         24,
         3,
         3
        ]
       },
       "version": 2
      }
     },
     "aa178ccb9f114f6282bfa81681ac3d69": {
      "model_module": "jupyter-threejs",
      "model_module_version": "^2.4.1",
      "model_name": "AxesHelperModel",
      "state": {
       "_model_module_version": "^2.4.1",
       "_view_module": null,
       "_view_module_version": "",
       "size": 44,
       "type": "LineSegments"
      }
     },
     "aa3cd12b8f1d468da3a136443e2bd96a": {
      "model_module": "jupyter-threejs",
      "model_module_version": "^2.4.1",
      "model_name": "SceneModel",
      "state": {
       "_model_module_version": "^2.4.1",
       "_view_module": null,
       "_view_module_version": "",
       "children": [
        "IPY_MODEL_0ae3bd252d3744729e2a361430ef577b",
        "IPY_MODEL_a2a4202e96b9488cba4e6826935bf162",
        "IPY_MODEL_3a0ba1cdf15247e59fc4b96ae4fdf92f",
        "IPY_MODEL_ae64e4d7821a4885b9676a54a13db946",
        "IPY_MODEL_63552f06c7534b38b3130a122bfd2eef",
        "IPY_MODEL_7c2c4eb821ce420a89be84d84c282f96",
        "IPY_MODEL_b5a3755186a7431995b8be853791b63e"
       ]
      }
     },
     "aac7f591d8a342159f9431920be2486c": {
      "model_module": "jupyter-threejs",
      "model_module_version": "^2.4.1",
      "model_name": "BufferGeometryModel",
      "state": {
       "_model_module_version": "^2.4.1",
       "_view_module": null,
       "_view_module_version": "",
       "attributes": {
        "normal": "IPY_MODEL_cd2e758ec7f544b6888ed6a4fe2340e1",
        "position": "IPY_MODEL_eb6f1f4bca4149ee9d4bfc0a6c8762e7"
       }
      }
     },
     "ab259b7e97da41aa914396f9e6527e9d": {
      "model_module": "jupyter-threejs",
      "model_module_version": "^2.4.1",
      "model_name": "DirectionalLightModel",
      "state": {
       "_model_module_version": "^2.4.1",
       "_view_module": null,
       "_view_module_version": "",
       "color": "white",
       "intensity": 0.7,
       "matrixWorldNeedsUpdate": true,
       "position": [
        3,
        5,
        1
       ],
       "shadow": "IPY_MODEL_80477226-3522-46d8-ac72-6fa802562ff2",
       "target": "IPY_MODEL_cbeb6544-d85d-4c56-b3f0-9a1c456d13aa"
      }
     },
     "abb09d70-5f4b-4053-bf78-616b10cf55f9": {
      "model_module": "jupyter-threejs",
      "model_module_version": "^2.1.0",
      "model_name": "Object3DModel",
      "state": {
       "_view_module": null,
       "_view_module_version": ""
      }
     },
     "ac11c00bdc0145fd83379baec112c80f": {
      "model_module": "jupyter-threejs",
      "model_module_version": "^2.4.1",
      "model_name": "AxesHelperModel",
      "state": {
       "_model_module_version": "^2.4.1",
       "_view_module": null,
       "_view_module_version": "",
       "size": 44,
       "type": "LineSegments"
      }
     },
     "ac1a20813e324f179bfcca03a69b1fcf": {
      "model_module": "jupyter-threejs",
      "model_module_version": "^2.4.1",
      "model_name": "GridHelperModel",
      "state": {
       "_model_module_version": "^2.4.1",
       "_view_module": null,
       "_view_module_version": "",
       "colorCenterLine": "#ff0000",
       "colorGrid": "#ff0000",
       "divisions": 3,
       "matrix": [
        1,
        0,
        0,
        0,
        0,
        2.220446049250313e-16,
        1,
        0,
        0,
        -1,
        2.220446049250313e-16,
        0,
        5,
        5,
        0,
        1
       ],
       "matrixWorld": [
        1,
        0,
        0,
        0,
        0,
        2.220446049250313e-16,
        1,
        0,
        0,
        -1,
        2.220446049250313e-16,
        0,
        0,
        0,
        0,
        1
       ],
       "position": [
        5,
        5,
        0
       ],
       "quaternion": [
        0.7071067811865475,
        0,
        0,
        0.7071067811865476
       ],
       "rotation": [
        1.5707963267948963,
        0,
        0,
        "XYZ"
       ],
       "size": 30,
       "type": "LineSegments"
      }
     },
     "acb90641ef0c43e6a517512e2bf0ab6e": {
      "model_module": "jupyter-threejs",
      "model_module_version": "^2.4.1",
      "model_name": "OrbitControlsModel",
      "state": {
       "_model_module_version": "^2.4.1",
       "_view_module": null,
       "_view_module_version": "",
       "controlling": "IPY_MODEL_6f19d91346534ab9bca8a3b72bcbd337",
       "maxAzimuthAngle": "inf",
       "maxDistance": "inf",
       "maxZoom": "inf",
       "minAzimuthAngle": "-inf"
      }
     },
     "ae14aa0aed574c3793525ec024735692": {
      "model_module": "jupyter-threejs",
      "model_module_version": "^2.4.1",
      "model_name": "GridHelperModel",
      "state": {
       "_model_module_version": "^2.4.1",
       "_view_module": null,
       "_view_module_version": "",
       "colorCenterLine": "blue",
       "colorGrid": "blue",
       "divisions": 4,
       "matrix": [
        1,
        0,
        0,
        0,
        0,
        1,
        0,
        0,
        0,
        0,
        1,
        0,
        10,
        0,
        10,
        1
       ],
       "position": [
        10,
        0,
        10
       ],
       "size": 40,
       "type": "LineSegments"
      }
     },
     "ae64e4d7821a4885b9676a54a13db946": {
      "model_module": "jupyter-threejs",
      "model_module_version": "^2.4.1",
      "model_name": "GridHelperModel",
      "state": {
       "_model_module_version": "^2.4.1",
       "_view_module": null,
       "_view_module_version": "",
       "colorCenterLine": "blue",
       "colorGrid": "blue",
       "divisions": 4,
       "matrix": [
        1,
        0,
        0,
        0,
        0,
        1,
        0,
        0,
        0,
        0,
        1,
        0,
        10,
        0,
        10,
        1
       ],
       "position": [
        10,
        0,
        10
       ],
       "size": 40,
       "type": "LineSegments"
      }
     },
     "b103928c1a444e5fb3a6a33646c2a00b": {
      "model_module": "jupyter-threejs",
      "model_module_version": "^2.4.1",
      "model_name": "WebGLShadowMapModel",
      "state": {
       "_model_module_version": "^2.4.1",
       "_view_module": null,
       "_view_module_version": ""
      }
     },
     "b1a9ce18f8fc4b508dc545246e956c37": {
      "model_module": "jupyter-threejs",
      "model_module_version": "^2.4.1",
      "model_name": "GridHelperModel",
      "state": {
       "_model_module_version": "^2.4.1",
       "_view_module": null,
       "_view_module_version": "",
       "colorCenterLine": "#ff0000",
       "colorGrid": "#ff0000",
       "divisions": 4,
       "matrix": [
        1,
        0,
        0,
        0,
        0,
        2.220446049250313e-16,
        1,
        0,
        0,
        -1,
        2.220446049250313e-16,
        0,
        10,
        10,
        0,
        1
       ],
       "matrixWorld": [
        1,
        0,
        0,
        0,
        0,
        2.220446049250313e-16,
        1,
        0,
        0,
        -1,
        2.220446049250313e-16,
        0,
        0,
        0,
        0,
        1
       ],
       "position": [
        10,
        10,
        0
       ],
       "quaternion": [
        0.7071067811865475,
        0,
        0,
        0.7071067811865476
       ],
       "rotation": [
        1.5707963267948963,
        0,
        0,
        "XYZ"
       ],
       "size": 40,
       "type": "LineSegments"
      }
     },
     "b1e50fe2-b580-47ed-9cb0-7f42bbca31f9": {
      "model_module": "jupyter-threejs",
      "model_module_version": "^2.1.0",
      "model_name": "DirectionalLightShadowModel",
      "state": {
       "_view_module": null,
       "_view_module_version": "",
       "camera": "IPY_MODEL_6638b196-1983-4668-8e78-36ac088a8e99"
      }
     },
     "b1e92cfb8bd44d0d8bd3e99cb544f95a": {
      "model_module": "jupyter-threejs",
      "model_module_version": "^2.4.1",
      "model_name": "AmbientLightModel",
      "state": {
       "_model_module_version": "^2.4.1",
       "_view_module": null,
       "_view_module_version": "",
       "color": "#777777",
       "intensity": 0.5
      }
     },
     "b258899acd9645dd93df1abe8b565101": {
      "model_module": "jupyter-threejs",
      "model_module_version": "^2.4.1",
      "model_name": "PerspectiveCameraModel",
      "state": {
       "_model_module_version": "^2.4.1",
       "_view_module": null,
       "_view_module_version": "",
       "children": [
        "IPY_MODEL_4758538c8c7b4a6bb3a710ff79161378"
       ],
       "fov": 20,
       "matrix": [
        1,
        0,
        0,
        0,
        0,
        1,
        0,
        0,
        0,
        0,
        1,
        0,
        110,
        12.5,
        2.5,
        1
       ],
       "position": [
        57.866252779371585,
        10.230542223519347,
        31.382624367719185
       ],
       "projectionMatrix": [
        5.67128181961771,
        0,
        0,
        0,
        0,
        5.67128181961771,
        0,
        0,
        0,
        0,
        -1.00010000500025,
        -1,
        0,
        0,
        -0.200010000500025,
        0
       ],
       "quaternion": [
        0.3030247002985795,
        0.36166291948332324,
        0.6758238461550454,
        0.5662491436178574
       ],
       "up": [
        0,
        0,
        1
       ]
      }
     },
     "b3dad2dd-bbc1-418a-9b67-2ab504ab6417": {
      "model_module": "jupyter-threejs",
      "model_module_version": "^2.1.0",
      "model_name": "DirectionalLightShadowModel",
      "state": {
       "_view_module": null,
       "_view_module_version": "",
       "camera": "IPY_MODEL_9316f001-7988-4660-96f5-b83526ea1e02"
      }
     },
     "b3e16fc2da9945b09032a0b1848d306c": {
      "model_module": "jupyter-threejs",
      "model_module_version": "^2.4.1",
      "model_name": "SceneModel",
      "state": {
       "_model_module_version": "^2.4.1",
       "_view_module": null,
       "_view_module_version": "",
       "children": [
        "IPY_MODEL_fe37c06c3bc04cc489b8a153de319c1d",
        "IPY_MODEL_457ac04697e94c75afdfe67c5e931cef",
        "IPY_MODEL_fc531676a5534df38d47e382417799a3",
        "IPY_MODEL_4ce8404b26dc4f7bbadd2fe239fabb6d",
        "IPY_MODEL_b1a9ce18f8fc4b508dc545246e956c37",
        "IPY_MODEL_bfc16afdd8bc4973835520670a46c7c3",
        "IPY_MODEL_aa178ccb9f114f6282bfa81681ac3d69"
       ]
      }
     },
     "b42fd444c83d4f86904b0376f5af1350": {
      "buffers": [
       {
        "data": "AAAAQQAAYEAAACBAAABQQQAAYMAAACBAAABQQQAAYEAAACBAAABQQQAAYMAAACBAAAAAQQAAYEAAACBAAAAAQQAAYMAAACBAAAAAQQAAYMAAACDAAABQQQAAYEAAACDAAABQQQAAYMAAACDAAABQQQAAYEAAACDAAAAAQQAAYMAAACDAAAAAQQAAYEAAACDAAAAAQQAAYMAAACDAAABQQQAAYMAAACBAAAAAQQAAYMAAACBAAABQQQAAYMAAACBAAAAAQQAAYMAAACDAAABQQQAAYMAAACDAAABQQQAAYMAAACBAAABQQQAAYEAAACDAAABQQQAAYEAAACBAAABQQQAAYEAAACDAAABQQQAAYMAAACBAAABQQQAAYMAAACDAAABQQQAAYEAAACDAAAAAQQAAYEAAACBAAABQQQAAYEAAACBAAAAAQQAAYEAAACBAAABQQQAAYEAAACDAAAAAQQAAYEAAACDAAAAAQQAAYMAAACDAAAAAQQAAYEAAACBAAAAAQQAAYEAAACDAAAAAQQAAYEAAACBAAAAAQQAAYMAAACDAAAAAQQAAYMAAACBA",
        "encoding": "base64",
        "path": [
         "array",
         "buffer"
        ]
       }
      ],
      "model_module": "jupyter-threejs",
      "model_module_version": "^2.4.1",
      "model_name": "BufferAttributeModel",
      "state": {
       "_model_module_version": "^2.4.1",
       "_view_module": null,
       "_view_module_version": "",
       "array": {
        "dtype": "float32",
        "shape": [
         12,
         3,
         3
        ]
       },
       "version": 2
      }
     },
     "b434f875157c488c907dc518cf5a9847": {
      "model_module": "@jupyter-widgets/base",
      "model_module_version": "2.0.0",
      "model_name": "LayoutModel",
      "state": {}
     },
     "b4b0feaf014b4965b8fe49ce8ab43a2d": {
      "model_module": "jupyter-threejs",
      "model_module_version": "^2.4.1",
      "model_name": "DirectionalLightModel",
      "state": {
       "_model_module_version": "^2.4.1",
       "_view_module": null,
       "_view_module_version": "",
       "color": "white",
       "intensity": 0.7,
       "matrixWorldNeedsUpdate": true,
       "position": [
        3,
        5,
        1
       ],
       "shadow": "IPY_MODEL_5b38de2e-057c-41a6-879f-d6109c2fd815",
       "target": "IPY_MODEL_b707418f-55f9-48cf-a50a-12386489cfc9"
      }
     },
     "b53795b6424e4dad88476c49a4b99323": {
      "model_module": "jupyter-threejs",
      "model_module_version": "^2.4.1",
      "model_name": "RendererModel",
      "state": {
       "_height": 400,
       "_model_module_version": "^2.4.1",
       "_view_module_version": "^2.4.1",
       "_webgl_version": 2,
       "_width": 400,
       "camera": "IPY_MODEL_7c746addfdbb4a4fa95e0ce8640a693f",
       "controls": [
        "IPY_MODEL_cb497c4402bb4d96b204c1bc74b1e04e"
       ],
       "layout": "IPY_MODEL_6e1afd217b434f0d8b72660c294691c8",
       "scene": "IPY_MODEL_7566a0e87baf421cbe82fa3a15c0bcec",
       "shadowMap": "IPY_MODEL_f7c7286b7c93477fa0f21cb3ceaa6d60"
      }
     },
     "b54477c9c2bc4786a2c7ff363daa45a6": {
      "model_module": "jupyter-threejs",
      "model_module_version": "^2.4.1",
      "model_name": "MeshModel",
      "state": {
       "_model_module_version": "^2.4.1",
       "_view_module": null,
       "_view_module_version": "",
       "geometry": "IPY_MODEL_025b40948bbf4837a26b1ad680d3adf1",
       "material": "IPY_MODEL_0d9f8c28bcd643238c30dd4f4f789a26"
      }
     },
     "b5a3755186a7431995b8be853791b63e": {
      "model_module": "jupyter-threejs",
      "model_module_version": "^2.4.1",
      "model_name": "AxesHelperModel",
      "state": {
       "_model_module_version": "^2.4.1",
       "_view_module": null,
       "_view_module_version": "",
       "size": 44,
       "type": "LineSegments"
      }
     },
     "b6ce2733-4e35-4c0c-b397-648b307b3601": {
      "model_module": "jupyter-threejs",
      "model_module_version": "^2.1.0",
      "model_name": "Object3DModel",
      "state": {
       "_view_module": null,
       "_view_module_version": ""
      }
     },
     "b6d90e49e3224ea7b8f5bd8ff2d1be53": {
      "model_module": "jupyter-threejs",
      "model_module_version": "^2.4.1",
      "model_name": "WebGLShadowMapModel",
      "state": {
       "_model_module_version": "^2.4.1",
       "_view_module": null,
       "_view_module_version": ""
      }
     },
     "b707418f-55f9-48cf-a50a-12386489cfc9": {
      "model_module": "jupyter-threejs",
      "model_module_version": "^2.1.0",
      "model_name": "Object3DModel",
      "state": {
       "_view_module": null,
       "_view_module_version": ""
      }
     },
     "b73b953b14144d3bb1b9b300f9bb3a02": {
      "model_module": "jupyter-threejs",
      "model_module_version": "^2.4.1",
      "model_name": "GridHelperModel",
      "state": {
       "_model_module_version": "^2.4.1",
       "_view_module": null,
       "_view_module_version": "",
       "colorCenterLine": "blue",
       "colorGrid": "blue",
       "divisions": 4,
       "matrix": [
        1,
        0,
        0,
        0,
        0,
        1,
        0,
        0,
        0,
        0,
        1,
        0,
        10,
        0,
        10,
        1
       ],
       "position": [
        10,
        0,
        10
       ],
       "size": 40,
       "type": "LineSegments"
      }
     },
     "b94bf2f7-c64f-489b-b608-e57c3923571a": {
      "model_module": "jupyter-threejs",
      "model_module_version": "^2.1.0",
      "model_name": "OrthographicCameraModel",
      "state": {
       "_view_module": null,
       "_view_module_version": "",
       "bottom": -5,
       "far": 500,
       "left": -5,
       "near": 0.5,
       "projectionMatrix": [
        0.2,
        0,
        0,
        0,
        0,
        0.2,
        0,
        0,
        0,
        0,
        -0.004004004004004004,
        0,
        0,
        0,
        -1.002002002002002,
        1
       ],
       "right": 5,
       "top": 5
      }
     },
     "b9c91243312c4be1915ae812fbf8b832": {
      "model_module": "jupyter-threejs",
      "model_module_version": "^2.4.1",
      "model_name": "GridHelperModel",
      "state": {
       "_model_module_version": "^2.4.1",
       "_view_module": null,
       "_view_module_version": "",
       "colorCenterLine": "#ff0000",
       "colorGrid": "#ff0000",
       "divisions": 4,
       "matrix": [
        1,
        0,
        0,
        0,
        0,
        2.220446049250313e-16,
        1,
        0,
        0,
        -1,
        2.220446049250313e-16,
        0,
        10,
        10,
        0,
        1
       ],
       "matrixWorld": [
        1,
        0,
        0,
        0,
        0,
        2.220446049250313e-16,
        1,
        0,
        0,
        -1,
        2.220446049250313e-16,
        0,
        0,
        0,
        0,
        1
       ],
       "position": [
        10,
        10,
        0
       ],
       "quaternion": [
        0.7071067811865475,
        0,
        0,
        0.7071067811865476
       ],
       "rotation": [
        1.5707963267948963,
        0,
        0,
        "XYZ"
       ],
       "size": 40,
       "type": "LineSegments"
      }
     },
     "ba0aefa28c3d470292a215e229c6fbed": {
      "model_module": "@jupyter-widgets/base",
      "model_module_version": "2.0.0",
      "model_name": "LayoutModel",
      "state": {}
     },
     "baac29bf70d24327b1c7c79746f82ce7": {
      "model_module": "jupyter-threejs",
      "model_module_version": "^2.4.1",
      "model_name": "GridHelperModel",
      "state": {
       "_model_module_version": "^2.4.1",
       "_view_module": null,
       "_view_module_version": "",
       "colorCenterLine": "#ff0000",
       "colorGrid": "#ff0000",
       "divisions": 4,
       "matrix": [
        1,
        0,
        0,
        0,
        0,
        2.220446049250313e-16,
        1,
        0,
        0,
        -1,
        2.220446049250313e-16,
        0,
        10,
        10,
        0,
        1
       ],
       "matrixWorld": [
        1,
        0,
        0,
        0,
        0,
        2.220446049250313e-16,
        1,
        0,
        0,
        -1,
        2.220446049250313e-16,
        0,
        0,
        0,
        0,
        1
       ],
       "position": [
        10,
        10,
        0
       ],
       "quaternion": [
        0.7071067811865475,
        0,
        0,
        0.7071067811865476
       ],
       "rotation": [
        1.5707963267948963,
        0,
        0,
        "XYZ"
       ],
       "size": 40,
       "type": "LineSegments"
      }
     },
     "bb25d22d78b942f390f60d6e7575684d": {
      "model_module": "jupyter-threejs",
      "model_module_version": "^2.4.1",
      "model_name": "PerspectiveCameraModel",
      "state": {
       "_model_module_version": "^2.4.1",
       "_view_module": null,
       "_view_module_version": "",
       "children": [
        "IPY_MODEL_9d6908b8995f418297fef3ec9e9b91f2"
       ],
       "fov": 20,
       "matrix": [
        1,
        0,
        0,
        0,
        0,
        1,
        0,
        0,
        0,
        0,
        1,
        0,
        110,
        25,
        2.5,
        1
       ],
       "position": [
        91.03744589029655,
        -23.028803015755845,
        62.55483736236843
       ],
       "projectionMatrix": [
        5.67128181961771,
        0,
        0,
        0,
        0,
        5.67128181961771,
        0,
        0,
        0,
        0,
        -1.00010000500025,
        -1,
        0,
        0,
        -0.200010000500025,
        0
       ],
       "quaternion": [
        0.3724491179148008,
        0.28996599693756453,
        0.5415737428653593,
        0.69562867697019
       ],
       "up": [
        0,
        0,
        1
       ]
      }
     },
     "bb316845896546a6b78f63bc3458581c": {
      "model_module": "jupyter-threejs",
      "model_module_version": "^2.4.1",
      "model_name": "SceneModel",
      "state": {
       "_model_module_version": "^2.4.1",
       "_view_module": null,
       "_view_module_version": "",
       "children": [
        "IPY_MODEL_2a76b3eba15746e191e1a4698275c66f",
        "IPY_MODEL_b258899acd9645dd93df1abe8b565101",
        "IPY_MODEL_d3d9734b73f14591ac3ab359e300b89a",
        "IPY_MODEL_ce5525795ec844dcb9d384aa2fe8b973",
        "IPY_MODEL_997c081ec2a04a0f945b6f0b25d76d1e",
        "IPY_MODEL_c2decb4525544768b7f61352d00d0ded",
        "IPY_MODEL_325c9005d1bd492ca7e00849ac765e56"
       ]
      }
     },
     "bc6c4286bef349d0b6b4fb8dd3b830f7": {
      "model_module": "@jupyter-widgets/base",
      "model_module_version": "2.0.0",
      "model_name": "LayoutModel",
      "state": {}
     },
     "bd0421cafa894dea89372f84be1a4282": {
      "buffers": [
       {
        "data": "AAAAgAAAAAAAAMhBAAAAgAAAAAAAAMhBAAAAgAAAAAAAAMhBAAAAAAAAAAAAAMhBAAAAAAAAAAAAAMhBAAAAAAAAAAAAAMhBAAAAAAAAAAAAAMjBAAAAAAAAAAAAAMjBAAAAAAAAAAAAAMjBAAAAgAAAAAAAAMjBAAAAgAAAAAAAAMjBAAAAgAAAAAAAAMjBAAAAAAAADMIAAAAAAAAAAAAADMIAAAAAAAAAAAAADMIAAAAAAAAAAAAADMIAAACAAAAAAAAADMIAAACAAAAAAAAADMIAAACAAAAMQgAAAIAAAAAAAAAMQgAAAIAAAAAAAAAMQgAAAIAAAAAAAAAMQgAAAAAAAAAAAAAMQgAAAAAAAAAAAAAMQgAAAAAAAAAAAAAAAAAADEIAAACAAAAAAAAADEIAAACAAAAAAAAADEIAAACAAAAAAAAADEIAAAAAAAAAAAAADEIAAAAAAAAAAAAADEIAAAAAAAAMwgAAAAAAAAAAAAAMwgAAAAAAAAAAAAAMwgAAAAAAAAAAAAAMwgAAAIAAAAAAAAAMwgAAAIAAAAAAAAAMwgAAAIAAAAAA",
        "encoding": "base64",
        "path": [
         "array",
         "buffer"
        ]
       }
      ],
      "model_module": "jupyter-threejs",
      "model_module_version": "^2.4.1",
      "model_name": "BufferAttributeModel",
      "state": {
       "_model_module_version": "^2.4.1",
       "_view_module": null,
       "_view_module_version": "",
       "array": {
        "dtype": "float32",
        "shape": [
         36,
         3
        ]
       },
       "normalized": true,
       "version": 2
      }
     },
     "bd1b8255-d9c9-4708-864c-6528d9881fb8": {
      "model_module": "jupyter-threejs",
      "model_module_version": "^2.1.0",
      "model_name": "Object3DModel",
      "state": {
       "_view_module": null,
       "_view_module_version": ""
      }
     },
     "bf87a0b1b61549e09b755e8fb1ee5398": {
      "model_module": "jupyter-threejs",
      "model_module_version": "^2.4.1",
      "model_name": "SceneModel",
      "state": {
       "_model_module_version": "^2.4.1",
       "_view_module": null,
       "_view_module_version": "",
       "children": [
        "IPY_MODEL_b54477c9c2bc4786a2c7ff363daa45a6",
        "IPY_MODEL_6969e3dae5f14885b919614baa63cf71",
        "IPY_MODEL_8fea4bed6a7a49d2b303d4d7ee96bd51",
        "IPY_MODEL_317c2c3f0ec84f79a2728d7f65b726b4",
        "IPY_MODEL_1337932c1e8249ddb675b514ec6d10a2",
        "IPY_MODEL_ecd8e4cbc6b0442daaa33042c07c0d6a",
        "IPY_MODEL_f7339aea9d724477a4b7bfd214077a36"
       ]
      }
     },
     "bfc16afdd8bc4973835520670a46c7c3": {
      "model_module": "jupyter-threejs",
      "model_module_version": "^2.4.1",
      "model_name": "GridHelperModel",
      "state": {
       "_model_module_version": "^2.4.1",
       "_view_module": null,
       "_view_module_version": "",
       "colorCenterLine": "#008000",
       "colorGrid": "#008000",
       "divisions": 4,
       "matrix": [
        2.220446049250313e-16,
        1,
        0,
        0,
        -1,
        2.220446049250313e-16,
        0,
        0,
        0,
        0,
        1,
        0,
        0,
        10,
        10,
        1
       ],
       "matrixWorld": [
        2.220446049250313e-16,
        1,
        0,
        0,
        -1,
        2.220446049250313e-16,
        0,
        0,
        0,
        0,
        1,
        0,
        0,
        0,
        0,
        1
       ],
       "position": [
        0,
        10,
        10
       ],
       "quaternion": [
        0,
        0,
        0.7071067811865475,
        0.7071067811865476
       ],
       "rotation": [
        0,
        0,
        1.5707963267948963,
        "XYZ"
       ],
       "size": 40,
       "type": "LineSegments"
      }
     },
     "bfd71699b6324fc99b237b115a58c456": {
      "model_module": "jupyter-threejs",
      "model_module_version": "^2.4.1",
      "model_name": "OrbitControlsModel",
      "state": {
       "_model_module_version": "^2.4.1",
       "_view_module": null,
       "_view_module_version": "",
       "controlling": "IPY_MODEL_457ac04697e94c75afdfe67c5e931cef",
       "maxAzimuthAngle": "inf",
       "maxDistance": "inf",
       "maxZoom": "inf",
       "minAzimuthAngle": "-inf"
      }
     },
     "c002653368b0452bb781653e7924c947": {
      "model_module": "jupyter-threejs",
      "model_module_version": "^2.4.1",
      "model_name": "GridHelperModel",
      "state": {
       "_model_module_version": "^2.4.1",
       "_view_module": null,
       "_view_module_version": "",
       "colorCenterLine": "#008000",
       "colorGrid": "#008000",
       "divisions": 4,
       "matrix": [
        2.220446049250313e-16,
        1,
        0,
        0,
        -1,
        2.220446049250313e-16,
        0,
        0,
        0,
        0,
        1,
        0,
        0,
        10,
        10,
        1
       ],
       "matrixWorld": [
        2.220446049250313e-16,
        1,
        0,
        0,
        -1,
        2.220446049250313e-16,
        0,
        0,
        0,
        0,
        1,
        0,
        0,
        0,
        0,
        1
       ],
       "position": [
        0,
        10,
        10
       ],
       "quaternion": [
        0,
        0,
        0.7071067811865475,
        0.7071067811865476
       ],
       "rotation": [
        0,
        0,
        1.5707963267948963,
        "XYZ"
       ],
       "size": 40,
       "type": "LineSegments"
      }
     },
     "c02b083e77fb4afe9f4132d1f3b4dafd": {
      "model_module": "jupyter-threejs",
      "model_module_version": "^2.4.1",
      "model_name": "AxesHelperModel",
      "state": {
       "_model_module_version": "^2.4.1",
       "_view_module": null,
       "_view_module_version": "",
       "size": 7,
       "type": "LineSegments"
      }
     },
     "c07a8dab649a47b3a2cfa5d67dfcb824": {
      "model_module": "jupyter-threejs",
      "model_module_version": "^2.4.1",
      "model_name": "DirectionalLightModel",
      "state": {
       "_model_module_version": "^2.4.1",
       "_view_module": null,
       "_view_module_version": "",
       "color": "white",
       "intensity": 0.7,
       "matrixWorldNeedsUpdate": true,
       "position": [
        3,
        5,
        1
       ],
       "shadow": "IPY_MODEL_73d67239-91ec-44f0-bad5-872617eeeffc",
       "target": "IPY_MODEL_0fb4d188-80b8-4708-aa69-944fad07cbbd"
      }
     },
     "c0a463cb678946a48ea86ce1839b07e0": {
      "model_module": "jupyter-threejs",
      "model_module_version": "^2.4.1",
      "model_name": "MeshModel",
      "state": {
       "_model_module_version": "^2.4.1",
       "_view_module": null,
       "_view_module_version": "",
       "geometry": "IPY_MODEL_7e817883e01c42ef8713252010ffb0bf",
       "material": "IPY_MODEL_285a9441acdb4fc6984f5e94495b7d3f"
      }
     },
     "c1044cadb92e4617821d8e33c7f4efcb": {
      "model_module": "@jupyter-widgets/base",
      "model_module_version": "2.0.0",
      "model_name": "LayoutModel",
      "state": {}
     },
     "c1af937974054bf699c4ca8aae29ef53": {
      "model_module": "jupyter-threejs",
      "model_module_version": "^2.4.1",
      "model_name": "SceneModel",
      "state": {
       "_model_module_version": "^2.4.1",
       "_view_module": null,
       "_view_module_version": "",
       "children": [
        "IPY_MODEL_c0a463cb678946a48ea86ce1839b07e0",
        "IPY_MODEL_642fdf9c565b4659ab03756e72de746f",
        "IPY_MODEL_c59ccaabee19472981af2acf0fe4faf6",
        "IPY_MODEL_9395eef5bfe047a1b46688c6653e566f",
        "IPY_MODEL_48e9c728ae5f4ed6b9cdad2923ed0a85",
        "IPY_MODEL_2755c0f4620e4cfbb6bf02bb6823e34a",
        "IPY_MODEL_8708b8b9693c4d9386768279464ed740"
       ]
      }
     },
     "c1fc23c5-abdc-48d6-9a83-35bfe40d3568": {
      "model_module": "jupyter-threejs",
      "model_module_version": "^2.1.0",
      "model_name": "OrthographicCameraModel",
      "state": {
       "_view_module": null,
       "_view_module_version": "",
       "bottom": -5,
       "far": 500,
       "left": -5,
       "near": 0.5,
       "projectionMatrix": [
        0.2,
        0,
        0,
        0,
        0,
        0.2,
        0,
        0,
        0,
        0,
        -0.004004004004004004,
        0,
        0,
        0,
        -1.002002002002002,
        1
       ],
       "right": 5,
       "top": 5
      }
     },
     "c24e1334b03649bcacc656bf42a39e7d": {
      "model_module": "jupyter-threejs",
      "model_module_version": "^2.4.1",
      "model_name": "GridHelperModel",
      "state": {
       "_model_module_version": "^2.4.1",
       "_view_module": null,
       "_view_module_version": "",
       "colorCenterLine": "#ff0000",
       "colorGrid": "#ff0000",
       "divisions": 4,
       "matrix": [
        1,
        0,
        0,
        0,
        0,
        2.220446049250313e-16,
        1,
        0,
        0,
        -1,
        2.220446049250313e-16,
        0,
        10,
        10,
        0,
        1
       ],
       "matrixWorld": [
        1,
        0,
        0,
        0,
        0,
        2.220446049250313e-16,
        1,
        0,
        0,
        -1,
        2.220446049250313e-16,
        0,
        0,
        0,
        0,
        1
       ],
       "position": [
        10,
        10,
        0
       ],
       "quaternion": [
        0.7071067811865475,
        0,
        0,
        0.7071067811865476
       ],
       "rotation": [
        1.5707963267948963,
        0,
        0,
        "XYZ"
       ],
       "size": 40,
       "type": "LineSegments"
      }
     },
     "c29d0f64c03f4c84bfd76f4dd203ff4e": {
      "model_module": "jupyter-threejs",
      "model_module_version": "^2.4.1",
      "model_name": "GridHelperModel",
      "state": {
       "_model_module_version": "^2.4.1",
       "_view_module": null,
       "_view_module_version": "",
       "colorCenterLine": "blue",
       "colorGrid": "blue",
       "divisions": 3,
       "matrix": [
        1,
        0,
        0,
        0,
        0,
        1,
        0,
        0,
        0,
        0,
        1,
        0,
        5,
        0,
        5,
        1
       ],
       "position": [
        5,
        0,
        5
       ],
       "size": 30,
       "type": "LineSegments"
      }
     },
     "c2decb4525544768b7f61352d00d0ded": {
      "model_module": "jupyter-threejs",
      "model_module_version": "^2.4.1",
      "model_name": "GridHelperModel",
      "state": {
       "_model_module_version": "^2.4.1",
       "_view_module": null,
       "_view_module_version": "",
       "colorCenterLine": "#008000",
       "colorGrid": "#008000",
       "divisions": 4,
       "matrix": [
        2.220446049250313e-16,
        1,
        0,
        0,
        -1,
        2.220446049250313e-16,
        0,
        0,
        0,
        0,
        1,
        0,
        0,
        10,
        10,
        1
       ],
       "matrixWorld": [
        2.220446049250313e-16,
        1,
        0,
        0,
        -1,
        2.220446049250313e-16,
        0,
        0,
        0,
        0,
        1,
        0,
        0,
        0,
        0,
        1
       ],
       "position": [
        0,
        10,
        10
       ],
       "quaternion": [
        0,
        0,
        0.7071067811865475,
        0.7071067811865476
       ],
       "rotation": [
        0,
        0,
        1.5707963267948963,
        "XYZ"
       ],
       "size": 40,
       "type": "LineSegments"
      }
     },
     "c37308a3eb934a3fa1f65cb0a2b56e73": {
      "model_module": "jupyter-threejs",
      "model_module_version": "^2.4.1",
      "model_name": "AxesHelperModel",
      "state": {
       "_model_module_version": "^2.4.1",
       "_view_module": null,
       "_view_module_version": "",
       "size": 14,
       "type": "LineSegments"
      }
     },
     "c3bb531370524a9983296d1e9ac24dc3": {
      "model_module": "jupyter-threejs",
      "model_module_version": "^2.4.1",
      "model_name": "BufferGeometryModel",
      "state": {
       "_model_module_version": "^2.4.1",
       "_view_module": null,
       "_view_module_version": "",
       "attributes": {
        "normal": "IPY_MODEL_6c3a3adcd97347dd98ef4efa0ecee305",
        "position": "IPY_MODEL_78d5ed43952d4502afce4ddcf06d9f12"
       }
      }
     },
     "c3cfca3dfb8d4f1588ea5187d579e3fc": {
      "model_module": "@jupyter-widgets/base",
      "model_module_version": "2.0.0",
      "model_name": "LayoutModel",
      "state": {}
     },
     "c40f6097-1a54-49d5-b350-93828e1639ad": {
      "model_module": "jupyter-threejs",
      "model_module_version": "^2.1.0",
      "model_name": "OrthographicCameraModel",
      "state": {
       "_view_module": null,
       "_view_module_version": "",
       "bottom": -5,
       "far": 500,
       "left": -5,
       "near": 0.5,
       "projectionMatrix": [
        0.2,
        0,
        0,
        0,
        0,
        0.2,
        0,
        0,
        0,
        0,
        -0.004004004004004004,
        0,
        0,
        0,
        -1.002002002002002,
        1
       ],
       "right": 5,
       "top": 5
      }
     },
     "c4388d1a44d0489f9f7e8969fcb6967c": {
      "model_module": "jupyter-threejs",
      "model_module_version": "^2.4.1",
      "model_name": "PerspectiveCameraModel",
      "state": {
       "_model_module_version": "^2.4.1",
       "_view_module": null,
       "_view_module_version": "",
       "children": [
        "IPY_MODEL_5ee3e51a79ba4de085ede24517458662"
       ],
       "fov": 20,
       "matrix": [
        1,
        0,
        0,
        0,
        0,
        1,
        0,
        0,
        0,
        0,
        1,
        0,
        110,
        12.5,
        2.5,
        1
       ],
       "position": [
        49.58542644209392,
        -61.48905338331377,
        77.60722774703056
       ],
       "projectionMatrix": [
        5.67128181961771,
        0,
        0,
        0,
        0,
        5.67128181961771,
        0,
        0,
        0,
        0,
        -1.00010000500025,
        -1,
        0,
        0,
        -0.200010000500025,
        0
       ],
       "quaternion": [
        0.36470966609323274,
        0.12873181062456476,
        0.30694267753848276,
        0.86959828259777
       ],
       "up": [
        0,
        0,
        1
       ]
      }
     },
     "c43fc2b98c2249699b08def27dabd74c": {
      "model_module": "jupyter-threejs",
      "model_module_version": "^2.4.1",
      "model_name": "RendererModel",
      "state": {
       "_height": 400,
       "_model_module_version": "^2.4.1",
       "_view_module_version": "^2.4.1",
       "_webgl_version": 2,
       "_width": 400,
       "camera": "IPY_MODEL_9ebbafb92435408b9a1afe79db2f00a1",
       "controls": [
        "IPY_MODEL_1f513234812e45d8a990efb3f8f965b0"
       ],
       "layout": "IPY_MODEL_3333a1887918498f8766ae8b77d88684",
       "scene": "IPY_MODEL_7db9925acafb4e55a085814ada4744f7",
       "shadowMap": "IPY_MODEL_32ac7bdc5c224cd796766c13fee2ee69"
      }
     },
     "c4449241d7774baaa044c7a11f3f2c47": {
      "model_module": "jupyter-threejs",
      "model_module_version": "^2.4.1",
      "model_name": "RendererModel",
      "state": {
       "_height": 400,
       "_model_module_version": "^2.4.1",
       "_view_module_version": "^2.4.1",
       "_webgl_version": 2,
       "_width": 400,
       "camera": "IPY_MODEL_6969e3dae5f14885b919614baa63cf71",
       "controls": [
        "IPY_MODEL_f0b67a1ee6744f3e8e35d13f8c650de3"
       ],
       "layout": "IPY_MODEL_c1044cadb92e4617821d8e33c7f4efcb",
       "scene": "IPY_MODEL_bf87a0b1b61549e09b755e8fb1ee5398",
       "shadowMap": "IPY_MODEL_1be37a30e47c4127a51e98da8cf57977"
      }
     },
     "c456e712c70147299104405c29da22ce": {
      "buffers": [
       {
        "data": "AABQQQAAIMAAAAA/AABQQQAAIEAAAAC/AABQQQAAIEAAAAA/AABQQQAAIEAAAAC/AABQQQAAIMAAAAA/AABQQQAAIMAAAAC/AAAAQQAAIEAAAAA/AABQQQAAIMAAAAA/AABQQQAAIEAAAAA/AABQQQAAIMAAAAA/AAAAQQAAIEAAAAA/AAAAQQAAIMAAAAA/AAAAQQAAIMAAAAC/AABQQQAAIEAAAAC/AABQQQAAIMAAAAC/AABQQQAAIEAAAAC/AAAAQQAAIMAAAAC/AAAAQQAAIEAAAAC/AAAAQQAAIMAAAAC/AAAAQQAAIEAAAAA/AAAAQQAAIEAAAAC/AAAAQQAAIEAAAAA/AAAAQQAAIMAAAAC/AAAAQQAAIMAAAAA/AABQQQAAIEAAAAC/AAAAQQAAIEAAAAA/AABQQQAAIEAAAAA/AAAAQQAAIEAAAAA/AABQQQAAIEAAAAC/AAAAQQAAIEAAAAC/AAAAQQAAIMAAAAC/AABQQQAAIMAAAAA/AAAAQQAAIMAAAAA/AABQQQAAIMAAAAA/AAAAQQAAIMAAAAC/AABQQQAAIMAAAAC/AACwQQAAIMAAAAA/AACwQQAAIEAAAAC/AACwQQAAIEAAAAA/AACwQQAAIEAAAAC/AACwQQAAIMAAAAA/AACwQQAAIMAAAAC/AACIQQAAIEAAAAA/AACwQQAAIMAAAAA/AACwQQAAIEAAAAA/AACwQQAAIMAAAAA/AACIQQAAIEAAAAA/AACIQQAAIMAAAAA/AACIQQAAIMAAAAC/AACwQQAAIEAAAAC/AACwQQAAIMAAAAC/AACwQQAAIEAAAAC/AACIQQAAIMAAAAC/AACIQQAAIEAAAAC/AACIQQAAIMAAAAC/AACIQQAAIEAAAAA/AACIQQAAIEAAAAC/AACIQQAAIEAAAAA/AACIQQAAIMAAAAC/AACIQQAAIMAAAAA/AACwQQAAIEAAAAC/AACIQQAAIEAAAAA/AACwQQAAIEAAAAA/AACIQQAAIEAAAAA/AACwQQAAIEAAAAC/AACIQQAAIEAAAAC/AACIQQAAIMAAAAC/AACwQQAAIMAAAAA/AACIQQAAIMAAAAA/AACwQQAAIMAAAAA/AACIQQAAIMAAAAC/AACwQQAAIMAAAAC/Vg5jQRR5Fr8AAAAAqvF0QWh4c78AAIA/Vg5jQRR5Fr8AAIA/qvF0QWh4c78AAIA/Vg5jQRR5Fr8AAAAAqvF0QWh4c78AAAAAqvF0QWh4cz8AAAAAVg5jQRR5Fj8AAIA/qvF0QWh4cz8AAIA/Vg5jQRR5Fj8AAIA/qvF0QWh4cz8AAAAAVg5jQRR5Fj8AAAAAAACAQQAAAAAAAIA/qvF0QWh4cz8AAAAAqvF0QWh4cz8AAIA/qvF0QWh4cz8AAAAAAACAQQAAAAAAAIA/AACAQQAAAAAAAAAAVg5jQRR5Fr8AAAAAVg5jQRR5Fj8AAIA/Vg5jQRR5Fj8AAAAAVg5jQRR5Fj8AAIA/Vg5jQRR5Fr8AAAAAVg5jQRR5Fr8AAIA/qvF0QWh4cz8AAIA/qvF0QWh4c78AAIA/AACAQQAAAAAAAIA/Vg5jQRR5Fj8AAIA/qvF0QWh4c78AAIA/qvF0QWh4cz8AAIA/qvF0QWh4c78AAIA/Vg5jQRR5Fj8AAIA/Vg5jQRR5Fr8AAIA/qvF0QWh4c78AAIA/AACAQQAAAAAAAAAAAACAQQAAAAAAAIA/AACAQQAAAAAAAAAAqvF0QWh4c78AAIA/qvF0QWh4c78AAAAAqvF0QWh4c78AAAAAqvF0QWh4cz8AAAAAAACAQQAAAAAAAAAAVg5jQRR5Fr8AAAAAqvF0QWh4cz8AAAAAqvF0QWh4c78AAAAAqvF0QWh4cz8AAAAAVg5jQRR5Fr8AAAAAVg5jQRR5Fj8AAAAA",
        "encoding": "base64",
        "path": [
         "array",
         "buffer"
        ]
       }
      ],
      "model_module": "jupyter-threejs",
      "model_module_version": "^2.4.1",
      "model_name": "BufferAttributeModel",
      "state": {
       "_model_module_version": "^2.4.1",
       "_view_module": null,
       "_view_module_version": "",
       "array": {
        "dtype": "float32",
        "shape": [
         40,
         3,
         3
        ]
       },
       "version": 2
      }
     },
     "c49d0b93618e446580dfbe9e73442273": {
      "buffers": [
       {
        "data": "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",
        "encoding": "base64",
        "path": [
         "array",
         "buffer"
        ]
       }
      ],
      "model_module": "jupyter-threejs",
      "model_module_version": "^2.4.1",
      "model_name": "BufferAttributeModel",
      "state": {
       "_model_module_version": "^2.4.1",
       "_view_module": null,
       "_view_module_version": "",
       "array": {
        "dtype": "float32",
        "shape": [
         48,
         3,
         3
        ]
       },
       "version": 2
      }
     },
     "c59ccaabee19472981af2acf0fe4faf6": {
      "model_module": "jupyter-threejs",
      "model_module_version": "^2.4.1",
      "model_name": "AmbientLightModel",
      "state": {
       "_model_module_version": "^2.4.1",
       "_view_module": null,
       "_view_module_version": "",
       "color": "#777777",
       "intensity": 0.5
      }
     },
     "c5e033acfbf341dc9a72c77656dffc6a": {
      "model_module": "jupyter-threejs",
      "model_module_version": "^2.4.1",
      "model_name": "AxesHelperModel",
      "state": {
       "_model_module_version": "^2.4.1",
       "_view_module": null,
       "_view_module_version": "",
       "size": 26,
       "type": "LineSegments"
      }
     },
     "c73fb12f050a4763ad8608903905ec7b": {
      "model_module": "jupyter-threejs",
      "model_module_version": "^2.4.1",
      "model_name": "OrbitControlsModel",
      "state": {
       "_model_module_version": "^2.4.1",
       "_view_module": null,
       "_view_module_version": "",
       "controlling": "IPY_MODEL_d0edeb246ecf4f6f98cad2356018a687",
       "maxAzimuthAngle": "inf",
       "maxDistance": "inf",
       "maxZoom": "inf",
       "minAzimuthAngle": "-inf"
      }
     },
     "c816c192af3c48e48e35c10b2e934ecf": {
      "model_module": "jupyter-threejs",
      "model_module_version": "^2.4.1",
      "model_name": "PerspectiveCameraModel",
      "state": {
       "_model_module_version": "^2.4.1",
       "_view_module": null,
       "_view_module_version": "",
       "children": [
        "IPY_MODEL_d891a4313ed8411886b21e8f331eaa8a"
       ],
       "fov": 20,
       "matrix": [
        1,
        0,
        0,
        0,
        0,
        1,
        0,
        0,
        0,
        0,
        1,
        0,
        12.5,
        12.5,
        17.5,
        1
       ],
       "position": [
        12.5,
        12.5,
        17.5
       ],
       "projectionMatrix": [
        5.67128181961771,
        0,
        0,
        0,
        0,
        5.67128181961771,
        0,
        0,
        0,
        0,
        -1.00010000500025,
        -1,
        0,
        0,
        -0.200010000500025,
        0
       ],
       "up": [
        0,
        0,
        1
       ]
      }
     },
     "c8dc4f94-3d89-4028-a8c9-363e41f9738e": {
      "model_module": "jupyter-threejs",
      "model_module_version": "^2.1.0",
      "model_name": "DirectionalLightShadowModel",
      "state": {
       "_view_module": null,
       "_view_module_version": "",
       "camera": "IPY_MODEL_f7c7d5a3-7d92-4d11-874c-a8c278605a63"
      }
     },
     "ca5ece3935e94c799c97864bbd0785d2": {
      "model_module": "jupyter-threejs",
      "model_module_version": "^2.4.1",
      "model_name": "BufferGeometryModel",
      "state": {
       "_model_module_version": "^2.4.1",
       "_view_module": null,
       "_view_module_version": "",
       "attributes": {
        "normal": "IPY_MODEL_4a64e160cd984896b62d8e8efc4458ef",
        "position": "IPY_MODEL_5bf4eca56708480a8f63c94cdc2b0fc2"
       }
      }
     },
     "cb497c4402bb4d96b204c1bc74b1e04e": {
      "model_module": "jupyter-threejs",
      "model_module_version": "^2.4.1",
      "model_name": "OrbitControlsModel",
      "state": {
       "_model_module_version": "^2.4.1",
       "_view_module": null,
       "_view_module_version": "",
       "controlling": "IPY_MODEL_7c746addfdbb4a4fa95e0ce8640a693f",
       "maxAzimuthAngle": "inf",
       "maxDistance": "inf",
       "maxZoom": "inf",
       "minAzimuthAngle": "-inf"
      }
     },
     "cb60311b44654869acad0fa858032974": {
      "model_module": "jupyter-threejs",
      "model_module_version": "^2.4.1",
      "model_name": "GridHelperModel",
      "state": {
       "_model_module_version": "^2.4.1",
       "_view_module": null,
       "_view_module_version": "",
       "colorCenterLine": "blue",
       "colorGrid": "blue",
       "divisions": 4,
       "matrix": [
        1,
        0,
        0,
        0,
        0,
        1,
        0,
        0,
        0,
        0,
        1,
        0,
        10,
        0,
        10,
        1
       ],
       "position": [
        10,
        0,
        10
       ],
       "size": 40,
       "type": "LineSegments"
      }
     },
     "cba74fec-2b5e-4401-a017-65c9a38a6195": {
      "model_module": "jupyter-threejs",
      "model_module_version": "^2.1.0",
      "model_name": "Object3DModel",
      "state": {
       "_view_module": null,
       "_view_module_version": ""
      }
     },
     "cbeb6544-d85d-4c56-b3f0-9a1c456d13aa": {
      "model_module": "jupyter-threejs",
      "model_module_version": "^2.1.0",
      "model_name": "Object3DModel",
      "state": {
       "_view_module": null,
       "_view_module_version": ""
      }
     },
     "ccbea05cf13d43c3b6c41a165d09afb1": {
      "model_module": "jupyter-threejs",
      "model_module_version": "^2.4.1",
      "model_name": "BufferGeometryModel",
      "state": {
       "_model_module_version": "^2.4.1",
       "_view_module": null,
       "_view_module_version": "",
       "attributes": {
        "normal": "IPY_MODEL_27799861207e4d32a3b5f7e37b61abe1",
        "position": "IPY_MODEL_c49d0b93618e446580dfbe9e73442273"
       }
      }
     },
     "cd2e758ec7f544b6888ed6a4fe2340e1": {
      "buffers": [
       {
        "data": "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",
        "encoding": "base64",
        "path": [
         "array",
         "buffer"
        ]
       }
      ],
      "model_module": "jupyter-threejs",
      "model_module_version": "^2.4.1",
      "model_name": "BufferAttributeModel",
      "state": {
       "_model_module_version": "^2.4.1",
       "_view_module": null,
       "_view_module_version": "",
       "array": {
        "dtype": "float32",
        "shape": [
         396,
         3
        ]
       },
       "normalized": true,
       "version": 2
      }
     },
     "cd729eb22a9d4a4abeb3253a571c18a0": {
      "model_module": "jupyter-threejs",
      "model_module_version": "^2.4.1",
      "model_name": "OrbitControlsModel",
      "state": {
       "_model_module_version": "^2.4.1",
       "_view_module": null,
       "_view_module_version": "",
       "controlling": "IPY_MODEL_c4388d1a44d0489f9f7e8969fcb6967c",
       "maxAzimuthAngle": "inf",
       "maxDistance": "inf",
       "maxZoom": "inf",
       "minAzimuthAngle": "-inf"
      }
     },
     "ce5525795ec844dcb9d384aa2fe8b973": {
      "model_module": "jupyter-threejs",
      "model_module_version": "^2.4.1",
      "model_name": "GridHelperModel",
      "state": {
       "_model_module_version": "^2.4.1",
       "_view_module": null,
       "_view_module_version": "",
       "colorCenterLine": "blue",
       "colorGrid": "blue",
       "divisions": 4,
       "matrix": [
        1,
        0,
        0,
        0,
        0,
        1,
        0,
        0,
        0,
        0,
        1,
        0,
        10,
        0,
        10,
        1
       ],
       "position": [
        10,
        0,
        10
       ],
       "size": 40,
       "type": "LineSegments"
      }
     },
     "cfebfe6c-0679-4849-880d-ad8f95f1dc47": {
      "model_module": "jupyter-threejs",
      "model_module_version": "^2.1.0",
      "model_name": "OrthographicCameraModel",
      "state": {
       "_view_module": null,
       "_view_module_version": "",
       "bottom": -5,
       "far": 500,
       "left": -5,
       "near": 0.5,
       "projectionMatrix": [
        0.2,
        0,
        0,
        0,
        0,
        0.2,
        0,
        0,
        0,
        0,
        -0.004004004004004004,
        0,
        0,
        0,
        -1.002002002002002,
        1
       ],
       "right": 5,
       "top": 5
      }
     },
     "d0a7c1ac3dfb4a15b3ed40048e2837d7": {
      "buffers": [
       {
        "data": "8BYmQfLq9D8AAAA/AAAAQQAAIEAAAAA/AAAgQQAAAAAAAAA/AAAAQQAAIEAAAAA/8BYmQfLq9D8AAAA/KVwsQQAAIEAAAAA/AAAAQQAAIMAAAAA/AAAgQQAAAAAAAAA/AAAAQQAAIEAAAAA/8BYmQfLq9L8AAAA/AAAAQQAAIMAAAAA/KVwsQQAAIMAAAAA/AAAgQQAAAAAAAAA/AAAAQQAAIMAAAAA/8BYmQfLq9L8AAAA/AACwQQAAIEAAAAA/AACgQQAAAAAAAAA/AACwQQAAIMAAAAA/AACwQQAAIEAAAAA/iPScQfLq9D8AAAA/AACgQQAAAAAAAAA/iPScQfLq9D8AAAA/AACwQQAAIEAAAAA/7NGZQQAAIEAAAAA/iPScQfLq9L8AAAA/AACwQQAAIMAAAAA/AACgQQAAAAAAAAA/AACwQQAAIMAAAAA/iPScQfLq9L8AAAA/7NGZQQAAIMAAAAA/8BYmQfLq9L8AAAC/AAAAQQAAIMAAAAC/AAAgQQAAAAAAAAC/AAAAQQAAIMAAAAC/8BYmQfLq9L8AAAC/KVwsQQAAIMAAAAC/AAAAQQAAIEAAAAC/AAAgQQAAAAAAAAC/AAAAQQAAIMAAAAC/8BYmQfLq9D8AAAC/AAAAQQAAIEAAAAC/KVwsQQAAIEAAAAC/AAAgQQAAAAAAAAC/AAAAQQAAIEAAAAC/8BYmQfLq9D8AAAC/AACwQQAAIMAAAAC/AACgQQAAAAAAAAC/AACwQQAAIEAAAAC/AACwQQAAIMAAAAC/iPScQfLq9L8AAAC/AACgQQAAAAAAAAC/iPScQfLq9L8AAAC/AACwQQAAIMAAAAC/7NGZQQAAIMAAAAC/iPScQfLq9D8AAAC/AACwQQAAIEAAAAC/AACgQQAAAAAAAAC/AACwQQAAIEAAAAC/iPScQfLq9D8AAAC/7NGZQQAAIEAAAAC/AAAAQQAAIMAAAAC/AAAAQQAAIEAAAAA/AAAAQQAAIEAAAAC/AAAAQQAAIEAAAAA/AAAAQQAAIMAAAAC/AAAAQQAAIMAAAAA/KVwsQQAAIEAAAAC/AAAAQQAAIEAAAAA/KVwsQQAAIEAAAAA/AAAAQQAAIEAAAAA/KVwsQQAAIEAAAAC/AAAAQQAAIEAAAAC/AAAAQQAAIMAAAAC/KVwsQQAAIMAAAAA/AAAAQQAAIMAAAAA/KVwsQQAAIMAAAAA/AAAAQQAAIMAAAAC/KVwsQQAAIMAAAAC/AACwQQAAIMAAAAA/AACwQQAAIEAAAAC/AACwQQAAIEAAAAA/AACwQQAAIEAAAAC/AACwQQAAIMAAAAA/AACwQQAAIMAAAAC/AACwQQAAIEAAAAC/7NGZQQAAIEAAAAA/AACwQQAAIEAAAAA/7NGZQQAAIEAAAAA/AACwQQAAIEAAAAC/7NGZQQAAIEAAAAC/7NGZQQAAIMAAAAC/AACwQQAAIMAAAAA/7NGZQQAAIMAAAAA/AACwQQAAIMAAAAA/7NGZQQAAIMAAAAC/AACwQQAAIMAAAAC/7NGZQQAAIMAAAAC/iPScQfLq9L8AAAA/iPScQfLq9L8AAAC/iPScQfLq9L8AAAA/7NGZQQAAIMAAAAC/7NGZQQAAIMAAAAA/iPScQfLq9D8AAAC/7NGZQQAAIEAAAAA/7NGZQQAAIEAAAAC/7NGZQQAAIEAAAAA/iPScQfLq9D8AAAC/iPScQfLq9D8AAAA/AACgQQAAAAAAAAC/iPScQfLq9D8AAAA/iPScQfLq9D8AAAC/iPScQfLq9D8AAAA/AACgQQAAAAAAAAC/AACgQQAAAAAAAAA/8BYmQfLq9L8AAAA/AAAgQQAAAAAAAAC/AAAgQQAAAAAAAAA/AAAgQQAAAAAAAAC/8BYmQfLq9L8AAAA/8BYmQfLq9L8AAAC/8BYmQfLq9D8AAAA/KVwsQQAAIEAAAAC/KVwsQQAAIEAAAAA/KVwsQQAAIEAAAAC/8BYmQfLq9D8AAAA/8BYmQfLq9D8AAAC/iPScQfLq9L8AAAC/AACgQQAAAAAAAAA/AACgQQAAAAAAAAC/AACgQQAAAAAAAAA/iPScQfLq9L8AAAC/iPScQfLq9L8AAAA/AAAgQQAAAAAAAAA/8BYmQfLq9D8AAAC/8BYmQfLq9D8AAAA/8BYmQfLq9D8AAAC/AAAgQQAAAAAAAAA/AAAgQQAAAAAAAAC/KVwsQQAAIMAAAAA/8BYmQfLq9L8AAAC/8BYmQfLq9L8AAAA/8BYmQfLq9L8AAAC/KVwsQQAAIMAAAAA/KVwsQQAAIMAAAAC/",
        "encoding": "base64",
        "path": [
         "array",
         "buffer"
        ]
       }
      ],
      "model_module": "jupyter-threejs",
      "model_module_version": "^2.4.1",
      "model_name": "BufferAttributeModel",
      "state": {
       "_model_module_version": "^2.4.1",
       "_view_module": null,
       "_view_module_version": "",
       "array": {
        "dtype": "float32",
        "shape": [
         48,
         3,
         3
        ]
       },
       "version": 2
      }
     },
     "d0c91ed4ceee4c989cb3096bb090ef21": {
      "model_module": "jupyter-threejs",
      "model_module_version": "^2.4.1",
      "model_name": "AxesHelperModel",
      "state": {
       "_model_module_version": "^2.4.1",
       "_view_module": null,
       "_view_module_version": "",
       "size": 44,
       "type": "LineSegments"
      }
     },
     "d0edeb246ecf4f6f98cad2356018a687": {
      "model_module": "jupyter-threejs",
      "model_module_version": "^2.4.1",
      "model_name": "PerspectiveCameraModel",
      "state": {
       "_model_module_version": "^2.4.1",
       "_view_module": null,
       "_view_module_version": "",
       "children": [
        "IPY_MODEL_518cd32daee445a5b58b8703aaf848ff"
       ],
       "fov": 20,
       "matrix": [
        1,
        0,
        0,
        0,
        0,
        1,
        0,
        0,
        0,
        0,
        1,
        0,
        110,
        12.5,
        5,
        1
       ],
       "position": [
        85.04238672823955,
        -9.113820270822838,
        70.46971505288762
       ],
       "projectionMatrix": [
        5.67128181961771,
        0,
        0,
        0,
        0,
        5.67128181961771,
        0,
        0,
        0,
        0,
        -1.00010000500025,
        -1,
        0,
        0,
        -0.200010000500025,
        0
       ],
       "quaternion": [
        0.31737596260893847,
        0.28518074812144883,
        0.6044774884149984,
        0.6727194104962603
       ],
       "up": [
        0,
        0,
        1
       ]
      }
     },
     "d17bcae83fdd491f828eb7f7580e8d08": {
      "model_module": "jupyter-threejs",
      "model_module_version": "^2.4.1",
      "model_name": "SceneModel",
      "state": {
       "_model_module_version": "^2.4.1",
       "_view_module": null,
       "_view_module_version": "",
       "children": [
        "IPY_MODEL_f3bb02f911a74c64975b11aaeabdc22e",
        "IPY_MODEL_99da698cbd0047f3adcaf91ec227b37e",
        "IPY_MODEL_1b2498fba68d48da841d1c8c4b0f0bf8",
        "IPY_MODEL_15385fa7f05c46c386a1db162ff7e794",
        "IPY_MODEL_0c5599c85f4c436eb4300bdc0a033dfd",
        "IPY_MODEL_6fe5fc41e26a45af81ea04c929b9fbae",
        "IPY_MODEL_c5e033acfbf341dc9a72c77656dffc6a"
       ]
      }
     },
     "d29987810dba49ffac28d1801a6e86c9": {
      "model_module": "jupyter-threejs",
      "model_module_version": "^2.4.1",
      "model_name": "AmbientLightModel",
      "state": {
       "_model_module_version": "^2.4.1",
       "_view_module": null,
       "_view_module_version": "",
       "color": "#777777",
       "intensity": 0.5
      }
     },
     "d2e509b717634ff6ba94879c627a4569": {
      "model_module": "jupyter-threejs",
      "model_module_version": "^2.4.1",
      "model_name": "GridHelperModel",
      "state": {
       "_model_module_version": "^2.4.1",
       "_view_module": null,
       "_view_module_version": "",
       "colorCenterLine": "#ff0000",
       "colorGrid": "#ff0000",
       "divisions": 4,
       "matrix": [
        1,
        0,
        0,
        0,
        0,
        2.220446049250313e-16,
        1,
        0,
        0,
        -1,
        2.220446049250313e-16,
        0,
        10,
        10,
        0,
        1
       ],
       "matrixWorld": [
        1,
        0,
        0,
        0,
        0,
        2.220446049250313e-16,
        1,
        0,
        0,
        -1,
        2.220446049250313e-16,
        0,
        0,
        0,
        0,
        1
       ],
       "position": [
        10,
        10,
        0
       ],
       "quaternion": [
        0.7071067811865475,
        0,
        0,
        0.7071067811865476
       ],
       "rotation": [
        1.5707963267948963,
        0,
        0,
        "XYZ"
       ],
       "size": 40,
       "type": "LineSegments"
      }
     },
     "d3634178-b464-44db-b996-7af34d86afbf": {
      "model_module": "jupyter-threejs",
      "model_module_version": "^2.1.0",
      "model_name": "Object3DModel",
      "state": {
       "_view_module": null,
       "_view_module_version": ""
      }
     },
     "d3aa20fc27044588a18a4259e51f3019": {
      "model_module": "jupyter-threejs",
      "model_module_version": "^2.4.1",
      "model_name": "GridHelperModel",
      "state": {
       "_model_module_version": "^2.4.1",
       "_view_module": null,
       "_view_module_version": "",
       "colorCenterLine": "#008000",
       "colorGrid": "#008000",
       "divisions": 9,
       "matrix": [
        2.220446049250313e-16,
        1,
        0,
        0,
        -1,
        2.220446049250313e-16,
        0,
        0,
        0,
        0,
        1,
        0,
        0,
        3.5,
        3.5,
        1
       ],
       "matrixWorld": [
        2.220446049250313e-16,
        1,
        0,
        0,
        -1,
        2.220446049250313e-16,
        0,
        0,
        0,
        0,
        1,
        0,
        0,
        0,
        0,
        1
       ],
       "position": [
        0,
        3.5,
        3.5
       ],
       "quaternion": [
        0,
        0,
        0.7071067811865475,
        0.7071067811865476
       ],
       "rotation": [
        0,
        0,
        1.5707963267948963,
        "XYZ"
       ],
       "size": 9,
       "type": "LineSegments"
      }
     },
     "d3d9734b73f14591ac3ab359e300b89a": {
      "model_module": "jupyter-threejs",
      "model_module_version": "^2.4.1",
      "model_name": "AmbientLightModel",
      "state": {
       "_model_module_version": "^2.4.1",
       "_view_module": null,
       "_view_module_version": "",
       "color": "#777777",
       "intensity": 0.5
      }
     },
     "d417ba9bfa1547d1b7d71c74fdc3cb45": {
      "model_module": "jupyter-threejs",
      "model_module_version": "^2.4.1",
      "model_name": "MeshModel",
      "state": {
       "_model_module_version": "^2.4.1",
       "_view_module": null,
       "_view_module_version": "",
       "geometry": "IPY_MODEL_03c6d96409fa4c2491e1f0f32da8e391",
       "material": "IPY_MODEL_8de98c94e4e94909a711ced8e8038cf3"
      }
     },
     "d4bda918299245269ca43b4ae7977230": {
      "model_module": "jupyter-threejs",
      "model_module_version": "^2.4.1",
      "model_name": "GridHelperModel",
      "state": {
       "_model_module_version": "^2.4.1",
       "_view_module": null,
       "_view_module_version": "",
       "colorCenterLine": "blue",
       "colorGrid": "blue",
       "divisions": 4,
       "matrix": [
        1,
        0,
        0,
        0,
        0,
        1,
        0,
        0,
        0,
        0,
        1,
        0,
        10,
        0,
        10,
        1
       ],
       "position": [
        10,
        0,
        10
       ],
       "size": 40,
       "type": "LineSegments"
      }
     },
     "d4dcc4b9868247de91d6e9ba6ea5b0af": {
      "model_module": "jupyter-threejs",
      "model_module_version": "^2.4.1",
      "model_name": "OrbitControlsModel",
      "state": {
       "_model_module_version": "^2.4.1",
       "_view_module": null,
       "_view_module_version": "",
       "controlling": "IPY_MODEL_3c53724470c64ee48ef221c15e10a636",
       "maxAzimuthAngle": "inf",
       "maxDistance": "inf",
       "maxZoom": "inf",
       "minAzimuthAngle": "-inf"
      }
     },
     "d4fad29c-eb56-46a5-8838-0e1a495f7ae9": {
      "model_module": "jupyter-threejs",
      "model_module_version": "^2.1.0",
      "model_name": "OrthographicCameraModel",
      "state": {
       "_view_module": null,
       "_view_module_version": "",
       "bottom": -5,
       "far": 500,
       "left": -5,
       "near": 0.5,
       "projectionMatrix": [
        0.2,
        0,
        0,
        0,
        0,
        0.2,
        0,
        0,
        0,
        0,
        -0.004004004004004004,
        0,
        0,
        0,
        -1.002002002002002,
        1
       ],
       "right": 5,
       "top": 5
      }
     },
     "d625f4539a184e22b0b8437d4676ef6a": {
      "buffers": [
       {
        "data": "AABQQQAAIMAAAAA/AABQQQAAIEAAAAC/AABQQQAAIEAAAAA/AABQQQAAIEAAAAC/AABQQQAAIMAAAAA/AABQQQAAIMAAAAC/AAAAQQAAIEAAAAA/AABQQQAAIMAAAAA/AABQQQAAIEAAAAA/AABQQQAAIMAAAAA/AAAAQQAAIEAAAAA/AAAAQQAAIMAAAAA/AAAAQQAAIMAAAAC/AABQQQAAIEAAAAC/AABQQQAAIMAAAAC/AABQQQAAIEAAAAC/AAAAQQAAIMAAAAC/AAAAQQAAIEAAAAC/AAAAQQAAIMAAAAC/AAAAQQAAIEAAAAA/AAAAQQAAIEAAAAC/AAAAQQAAIEAAAAA/AAAAQQAAIMAAAAC/AAAAQQAAIMAAAAA/AABQQQAAIEAAAAC/AAAAQQAAIEAAAAA/AABQQQAAIEAAAAA/AAAAQQAAIEAAAAA/AABQQQAAIEAAAAC/AAAAQQAAIEAAAAC/AAAAQQAAIMAAAAC/AABQQQAAIMAAAAA/AAAAQQAAIMAAAAA/AABQQQAAIMAAAAA/AAAAQQAAIMAAAAC/AABQQQAAIMAAAAC/AACwQQAAIMAAAAA/AACwQQAAIEAAAAC/AACwQQAAIEAAAAA/AACwQQAAIEAAAAC/AACwQQAAIMAAAAA/AACwQQAAIMAAAAC/AACIQQAAIEAAAAA/AACwQQAAIMAAAAA/AACwQQAAIEAAAAA/AACwQQAAIMAAAAA/AACIQQAAIEAAAAA/AACIQQAAIMAAAAA/AACIQQAAIMAAAAC/AACwQQAAIEAAAAC/AACwQQAAIMAAAAC/AACwQQAAIEAAAAC/AACIQQAAIMAAAAC/AACIQQAAIEAAAAC/AACIQQAAIMAAAAC/AACIQQAAIEAAAAA/AACIQQAAIEAAAAC/AACIQQAAIEAAAAA/AACIQQAAIMAAAAC/AACIQQAAIMAAAAA/AACwQQAAIEAAAAC/AACIQQAAIEAAAAA/AACwQQAAIEAAAAA/AACIQQAAIEAAAAA/AACwQQAAIEAAAAC/AACIQQAAIEAAAAC/AACIQQAAIMAAAAC/AACwQQAAIMAAAAA/AACIQQAAIMAAAAA/AACwQQAAIMAAAAA/AACIQQAAIMAAAAC/AACwQQAAIMAAAAC/Vg5jQRR5Fr8AAAC/qvF0QWh4c78AAAA/Vg5jQRR5Fr8AAAA/qvF0QWh4c78AAAA/Vg5jQRR5Fr8AAAC/qvF0QWh4c78AAAC/qvF0QWh4cz8AAAC/Vg5jQRR5Fj8AAAA/qvF0QWh4cz8AAAA/Vg5jQRR5Fj8AAAA/qvF0QWh4cz8AAAC/Vg5jQRR5Fj8AAAC/AACAQQAAAAAAAAA/qvF0QWh4cz8AAAC/qvF0QWh4cz8AAAA/qvF0QWh4cz8AAAC/AACAQQAAAAAAAAA/AACAQQAAAAAAAAC/Vg5jQRR5Fr8AAAC/Vg5jQRR5Fj8AAAA/Vg5jQRR5Fj8AAAC/Vg5jQRR5Fj8AAAA/Vg5jQRR5Fr8AAAC/Vg5jQRR5Fr8AAAA/qvF0QWh4cz8AAAA/qvF0QWh4c78AAAA/AACAQQAAAAAAAAA/Vg5jQRR5Fj8AAAA/qvF0QWh4c78AAAA/qvF0QWh4cz8AAAA/qvF0QWh4c78AAAA/Vg5jQRR5Fj8AAAA/Vg5jQRR5Fr8AAAA/qvF0QWh4c78AAAA/AACAQQAAAAAAAAC/AACAQQAAAAAAAAA/AACAQQAAAAAAAAC/qvF0QWh4c78AAAA/qvF0QWh4c78AAAC/qvF0QWh4c78AAAC/qvF0QWh4cz8AAAC/AACAQQAAAAAAAAC/Vg5jQRR5Fr8AAAC/qvF0QWh4cz8AAAC/qvF0QWh4c78AAAC/qvF0QWh4cz8AAAC/Vg5jQRR5Fr8AAAC/Vg5jQRR5Fj8AAAC/",
        "encoding": "base64",
        "path": [
         "array",
         "buffer"
        ]
       }
      ],
      "model_module": "jupyter-threejs",
      "model_module_version": "^2.4.1",
      "model_name": "BufferAttributeModel",
      "state": {
       "_model_module_version": "^2.4.1",
       "_view_module": null,
       "_view_module_version": "",
       "array": {
        "dtype": "float32",
        "shape": [
         40,
         3,
         3
        ]
       },
       "version": 2
      }
     },
     "d693f19b696a4528b70fe1b49de18fe0": {
      "model_module": "jupyter-threejs",
      "model_module_version": "^2.4.1",
      "model_name": "MeshModel",
      "state": {
       "_model_module_version": "^2.4.1",
       "_view_module": null,
       "_view_module_version": "",
       "geometry": "IPY_MODEL_c3bb531370524a9983296d1e9ac24dc3",
       "material": "IPY_MODEL_772cb2b62cf94c75b3121a8729e51a2b"
      }
     },
     "d6c381bfa71f4857809218e92d577a44": {
      "model_module": "jupyter-threejs",
      "model_module_version": "^2.4.1",
      "model_name": "GridHelperModel",
      "state": {
       "_model_module_version": "^2.4.1",
       "_view_module": null,
       "_view_module_version": "",
       "colorCenterLine": "#008000",
       "colorGrid": "#008000",
       "divisions": 9,
       "matrix": [
        2.220446049250313e-16,
        1,
        0,
        0,
        -1,
        2.220446049250313e-16,
        0,
        0,
        0,
        0,
        1,
        0,
        0,
        1.5,
        -0.5,
        1
       ],
       "matrixWorld": [
        2.220446049250313e-16,
        1,
        0,
        0,
        -1,
        2.220446049250313e-16,
        0,
        0,
        0,
        0,
        1,
        0,
        0,
        0,
        0,
        1
       ],
       "position": [
        0,
        1.5,
        -0.5
       ],
       "quaternion": [
        0,
        0,
        0.7071067811865475,
        0.7071067811865476
       ],
       "rotation": [
        0,
        0,
        1.5707963267948963,
        "XYZ"
       ],
       "size": 9,
       "type": "LineSegments"
      }
     },
     "d776b1bdd3124673a7982ead43875409": {
      "model_module": "jupyter-threejs",
      "model_module_version": "^2.4.1",
      "model_name": "MeshLambertMaterialModel",
      "state": {
       "_model_module_version": "^2.4.1",
       "_view_module": null,
       "_view_module_version": "",
       "color": "#ebcc34",
       "transparent": true
      }
     },
     "d7b9f51b728b47b094872d0dcbcd36c0": {
      "model_module": "@jupyter-widgets/base",
      "model_module_version": "2.0.0",
      "model_name": "LayoutModel",
      "state": {}
     },
     "d81b0f1a7657497f8ae96372650169f3": {
      "buffers": [
       {
        "data": "AAAAgAAAAAAAAMhBAAAAgAAAAAAAAMhBAAAAgAAAAAAAAMhBAAAAAAAAAAAAAMhBAAAAAAAAAAAAAMhBAAAAAAAAAAAAAMhBAAAAAAAAAAAAAMjBAAAAAAAAAAAAAMjBAAAAAAAAAAAAAMjBAAAAgAAAAAAAAMjBAAAAgAAAAAAAAMjBAAAAgAAAAAAAAMjBAAAAAAAADMIAAAAAAAAAAAAADMIAAAAAAAAAAAAADMIAAAAAAAAAAAAADMIAAACAAAAAAAAADMIAAACAAAAAAAAADMIAAACAAAAMQgAAAIAAAAAAAAAMQgAAAIAAAAAAAAAMQgAAAIAAAAAAAAAMQgAAAAAAAAAAAAAMQgAAAAAAAAAAAAAMQgAAAAAAAAAAAAAAAAAADEIAAACAAAAAAAAADEIAAACAAAAAAAAADEIAAACAAAAAAAAADEIAAAAAAAAAAAAADEIAAAAAAAAAAAAADEIAAAAAAAAMwgAAAAAAAAAAAAAMwgAAAAAAAAAAAAAMwgAAAAAAAAAAAAAMwgAAAIAAAAAAAAAMwgAAAIAAAAAAAAAMwgAAAIAAAAAA",
        "encoding": "base64",
        "path": [
         "array",
         "buffer"
        ]
       }
      ],
      "model_module": "jupyter-threejs",
      "model_module_version": "^2.4.1",
      "model_name": "BufferAttributeModel",
      "state": {
       "_model_module_version": "^2.4.1",
       "_view_module": null,
       "_view_module_version": "",
       "array": {
        "dtype": "float32",
        "shape": [
         36,
         3
        ]
       },
       "normalized": true,
       "version": 2
      }
     },
     "d871d8f14132499e8592ca7f0ba783a3": {
      "model_module": "jupyter-threejs",
      "model_module_version": "^2.4.1",
      "model_name": "GridHelperModel",
      "state": {
       "_model_module_version": "^2.4.1",
       "_view_module": null,
       "_view_module_version": "",
       "colorCenterLine": "#ff0000",
       "colorGrid": "#ff0000",
       "divisions": 4,
       "matrix": [
        1,
        0,
        0,
        0,
        0,
        2.220446049250313e-16,
        1,
        0,
        0,
        -1,
        2.220446049250313e-16,
        0,
        10,
        10,
        0,
        1
       ],
       "matrixWorld": [
        1,
        0,
        0,
        0,
        0,
        2.220446049250313e-16,
        1,
        0,
        0,
        -1,
        2.220446049250313e-16,
        0,
        0,
        0,
        0,
        1
       ],
       "position": [
        10,
        10,
        0
       ],
       "quaternion": [
        0.7071067811865475,
        0,
        0,
        0.7071067811865476
       ],
       "rotation": [
        1.5707963267948963,
        0,
        0,
        "XYZ"
       ],
       "size": 40,
       "type": "LineSegments"
      }
     },
     "d891a4313ed8411886b21e8f331eaa8a": {
      "model_module": "jupyter-threejs",
      "model_module_version": "^2.4.1",
      "model_name": "DirectionalLightModel",
      "state": {
       "_model_module_version": "^2.4.1",
       "_view_module": null,
       "_view_module_version": "",
       "color": "white",
       "intensity": 0.7,
       "matrixWorldNeedsUpdate": true,
       "position": [
        3,
        5,
        1
       ],
       "shadow": "IPY_MODEL_e4cfaae0-ef04-44a6-8496-1af06e02462a",
       "target": "IPY_MODEL_bd1b8255-d9c9-4708-864c-6528d9881fb8"
      }
     },
     "d8afbc93-9013-4ad0-bdd9-e9276b2596b9": {
      "model_module": "jupyter-threejs",
      "model_module_version": "^2.1.0",
      "model_name": "OrthographicCameraModel",
      "state": {
       "_view_module": null,
       "_view_module_version": "",
       "bottom": -5,
       "far": 500,
       "left": -5,
       "near": 0.5,
       "projectionMatrix": [
        0.2,
        0,
        0,
        0,
        0,
        0.2,
        0,
        0,
        0,
        0,
        -0.004004004004004004,
        0,
        0,
        0,
        -1.002002002002002,
        1
       ],
       "right": 5,
       "top": 5
      }
     },
     "d9b4314c7bd84e2993364b4780cf0832": {
      "model_module": "jupyter-threejs",
      "model_module_version": "^2.4.1",
      "model_name": "AmbientLightModel",
      "state": {
       "_model_module_version": "^2.4.1",
       "_view_module": null,
       "_view_module_version": "",
       "color": "#777777",
       "intensity": 0.5
      }
     },
     "da1eae55-b8ed-4f05-9267-95ffde273f6c": {
      "model_module": "jupyter-threejs",
      "model_module_version": "^2.1.0",
      "model_name": "DirectionalLightShadowModel",
      "state": {
       "_view_module": null,
       "_view_module_version": "",
       "camera": "IPY_MODEL_7ff73f24-daed-4c6c-a83f-da8aac0e988d"
      }
     },
     "dbbf2b03248448f2aacac551f6253830": {
      "model_module": "jupyter-threejs",
      "model_module_version": "^2.4.1",
      "model_name": "RendererModel",
      "state": {
       "_height": 400,
       "_model_module_version": "^2.4.1",
       "_view_module_version": "^2.4.1",
       "_webgl_version": 2,
       "_width": 400,
       "camera": "IPY_MODEL_c816c192af3c48e48e35c10b2e934ecf",
       "controls": [
        "IPY_MODEL_529b2b56f3074df1939c2307ed7d6adc"
       ],
       "layout": "IPY_MODEL_36a1ffe3871a4b589fab4d96d38ad37e",
       "scene": "IPY_MODEL_628fb81348b54ac1bb5b0d69bbc6b068",
       "shadowMap": "IPY_MODEL_349d542cbc4e403cbcf7795994a3e30e"
      }
     },
     "dc30aa0fb26147469e4da3218a1978ec": {
      "model_module": "jupyter-threejs",
      "model_module_version": "^2.4.1",
      "model_name": "BufferGeometryModel",
      "state": {
       "_model_module_version": "^2.4.1",
       "_view_module": null,
       "_view_module_version": "",
       "attributes": {
        "normal": "IPY_MODEL_bd0421cafa894dea89372f84be1a4282",
        "position": "IPY_MODEL_e5f5e8ed5f7a4b659a4dcc98f5b32c56"
       }
      }
     },
     "dc456614741e42438fa6789b1cc8a7e2": {
      "buffers": [
       {
        "data": "AAAAgAAAAAAAAMhBAAAAgAAAAAAAAMhBAAAAgAAAAAAAAMhBAAAAAAAAAAAAAMhBAAAAAAAAAAAAAMhBAAAAAAAAAAAAAMhBAAAAAAAAAAAAAMjBAAAAAAAAAAAAAMjBAAAAAAAAAAAAAMjBAAAAgAAAAAAAAMjBAAAAgAAAAAAAAMjBAAAAgAAAAAAAAMjBAAAAAAAAoMAAAAAAAAAAAAAAoMAAAAAAAAAAAAAAoMAAAAAAAAAAAAAAoMAAAACAAAAAAAAAoMAAAACAAAAAAAAAoMAAAACAAACgQAAAAIAAAAAAAACgQAAAAIAAAAAAAACgQAAAAIAAAAAAAACgQAAAAAAAAAAAAACgQAAAAAAAAAAAAACgQAAAAAAAAAAAAAAAAAAAoEAAAACAAAAAAAAAoEAAAACAAAAAAAAAoEAAAACAAAAAAAAAoEAAAAAAAAAAAAAAoEAAAAAAAAAAAAAAoEAAAAAAAACgwAAAAAAAAAAAAACgwAAAAAAAAAAAAACgwAAAAAAAAAAAAACgwAAAAIAAAAAAAACgwAAAAIAAAAAAAACgwAAAAIAAAAAA",
        "encoding": "base64",
        "path": [
         "array",
         "buffer"
        ]
       }
      ],
      "model_module": "jupyter-threejs",
      "model_module_version": "^2.4.1",
      "model_name": "BufferAttributeModel",
      "state": {
       "_model_module_version": "^2.4.1",
       "_view_module": null,
       "_view_module_version": "",
       "array": {
        "dtype": "float32",
        "shape": [
         36,
         3
        ]
       },
       "normalized": true,
       "version": 2
      }
     },
     "dc5a2468377241dcb3c6858724850932": {
      "buffers": [
       {
        "data": "AACgQAAAAIAAAAAAAACgQAAAAIAAAAAAAACgQAAAAIAAAAAAAACgQAAAAAAAAAAAAACgQAAAAAAAAAAAAACgQAAAAAAAAAAAAAAAgAAAAAAAAMhBAAAAgAAAAAAAAMhBAAAAgAAAAAAAAMhBAAAAAAAAAAAAAMhBAAAAAAAAAAAAAMhBAAAAAAAAAAAAAMhBAAAAAAAAAAAAAMjBAAAAAAAAAAAAAMjBAAAAAAAAAAAAAMjBAAAAgAAAAAAAAMjBAAAAgAAAAAAAAMjBAAAAgAAAAAAAAMjBAACgwAAAAAAAAAAAAACgwAAAAAAAAAAAAACgwAAAAAAAAAAAAACgwAAAAIAAAAAAAACgwAAAAIAAAAAAAACgwAAAAIAAAAAAAAAAAAAAoEAAAACAAAAAAAAAoEAAAACAAAAAAAAAoEAAAACAAAAAAAAAoEAAAAAAAAAAAAAAoEAAAAAAAAAAAAAAoEAAAAAAAAAAAAAAoMAAAAAAAAAAAAAAoMAAAAAAAAAAAAAAoMAAAAAAAAAAAAAAoMAAAACAAAAAAAAAoMAAAACAAAAAAAAAoMAAAACAAACgQAAAAIAAAAAAAACgQAAAAIAAAAAAAACgQAAAAIAAAAAAAACgQAAAAAAAAAAAAACgQAAAAAAAAAAAAACgQAAAAAAAAAAAAAAAgAAAAAAAAMhBAAAAgAAAAAAAAMhBAAAAgAAAAAAAAMhBAAAAAAAAAAAAAMhBAAAAAAAAAAAAAMhBAAAAAAAAAAAAAMhBAAAAAAAAAAAAAMjBAAAAAAAAAAAAAMjBAAAAAAAAAAAAAMjBAAAAgAAAAAAAAMjBAAAAgAAAAAAAAMjBAAAAgAAAAAAAAMjBAACgwAAAAAAAAAAAAACgwAAAAAAAAAAAAACgwAAAAAAAAAAAAACgwAAAAIAAAAAAAACgwAAAAIAAAAAAAACgwAAAAIAAAAAAAAAAAAAAoEAAAACAAAAAAAAAoEAAAACAAAAAAAAAoEAAAACAAAAAAAAAoEAAAAAAAAAAAAAAoEAAAAAAAAAAAAAAoEAAAAAAAAAAAAAAoMAAAAAAAAAAAAAAoMAAAAAAAAAAAAAAoMAAAAAAAAAAAAAAoMAAAACAAAAAAAAAoMAAAACAAAAAAAAAoMAAAACAqP65vqAaj78AAAAAqP65vqAaj78AAAAAqP65vqAaj78AAAAAqP65vqAaj78AAACAqP65vqAaj78AAACAqP65vqAaj78AAACAqP65vqAajz8AAAAAqP65vqAajz8AAAAAqP65vqAajz8AAAAAqP65vqAajz8AAAAAqP65vqAajz8AAAAAqP65vqAajz8AAAAAaHhzP2DlMD8AAAAAaHhzP2DlMD8AAAAAaHhzP2DlMD8AAAAAaHhzP2DlMD8AAAAAaHhzP2DlMD8AAAAAaHhzP2DlMD8AAAAAFHmWvwAAAAAAAAAAFHmWvwAAAAAAAAAAFHmWvwAAAAAAAAAAFHmWvwAAAIAAAAAAFHmWvwAAAIAAAAAAFHmWvwAAAIAAAAAAAAAAAAAAAADuPKg/AAAAAAAAAADuPKg/AAAAAAAAAADuPKg/AAAAgAAAAACUGQhAAAAAgAAAAACUGQhAAAAAgAAAAACUGQhAAAAAAAAAAACROqg/AAAAAAAAAACROqg/AAAAAAAAAACROqg/aHhzP2DlML8AAAAAaHhzP2DlML8AAAAAaHhzP2DlML8AAAAAaHhzP2DlML8AAAAAaHhzP2DlML8AAAAAaHhzP2DlML8AAAAAAAAAAAAAAADuPKi/AAAAAAAAAADuPKi/AAAAAAAAAADuPKi/AAAAAAAAAACUGQjAAAAAAAAAAACUGQjAAAAAAAAAAACUGQjAAAAAAAAAAACROqi/AAAAAAAAAACROqi/AAAAAAAAAACROqi/",
        "encoding": "base64",
        "path": [
         "array",
         "buffer"
        ]
       }
      ],
      "model_module": "jupyter-threejs",
      "model_module_version": "^2.4.1",
      "model_name": "BufferAttributeModel",
      "state": {
       "_model_module_version": "^2.4.1",
       "_view_module": null,
       "_view_module_version": "",
       "array": {
        "dtype": "float32",
        "shape": [
         120,
         3
        ]
       },
       "normalized": true,
       "version": 2
      }
     },
     "dcb45a95-140d-46d7-b246-8ba14d0b8a6d": {
      "model_module": "jupyter-threejs",
      "model_module_version": "^2.1.0",
      "model_name": "Object3DModel",
      "state": {
       "_view_module": null,
       "_view_module_version": ""
      }
     },
     "dde8c554-4d74-41e3-90b7-969d1711f67a": {
      "model_module": "jupyter-threejs",
      "model_module_version": "^2.1.0",
      "model_name": "Object3DModel",
      "state": {
       "_view_module": null,
       "_view_module_version": ""
      }
     },
     "ddfac528902b4afb856f6d12ceccef6a": {
      "model_module": "jupyter-threejs",
      "model_module_version": "^2.4.1",
      "model_name": "OrbitControlsModel",
      "state": {
       "_model_module_version": "^2.4.1",
       "_view_module": null,
       "_view_module_version": "",
       "controlling": "IPY_MODEL_bb25d22d78b942f390f60d6e7575684d",
       "maxAzimuthAngle": "inf",
       "maxDistance": "inf",
       "maxZoom": "inf",
       "minAzimuthAngle": "-inf"
      }
     },
     "ded6a3b26d1847bdaccfff808b5c4bc5": {
      "model_module": "jupyter-threejs",
      "model_module_version": "^2.4.1",
      "model_name": "GridHelperModel",
      "state": {
       "_model_module_version": "^2.4.1",
       "_view_module": null,
       "_view_module_version": "",
       "colorCenterLine": "#008000",
       "colorGrid": "#008000",
       "divisions": 3,
       "matrix": [
        2.220446049250313e-16,
        1,
        0,
        0,
        -1,
        2.220446049250313e-16,
        0,
        0,
        0,
        0,
        1,
        0,
        0,
        5,
        5,
        1
       ],
       "matrixWorld": [
        2.220446049250313e-16,
        1,
        0,
        0,
        -1,
        2.220446049250313e-16,
        0,
        0,
        0,
        0,
        1,
        0,
        0,
        0,
        0,
        1
       ],
       "position": [
        0,
        5,
        5
       ],
       "quaternion": [
        0,
        0,
        0.7071067811865475,
        0.7071067811865476
       ],
       "rotation": [
        0,
        0,
        1.5707963267948963,
        "XYZ"
       ],
       "size": 30,
       "type": "LineSegments"
      }
     },
     "df6b388d9e12444f9a79228654d6aa5b": {
      "model_module": "jupyter-threejs",
      "model_module_version": "^2.4.1",
      "model_name": "GridHelperModel",
      "state": {
       "_model_module_version": "^2.4.1",
       "_view_module": null,
       "_view_module_version": "",
       "colorCenterLine": "blue",
       "colorGrid": "blue",
       "divisions": 4,
       "matrix": [
        1,
        0,
        0,
        0,
        0,
        1,
        0,
        0,
        0,
        0,
        1,
        0,
        10,
        0,
        10,
        1
       ],
       "position": [
        10,
        0,
        10
       ],
       "size": 40,
       "type": "LineSegments"
      }
     },
     "e16d50784a8048f7a9b4dbacbfb7090c": {
      "model_module": "jupyter-threejs",
      "model_module_version": "^2.4.1",
      "model_name": "SceneModel",
      "state": {
       "_model_module_version": "^2.4.1",
       "_view_module": null,
       "_view_module_version": "",
       "children": [
        "IPY_MODEL_45181e6e5afb463491c25bafdbe1ee10",
        "IPY_MODEL_6f19d91346534ab9bca8a3b72bcbd337",
        "IPY_MODEL_f54406610e9a457fb28fdb05334668c6",
        "IPY_MODEL_f86a0566fc1e4a46a4e348b7bd20f343",
        "IPY_MODEL_c24e1334b03649bcacc656bf42a39e7d",
        "IPY_MODEL_7dd4f483c6f04b2881468d6aef8be929",
        "IPY_MODEL_5f6699ee698c4e5c9462ab6a1ba8dd05"
       ]
      }
     },
     "e37d2ee8e9cb4449895be67baa38f58a": {
      "model_module": "@jupyter-widgets/base",
      "model_module_version": "2.0.0",
      "model_name": "LayoutModel",
      "state": {}
     },
     "e3e1658ce851480c91277504c7e17fb3": {
      "model_module": "jupyter-threejs",
      "model_module_version": "^2.4.1",
      "model_name": "MeshLambertMaterialModel",
      "state": {
       "_model_module_version": "^2.4.1",
       "_view_module": null,
       "_view_module_version": "",
       "color": "#ebcc34",
       "transparent": true
      }
     },
     "e41c6e34a409464b926212158253e9b4": {
      "model_module": "jupyter-threejs",
      "model_module_version": "^2.4.1",
      "model_name": "GridHelperModel",
      "state": {
       "_model_module_version": "^2.4.1",
       "_view_module": null,
       "_view_module_version": "",
       "colorCenterLine": "blue",
       "colorGrid": "blue",
       "divisions": 4,
       "matrix": [
        1,
        0,
        0,
        0,
        0,
        1,
        0,
        0,
        0,
        0,
        1,
        0,
        10,
        0,
        10,
        1
       ],
       "position": [
        10,
        0,
        10
       ],
       "size": 40,
       "type": "LineSegments"
      }
     },
     "e4cfaae0-ef04-44a6-8496-1af06e02462a": {
      "model_module": "jupyter-threejs",
      "model_module_version": "^2.1.0",
      "model_name": "DirectionalLightShadowModel",
      "state": {
       "_view_module": null,
       "_view_module_version": "",
       "camera": "IPY_MODEL_774c61a6-99e7-4693-b0cf-9b96ed8f6cf7"
      }
     },
     "e4f76ff4-482f-476d-b5ed-e3f8a7447286": {
      "model_module": "jupyter-threejs",
      "model_module_version": "^2.1.0",
      "model_name": "Object3DModel",
      "state": {
       "_view_module": null,
       "_view_module_version": ""
      }
     },
     "e52bee4b71884df2b43267b371cfe6e8": {
      "model_module": "jupyter-threejs",
      "model_module_version": "^2.4.1",
      "model_name": "GridHelperModel",
      "state": {
       "_model_module_version": "^2.4.1",
       "_view_module": null,
       "_view_module_version": "",
       "colorCenterLine": "blue",
       "colorGrid": "blue",
       "divisions": 4,
       "matrix": [
        1,
        0,
        0,
        0,
        0,
        1,
        0,
        0,
        0,
        0,
        1,
        0,
        10,
        0,
        10,
        1
       ],
       "position": [
        10,
        0,
        10
       ],
       "size": 40,
       "type": "LineSegments"
      }
     },
     "e575d9d8add34948ac0415ddc6581d43": {
      "model_module": "jupyter-threejs",
      "model_module_version": "^2.4.1",
      "model_name": "OrbitControlsModel",
      "state": {
       "_model_module_version": "^2.4.1",
       "_view_module": null,
       "_view_module_version": "",
       "controlling": "IPY_MODEL_b258899acd9645dd93df1abe8b565101",
       "maxAzimuthAngle": "inf",
       "maxDistance": "inf",
       "maxZoom": "inf",
       "minAzimuthAngle": "-inf",
       "target": [
        3.554090113809352,
        0.572625664288252,
        -5.398447637579596
       ]
      }
     },
     "e5cd5a1281a948abb161273080bb0e76": {
      "model_module": "jupyter-threejs",
      "model_module_version": "^2.4.1",
      "model_name": "DirectionalLightModel",
      "state": {
       "_model_module_version": "^2.4.1",
       "_view_module": null,
       "_view_module_version": "",
       "color": "white",
       "intensity": 0.7,
       "matrixWorldNeedsUpdate": true,
       "position": [
        3,
        5,
        1
       ],
       "shadow": "IPY_MODEL_5d0b3cee-124c-426d-9823-ad96114b480e",
       "target": "IPY_MODEL_8b4e0791-4a56-4cfa-8c5b-5cf91655deee"
      }
     },
     "e5f5e8ed5f7a4b659a4dcc98f5b32c56": {
      "buffers": [
       {
        "data": "AAAgwAAAIEAAAGBAAAAgQAAAIMAAAGBAAAAgQAAAIEAAAGBAAAAgQAAAIMAAAGBAAAAgwAAAIEAAAGBAAAAgwAAAIMAAAGBAAAAgwAAAIMAAAGDAAAAgQAAAIEAAAGDAAAAgQAAAIMAAAGDAAAAgQAAAIEAAAGDAAAAgwAAAIMAAAGDAAAAgwAAAIEAAAGDAAAAgwAAAIMAAAGDAAAAgQAAAIMAAAGBAAAAgwAAAIMAAAGBAAAAgQAAAIMAAAGBAAAAgwAAAIMAAAGDAAAAgQAAAIMAAAGDAAAAgQAAAIMAAAGBAAAAgQAAAIEAAAGDAAAAgQAAAIEAAAGBAAAAgQAAAIEAAAGDAAAAgQAAAIMAAAGBAAAAgQAAAIMAAAGDAAAAgQAAAIEAAAGDAAAAgwAAAIEAAAGBAAAAgQAAAIEAAAGBAAAAgwAAAIEAAAGBAAAAgQAAAIEAAAGDAAAAgwAAAIEAAAGDAAAAgwAAAIMAAAGDAAAAgwAAAIEAAAGBAAAAgwAAAIEAAAGDAAAAgwAAAIEAAAGBAAAAgwAAAIMAAAGDAAAAgwAAAIMAAAGBA",
        "encoding": "base64",
        "path": [
         "array",
         "buffer"
        ]
       }
      ],
      "model_module": "jupyter-threejs",
      "model_module_version": "^2.4.1",
      "model_name": "BufferAttributeModel",
      "state": {
       "_model_module_version": "^2.4.1",
       "_view_module": null,
       "_view_module_version": "",
       "array": {
        "dtype": "float32",
        "shape": [
         12,
         3,
         3
        ]
       },
       "version": 2
      }
     },
     "e71defbe12c24bcc91292daa09661d09": {
      "model_module": "jupyter-threejs",
      "model_module_version": "^2.4.1",
      "model_name": "MeshModel",
      "state": {
       "_model_module_version": "^2.4.1",
       "_view_module": null,
       "_view_module_version": "",
       "geometry": "IPY_MODEL_eb8a4e29688644ae9f35ede7c9d6fe77",
       "material": "IPY_MODEL_53aea373eb704bd9b55d0c3d7a43ef7a"
      }
     },
     "e9db910f2d1f4fe48697c9bdc5deb8f4": {
      "buffers": [
       {
        "data": "AAAAgAAAAAAAAMhBAAAAgAAAAAAAAMhBAAAAgAAAAAAAAMhBAAAAAAAAAAAAAMhBAAAAAAAAAAAAAMhBAAAAAAAAAAAAAMhBAAAAAAAAAAAAAMjBAAAAAAAAAAAAAMjBAAAAAAAAAAAAAMjBAAAAgAAAAAAAAMjBAAAAgAAAAAAAAMjBAAAAgAAAAAAAAMjBAAAAAAAADMIAAAAAAAAAAAAADMIAAAAAAAAAAAAADMIAAAAAAAAAAAAADMIAAACAAAAAAAAADMIAAACAAAAAAAAADMIAAACAAAAMQgAAAIAAAAAAAAAMQgAAAIAAAAAAAAAMQgAAAIAAAAAAAAAMQgAAAAAAAAAAAAAMQgAAAAAAAAAAAAAMQgAAAAAAAAAAAAAAAAAADEIAAACAAAAAAAAADEIAAACAAAAAAAAADEIAAACAAAAAAAAADEIAAAAAAAAAAAAADEIAAAAAAAAAAAAADEIAAAAAAAAMwgAAAAAAAAAAAAAMwgAAAAAAAAAAAAAMwgAAAAAAAAAAAAAMwgAAAIAAAAAAAAAMwgAAAIAAAAAAAAAMwgAAAIAAAAAA",
        "encoding": "base64",
        "path": [
         "array",
         "buffer"
        ]
       }
      ],
      "model_module": "jupyter-threejs",
      "model_module_version": "^2.4.1",
      "model_name": "BufferAttributeModel",
      "state": {
       "_model_module_version": "^2.4.1",
       "_view_module": null,
       "_view_module_version": "",
       "array": {
        "dtype": "float32",
        "shape": [
         36,
         3
        ]
       },
       "normalized": true,
       "version": 2
      }
     },
     "eb6f1f4bca4149ee9d4bfc0a6c8762e7": {
      "buffers": [
       {
        "data": "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",
        "encoding": "base64",
        "path": [
         "array",
         "buffer"
        ]
       }
      ],
      "model_module": "jupyter-threejs",
      "model_module_version": "^2.4.1",
      "model_name": "BufferAttributeModel",
      "state": {
       "_model_module_version": "^2.4.1",
       "_view_module": null,
       "_view_module_version": "",
       "array": {
        "dtype": "float32",
        "shape": [
         132,
         3,
         3
        ]
       },
       "version": 2
      }
     },
     "eb8a4e29688644ae9f35ede7c9d6fe77": {
      "model_module": "jupyter-threejs",
      "model_module_version": "^2.4.1",
      "model_name": "BufferGeometryModel",
      "state": {
       "_model_module_version": "^2.4.1",
       "_view_module": null,
       "_view_module_version": "",
       "attributes": {
        "normal": "IPY_MODEL_0d43596d70f74d67a2afb1e69a3cb1c7",
        "position": "IPY_MODEL_d625f4539a184e22b0b8437d4676ef6a"
       }
      }
     },
     "ec52b4026ed64608bb441e9784e4c871": {
      "buffers": [
       {
        "data": "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",
        "encoding": "base64",
        "path": [
         "array",
         "buffer"
        ]
       }
      ],
      "model_module": "jupyter-threejs",
      "model_module_version": "^2.4.1",
      "model_name": "BufferAttributeModel",
      "state": {
       "_model_module_version": "^2.4.1",
       "_view_module": null,
       "_view_module_version": "",
       "array": {
        "dtype": "float32",
        "shape": [
         132,
         3,
         3
        ]
       },
       "version": 2
      }
     },
     "ecd8e4cbc6b0442daaa33042c07c0d6a": {
      "model_module": "jupyter-threejs",
      "model_module_version": "^2.4.1",
      "model_name": "GridHelperModel",
      "state": {
       "_model_module_version": "^2.4.1",
       "_view_module": null,
       "_view_module_version": "",
       "colorCenterLine": "#008000",
       "colorGrid": "#008000",
       "divisions": 3,
       "matrix": [
        2.220446049250313e-16,
        1,
        0,
        0,
        -1,
        2.220446049250313e-16,
        0,
        0,
        0,
        0,
        1,
        0,
        0,
        5,
        5,
        1
       ],
       "matrixWorld": [
        2.220446049250313e-16,
        1,
        0,
        0,
        -1,
        2.220446049250313e-16,
        0,
        0,
        0,
        0,
        1,
        0,
        0,
        0,
        0,
        1
       ],
       "position": [
        0,
        5,
        5
       ],
       "quaternion": [
        0,
        0,
        0.7071067811865475,
        0.7071067811865476
       ],
       "rotation": [
        0,
        0,
        1.5707963267948963,
        "XYZ"
       ],
       "size": 30,
       "type": "LineSegments"
      }
     },
     "ecf7515a808a42d5a54f5a21f1fdeac8": {
      "buffers": [
       {
        "data": "AABQQQAAIMAAAAA/AABQQQAAIEAAAAC/AABQQQAAIEAAAAA/AABQQQAAIEAAAAC/AABQQQAAIMAAAAA/AABQQQAAIMAAAAC/AAAAQQAAIEAAAAA/AABQQQAAIMAAAAA/AABQQQAAIEAAAAA/AABQQQAAIMAAAAA/AAAAQQAAIEAAAAA/AAAAQQAAIMAAAAA/AAAAQQAAIMAAAAC/AABQQQAAIEAAAAC/AABQQQAAIMAAAAC/AABQQQAAIEAAAAC/AAAAQQAAIMAAAAC/AAAAQQAAIEAAAAC/AAAAQQAAIMAAAAC/AAAAQQAAIEAAAAA/AAAAQQAAIEAAAAC/AAAAQQAAIEAAAAA/AAAAQQAAIMAAAAC/AAAAQQAAIMAAAAA/AABQQQAAIEAAAAC/AAAAQQAAIEAAAAA/AABQQQAAIEAAAAA/AAAAQQAAIEAAAAA/AABQQQAAIEAAAAC/AAAAQQAAIEAAAAC/AAAAQQAAIMAAAAC/AABQQQAAIMAAAAA/AAAAQQAAIMAAAAA/AABQQQAAIMAAAAA/AAAAQQAAIMAAAAC/AABQQQAAIMAAAAC/AACwQQAAIMAAAAA/AACwQQAAIEAAAAC/AACwQQAAIEAAAAA/AACwQQAAIEAAAAC/AACwQQAAIMAAAAA/AACwQQAAIMAAAAC/AACIQQAAIEAAAAA/AACwQQAAIMAAAAA/AACwQQAAIEAAAAA/AACwQQAAIMAAAAA/AACIQQAAIEAAAAA/AACIQQAAIMAAAAA/AACIQQAAIMAAAAC/AACwQQAAIEAAAAC/AACwQQAAIMAAAAC/AACwQQAAIEAAAAC/AACIQQAAIMAAAAC/AACIQQAAIEAAAAC/AACIQQAAIMAAAAC/AACIQQAAIEAAAAA/AACIQQAAIEAAAAC/AACIQQAAIEAAAAA/AACIQQAAIMAAAAC/AACIQQAAIMAAAAA/AACwQQAAIEAAAAC/AACIQQAAIEAAAAA/AACwQQAAIEAAAAA/AACIQQAAIEAAAAA/AACwQQAAIEAAAAC/AACIQQAAIEAAAAC/AACIQQAAIMAAAAC/AACwQQAAIMAAAAA/AACIQQAAIMAAAAA/AACwQQAAIMAAAAA/AACIQQAAIMAAAAC/AACwQQAAIMAAAAC/rBtPvxR5Fr8AAAAAWDeePmh4c78AAIA/rBtPvxR5Fr8AAIA/WDeePmh4c78AAIA/rBtPvxR5Fr8AAAAAWDeePmh4c78AAAAAWDeePmh4cz8AAAAArBtPvxR5Fj8AAIA/WDeePmh4cz8AAIA/rBtPvxR5Fj8AAIA/WDeePmh4cz8AAAAArBtPvxR5Fj8AAAAAAACAPwAAAAAAAIA/WDeePmh4cz8AAAAAWDeePmh4cz8AAIA/WDeePmh4cz8AAAAAAACAPwAAAAAAAIA/AACAPwAAAAAAAAAArBtPvxR5Fr8AAAAArBtPvxR5Fj8AAIA/rBtPvxR5Fj8AAAAArBtPvxR5Fj8AAIA/rBtPvxR5Fr8AAAAArBtPvxR5Fr8AAIA/WDeePmh4cz8AAIA/WDeePmh4c78AAIA/AACAPwAAAAAAAIA/rBtPvxR5Fj8AAIA/WDeePmh4c78AAIA/WDeePmh4cz8AAIA/WDeePmh4c78AAIA/rBtPvxR5Fj8AAIA/rBtPvxR5Fr8AAIA/WDeePmh4c78AAIA/AACAPwAAAAAAAAAAAACAPwAAAAAAAIA/AACAPwAAAAAAAAAAWDeePmh4c78AAIA/WDeePmh4c78AAAAAWDeePmh4c78AAAAAWDeePmh4cz8AAAAAAACAPwAAAAAAAAAArBtPvxR5Fr8AAAAAWDeePmh4cz8AAAAAWDeePmh4c78AAAAAWDeePmh4cz8AAAAArBtPvxR5Fr8AAAAArBtPvxR5Fj8AAAAA",
        "encoding": "base64",
        "path": [
         "array",
         "buffer"
        ]
       }
      ],
      "model_module": "jupyter-threejs",
      "model_module_version": "^2.4.1",
      "model_name": "BufferAttributeModel",
      "state": {
       "_model_module_version": "^2.4.1",
       "_view_module": null,
       "_view_module_version": "",
       "array": {
        "dtype": "float32",
        "shape": [
         40,
         3,
         3
        ]
       },
       "version": 2
      }
     },
     "f0b67a1ee6744f3e8e35d13f8c650de3": {
      "model_module": "jupyter-threejs",
      "model_module_version": "^2.4.1",
      "model_name": "OrbitControlsModel",
      "state": {
       "_model_module_version": "^2.4.1",
       "_view_module": null,
       "_view_module_version": "",
       "controlling": "IPY_MODEL_6969e3dae5f14885b919614baa63cf71",
       "maxAzimuthAngle": "inf",
       "maxDistance": "inf",
       "maxZoom": "inf",
       "minAzimuthAngle": "-inf"
      }
     },
     "f0c361418eb640708732f7943b5234ba": {
      "model_module": "@jupyter-widgets/base",
      "model_module_version": "2.0.0",
      "model_name": "LayoutModel",
      "state": {}
     },
     "f1d84d31e9e74c888961463bbe05e15a": {
      "model_module": "jupyter-threejs",
      "model_module_version": "^2.4.1",
      "model_name": "AxesHelperModel",
      "state": {
       "_model_module_version": "^2.4.1",
       "_view_module": null,
       "_view_module_version": "",
       "size": 14,
       "type": "LineSegments"
      }
     },
     "f28c91df292b4fb5903cc2afbc3b1516": {
      "model_module": "jupyter-threejs",
      "model_module_version": "^2.4.1",
      "model_name": "MeshLambertMaterialModel",
      "state": {
       "_model_module_version": "^2.4.1",
       "_view_module": null,
       "_view_module_version": "",
       "color": "#ebcc34",
       "transparent": true
      }
     },
     "f2ff5bf5-879a-4cd1-a97a-3890a3345ca6": {
      "model_module": "jupyter-threejs",
      "model_module_version": "^2.1.0",
      "model_name": "DirectionalLightShadowModel",
      "state": {
       "_view_module": null,
       "_view_module_version": "",
       "camera": "IPY_MODEL_33dd1c6d-aca2-460e-9428-81364af436b9"
      }
     },
     "f3bb02f911a74c64975b11aaeabdc22e": {
      "model_module": "jupyter-threejs",
      "model_module_version": "^2.4.1",
      "model_name": "MeshModel",
      "state": {
       "_model_module_version": "^2.4.1",
       "_view_module": null,
       "_view_module_version": "",
       "geometry": "IPY_MODEL_21ecbe3c710d4e54a218117344c90c53",
       "material": "IPY_MODEL_4c97f1213c4c48efb5b746a3128e1639"
      }
     },
     "f464b38538204d3583d1a7a97cc7673a": {
      "model_module": "jupyter-threejs",
      "model_module_version": "^2.4.1",
      "model_name": "MeshModel",
      "state": {
       "_model_module_version": "^2.4.1",
       "_view_module": null,
       "_view_module_version": "",
       "geometry": "IPY_MODEL_2ce0b4fc9cc944448588084a5ee52155",
       "material": "IPY_MODEL_9bc7494d7225457f9ba32719ffda8b88"
      }
     },
     "f54406610e9a457fb28fdb05334668c6": {
      "model_module": "jupyter-threejs",
      "model_module_version": "^2.4.1",
      "model_name": "AmbientLightModel",
      "state": {
       "_model_module_version": "^2.4.1",
       "_view_module": null,
       "_view_module_version": "",
       "color": "#777777",
       "intensity": 0.5
      }
     },
     "f5ff520267a24c309f5d631b0ae320df": {
      "model_module": "jupyter-threejs",
      "model_module_version": "^2.4.1",
      "model_name": "WebGLShadowMapModel",
      "state": {
       "_model_module_version": "^2.4.1",
       "_view_module": null,
       "_view_module_version": ""
      }
     },
     "f6e0c6a4323f43c989125641e4f14f8a": {
      "model_module": "jupyter-threejs",
      "model_module_version": "^2.4.1",
      "model_name": "GridHelperModel",
      "state": {
       "_model_module_version": "^2.4.1",
       "_view_module": null,
       "_view_module_version": "",
       "colorCenterLine": "blue",
       "colorGrid": "blue",
       "divisions": 3,
       "matrix": [
        1,
        0,
        0,
        0,
        0,
        1,
        0,
        0,
        0,
        0,
        1,
        0,
        5,
        0,
        5,
        1
       ],
       "position": [
        5,
        0,
        5
       ],
       "size": 30,
       "type": "LineSegments"
      }
     },
     "f7339aea9d724477a4b7bfd214077a36": {
      "model_module": "jupyter-threejs",
      "model_module_version": "^2.4.1",
      "model_name": "AxesHelperModel",
      "state": {
       "_model_module_version": "^2.4.1",
       "_view_module": null,
       "_view_module_version": "",
       "size": 26,
       "type": "LineSegments"
      }
     },
     "f745e9c45d5149de8f75308cb6090f64": {
      "model_module": "jupyter-threejs",
      "model_module_version": "^2.4.1",
      "model_name": "OrbitControlsModel",
      "state": {
       "_model_module_version": "^2.4.1",
       "_view_module": null,
       "_view_module_version": "",
       "controlling": "IPY_MODEL_07c7aa396f5e46c7b1dea7201bfe8857",
       "maxAzimuthAngle": "inf",
       "maxDistance": "inf",
       "maxZoom": "inf",
       "minAzimuthAngle": "-inf"
      }
     },
     "f7505bf3b80d41b2aa2c8c7f2b34227f": {
      "model_module": "jupyter-threejs",
      "model_module_version": "^2.4.1",
      "model_name": "BufferGeometryModel",
      "state": {
       "_model_module_version": "^2.4.1",
       "_view_module": null,
       "_view_module_version": "",
       "attributes": {
        "normal": "IPY_MODEL_9492fe3aabc94574aa4b5d6ef9d41b9b",
        "position": "IPY_MODEL_a9680aef268d4ac9b0abacf935041f48"
       }
      }
     },
     "f75c8b7ffb394ed99dbf71cfa0792028": {
      "model_module": "jupyter-threejs",
      "model_module_version": "^2.4.1",
      "model_name": "SceneModel",
      "state": {
       "_model_module_version": "^2.4.1",
       "_view_module": null,
       "_view_module_version": "",
       "children": [
        "IPY_MODEL_0ee5263e3c08499a90e46bd7216eff46",
        "IPY_MODEL_68b35e8d63e540c98dc4a665bdb36b4a",
        "IPY_MODEL_7996b15fcdf8445e8804ca2b1a1881f6",
        "IPY_MODEL_d4bda918299245269ca43b4ae7977230",
        "IPY_MODEL_44c1c522d24c4227913f8ec37cb305e2",
        "IPY_MODEL_20db3ea3e9384407a83f5e4d56975d23",
        "IPY_MODEL_9c76e171022a48699abd01c21c1bb6e7"
       ]
      }
     },
     "f7c7286b7c93477fa0f21cb3ceaa6d60": {
      "model_module": "jupyter-threejs",
      "model_module_version": "^2.4.1",
      "model_name": "WebGLShadowMapModel",
      "state": {
       "_model_module_version": "^2.4.1",
       "_view_module": null,
       "_view_module_version": ""
      }
     },
     "f7c7d5a3-7d92-4d11-874c-a8c278605a63": {
      "model_module": "jupyter-threejs",
      "model_module_version": "^2.1.0",
      "model_name": "OrthographicCameraModel",
      "state": {
       "_view_module": null,
       "_view_module_version": "",
       "bottom": -5,
       "far": 500,
       "left": -5,
       "near": 0.5,
       "projectionMatrix": [
        0.2,
        0,
        0,
        0,
        0,
        0.2,
        0,
        0,
        0,
        0,
        -0.004004004004004004,
        0,
        0,
        0,
        -1.002002002002002,
        1
       ],
       "right": 5,
       "top": 5
      }
     },
     "f86a0566fc1e4a46a4e348b7bd20f343": {
      "model_module": "jupyter-threejs",
      "model_module_version": "^2.4.1",
      "model_name": "GridHelperModel",
      "state": {
       "_model_module_version": "^2.4.1",
       "_view_module": null,
       "_view_module_version": "",
       "colorCenterLine": "blue",
       "colorGrid": "blue",
       "divisions": 4,
       "matrix": [
        1,
        0,
        0,
        0,
        0,
        1,
        0,
        0,
        0,
        0,
        1,
        0,
        10,
        0,
        10,
        1
       ],
       "position": [
        10,
        0,
        10
       ],
       "size": 40,
       "type": "LineSegments"
      }
     },
     "fa52e80569e34657ba2977243c5449dd": {
      "model_module": "jupyter-threejs",
      "model_module_version": "^2.4.1",
      "model_name": "MeshLambertMaterialModel",
      "state": {
       "_model_module_version": "^2.4.1",
       "_view_module": null,
       "_view_module_version": "",
       "color": "#ebcc34",
       "transparent": true
      }
     },
     "fa7c164d-c52d-4ea3-851b-a41e6fd804d5": {
      "model_module": "jupyter-threejs",
      "model_module_version": "^2.1.0",
      "model_name": "DirectionalLightShadowModel",
      "state": {
       "_view_module": null,
       "_view_module_version": "",
       "camera": "IPY_MODEL_6f71868c-84a5-4903-9feb-c938f68cf349"
      }
     },
     "fb9d8952010d4975bd0150ec7c45c09b": {
      "model_module": "jupyter-threejs",
      "model_module_version": "^2.4.1",
      "model_name": "BufferGeometryModel",
      "state": {
       "_model_module_version": "^2.4.1",
       "_view_module": null,
       "_view_module_version": "",
       "attributes": {
        "normal": "IPY_MODEL_3d239bf431b3460a822f0b064e2858be",
        "position": "IPY_MODEL_d0a7c1ac3dfb4a15b3ed40048e2837d7"
       }
      }
     },
     "fc298189ef5a4977a3280b31555cd8b2": {
      "model_module": "jupyter-threejs",
      "model_module_version": "^2.4.1",
      "model_name": "WebGLShadowMapModel",
      "state": {
       "_model_module_version": "^2.4.1",
       "_view_module": null,
       "_view_module_version": ""
      }
     },
     "fc531676a5534df38d47e382417799a3": {
      "model_module": "jupyter-threejs",
      "model_module_version": "^2.4.1",
      "model_name": "AmbientLightModel",
      "state": {
       "_model_module_version": "^2.4.1",
       "_view_module": null,
       "_view_module_version": "",
       "color": "#777777",
       "intensity": 0.5
      }
     },
     "fcce00c2ee934d33a886fed1291f31e0": {
      "model_module": "jupyter-threejs",
      "model_module_version": "^2.4.1",
      "model_name": "GridHelperModel",
      "state": {
       "_model_module_version": "^2.4.1",
       "_view_module": null,
       "_view_module_version": "",
       "colorCenterLine": "#008000",
       "colorGrid": "#008000",
       "divisions": 4,
       "matrix": [
        2.220446049250313e-16,
        1,
        0,
        0,
        -1,
        2.220446049250313e-16,
        0,
        0,
        0,
        0,
        1,
        0,
        0,
        10,
        10,
        1
       ],
       "matrixWorld": [
        2.220446049250313e-16,
        1,
        0,
        0,
        -1,
        2.220446049250313e-16,
        0,
        0,
        0,
        0,
        1,
        0,
        0,
        0,
        0,
        1
       ],
       "position": [
        0,
        10,
        10
       ],
       "quaternion": [
        0,
        0,
        0.7071067811865475,
        0.7071067811865476
       ],
       "rotation": [
        0,
        0,
        1.5707963267948963,
        "XYZ"
       ],
       "size": 40,
       "type": "LineSegments"
      }
     },
     "fdfb5ef1ca73409687a6ccc83fac0018": {
      "buffers": [
       {
        "data": "AAAAQQAAIEAAAAA/AABQQQAAIMAAAAA/AABQQQAAIEAAAAA/AABQQQAAIMAAAAA/AAAAQQAAIEAAAAA/AAAAQQAAIMAAAAA/AAAAQQAAIMAAAAC/AABQQQAAIEAAAAC/AABQQQAAIMAAAAC/AABQQQAAIEAAAAC/AAAAQQAAIMAAAAC/AAAAQQAAIEAAAAC/AAAAQQAAIMAAAAC/AABQQQAAIMAAAAA/AAAAQQAAIMAAAAA/AABQQQAAIMAAAAA/AAAAQQAAIMAAAAC/AABQQQAAIMAAAAC/AABQQQAAIMAAAAA/AABQQQAAIEAAAAC/AABQQQAAIEAAAAA/AABQQQAAIEAAAAC/AABQQQAAIMAAAAA/AABQQQAAIMAAAAC/AABQQQAAIEAAAAC/AAAAQQAAIEAAAAA/AABQQQAAIEAAAAA/AAAAQQAAIEAAAAA/AABQQQAAIEAAAAC/AAAAQQAAIEAAAAC/AAAAQQAAIMAAAAC/AAAAQQAAIEAAAAA/AAAAQQAAIEAAAAC/AAAAQQAAIEAAAAA/AAAAQQAAIMAAAAC/AAAAQQAAIMAAAAA/",
        "encoding": "base64",
        "path": [
         "array",
         "buffer"
        ]
       }
      ],
      "model_module": "jupyter-threejs",
      "model_module_version": "^2.4.1",
      "model_name": "BufferAttributeModel",
      "state": {
       "_model_module_version": "^2.4.1",
       "_view_module": null,
       "_view_module_version": "",
       "array": {
        "dtype": "float32",
        "shape": [
         12,
         3,
         3
        ]
       },
       "version": 2
      }
     },
     "fe37c06c3bc04cc489b8a153de319c1d": {
      "model_module": "jupyter-threejs",
      "model_module_version": "^2.4.1",
      "model_name": "MeshModel",
      "state": {
       "_model_module_version": "^2.4.1",
       "_view_module": null,
       "_view_module_version": "",
       "geometry": "IPY_MODEL_aac7f591d8a342159f9431920be2486c",
       "material": "IPY_MODEL_e3e1658ce851480c91277504c7e17fb3"
      }
     },
     "fec969170530489c84505409a0ab3ba4": {
      "model_module": "jupyter-threejs",
      "model_module_version": "^2.4.1",
      "model_name": "GridHelperModel",
      "state": {
       "_model_module_version": "^2.4.1",
       "_view_module": null,
       "_view_module_version": "",
       "colorCenterLine": "#008000",
       "colorGrid": "#008000",
       "divisions": 4,
       "matrix": [
        2.220446049250313e-16,
        1,
        0,
        0,
        -1,
        2.220446049250313e-16,
        0,
        0,
        0,
        0,
        1,
        0,
        0,
        10,
        10,
        1
       ],
       "matrixWorld": [
        2.220446049250313e-16,
        1,
        0,
        0,
        -1,
        2.220446049250313e-16,
        0,
        0,
        0,
        0,
        1,
        0,
        0,
        0,
        0,
        1
       ],
       "position": [
        0,
        10,
        10
       ],
       "quaternion": [
        0,
        0,
        0.7071067811865475,
        0.7071067811865476
       ],
       "rotation": [
        0,
        0,
        1.5707963267948963,
        "XYZ"
       ],
       "size": 40,
       "type": "LineSegments"
      }
     },
     "ffb9d4d4d1694f619699b612bd068eb5": {
      "model_module": "jupyter-threejs",
      "model_module_version": "^2.4.1",
      "model_name": "MeshModel",
      "state": {
       "_model_module_version": "^2.4.1",
       "_view_module": null,
       "_view_module_version": "",
       "geometry": "IPY_MODEL_dc30aa0fb26147469e4da3218a1978ec",
       "material": "IPY_MODEL_1a03564befeb4817b918bc8c59086b6f"
      }
     }
    },
    "version_major": 2,
    "version_minor": 0
   }
  }
 },
 "nbformat": 4,
 "nbformat_minor": 5
}
