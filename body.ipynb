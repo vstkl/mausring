{
 "cells": [
  {
   "cell_type": "code",
   "execution_count": 91,
   "id": "367cbdc3-d44e-4d55-8461-ac0090be454b",
   "metadata": {},
   "outputs": [],
   "source": [
    "from jupyterscad import view\n",
    "from  solid2 import * "
   ]
  },
  {
   "cell_type": "code",
   "execution_count": 92,
   "id": "c62bb8be-49ef-4dfe-ba56-92bf541816d8",
   "metadata": {},
   "outputs": [],
   "source": [
    "# dimensions \n",
    "debug_matrix = [0,0,20]\n",
    "null_matrix = [0,0,0]\n",
    "debug = True\n",
    "set_global_fn(40)\n",
    "\n",
    "base_r = 58\n",
    "base_d = 20\n",
    "base_w = 2\n",
    "gap = 3\n",
    "\n",
    "inner_r = base_r \n",
    "inner_d = base_d\n",
    "inner_w = base_w \n",
    "\n",
    "outer_r = base_r + base_w + gap\n",
    "outer_d = base_d\n",
    "outer_w = base_w"
   ]
  },
  {
   "cell_type": "code",
   "execution_count": 93,
   "id": "227ee95b-bb1c-45be-a206-9017c6dd539d",
   "metadata": {},
   "outputs": [],
   "source": [
    "inner_base = cylinder(inner_d,inner_r,inner_r) \n",
    "inner_diff = cylinder(inner_d,inner_r - inner_w,inner_r - inner_w ) \n",
    "\n",
    "inner = inner_base - inner_diff"
   ]
  },
  {
   "cell_type": "code",
   "execution_count": 94,
   "id": "255694bb-f116-4690-ae48-194af3e57b7d",
   "metadata": {},
   "outputs": [],
   "source": [
    "outer_base = cylinder(outer_d,outer_r+gap,outer_r+gap) \n",
    "outer_diff = cylinder(outer_d,outer_r+gap - outer_w,outer_r+gap - outer_w ) \n",
    "\n",
    "outer = outer_base - outer_diff"
   ]
  },
  {
   "cell_type": "code",
   "execution_count": 98,
   "id": "4c2e6ce1-f2f4-40f7-bb3a-b366fc5c3879",
   "metadata": {},
   "outputs": [],
   "source": [
    "mag_count = 12\n",
    "mag_x,mag_y,mag_z = [2,6,15]\n",
    "magnets = []\n",
    "for magnet in range(0, mag_count):\n",
    "    magnets += cube([mag_x,mag_y,mag_z]).translate([base_r,0,(base_d-mag_z)/2]).rotate([0,0,magnet*(360/mag_count)])"
   ]
  },
  {
   "cell_type": "code",
   "execution_count": 99,
   "id": "0dc3873c-3c00-4650-9e0c-85a15a854c02",
   "metadata": {},
   "outputs": [
    {
     "data": {
      "application/vnd.jupyter.widget-view+json": {
       "model_id": "6b7a5ec2885745d1aab95ca3040f64c8",
       "version_major": 2,
       "version_minor": 0
      },
      "text/plain": [
       "Renderer(camera=PerspectiveCamera(children=(DirectionalLight(color='white', intensity=0.7, position=(3.0, 5.0,…"
      ]
     },
     "execution_count": 99,
     "metadata": {},
     "output_type": "execute_result"
    }
   ],
   "source": [
    "if debug:\n",
    "    obj = (inner + magnets).translate(debug_matrix) + outer\n",
    "else:\n",
    "    obj = inner + outer + magnets\n",
    "\n",
    "view(obj,  outfile='body.stl')"
   ]
  },
  {
   "cell_type": "code",
   "execution_count": null,
   "id": "a0f1733f-0027-4e45-9947-cb6bca11aae6",
   "metadata": {},
   "outputs": [],
   "source": []
  }
 ],
 "metadata": {
  "kernelspec": {
   "display_name": "Python 3 (ipykernel)",
   "language": "python",
   "name": "python3"
  },
  "language_info": {
   "codemirror_mode": {
    "name": "ipython",
    "version": 3
   },
   "file_extension": ".py",
   "mimetype": "text/x-python",
   "name": "python",
   "nbconvert_exporter": "python",
   "pygments_lexer": "ipython3",
   "version": "3.13.3"
  }
 },
 "nbformat": 4,
 "nbformat_minor": 5
}
