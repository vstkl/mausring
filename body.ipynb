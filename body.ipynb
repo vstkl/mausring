{
 "cells": [
  {
   "cell_type": "code",
   "execution_count": 6,
   "id": "367cbdc3-d44e-4d55-8461-ac0090be454b",
   "metadata": {
    "editable": true,
    "slideshow": {
     "slide_type": ""
    },
    "tags": []
   },
   "outputs": [],
   "source": [
    "from jupyterscad import view\n",
    "from  solid2 import * "
   ]
  },
  {
   "cell_type": "code",
   "execution_count": 7,
   "id": "c62bb8be-49ef-4dfe-ba56-92bf541816d8",
   "metadata": {},
   "outputs": [],
   "source": [
    "# dimensions \n",
    "debug_matrix = [0,0,20]\n",
    "null_matrix = [0,0,0]\n",
    "debug = True\n",
    "set_global_fn(200)\n",
    "\n",
    "base_r = 58\n",
    "base_d = 20\n",
    "base_w = 2\n",
    "gap = 3\n",
    "tolerance = 0.5\n",
    "\n",
    "tolerance_matrix = [0,0,-tolerance]\n",
    "\n",
    "inner_r = base_r \n",
    "inner_d = base_d\n",
    "inner_w = base_w \n",
    "\n",
    "outer_r = base_r + base_w + gap\n",
    "outer_d = base_d\n",
    "outer_w = base_w\n",
    "\n",
    "mag_count = 16\n",
    "mag_x,mag_y,mag_z = [2,6,15]"
   ]
  },
  {
   "cell_type": "code",
   "execution_count": 8,
   "id": "4c2e6ce1-f2f4-40f7-bb3a-b366fc5c3879",
   "metadata": {},
   "outputs": [],
   "source": [
    "magnets = []\n",
    "for magnet in range(0, mag_count):\n",
    "    magnets += cube([mag_x,mag_y,mag_z]).translate([base_r,0,(base_d-mag_z)/2]).rotate([0,0,magnet*(360/mag_count)])"
   ]
  },
  {
   "cell_type": "code",
   "execution_count": 9,
   "id": "227ee95b-bb1c-45be-a206-9017c6dd539d",
   "metadata": {},
   "outputs": [],
   "source": [
    "inner_base = cylinder(inner_d,inner_r,inner_r) \n",
    "inner_diff = cylinder(inner_d + 2*tolerance,inner_r - inner_w,inner_r - inner_w ).translate(tolerance_matrix)\n",
    "\n",
    "inner = inner_base - inner_diff"
   ]
  },
  {
   "cell_type": "code",
   "execution_count": 10,
   "id": "255694bb-f116-4690-ae48-194af3e57b7d",
   "metadata": {},
   "outputs": [],
   "source": [
    "outer_base = cylinder(outer_d,outer_r+gap,outer_r+gap) \n",
    "outer_diff = cylinder(outer_d + 2*tolerance,outer_r+gap - outer_w,outer_r+gap - outer_w ).translate(tolerance_matrix)\n",
    "\n",
    "outer = outer_base - outer_diff"
   ]
  },
  {
   "cell_type": "code",
   "execution_count": null,
   "id": "0ba72fea-6cc8-4ce5-98ce-8fcf10075214",
   "metadata": {},
   "outputs": [],
   "source": [
    "inner = inner.color([0,0,0.7])\n",
    "outer = outer.color([0,0,0.9])\n",
    "magnets = magnets.color([0.9,0,0])\n",
    "to_render = [inner, outer, magnets]\n",
    "to_debug = []\n",
    "\n",
    "obj = [] \n",
    "\n",
    "for rendered in to_render:\n",
    "    obj += rendered\n",
    "    \n",
    "for debugged in to_debug:\n",
    "    obj += debugged.translate(debug_matrix)\n",
    "    "
   ]
  },
  {
   "cell_type": "code",
   "execution_count": null,
   "id": "c7e3683d-7d79-4c50-80b4-7b46c0e3147f",
   "metadata": {},
   "outputs": [],
   "source": [
    "obj.save_as_scad(\"body.scad\")"
   ]
  },
  {
   "cell_type": "code",
   "execution_count": 15,
   "id": "8e40119b-6173-4f5a-b277-0ee59064840d",
   "metadata": {
    "editable": true,
    "slideshow": {
     "slide_type": ""
    },
    "tags": []
   },
   "outputs": [
    {
     "data": {
      "application/vnd.jupyter.widget-view+json": {
       "model_id": "7035aa16759b4b63a5456a173f323c3a",
       "version_major": 2,
       "version_minor": 0
      },
      "text/plain": [
       "Renderer(camera=PerspectiveCamera(children=(DirectionalLight(color='white', intensity=0.7, position=(3.0, 5.0,…"
      ]
     },
     "execution_count": 15,
     "metadata": {},
     "output_type": "execute_result"
    }
   ],
   "source": [
    "view(obj)"
   ]
  },
  {
   "cell_type": "code",
   "execution_count": null,
   "id": "a0f1733f-0027-4e45-9947-cb6bca11aae6",
   "metadata": {
    "editable": true,
    "slideshow": {
     "slide_type": ""
    },
    "tags": []
   },
   "outputs": [],
   "source": []
  },
  {
   "cell_type": "code",
   "execution_count": null,
   "id": "f87137df-fb3a-4b46-86e9-394c7ca1db3a",
   "metadata": {},
   "outputs": [],
   "source": []
  }
 ],
 "metadata": {
  "kernelspec": {
   "display_name": "Python 3 (ipykernel)",
   "language": "python",
   "name": "python3"
  },
  "language_info": {
   "codemirror_mode": {
    "name": "ipython",
    "version": 3
   },
   "file_extension": ".py",
   "mimetype": "text/x-python",
   "name": "python",
   "nbconvert_exporter": "python",
   "pygments_lexer": "ipython3",
   "version": "3.13.3"
  }
 },
 "nbformat": 4,
 "nbformat_minor": 5
}
