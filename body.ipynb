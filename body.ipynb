{
 "cells": [
  {
   "cell_type": "code",
   "execution_count": 9,
   "id": "6f85953e-c986-4e5b-990e-545509b1be10",
   "metadata": {},
   "outputs": [],
   "source": [
    "from jupyterscad import view\n",
    "from  solid2 import * \n",
    "import os \n",
    "import math\n",
    "import gradio as gr\n",
    "\n",
    "from const import *"
   ]
  },
  {
   "cell_type": "code",
   "execution_count": 16,
   "id": "b240e109-a128-4701-927c-76fe72034c98",
   "metadata": {},
   "outputs": [],
   "source": [
    "debug = False\n",
    "should_render = True\n",
    "filename = \"body\"\n",
    "\n",
    "# define base dimensions\n",
    "# ring size\n",
    "base_r = 15.3\n",
    "# height of the ring\n",
    "base_d = 4\n",
    "# width of ring material\n",
    "base_w = 1\n",
    "# gap between inner and outer circle\n",
    "gap = 1\n",
    "# manufacturing tolerance\n",
    "tolerance = 0\n",
    "switch_mat_w = 0.1\n",
    "cut = 0.5\n",
    "lip = 0.2\n",
    "lip_a = 0.2\n",
    "lip_b = 0.2\n",
    "mag_count = 16\n",
    "base_inner_r = base_r-base_w\n",
    "mag_a = 1\n",
    "mag_b = base_d\n",
    "mag_cut_a = mag_a + cut\n",
    "mag_cut_b = mag_b + 2\n",
    "chip_esp_a =  4\n",
    "chip_esp_b =  1\n",
    "chip_esp_cut_a = chip_esp_a + 2*cut\n",
    "\n",
    "# minimal width of material for cutouts etc.\n",
    "material_min = 0.2\n",
    "switch_base_offset = 5\n",
    "\n",
    "inner_r,inner_d,inner_w = [base_r,base_d,base_w]\n",
    "outer_r,outer_d,outer_w = [inner_r+inner_w+gap,inner_d,inner_w]\n",
    "switch_base_r,switch_base_d,switch_base_w = [base_r+switch_base_offset,base_d,switch_mat_w]\n",
    "#if outer_<= mag_a:\n",
    "outer_r += material_min\n",
    "outer_w += material_min\n",
    "\n",
    "obj = []\n",
    "set_global_fn(30)"
   ]
  },
  {
   "cell_type": "code",
   "execution_count": 17,
   "id": "353a2469-c08c-4789-818a-4c7eaaf54020",
   "metadata": {},
   "outputs": [],
   "source": [
    "inner_base = cylinder(\n",
    "    inner_d,\n",
    "    inner_r+inner_w,\n",
    "    inner_r+inner_w\n",
    ")\n",
    "inner_cut = cylinder(\n",
    "    inner_d+2,\n",
    "    inner_r,\n",
    "    inner_r\n",
    ")\n",
    "outer_base = cylinder(\n",
    "    outer_d,\n",
    "    outer_r+outer_w,\n",
    "    outer_r+outer_w\n",
    ")\n",
    "outer_cut = cylinder(\n",
    "    outer_d+2,\n",
    "    outer_r,\n",
    "    outer_r\n",
    ")\n",
    "outer_top = cylinder(\n",
    "    lip_b,\n",
    "    outer_r+outer_w,\n",
    "    outer_r+outer_w\n",
    ")\n",
    "outer_top_cut = cylinder(\n",
    "    lip_b+2,\n",
    "    inner_r+gap,\n",
    "    inner_r+gap\n",
    ")\n",
    "\n",
    "switch_base = cylinder(\n",
    "    switch_base_d,\n",
    "    switch_base_r+switch_base_w,\n",
    "    switch_base_r+switch_base_w\n",
    ")\n",
    "switch_base_cut = cylinder(\n",
    "    switch_base_d+2,\n",
    "    switch_base_r,\n",
    "    switch_base_r\n",
    ")\n",
    "\n",
    "switch_base_union = cube(\n",
    "    switch_base_r,\n",
    "    switch_base_r,\n",
    "    switch_base_d\n",
    ")\n"
   ]
  },
  {
   "cell_type": "code",
   "execution_count": 18,
   "id": "07768c80-c9e3-498b-975b-283b480c121a",
   "metadata": {},
   "outputs": [
    {
     "data": {
      "application/vnd.jupyter.widget-view+json": {
       "model_id": "5424cbc5c89a4c95a5d961e313514b51",
       "version_major": 2,
       "version_minor": 0
      },
      "text/plain": [
       "Renderer(camera=PerspectiveCamera(children=(DirectionalLight(color='white', intensity=0.7, position=(3.0, 5.0,…"
      ]
     },
     "execution_count": 18,
     "metadata": {},
     "output_type": "execute_result"
    }
   ],
   "source": [
    "chip_esp = cube(chip_esp_a,chip_esp_a,chip_esp_b).rotate(90,0,0).translate(\n",
    "    -chip_esp_a/2,inner_r+inner_w-cut,0\n",
    ")\n",
    "chip_esp_cut= cube(chip_esp_cut_a,chip_esp_cut_a,chip_esp_b).rotate(90,0,0).translate(\n",
    "    -chip_esp_a/2 - cut,inner_r+inner_w-cut,0\n",
    ")\n",
    "magnets = []\n",
    "magnet_cuts = []\n",
    "\n",
    "mag_base = cube(mag_a,mag_a,mag_b).translate(\n",
    "    outer_r,-mag_a/2,0\n",
    ").translate(\n",
    "    -cut/2,0,0\n",
    ")\n",
    "mag_cut = cube(mag_cut_a,mag_cut_a,mag_cut_b).translate(\n",
    "    outer_r,-mag_cut_a/2,-1\n",
    ").translate(\n",
    "    outer_w-cut-gap-material_min,0,0\n",
    ")\n",
    "\n",
    "for magnet in range(0, mag_count):\n",
    "    magnets += mag_base.rotate(0,0,magnet*360/mag_count+360/mag_count/2)\n",
    "    magnet_cuts += mag_cut.rotate(0,0,magnet*360/mag_count+360/mag_count/2)\n",
    "\n",
    "\n",
    "\n",
    "outer_top_all = (outer_top - outer_top_cut.translate(0,0,-1)).translate(0,0,base_d)\n",
    "inner = inner_base - inner_cut.translate(0,0,-1) - chip_esp_cut\n",
    "outer = outer_base - outer_cut.translate(0,0,-1) - magnet_cuts \n",
    "switch = switch_base - switch_base_cut.translate(0,0,-1) \n",
    "#outer = outer_base - outer_cut.translate(0,0,-1)\n",
    "\n",
    "switch_base = switch.translate(-(switch_base_r-switch_base_d-inner_r+base_w+gap),-(switch_base_r-switch_base_d-inner_r+base_w+gap), 0)\n",
    "switch_n = (switch_base * switch_base_union)\n",
    "\n",
    "\n",
    "switches = []\n",
    "bar_w = 0.3\n",
    "#bar_angle = math.pow(math.atan2(base_d, outer_r)*math.pi,2)\n",
    "bar_a= math.pow(base_r,2)\n",
    "bar_b= base_d\n",
    "bar_angle1 = math.atan2(bar_b,bar_a)\n",
    "#bar_angle = math.degrees(bar_angle1)\n",
    "bar_angle = 6.6\n",
    "bar_offset = (base_d-bar_w)/2\n",
    "bar_n  = cube(110,110, bar_w).rotate(0,bar_angle,0).rotate(bar_angle,0,0).translate(0,0,bar_offset)\n",
    "bar_m  = cube(110,110, bar_w).rotate(0,-bar_angle,0).rotate(-bar_angle,0,0).translate(0,0,bar_offset)\n",
    "bar_t  = cube(110,110, bar_w).translate(0,0,base_d-bar_w)\n",
    "bar_b  = cube(110,110, bar_w).translate(0,0,0)\n",
    "bar_center = cube(bar_w,bar_w*2,base_d).translate(outer_r,0,0)\n",
    "bars = []\n",
    "\n",
    "bar_all = (bar_n * switch_n) + (bar_m * switch_n) + (bar_t * switch_n) + (bar_b * switch_n)\n",
    "bar_all = bar_all.translate(2*bar_w,2*bar_w,0) + bar_center.translate(0,0,0) + bar_center.translate(0,-2*bar_w,0)\n",
    "\n",
    "chips = []\n",
    "chips += chip_esp\n",
    "\n",
    "for i in range(0,4):\n",
    "    switches += switch_n.rotate(0,0,i*90)\n",
    "    bars += bar_all.rotate(0,0,i*90)\n",
    "    \n",
    "magnets = magnets.color([0.9,0,0])\n",
    "inner = inner.color([1,0.1,0.5])\n",
    "outer = outer.color([0,0.9,0]) \n",
    "bars = bars.color([0,0,1]) \n",
    "rendered = [ inner,  bars,  chips]\n",
    "#obj += inner +outer - magnet_cuts + magnets\n",
    "\n",
    "for i, r in enumerate(rendered):\n",
    "    if debug:\n",
    "        obj += r.translate(0,0,-base_d*i)\n",
    "    else:\n",
    "        obj += r\n",
    "\n",
    "\n",
    "def render(obj):\n",
    "    obj.save_as_scad(f\"{filename}.scad\")\n",
    "    obj.save_as_stl(f\"{filename}.stl\")\n",
    "\n",
    "if should_render:\n",
    "    render(obj)\n",
    "\n",
    "view(obj)"
   ]
  },
  {
   "cell_type": "code",
   "execution_count": 13,
   "id": "4dceccc3-4cf1-4f27-bbf4-4a1107845719",
   "metadata": {},
   "outputs": [],
   "source": [
    "def load_mesh(value,mesh_file_name):\n",
    "    get_base_dims()\n",
    "    render(obj)\n",
    "    return mesh_file_name\n",
    "\n",
    "demo = gr.Interface(\n",
    "    fn=load_mesh,\n",
    "    inputs=[\n",
    "        gr.Slider(0, 20, value=gap, label=\"gap\", info=\"Choose between 2 and 20\"),gr.Model3D(f\"/home/m/proj/mousring/{filename}.stl\")],\n",
    "    outputs=gr.Model3D(clear_color=(0.0, 0.0, 0.0, 0.0),  label=\"3D Model\", display_mode=\"wireframe\"),\n",
    "\n",
    "    examples=[\n",
    "        [4,f\"/home/m/proj/mousring/{filename}.stl\"],\n",
    "    ],\n",
    ")"
   ]
  },
  {
   "cell_type": "code",
   "execution_count": 14,
   "id": "e6493bed-ad62-425b-821e-0a9aed4fa65d",
   "metadata": {},
   "outputs": [
    {
     "name": "stdout",
     "output_type": "stream",
     "text": [
      "* Running on local URL:  http://127.0.0.1:7861\n",
      "* To create a public link, set `share=True` in `launch()`.\n"
     ]
    },
    {
     "data": {
      "text/html": [
       "<div><iframe src=\"http://127.0.0.1:7861/\" width=\"100%\" height=\"500\" allow=\"autoplay; camera; microphone; clipboard-read; clipboard-write;\" frameborder=\"0\" allowfullscreen></iframe></div>"
      ],
      "text/plain": [
       "<IPython.core.display.HTML object>"
      ]
     },
     "metadata": {},
     "output_type": "display_data"
    },
    {
     "data": {
      "text/plain": []
     },
     "execution_count": 14,
     "metadata": {},
     "output_type": "execute_result"
    }
   ],
   "source": [
    "demo.launch()"
   ]
  },
  {
   "cell_type": "code",
   "execution_count": null,
   "id": "85732eb7-826e-415b-9b09-9af16881be3e",
   "metadata": {},
   "outputs": [],
   "source": []
  }
 ],
 "metadata": {
  "kernelspec": {
   "display_name": "Python 3 (ipykernel)",
   "language": "python",
   "name": "python3"
  },
  "language_info": {
   "codemirror_mode": {
    "name": "ipython",
    "version": 3
   },
   "file_extension": ".py",
   "mimetype": "text/x-python",
   "name": "python",
   "nbconvert_exporter": "python",
   "pygments_lexer": "ipython3",
   "version": "3.13.3"
  },
  "widgets": {
   "application/vnd.jupyter.widget-state+json": {
    "state": {},
    "version_major": 2,
    "version_minor": 0
   }
  }
 },
 "nbformat": 4,
 "nbformat_minor": 5
}
