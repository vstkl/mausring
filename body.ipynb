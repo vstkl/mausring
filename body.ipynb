{
 "cells": [
  {
   "cell_type": "code",
   "execution_count": 95,
   "id": "367cbdc3-d44e-4d55-8461-ac0090be454b",
   "metadata": {},
   "outputs": [],
   "source": [
    "from jupyterscad import view\n",
    "from  solid2 import * "
   ]
  },
  {
   "cell_type": "code",
   "execution_count": 132,
   "id": "c62bb8be-49ef-4dfe-ba56-92bf541816d8",
   "metadata": {},
   "outputs": [],
   "source": [
    "# dimensions \n",
    "debug_matrix = [0,0,20]\n",
    "null_matrix = [0,0,0]\n",
    "debug = False\n",
    "set_global_fn(40)\n",
    "\n",
    "base_r = 58\n",
    "base_d = 20\n",
    "base_w = 4\n",
    "gap = 1\n",
    "\n",
    "inner_r = base_r \n",
    "inner_d = base_d\n",
    "inner_w = base_w \n",
    "\n",
    "outer_r = base_r + base_w + gap\n",
    "outer_d = base_d\n",
    "outer_w = base_w"
   ]
  },
  {
   "cell_type": "code",
   "execution_count": 133,
   "id": "227ee95b-bb1c-45be-a206-9017c6dd539d",
   "metadata": {},
   "outputs": [],
   "source": [
    "inner_base = cylinder(inner_d,inner_r,inner_r) \n",
    "inner_diff = cylinder(inner_d,inner_r - inner_w,inner_r - inner_w ) \n",
    "\n",
    "inner = inner_base - inner_diff"
   ]
  },
  {
   "cell_type": "code",
   "execution_count": 134,
   "id": "255694bb-f116-4690-ae48-194af3e57b7d",
   "metadata": {},
   "outputs": [],
   "source": [
    "outer_base = cylinder(outer_d,outer_r+gap,outer_r+gap) \n",
    "outer_diff = cylinder(outer_d,outer_r+gap - outer_w,outer_r+gap - outer_w ) \n",
    "\n",
    "outer = outer_base - outer_diff"
   ]
  },
  {
   "cell_type": "code",
   "execution_count": 136,
   "id": "0dc3873c-3c00-4650-9e0c-85a15a854c02",
   "metadata": {},
   "outputs": [
    {
     "data": {
      "application/vnd.jupyter.widget-view+json": {
       "model_id": "f7194586498344edbc9e097f196ccca3",
       "version_major": 2,
       "version_minor": 0
      },
      "text/plain": [
       "Renderer(camera=PerspectiveCamera(children=(DirectionalLight(color='white', intensity=0.7, position=(3.0, 5.0,…"
      ]
     },
     "execution_count": 136,
     "metadata": {},
     "output_type": "execute_result"
    }
   ],
   "source": [
    "if debug:\n",
    "    obj = inner + outer.translate(debug_matrix)\n",
    "else:\n",
    "    obj = inner + outer.translate(null_matrix)\n",
    "\n",
    "view(obj,  outfile='body.stl')"
   ]
  },
  {
   "cell_type": "code",
   "execution_count": null,
   "id": "91164fb0-c1a9-4ad9-9a4d-3fb99069a741",
   "metadata": {},
   "outputs": [],
   "source": []
  },
  {
   "cell_type": "code",
   "execution_count": null,
   "id": "649aa2af-c9fd-410a-a83b-0780b4af5b5b",
   "metadata": {},
   "outputs": [],
   "source": []
  },
  {
   "cell_type": "code",
   "execution_count": null,
   "id": "84c20316-175a-4c65-b159-f5c9ccb0f50a",
   "metadata": {},
   "outputs": [],
   "source": []
  },
  {
   "cell_type": "code",
   "execution_count": null,
   "id": "95cbc950-bbc1-4faf-b26b-9f3c1b68279f",
   "metadata": {},
   "outputs": [],
   "source": []
  },
  {
   "cell_type": "code",
   "execution_count": null,
   "id": "c35a4738-4460-4a8d-a515-556585b14c38",
   "metadata": {},
   "outputs": [],
   "source": []
  },
  {
   "cell_type": "code",
   "execution_count": null,
   "id": "62219b1a-810a-40b2-aea9-5ebf78b59f47",
   "metadata": {},
   "outputs": [],
   "source": []
  }
 ],
 "metadata": {
  "kernelspec": {
   "display_name": "Python 3 (ipykernel)",
   "language": "python",
   "name": "python3"
  },
  "language_info": {
   "codemirror_mode": {
    "name": "ipython",
    "version": 3
   },
   "file_extension": ".py",
   "mimetype": "text/x-python",
   "name": "python",
   "nbconvert_exporter": "python",
   "pygments_lexer": "ipython3",
   "version": "3.13.3"
  }
 },
 "nbformat": 4,
 "nbformat_minor": 5
}
