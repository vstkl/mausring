{
 "cells": [
  {
   "cell_type": "code",
   "execution_count": 1,
   "id": "47116e8e-3ea0-4ed2-b808-61a6790c586f",
   "metadata": {},
   "outputs": [],
   "source": [
    "from jupyterscad import view\n",
    "from  solid2 import * \n",
    "import os \n",
    "import math\n",
    "import gradio as gr\n",
    "\n",
    "from const import *"
   ]
  },
  {
   "cell_type": "code",
   "execution_count": 2,
   "id": "5e4ef14c-148d-4c9e-bf5a-92493ca31a5e",
   "metadata": {},
   "outputs": [],
   "source": [
    "r = 21;\n",
    "w = 1.5;\n",
    "h = 7;\n",
    "l = 32;\n",
    "bat_base = cylinder(h,r,r)\n",
    "bat_off = cylinder(h,r-w,r-w)\n",
    "bat_olay = cylinder([h,r,r]).translate(0,0,h)\n",
    "obj = bat_olay "
   ]
  },
  {
   "cell_type": "code",
   "execution_count": 3,
   "id": "071c9dfb-0423-42af-bf7e-d748b2c6f932",
   "metadata": {},
   "outputs": [
    {
     "data": {
      "application/vnd.jupyter.widget-view+json": {
       "model_id": "5ae8b6913f5b47c591ad8c37cbb67df8",
       "version_major": 2,
       "version_minor": 0
      },
      "text/plain": [
       "Renderer(camera=PerspectiveCamera(children=(DirectionalLight(color='white', intensity=0.7, position=(3.0, 5.0,…"
      ]
     },
     "execution_count": 3,
     "metadata": {},
     "output_type": "execute_result"
    }
   ],
   "source": [
    "view(bat_base - bat_off)"
   ]
  },
  {
   "cell_type": "code",
   "execution_count": null,
   "id": "018e9a6b-cfcc-4522-9339-30209e8e8ac7",
   "metadata": {},
   "outputs": [],
   "source": []
  }
 ],
 "metadata": {
  "kernelspec": {
   "display_name": "Python 3 (ipykernel)",
   "language": "python",
   "name": "python3"
  },
  "language_info": {
   "codemirror_mode": {
    "name": "ipython",
    "version": 3
   },
   "file_extension": ".py",
   "mimetype": "text/x-python",
   "name": "python",
   "nbconvert_exporter": "python",
   "pygments_lexer": "ipython3",
   "version": "3.13.5"
  },
  "widgets": {
   "application/vnd.jupyter.widget-state+json": {
    "state": {},
    "version_major": 2,
    "version_minor": 0
   }
  }
 },
 "nbformat": 4,
 "nbformat_minor": 5
}
