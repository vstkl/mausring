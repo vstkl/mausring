{
 "cells": [
  {
   "cell_type": "code",
   "execution_count": 2,
   "id": "6f85953e-c986-4e5b-990e-545509b1be10",
   "metadata": {},
   "outputs": [],
   "source": [
    "from jupyterscad import view\n",
    "from  solid2 import * "
   ]
  },
  {
   "cell_type": "code",
   "execution_count": 54,
   "id": "215ef2bb-80bc-41bc-adb0-55e17ba13f8a",
   "metadata": {},
   "outputs": [],
   "source": [
    "debug = True\n",
    "render = True\n",
    "name = \"body-refactor\"\n",
    "set_global_fn(200)\n",
    "\n",
    "# define base dimensions\n",
    "# ring size\n",
    "base_r = 14\n",
    "# height of the ring\n",
    "base_d = 4\n",
    "# width of ring material\n",
    "base_w = 1\n",
    "# gap between inner and outer circle\n",
    "gap = 1\n",
    "# manufacturing tolerance\n",
    "tolerance = 0\n",
    "cut = 0.5\n",
    "mag_count = 19\n",
    "base_inner_r = base_r-base_w\n",
    "mag_a = 1\n",
    "mag_b = base_d\n",
    "mag_cut_a = mag_a + cut\n",
    "mag_cut_b = mag_b + 2\n",
    "\n",
    "# minimal width of material for cutouts etc.\n",
    "material_min = 0.2\n",
    "\n",
    "inner_r,inner_d,inner_w = [base_r,base_d,base_w]\n",
    "outer_r,outer_d,outer_w = [inner_r+inner_w+gap,inner_d,inner_w]\n",
    "#if outer_<= mag_a:\n",
    "outer_r += material_min\n",
    "outer_w += material_min\n"
   ]
  },
  {
   "cell_type": "code",
   "execution_count": 63,
   "id": "3e8bc35d-16c6-4e91-a29e-a5b71cf82579",
   "metadata": {},
   "outputs": [
    {
     "ename": "SyntaxError",
     "evalue": "invalid syntax (1628068219.py, line 30)",
     "output_type": "error",
     "traceback": [
      "  \u001b[36mCell\u001b[39m\u001b[36m \u001b[39m\u001b[32mIn[63]\u001b[39m\u001b[32m, line 30\u001b[39m\n\u001b[31m    \u001b[39m\u001b[31m-cut/https://signal.group/#CjQKIAy8qtIUn703cjxFN4g8ULE4aqS1518_mjLDjC2BN-rKEhD7eMq1J0ejKoEd_QUwaF7Z2,0,0\u001b[39m\n              ^\n\u001b[31mSyntaxError\u001b[39m\u001b[31m:\u001b[39m invalid syntax\n"
     ]
    }
   ],
   "source": [
    "\n",
    "obj = []\n",
    "inner_base = cylinder(\n",
    "    inner_d,\n",
    "    inner_r+inner_w,\n",
    "    inner_r+inner_w\n",
    ")\n",
    "inner_cut = cylinder(\n",
    "    inner_d+2,\n",
    "    inner_r,\n",
    "    inner_r\n",
    ")\n",
    "outer_base = cylinder(\n",
    "    outer_d,\n",
    "    outer_r+outer_w,\n",
    "    outer_r+outer_w\n",
    ")\n",
    "outer_cut = cylinder(\n",
    "    outer_d+2,\n",
    "    outer_r,\n",
    "    outer_r\n",
    ")\n",
    "\n",
    "\n",
    "magnets = []\n",
    "magnet_cuts = []\n",
    "\n",
    "mag_base = cube(mag_a,mag_a,mag_b).translate(\n",
    "    outer_r,-mag_a/2,0\n",
    ").translate(\n",
    "    -cut/2,0,0\n",
    ")\n",
    "mag_cut = cube(mag_cut_a,mag_cut_a,mag_cut_b).translate(\n",
    "    outer_r,-mag_cut_a/2,-1\n",
    ").translate(\n",
    "    outer_w-cut-gap-material_min,0,0\n",
    ")\n",
    "\n",
    "for magnet in range(0, mag_count):\n",
    "    magnets += mag_base.rotate(0,0,magnet*360/mag_count)\n",
    "    magnet_cuts += mag_cut.rotate(0,0,magnet*360/mag_count)\n",
    "    \n",
    "inner = inner_base - inner_cut.translate(0,0,-1)\n",
    "outer = outer_base - outer_cut.translate(0,0,-1) - magnet_cuts\n",
    "#outer = outer_base - outer_cut.translate(0,0,-1)\n",
    "   \n",
    "\n",
    "magnets = magnets.color([0.9,0,0])\n",
    "inner = inner.color([1,0.1,0.5])\n",
    "outer = outer.color([0,0.9,0])\n",
    "rendered = [ inner,outer,magnets]\n",
    "#obj += inner +outer - magnet_cuts + magnets\n",
    "\n",
    "for i, r in enumerate(rendered):\n",
    "    if debug:\n",
    "        obj += r.translate(0,0,-2*i)\n",
    "    else:\n",
    "        obj += r.translate(0,0,0*i)\n",
    "\n",
    "\n",
    "\n",
    "if render:\n",
    "    obj.save_as_scad(f\"{name}.scad\")\n",
    "    obj.save_as_stl(f\"{name}.stl\")\n"
   ]
  },
  {
   "cell_type": "code",
   "execution_count": null,
   "id": "8753988d-6ed0-4b3a-9ac3-91f5aeff8cdf",
   "metadata": {},
   "outputs": [],
   "source": []
  }
 ],
 "metadata": {
  "kernelspec": {
   "display_name": "Python 3 (ipykernel)",
   "language": "python",
   "name": "python3"
  },
  "language_info": {
   "codemirror_mode": {
    "name": "ipython",
    "version": 3
   },
   "file_extension": ".py",
   "mimetype": "text/x-python",
   "name": "python",
   "nbconvert_exporter": "python",
   "pygments_lexer": "ipython3",
   "version": "3.13.3"
  },
  "widgets": {
   "application/vnd.jupyter.widget-state+json": {
    "state": {},
    "version_major": 2,
    "version_minor": 0
   }
  }
 },
 "nbformat": 4,
 "nbformat_minor": 5
}
